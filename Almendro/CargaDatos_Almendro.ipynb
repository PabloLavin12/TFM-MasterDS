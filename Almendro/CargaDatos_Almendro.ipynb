{
 "cells": [
  {
   "cell_type": "markdown",
   "id": "ee80be78-6604-434a-a354-1cff3fb1797d",
   "metadata": {},
   "source": [
    "# Carga Datos Almendro\n",
    "## Pablo Lavín"
   ]
  },
  {
   "cell_type": "code",
   "execution_count": 1,
   "id": "1a484639-1058-428d-a473-5f27c092f7e3",
   "metadata": {
    "scrolled": true
   },
   "outputs": [
    {
     "name": "stderr",
     "output_type": "stream",
     "text": [
      "\n",
      "Attaching package: ‘dplyr’\n",
      "\n",
      "\n",
      "The following objects are masked from ‘package:stats’:\n",
      "\n",
      "    filter, lag\n",
      "\n",
      "\n",
      "The following objects are masked from ‘package:base’:\n",
      "\n",
      "    intersect, setdiff, setequal, union\n",
      "\n",
      "\n",
      "Loading required package: rJava\n",
      "\n",
      "Loading required package: loadeR.java\n",
      "\n",
      "Java version 23x amd64 by N/A detected\n",
      "\n",
      "NetCDF Java Library v4.6.0-SNAPSHOT (23 Apr 2015) loaded and ready\n",
      "\n",
      "Loading required package: climate4R.UDG\n",
      "\n",
      "climate4R.UDG version 0.2.6 (2023-06-26) is loaded\n",
      "\n",
      "Please use 'citation(\"climate4R.UDG\")' to cite this package.\n",
      "\n",
      "loadeR version 1.8.1 (2023-06-22) is loaded\n",
      "\n",
      "WARNING: Your current version of loadeR (v1.8.1) is not up-to-date\n",
      "\n",
      "Get the latest stable version (1.8.2) using <devtools::install_github(c('SantanderMetGroup/climate4R.UDG','SantanderMetGroup/loadeR'))>\n",
      "\n",
      "Please use 'citation(\"loadeR\")' to cite this package.\n",
      "\n"
     ]
    },
    {
     "name": "stdout",
     "output_type": "stream",
     "text": [
      "\n",
      "    _______   ____  ___________________  __  ________ \n",
      "   / ___/ /  / /  |/  / __  /_  __/ __/ / / / / __  / \n",
      "  / /  / /  / / /|_/ / /_/ / / / / __/ / /_/ / /_/_/  \n",
      " / /__/ /__/ / /  / / __  / / / / /__ /___  / / \\ \\ \n",
      " \\___/____/_/_/  /_/_/ /_/ /_/  \\___/    /_/\\/   \\_\\ \n",
      " \n",
      "      github.com/SantanderMetGroup/climate4R\n",
      "\n"
     ]
    },
    {
     "name": "stderr",
     "output_type": "stream",
     "text": [
      "transformeR version 2.2.2 (2023-10-26) is loaded\n",
      "\n",
      "WARNING: Your current version of transformeR (v2.2.2) is not up-to-date\n",
      "\n",
      "Get the latest stable version (2.2.3) using <devtools::install_github('SantanderMetGroup/transformeR')>\n",
      "\n",
      "Please see 'citation(\"transformeR\")' to cite this package.\n",
      "\n",
      "visualizeR version 1.6.4 (2023-10-26) is loaded\n",
      "\n",
      "Please see 'citation(\"visualizeR\")' to cite this package.\n",
      "\n",
      "downscaleR version 3.3.4 (2023-06-22) is loaded\n",
      "\n",
      "Please use 'citation(\"downscaleR\")' to cite this package.\n",
      "\n",
      "Loading required package: climdex.pcic\n",
      "\n",
      "Loading required package: PCICt\n",
      "\n",
      "climate4R.climdex version 0.2.3 (2023-06-23) is loaded\n",
      "\n",
      "Use 'climdexShow()' for an overview of the available ETCCDI indices\n",
      "\n",
      "climate4R.indices version 0.3.1 (2023-06-22) is loaded\n",
      "\n",
      "Use 'indexShow()' for an overview of the available climate indices and circIndexShow() for the circulation indices.\n",
      "\n",
      "NOTE: use package climate4R.climdex to calculate ETCCDI indices.\n",
      "\n",
      "\n",
      "Attaching package: ‘climate4R.indices’\n",
      "\n",
      "\n",
      "The following object is masked from ‘package:transformeR’:\n",
      "\n",
      "    lambWT\n",
      "\n",
      "\n",
      "Loading required package: SpecsVerification\n",
      "\n",
      "\n",
      "Attaching package: ‘easyVerification’\n",
      "\n",
      "\n",
      "The following object is masked from ‘package:SpecsVerification’:\n",
      "\n",
      "    EnsCorr\n",
      "\n",
      "\n",
      "\n",
      "Attaching package: ‘gridExtra’\n",
      "\n",
      "\n",
      "The following object is masked from ‘package:dplyr’:\n",
      "\n",
      "    combine\n",
      "\n",
      "\n"
     ]
    }
   ],
   "source": [
    "# Cargamos paquetes\n",
    "\n",
    "library(repr)\n",
    "library(dplyr)\n",
    "\n",
    "library(abind)\n",
    "library(loadeR)\n",
    "library(transformeR)\n",
    "library(visualizeR)\n",
    "library(downscaleR)\n",
    "library(climate4R.UDG)\n",
    "library(climate4R.climdex)\n",
    "library(climate4R.indices)\n",
    "library(easyVerification)\n",
    "\n",
    "library(lattice)\n",
    "library(magrittr)\n",
    "library(gridExtra)\n",
    "library(RColorBrewer)\n",
    "\n",
    "# biasCorrection_RM\n",
    "source(\"load_bc_functions.R\")"
   ]
  },
  {
   "cell_type": "code",
   "execution_count": 2,
   "id": "9ee0b5e0-2c5f-4ae4-b46a-17d56b55ee57",
   "metadata": {},
   "outputs": [],
   "source": [
    "# Region de estudio\n",
    "\n",
    "lon = c(-10, 20)\n",
    "lat = c(35,46)"
   ]
  },
  {
   "cell_type": "markdown",
   "id": "150f0ffa-2ef2-446b-9927-c0f7b45b855c",
   "metadata": {},
   "source": [
    "## Cargar hindcast tasmax (leadtime 0, 1, 2, 3)"
   ]
  },
  {
   "cell_type": "code",
   "execution_count": 4,
   "id": "2b6289a7-22a1-4694-883c-e88b2d9afc30",
   "metadata": {},
   "outputs": [],
   "source": [
    "anios = 1982:2016\n",
    "meses_ini = c(\"01\", \"12\", \"11\", \"10\")  # meses de inicialización\n",
    "\n",
    "# Función generalizada para cargar los datos por mes y año\n",
    "cargar_dato = function(anio, mes_ini) {\n",
    "\n",
    "    # Ajustar año si el mes de inicialización es del año anterior\n",
    "    if (mes_ini %in% c(\"10\", \"11\", \"12\")) {\n",
    "        anio = anio - 1\n",
    "    }\n",
    "\n",
    "    yyyymm = paste0(anio, mes_ini)\n",
    "\n",
    "    ruta = paste0(\n",
    "        \"/lustre/gmeteo/PTICLIMA/DATA/SEASONAL/\",\n",
    "        \"seasonal-original-single-levels/medcof/hindcast/tasmax/ecmwf/51/\", yyyymm, \"/\",\n",
    "        \"seasonal-original-single-levels_medcof_hindcast_tasmax_ecmwf_51_\", yyyymm, \".ncml\"\n",
    "    )\n",
    "\n",
    "    data_aux = loadGridData(dataset = ruta,\n",
    "                            var = \"tasmax\",\n",
    "                            lonLim = lon,\n",
    "                            latLim = lat,\n",
    "                            season = c(1, 2)) %>% suppressMessages %>% suppressWarnings\n",
    "\n",
    "    return(data_aux)\n",
    "}\n",
    "\n",
    "# Creo una lista donde cada elemento es la salida para un mes de inicialización diferente\n",
    "resultados_por_mes = lapply(meses_ini, function(mes) {\n",
    "    lapply(anios, function(anio) cargar_dato(anio, mes))\n",
    "})\n",
    "\n",
    "# Nombro los elementos por mes\n",
    "names(resultados_por_mes) = paste0(\"mes_\", meses_ini)"
   ]
  },
  {
   "cell_type": "code",
   "execution_count": 5,
   "id": "ef88d627-2c27-46ed-be02-6a99328f4ae5",
   "metadata": {},
   "outputs": [],
   "source": [
    "# Asigno nombre a cada grid con los leadtime\n",
    "tmx_ecmwf_djf_0 = resultados_por_mes[[\"mes_01\"]]\n",
    "tmx_ecmwf_djf_1 = resultados_por_mes[[\"mes_12\"]]\n",
    "tmx_ecmwf_djf_2 = resultados_por_mes[[\"mes_11\"]]\n",
    "tmx_ecmwf_djf_3 = resultados_por_mes[[\"mes_10\"]]"
   ]
  },
  {
   "cell_type": "code",
   "execution_count": 25,
   "id": "c4cae432-1a12-484c-b8ae-1c9abc09fceb",
   "metadata": {},
   "outputs": [],
   "source": [
    "# Combinamos los grids en la dimensión temporal\n",
    "tmx_ecmwf_djf_0_grid = bindGrid(tmx_ecmwf_djf_0, dimension = \"time\")\n",
    "tmx_ecmwf_djf_1_grid = bindGrid(tmx_ecmwf_djf_1, dimension = \"time\")\n",
    "tmx_ecmwf_djf_2_grid = bindGrid(tmx_ecmwf_djf_2, dimension = \"time\")\n",
    "tmx_ecmwf_djf_3_grid = bindGrid(tmx_ecmwf_djf_3, dimension = \"time\")"
   ]
  },
  {
   "cell_type": "markdown",
   "id": "b9e13380-b084-46d9-b648-f5b80bda4691",
   "metadata": {},
   "source": [
    "## Cargar forecast tasmax (leadtime 0, 1, 2, 3)"
   ]
  },
  {
   "cell_type": "code",
   "execution_count": 27,
   "id": "1df37913-3dfe-4a50-b27d-200fc74822aa",
   "metadata": {},
   "outputs": [],
   "source": [
    "anios = 2018:2022\n",
    "meses_ini = c(\"01\", \"12\", \"11\", \"10\")  # meses de inicialización\n",
    "\n",
    "# Función generalizada para cargar los datos por mes y año\n",
    "cargar_dato = function(anio, mes_ini) {\n",
    "\n",
    "    # Ajustar año si el mes de inicialización es del año anterior\n",
    "    if (mes_ini %in% c(\"10\", \"11\", \"12\")) {\n",
    "        anio = anio - 1\n",
    "    }\n",
    "\n",
    "    yyyymm = paste0(anio, mes_ini)\n",
    "\n",
    "    ruta = paste0(\n",
    "        \"/lustre/gmeteo/PTICLIMA/DATA/SEASONAL/\",\n",
    "        \"seasonal-original-single-levels/medcof/forecast/tasmax/ecmwf/51/\", yyyymm, \"/\",\n",
    "        \"seasonal-original-single-levels_medcof_forecast_tasmax_ecmwf_51_\", yyyymm, \".ncml\"\n",
    "    )\n",
    "\n",
    "    data_aux = loadGridData(dataset = ruta,\n",
    "                            var = \"tasmax\",\n",
    "                            lonLim = lon,\n",
    "                            latLim = lat,\n",
    "                            season = c(1, 2)) %>% suppressMessages %>% suppressWarnings\n",
    "\n",
    "    return(data_aux)\n",
    "}\n",
    "\n",
    "# Creo una lista donde cada elemento es la salida para un mes de inicialización diferente\n",
    "forecast = lapply(meses_ini, function(mes) {\n",
    "    lapply(anios, function(anio) cargar_dato(anio, mes))\n",
    "})\n",
    "\n",
    "# Nombro los elementos por mes\n",
    "names(forecast) = paste0(\"mes_\", meses_ini)"
   ]
  },
  {
   "cell_type": "code",
   "execution_count": 28,
   "id": "b91fed28-dbc1-4930-981e-7ef8ed094b5b",
   "metadata": {},
   "outputs": [],
   "source": [
    "# Asigno nombre a cada grid con los leadtime\n",
    "tmx_forecast_djf_0 = forecast[[\"mes_01\"]]\n",
    "tmx_forecast_djf_1 = forecast[[\"mes_12\"]]\n",
    "tmx_forecast_djf_2 = forecast[[\"mes_11\"]]\n",
    "tmx_forecast_djf_3 = forecast[[\"mes_10\"]]"
   ]
  },
  {
   "cell_type": "code",
   "execution_count": 29,
   "id": "3c59cfc3-cc6f-4ad6-8b37-cb79c93fa3a4",
   "metadata": {},
   "outputs": [],
   "source": [
    "# Combinamos los grids en la dimensión temporal\n",
    "tmx_forecast_djf_0_grid = bindGrid(tmx_forecast_djf_0, dimension = \"time\")\n",
    "tmx_forecast_djf_1_grid = bindGrid(tmx_forecast_djf_1, dimension = \"time\")\n",
    "tmx_forecast_djf_2_grid = bindGrid(tmx_forecast_djf_2, dimension = \"time\")\n",
    "tmx_forecast_djf_3_grid = bindGrid(tmx_forecast_djf_3, dimension = \"time\")"
   ]
  },
  {
   "cell_type": "code",
   "execution_count": 30,
   "id": "4a4f9fcf-289b-4ac4-b282-1f2d2a5054ca",
   "metadata": {},
   "outputs": [],
   "source": [
    "# Me quedo con los primeros 25 miembros\n",
    "tmx_forecast_djf_0_members = subsetGrid(tmx_forecast_djf_0_grid, members = 1:25)\n",
    "tmx_forecast_djf_1_members = subsetGrid(tmx_forecast_djf_1_grid, members = 1:25)\n",
    "tmx_forecast_djf_2_members = subsetGrid(tmx_forecast_djf_2_grid, members = 1:25)\n",
    "tmx_forecast_djf_3_members = subsetGrid(tmx_forecast_djf_3_grid, members = 1:25)"
   ]
  },
  {
   "cell_type": "code",
   "execution_count": 31,
   "id": "48325e41-41e6-4924-a800-0566985f952b",
   "metadata": {},
   "outputs": [],
   "source": [
    "# Combinamos los grids de hindcast y forecast\n",
    "tmx_ecmwf_djf_0_grid = bindGrid(tmx_ecmwf_djf_0_grid, tmx_forecast_djf_0_members, dimension = \"time\")\n",
    "tmx_ecmwf_djf_1_grid = bindGrid(tmx_ecmwf_djf_1_grid, tmx_forecast_djf_1_members, dimension = \"time\")\n",
    "tmx_ecmwf_djf_2_grid = bindGrid(tmx_ecmwf_djf_2_grid, tmx_forecast_djf_2_members, dimension = \"time\")\n",
    "tmx_ecmwf_djf_3_grid = bindGrid(tmx_ecmwf_djf_3_grid, tmx_forecast_djf_3_members, dimension = \"time\")"
   ]
  },
  {
   "cell_type": "markdown",
   "id": "2dd0de9b-5da8-4fdc-863f-7dd14be57a85",
   "metadata": {},
   "source": [
    "## Cargar las observaciones ERA5-Land"
   ]
  },
  {
   "cell_type": "code",
   "execution_count": 36,
   "id": "58123664-d4a9-4ca7-a0bb-95f4b1271988",
   "metadata": {},
   "outputs": [],
   "source": [
    "# Define años y meses\n",
    "anios = 1982:2022\n",
    "anios = anios[anios != 2017]\n",
    "meses = sprintf(\"%02d\", c(1, 2))\n",
    "\n",
    "# Función para construir la ruta y cargar los datos\n",
    "cargar_dato = function(anio, mes) {\n",
    "    yyyy = paste0(anio)\n",
    "    yyyymm = paste0(anio, mes)\n",
    "    ruta = paste0(\n",
    "        \"/lustre/gmeteo/PTICLIMA/DATA/REANALYSIS/ERA5-Land/data/Iberia/day/t2mx/\", yyyy, \"/\",\n",
    "        \"t2mx_ERA5-Land_\", yyyymm, \".nc\"\n",
    "    )\n",
    "    \n",
    "    # Carga el dataset\n",
    "    data_aux = loadGridData(dataset = ruta,\n",
    "                            var = \"t2mx\",\n",
    "                            lonLim = lon,\n",
    "                            latLim = lat) %>% suppressMessages %>% suppressWarnings\n",
    "\n",
    "    return(data_aux)\n",
    "}\n",
    "\n",
    "# Crear combinaciones enero + febrero\n",
    "combinaciones = do.call(rbind, lapply(anios, function(anio) {\n",
    "  data.frame(\n",
    "    anio = c(anio, anio),\n",
    "    mes  = c(\"01\", \"02\"),\n",
    "    stringsAsFactors = FALSE\n",
    "  )\n",
    "}))\n",
    "\n",
    "# Aplicar la función a cada combinación\n",
    "tmx_era5_djf = lapply(1:nrow(combinaciones), function(i) {\n",
    "  cargar_dato(combinaciones$anio[i], combinaciones$mes[i])\n",
    "})"
   ]
  },
  {
   "cell_type": "code",
   "execution_count": 37,
   "id": "2849dcae-914f-478a-9e1e-1ca5286622ab",
   "metadata": {},
   "outputs": [],
   "source": [
    "# Combinamos los grids en la dimensión temporal\n",
    "tmx_era5_djf_time = bindGrid(tmx_era5_djf, dimension = \"time\")\n",
    "\n",
    "# Upscaling de la resolución de las observaciones\n",
    "tmx_era5_djf_ups = interpGrid(tmx_era5_djf_time,\n",
    "                              new.coordinates = getGrid(tmx_ecmwf_djf_0_grid),\n",
    "                              method = \"bilinear\") %>% suppressMessages %>% suppressWarnings"
   ]
  },
  {
   "cell_type": "code",
   "execution_count": 38,
   "id": "a2aca363-f3e5-46d6-829a-ea6f1bdaf5d2",
   "metadata": {},
   "outputs": [],
   "source": [
    "# Recorto los datos a la región de España\n",
    "tmx_modelo_0 = subsetGrid(tmx_ecmwf_djf_0_grid, lonLim = c(-10, 5), latLim = c(35, 44))\n",
    "tmx_modelo_1 = subsetGrid(tmx_ecmwf_djf_1_grid, lonLim = c(-10, 5), latLim = c(35, 44))\n",
    "tmx_modelo_2 = subsetGrid(tmx_ecmwf_djf_2_grid, lonLim = c(-10, 5), latLim = c(35, 44))\n",
    "tmx_modelo_3 = subsetGrid(tmx_ecmwf_djf_3_grid, lonLim = c(-10, 5), latLim = c(35, 44))\n",
    "\n",
    "tmx_obs = subsetGrid(tmx_era5_djf_ups, lonLim = c(-10, 5), latLim = c(35, 44))"
   ]
  },
  {
   "cell_type": "code",
   "execution_count": 39,
   "id": "87c62bb9-4551-43ad-9696-3466f962ef26",
   "metadata": {},
   "outputs": [],
   "source": [
    "# Pasamos las observaciones de Kelvin a Celsius\n",
    "tmx_obs_cel = gridArithmetics(tmx_obs, 273.15, operator = \"-\")"
   ]
  },
  {
   "cell_type": "code",
   "execution_count": 41,
   "id": "e4ae5f7a-3d54-4fe0-8035-b1a12f1a8194",
   "metadata": {},
   "outputs": [],
   "source": [
    "# Guardo los datos\n",
    "saveRDS(tmx_modelo_0, file = \"tasmax_model_almen_0.rds\")\n",
    "saveRDS(tmx_modelo_1, file = \"tasmax_model_almen_1.rds\")\n",
    "saveRDS(tmx_modelo_2, file = \"tasmax_model_almen_2.rds\")\n",
    "saveRDS(tmx_modelo_3, file = \"tasmax_model_almen_3.rds\")\n",
    "\n",
    "saveRDS(tmx_obs_cel, file = \"tasmax_obs_almen.rds\")"
   ]
  },
  {
   "cell_type": "markdown",
   "id": "adee574c-a4ad-4fda-bc17-bfc2b345d886",
   "metadata": {},
   "source": [
    "## Cargar hindcast tasmin (leadtime 0, 1, 2, 3)"
   ]
  },
  {
   "cell_type": "code",
   "execution_count": 3,
   "id": "3e9ca489-c973-4664-a32f-3971b26d2c57",
   "metadata": {},
   "outputs": [],
   "source": [
    "anios = 1982:2016\n",
    "meses_ini = c(\"01\", \"12\", \"11\", \"10\")  # meses de inicialización\n",
    "\n",
    "# Función generalizada para cargar los datos por mes y año\n",
    "cargar_dato = function(anio, mes_ini) {\n",
    "\n",
    "    # Ajustar año si el mes de inicialización es del año anterior\n",
    "    if (mes_ini %in% c(\"10\", \"11\", \"12\")) {\n",
    "        anio = anio - 1\n",
    "    }\n",
    "\n",
    "    yyyymm = paste0(anio, mes_ini)\n",
    "\n",
    "    ruta = paste0(\n",
    "        \"/lustre/gmeteo/PTICLIMA/DATA/SEASONAL/\",\n",
    "        \"seasonal-original-single-levels/medcof/hindcast/tasmin/ecmwf/51/\", yyyymm, \"/\",\n",
    "        \"seasonal-original-single-levels_medcof_hindcast_tasmin_ecmwf_51_\", yyyymm, \".ncml\"\n",
    "    )\n",
    "\n",
    "    data_aux = loadGridData(dataset = ruta,\n",
    "                            var = \"tasmin\",\n",
    "                            lonLim = lon,\n",
    "                            latLim = lat,\n",
    "                            season = c(1, 2)) %>% suppressMessages %>% suppressWarnings\n",
    "\n",
    "    return(data_aux)\n",
    "}\n",
    "\n",
    "# Creo una lista donde cada elemento es la salida para un mes de inicialización diferente\n",
    "resultados_por_mes = lapply(meses_ini, function(mes) {\n",
    "    lapply(anios, function(anio) cargar_dato(anio, mes))\n",
    "})\n",
    "\n",
    "# Nombro los elementos por mes\n",
    "names(resultados_por_mes) = paste0(\"mes_\", meses_ini)"
   ]
  },
  {
   "cell_type": "code",
   "execution_count": 4,
   "id": "53ef529b-37d9-45f9-af0f-713ebcfc5eea",
   "metadata": {},
   "outputs": [],
   "source": [
    "# Asigno nombre a cada grid con los leadtime\n",
    "tmn_ecmwf_djf_0 = resultados_por_mes[[\"mes_01\"]]\n",
    "tmn_ecmwf_djf_1 = resultados_por_mes[[\"mes_12\"]]\n",
    "tmn_ecmwf_djf_2 = resultados_por_mes[[\"mes_11\"]]\n",
    "tmn_ecmwf_djf_3 = resultados_por_mes[[\"mes_10\"]]"
   ]
  },
  {
   "cell_type": "code",
   "execution_count": 5,
   "id": "4cad4a61-ec48-4b11-8660-ecf20e1d7789",
   "metadata": {},
   "outputs": [],
   "source": [
    "# Combinamos los grids en la dimensión temporal\n",
    "tmn_ecmwf_djf_0_grid = bindGrid(tmn_ecmwf_djf_0, dimension = \"time\")\n",
    "tmn_ecmwf_djf_1_grid = bindGrid(tmn_ecmwf_djf_1, dimension = \"time\")\n",
    "tmn_ecmwf_djf_2_grid = bindGrid(tmn_ecmwf_djf_2, dimension = \"time\")\n",
    "tmn_ecmwf_djf_3_grid = bindGrid(tmn_ecmwf_djf_3, dimension = \"time\")"
   ]
  },
  {
   "cell_type": "markdown",
   "id": "4ed29647-c2c8-4ef4-8d4b-647e9be89d5b",
   "metadata": {},
   "source": [
    "## Cargar forecast tasmin (leadtime 0, 1, 2, 3)"
   ]
  },
  {
   "cell_type": "code",
   "execution_count": 6,
   "id": "685fa6a7-5c64-41bd-9103-7ce6514d7418",
   "metadata": {},
   "outputs": [],
   "source": [
    "anios = 2018:2022\n",
    "meses_ini = c(\"01\", \"12\", \"11\", \"10\")  # meses de inicialización\n",
    "\n",
    "# Función generalizada para cargar los datos por mes y año\n",
    "cargar_dato = function(anio, mes_ini) {\n",
    "\n",
    "    # Ajustar año si el mes de inicialización es del año anterior\n",
    "    if (mes_ini %in% c(\"10\", \"11\", \"12\")) {\n",
    "        anio = anio - 1\n",
    "    }\n",
    "\n",
    "    yyyymm = paste0(anio, mes_ini)\n",
    "\n",
    "    ruta = paste0(\n",
    "        \"/lustre/gmeteo/PTICLIMA/DATA/SEASONAL/\",\n",
    "        \"seasonal-original-single-levels/medcof/forecast/tasmin/ecmwf/51/\", yyyymm, \"/\",\n",
    "        \"seasonal-original-single-levels_medcof_forecast_tasmin_ecmwf_51_\", yyyymm, \".ncml\"\n",
    "    )\n",
    "\n",
    "    data_aux = loadGridData(dataset = ruta,\n",
    "                            var = \"tasmin\",\n",
    "                            lonLim = lon,\n",
    "                            latLim = lat,\n",
    "                            season = c(1, 2)) %>% suppressMessages %>% suppressWarnings\n",
    "\n",
    "    return(data_aux)\n",
    "}\n",
    "\n",
    "# Creo una lista donde cada elemento es la salida para un mes de inicialización diferente\n",
    "forecast = lapply(meses_ini, function(mes) {\n",
    "    lapply(anios, function(anio) cargar_dato(anio, mes))\n",
    "})\n",
    "\n",
    "# Nombro los elementos por mes\n",
    "names(forecast) = paste0(\"mes_\", meses_ini)"
   ]
  },
  {
   "cell_type": "code",
   "execution_count": 7,
   "id": "1f83782e-328a-4643-a9c9-2b17fd17e814",
   "metadata": {},
   "outputs": [],
   "source": [
    "# Asigno nombre a cada grid con los leadtime\n",
    "tmn_forecast_djf_0 = forecast[[\"mes_01\"]]\n",
    "tmn_forecast_djf_1 = forecast[[\"mes_12\"]]\n",
    "tmn_forecast_djf_2 = forecast[[\"mes_11\"]]\n",
    "tmn_forecast_djf_3 = forecast[[\"mes_10\"]]"
   ]
  },
  {
   "cell_type": "code",
   "execution_count": 8,
   "id": "4b16fc8c-567d-4ba0-bbb1-9b1d04d7247a",
   "metadata": {},
   "outputs": [],
   "source": [
    "# Combinamos los grids en la dimensión temporal\n",
    "tmn_forecast_djf_0_grid = bindGrid(tmn_forecast_djf_0, dimension = \"time\")\n",
    "tmn_forecast_djf_1_grid = bindGrid(tmn_forecast_djf_1, dimension = \"time\")\n",
    "tmn_forecast_djf_2_grid = bindGrid(tmn_forecast_djf_2, dimension = \"time\")\n",
    "tmn_forecast_djf_3_grid = bindGrid(tmn_forecast_djf_3, dimension = \"time\")"
   ]
  },
  {
   "cell_type": "code",
   "execution_count": 9,
   "id": "e10df26b-c68a-499c-b963-41951ca1e190",
   "metadata": {},
   "outputs": [],
   "source": [
    "# Me quedo con los primeros 25 miembros\n",
    "tmn_forecast_djf_0_members = subsetGrid(tmn_forecast_djf_0_grid, members = 1:25)\n",
    "tmn_forecast_djf_1_members = subsetGrid(tmn_forecast_djf_1_grid, members = 1:25)\n",
    "tmn_forecast_djf_2_members = subsetGrid(tmn_forecast_djf_2_grid, members = 1:25)\n",
    "tmn_forecast_djf_3_members = subsetGrid(tmn_forecast_djf_3_grid, members = 1:25)"
   ]
  },
  {
   "cell_type": "code",
   "execution_count": 10,
   "id": "dbb7428b-55bc-4c67-9716-3bc6fbf9186c",
   "metadata": {},
   "outputs": [],
   "source": [
    "# Combinamos los grids de hindcast y forecast\n",
    "tmn_ecmwf_djf_0_grid = bindGrid(tmn_ecmwf_djf_0_grid, tmn_forecast_djf_0_members, dimension = \"time\")\n",
    "tmn_ecmwf_djf_1_grid = bindGrid(tmn_ecmwf_djf_1_grid, tmn_forecast_djf_1_members, dimension = \"time\")\n",
    "tmn_ecmwf_djf_2_grid = bindGrid(tmn_ecmwf_djf_2_grid, tmn_forecast_djf_2_members, dimension = \"time\")\n",
    "tmn_ecmwf_djf_3_grid = bindGrid(tmn_ecmwf_djf_3_grid, tmn_forecast_djf_3_members, dimension = \"time\")"
   ]
  },
  {
   "cell_type": "markdown",
   "id": "b8623cc3-4c34-4d2a-8077-4a749a6d5674",
   "metadata": {},
   "source": [
    "## Cargar las observaciones ERA5-Land"
   ]
  },
  {
   "cell_type": "code",
   "execution_count": 11,
   "id": "155e748d-104f-48cc-812a-67c193b6fadf",
   "metadata": {},
   "outputs": [],
   "source": [
    "# Define años y meses\n",
    "anios = 1982:2022\n",
    "anios = anios[anios != 2017]\n",
    "meses = sprintf(\"%02d\", c(1, 2))\n",
    "\n",
    "# Función para construir la ruta y cargar los datos\n",
    "cargar_dato = function(anio, mes) {\n",
    "    yyyy = paste0(anio)\n",
    "    yyyymm = paste0(anio, mes)\n",
    "    ruta = paste0(\n",
    "        \"/lustre/gmeteo/PTICLIMA/DATA/REANALYSIS/ERA5-Land/data/Iberia/day/t2mn/\", yyyy, \"/\",\n",
    "        \"t2mn_ERA5-Land_\", yyyymm, \".nc\"\n",
    "    )\n",
    "    \n",
    "    # Carga el dataset\n",
    "    data_aux = loadGridData(dataset = ruta,\n",
    "                            var = \"t2mn\",\n",
    "                            lonLim = lon,\n",
    "                            latLim = lat) %>% suppressMessages %>% suppressWarnings\n",
    "\n",
    "    return(data_aux)\n",
    "}\n",
    "\n",
    "# Crear combinaciones enero + febrero\n",
    "combinaciones = do.call(rbind, lapply(anios, function(anio) {\n",
    "  data.frame(\n",
    "    anio = c(anio, anio),\n",
    "    mes  = c(\"01\", \"02\"),\n",
    "    stringsAsFactors = FALSE\n",
    "  )\n",
    "}))\n",
    "\n",
    "# Aplicar la función a cada combinación\n",
    "tmn_era5_djf = lapply(1:nrow(combinaciones), function(i) {\n",
    "  cargar_dato(combinaciones$anio[i], combinaciones$mes[i])\n",
    "})"
   ]
  },
  {
   "cell_type": "code",
   "execution_count": 12,
   "id": "5cf4d97b-5e53-419c-94dc-f3b09e5067b6",
   "metadata": {},
   "outputs": [],
   "source": [
    "# Combinamos los grids en la dimensión temporal\n",
    "tmn_era5_djf_time = bindGrid(tmn_era5_djf, dimension = \"time\")\n",
    "\n",
    "# Upscaling de la resolución de las observaciones\n",
    "tmn_era5_djf_ups = interpGrid(tmn_era5_djf_time,\n",
    "                              new.coordinates = getGrid(tmn_ecmwf_djf_0_grid),\n",
    "                              method = \"bilinear\") %>% suppressMessages %>% suppressWarnings"
   ]
  },
  {
   "cell_type": "code",
   "execution_count": 13,
   "id": "da3ea8fa-82ab-403b-b262-aabb3738a25f",
   "metadata": {},
   "outputs": [],
   "source": [
    "# Recorto los datos a la región de España\n",
    "tmn_modelo_0 = subsetGrid(tmn_ecmwf_djf_0_grid, lonLim = c(-10, 5), latLim = c(35, 44))\n",
    "tmn_modelo_1 = subsetGrid(tmn_ecmwf_djf_1_grid, lonLim = c(-10, 5), latLim = c(35, 44))\n",
    "tmn_modelo_2 = subsetGrid(tmn_ecmwf_djf_2_grid, lonLim = c(-10, 5), latLim = c(35, 44))\n",
    "tmn_modelo_3 = subsetGrid(tmn_ecmwf_djf_3_grid, lonLim = c(-10, 5), latLim = c(35, 44))\n",
    "\n",
    "tmn_obs = subsetGrid(tmn_era5_djf_ups, lonLim = c(-10, 5), latLim = c(35, 44))"
   ]
  },
  {
   "cell_type": "code",
   "execution_count": 14,
   "id": "27152a9d-3317-4d6e-a7a1-7d541395de8e",
   "metadata": {},
   "outputs": [],
   "source": [
    "# Pasamos las observaciones de Kelvin a Celsius\n",
    "tmn_obs_cel = gridArithmetics(tmn_obs, 273.15, operator = \"-\")"
   ]
  },
  {
   "cell_type": "code",
   "execution_count": 16,
   "id": "68940d8a-db35-49f7-ac24-08255d6fde2b",
   "metadata": {},
   "outputs": [],
   "source": [
    "# Guardo los datos\n",
    "saveRDS(tmn_modelo_0, file = \"tasmin_model_almen_0.rds\")\n",
    "saveRDS(tmn_modelo_1, file = \"tasmin_model_almen_1.rds\")\n",
    "saveRDS(tmn_modelo_2, file = \"tasmin_model_almen_2.rds\")\n",
    "saveRDS(tmn_modelo_3, file = \"tasmin_model_almen_3.rds\")\n",
    "\n",
    "saveRDS(tmn_obs_cel, file = \"tasmin_obs_almen.rds\")"
   ]
  }
 ],
 "metadata": {
  "kernelspec": {
   "display_name": "R",
   "language": "R",
   "name": "ir"
  },
  "language_info": {
   "codemirror_mode": "r",
   "file_extension": ".r",
   "mimetype": "text/x-r-source",
   "name": "R",
   "pygments_lexer": "r",
   "version": "4.3.3"
  }
 },
 "nbformat": 4,
 "nbformat_minor": 5
}
