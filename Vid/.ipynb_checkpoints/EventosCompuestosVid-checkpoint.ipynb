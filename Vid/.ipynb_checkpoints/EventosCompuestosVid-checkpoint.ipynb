{
 "cells": [
  {
   "cell_type": "markdown",
   "id": "33eb3b83-009b-4bee-8f21-bd70ef29c4d0",
   "metadata": {},
   "source": [
    "# Estudio eventos compuestos Vid\n",
    "## Pablo Lavín"
   ]
  },
  {
   "cell_type": "markdown",
   "id": "d5c1ee01-3bae-40ad-bf95-b465fec7ed5b",
   "metadata": {},
   "source": [
    "## Configuración"
   ]
  },
  {
   "cell_type": "code",
   "execution_count": 1,
   "id": "45704156-e5e0-4baf-8c23-52ea022794d7",
   "metadata": {
    "scrolled": true
   },
   "outputs": [
    {
     "name": "stderr",
     "output_type": "stream",
     "text": [
      "\n",
      "Attaching package: ‘dplyr’\n",
      "\n",
      "\n",
      "The following objects are masked from ‘package:stats’:\n",
      "\n",
      "    filter, lag\n",
      "\n",
      "\n",
      "The following objects are masked from ‘package:base’:\n",
      "\n",
      "    intersect, setdiff, setequal, union\n",
      "\n",
      "\n",
      "Loading required package: rJava\n",
      "\n",
      "Loading required package: loadeR.java\n",
      "\n",
      "Java version 23x amd64 by N/A detected\n",
      "\n",
      "NetCDF Java Library v4.6.0-SNAPSHOT (23 Apr 2015) loaded and ready\n",
      "\n",
      "Loading required package: climate4R.UDG\n",
      "\n",
      "climate4R.UDG version 0.2.6 (2023-06-26) is loaded\n",
      "\n",
      "Please use 'citation(\"climate4R.UDG\")' to cite this package.\n",
      "\n",
      "loadeR version 1.8.1 (2023-06-22) is loaded\n",
      "\n",
      "WARNING: Your current version of loadeR (v1.8.1) is not up-to-date\n",
      "\n",
      "Get the latest stable version (1.8.2) using <devtools::install_github(c('SantanderMetGroup/climate4R.UDG','SantanderMetGroup/loadeR'))>\n",
      "\n",
      "Please use 'citation(\"loadeR\")' to cite this package.\n",
      "\n"
     ]
    },
    {
     "name": "stdout",
     "output_type": "stream",
     "text": [
      "\n",
      "    _______   ____  ___________________  __  ________ \n",
      "   / ___/ /  / /  |/  / __  /_  __/ __/ / / / / __  / \n",
      "  / /  / /  / / /|_/ / /_/ / / / / __/ / /_/ / /_/_/  \n",
      " / /__/ /__/ / /  / / __  / / / / /__ /___  / / \\ \\ \n",
      " \\___/____/_/_/  /_/_/ /_/ /_/  \\___/    /_/\\/   \\_\\ \n",
      " \n",
      "      github.com/SantanderMetGroup/climate4R\n",
      "\n"
     ]
    },
    {
     "name": "stderr",
     "output_type": "stream",
     "text": [
      "transformeR version 2.2.2 (2023-10-26) is loaded\n",
      "\n",
      "WARNING: Your current version of transformeR (v2.2.2) is not up-to-date\n",
      "\n",
      "Get the latest stable version (2.2.3) using <devtools::install_github('SantanderMetGroup/transformeR')>\n",
      "\n",
      "Please see 'citation(\"transformeR\")' to cite this package.\n",
      "\n",
      "visualizeR version 1.6.4 (2023-10-26) is loaded\n",
      "\n",
      "Please see 'citation(\"visualizeR\")' to cite this package.\n",
      "\n",
      "downscaleR version 3.3.4 (2023-06-22) is loaded\n",
      "\n",
      "Please use 'citation(\"downscaleR\")' to cite this package.\n",
      "\n",
      "Loading required package: climdex.pcic\n",
      "\n",
      "Loading required package: PCICt\n",
      "\n",
      "climate4R.climdex version 0.2.3 (2023-06-23) is loaded\n",
      "\n",
      "Use 'climdexShow()' for an overview of the available ETCCDI indices\n",
      "\n",
      "climate4R.indices version 0.3.1 (2023-06-22) is loaded\n",
      "\n",
      "Use 'indexShow()' for an overview of the available climate indices and circIndexShow() for the circulation indices.\n",
      "\n",
      "NOTE: use package climate4R.climdex to calculate ETCCDI indices.\n",
      "\n",
      "\n",
      "Attaching package: ‘climate4R.indices’\n",
      "\n",
      "\n",
      "The following object is masked from ‘package:transformeR’:\n",
      "\n",
      "    lambWT\n",
      "\n",
      "\n",
      "Loading required package: SpecsVerification\n",
      "\n",
      "\n",
      "Attaching package: ‘easyVerification’\n",
      "\n",
      "\n",
      "The following object is masked from ‘package:SpecsVerification’:\n",
      "\n",
      "    EnsCorr\n",
      "\n",
      "\n",
      "\n",
      "Attaching package: ‘lubridate’\n",
      "\n",
      "\n",
      "The following objects are masked from ‘package:base’:\n",
      "\n",
      "    date, intersect, setdiff, union\n",
      "\n",
      "\n",
      "\n",
      "Attaching package: ‘gridExtra’\n",
      "\n",
      "\n",
      "The following object is masked from ‘package:dplyr’:\n",
      "\n",
      "    combine\n",
      "\n",
      "\n"
     ]
    }
   ],
   "source": [
    "# Cargamos paquetes\n",
    "\n",
    "library(repr)\n",
    "library(dplyr)\n",
    "\n",
    "library(abind)\n",
    "library(loadeR)\n",
    "library(transformeR)\n",
    "library(visualizeR)\n",
    "library(downscaleR)\n",
    "library(climate4R.UDG)\n",
    "library(climate4R.climdex)\n",
    "library(climate4R.indices)\n",
    "library(easyVerification)\n",
    "library(lubridate)\n",
    "\n",
    "library(lattice)\n",
    "library(magrittr)\n",
    "library(gridExtra)\n",
    "library(RColorBrewer)\n",
    "\n",
    "# biasCorrection_RM\n",
    "source(\"../load_bc_functions.R\")"
   ]
  },
  {
   "cell_type": "code",
   "execution_count": 2,
   "id": "bbb8c646-3771-4c78-bf16-152464c2882c",
   "metadata": {},
   "outputs": [],
   "source": [
    "# Region de estudio\n",
    "\n",
    "lon = c(-10, 20)\n",
    "lat = c(35,46)\n",
    "\n",
    "# Color\n",
    "color = colorRampPalette(rev(brewer.pal(n = 9, \"RdYlBu\")))"
   ]
  },
  {
   "cell_type": "code",
   "execution_count": 3,
   "id": "034d55a4-f0da-401b-82dc-92c073bd0136",
   "metadata": {},
   "outputs": [],
   "source": [
    "# Cargo datos: temperatura media (con sesgo y sin sesgo) y humedad relativa\n",
    "tas_modelo_0 = readRDS(\"DatosVid/tas_oidio_model_vid_0.rds\")\n",
    "tas_modelo_1 = readRDS(\"DatosVid/tas_oidio_model_vid_1.rds\")\n",
    "tas_modelo_2 = readRDS(\"DatosVid/tas_oidio_model_vid_2.rds\")\n",
    "tas_modelo_3 = readRDS(\"DatosVid/tas_oidio_model_vid_3.rds\")\n",
    "\n",
    "tas_obs = readRDS(\"DatosVid/tas_oidio_obs_vid.rds\")\n",
    "\n",
    "bc_tas_modelo_0 = readRDS(\"DatosVid/bc_tas_oidio_vid_0.rds\")\n",
    "bc_tas_modelo_1 = readRDS(\"DatosVid/bc_tas_oidio_vid_1.rds\")\n",
    "bc_tas_modelo_2 = readRDS(\"DatosVid/bc_tas_oidio_vid_2.rds\")\n",
    "bc_tas_modelo_3 = readRDS(\"DatosVid/bc_tas_oidio_vid_3.rds\")\n",
    "\n",
    "hr_modelo_0 = readRDS(\"DatosVid/hr_oidio_model_vid_0.rds\")\n",
    "hr_modelo_1 = readRDS(\"DatosVid/hr_oidio_model_vid_1.rds\")\n",
    "hr_modelo_2 = readRDS(\"DatosVid/hr_oidio_model_vid_2.rds\")\n",
    "hr_modelo_3 = readRDS(\"DatosVid/hr_oidio_model_vid_3.rds\")\n",
    "\n",
    "hr_obs = readRDS(\"DatosVid/hr_oidio_obs_vid.rds\")\n",
    "\n",
    "bc_tas_modelo_0 = readRDS(\"DatosVid/bc_tas_oidio_vid_0.rds\")\n",
    "bc_tas_modelo_1 = readRDS(\"DatosVid/bc_tas_oidio_vid_1.rds\")\n",
    "bc_tas_modelo_2 = readRDS(\"DatosVid/bc_tas_oidio_vid_2.rds\")\n",
    "bc_tas_modelo_3 = readRDS(\"DatosVid/bc_tas_oidio_vid_3.rds\")"
   ]
  },
  {
   "cell_type": "markdown",
   "id": "aaa47571-8279-48ef-9407-8ac8d9568cf4",
   "metadata": {},
   "source": [
    "## Máscara para los datos"
   ]
  },
  {
   "cell_type": "code",
   "execution_count": 4,
   "id": "ebae6438-2d80-4db4-b5b1-3d624665ea10",
   "metadata": {},
   "outputs": [],
   "source": [
    "## Máscara de tierra de ERA5 (es una variable más del propio reanális):\n",
    "## Valores continuos entre 0 (no hay nada de tierra en ese gridbox) y 1 (todo el gridbox es tierra)\n",
    "mask = loadGridData(\"/lustre/gmeteo/PTICLIMA/DATA/REANALYSIS/ERA5/lsm/lsm_era5.nc\", var = \"lsm\") %>% suppressMessages %>% suppressWarnings\n",
    "\n",
    "## Binarizo la máscara: Considero que todos los gridboxes con un valor por encima (debajo) de 0.5 son de tierra (mar)\n",
    "mask.bin = binaryGrid(mask, condition = \"GE\", threshold = 0.5, values = c(NA, 1))\n",
    "\n",
    "## Hago el upscaling como hice con los datos de ERA5 a la resolución de 1º del modelo\n",
    "mask_upscaled = interpGrid(mask.bin,\n",
    "                           new.coordinates = getGrid(tas_obs),\n",
    "                           method = \"bilinear\") %>% suppressMessages %>% suppressWarnings\n",
    "\n",
    "## Apoyándome en la máscara binaria, me quedo únicamente con los datos en tierra y descarto el mar\n",
    "mask.bin.spain = subsetGrid(mask_upscaled, lonLim = c(-10, 5), latLim = c(35, 44))\n",
    "mask.bin.spain$Data = aperm(replicate(getShape(tas_obs)[\"time\"], mask.bin.spain$Data, simplify = \"array\"), c(3, 1, 2))\n",
    "attributes(mask.bin.spain$Data)$dimensions = c(\"time\", \"lat\", \"lon\")\n",
    "\n",
    "## Máscara para el moodelo\n",
    "n.members = getShape(tas_modelo_0)[\"member\"]\n",
    "mask.data = mask.bin.spain$Data\n",
    "mask.4d = array(NA, dim = c(n.members, dim(mask.data)))  # member x time x lat x lon\n",
    "for (m in 1:n.members) {\n",
    "    mask.4d[m,,,] = mask.data\n",
    "}\n",
    "\n",
    "mask.model = mask.bin.spain  # copia de la estructura\n",
    "mask.model$Data = mask.4d\n",
    "attributes(mask.model$Data)$dimensions = c(\"member\", \"time\", \"lat\", \"lon\")"
   ]
  },
  {
   "cell_type": "markdown",
   "id": "a74728ed-3bab-4ab3-a23d-b518405498b9",
   "metadata": {},
   "source": [
    "## Floración (mayo-junio). Riesgo oidio (Nº días con Tmed > 25ºC y HR 60-80%)"
   ]
  },
  {
   "cell_type": "markdown",
   "id": "010e9427-ec85-40e5-b99f-92f1f3ac9629",
   "metadata": {},
   "source": [
    "### Representación del sesgo de la temperatura media"
   ]
  },
  {
   "cell_type": "code",
   "execution_count": 5,
   "id": "4b282662-3c41-4430-a69b-f00b652b530d",
   "metadata": {},
   "outputs": [],
   "source": [
    "# Climatología de las obs\n",
    "ref = climatology(tas_obs) %>% suppressMessages %>% suppressWarnings\n",
    "\n",
    "# Climatología del modelos con los 4 leadtime (datos con sesgo)\n",
    "diff_0 = climatology(tas_modelo_0, by.member = FALSE) %>% suppressMessages %>% suppressWarnings\n",
    "diff_1 = climatology(tas_modelo_1, by.member = FALSE) %>% suppressMessages %>% suppressWarnings\n",
    "diff_2 = climatology(tas_modelo_2, by.member = FALSE) %>% suppressMessages %>% suppressWarnings\n",
    "diff_3 = climatology(tas_modelo_3, by.member = FALSE) %>% suppressMessages %>% suppressWarnings\n",
    "\n",
    "# Sesgo para cada leadtime\n",
    "bias_0 = gridArithmetics(diff_0, ref, operator = \"-\")\n",
    "bias_1 = gridArithmetics(diff_1, ref, operator = \"-\")\n",
    "bias_2 = gridArithmetics(diff_2, ref, operator = \"-\")\n",
    "bias_3 = gridArithmetics(diff_3, ref, operator = \"-\")\n",
    "\n",
    "# Representación\n",
    "b_0 = spatialPlot(bias_0, backdrop.theme = \"countries\", main = \"Raw (lt 0)\", col.regions = color, at = seq(-4, 4, 0.1))\n",
    "b_1 = spatialPlot(bias_1, backdrop.theme = \"countries\", main = \"Raw (lt 1)\", col.regions = color, at = seq(-4, 4, 0.1))\n",
    "b_2 = spatialPlot(bias_2, backdrop.theme = \"countries\", main = \"Raw (lt 2)\", col.regions = color, at = seq(-4, 4, 0.1))\n",
    "b_3 = spatialPlot(bias_3, backdrop.theme = \"countries\", main = \"Raw (lt 3)\", col.regions = color, at = seq(-4, 4, 0.1))\n",
    "\n",
    "# Climatología de cada leadtime (datos sin sesgo)\n",
    "diff0 = climatology(bc_tas_modelo_0, by.member = FALSE) %>% suppressMessages %>% suppressWarnings\n",
    "diff1 = climatology(bc_tas_modelo_1, by.member = FALSE) %>% suppressMessages %>% suppressWarnings\n",
    "diff2 = climatology(bc_tas_modelo_2, by.member = FALSE) %>% suppressMessages %>% suppressWarnings\n",
    "diff3 = climatology(bc_tas_modelo_3, by.member = FALSE) %>% suppressMessages %>% suppressWarnings\n",
    "\n",
    "# Cálculo del sesgo\n",
    "bias0 = gridArithmetics(diff0, ref, operator = \"-\")\n",
    "bias1 = gridArithmetics(diff1, ref, operator = \"-\")\n",
    "bias2 = gridArithmetics(diff2, ref, operator = \"-\")\n",
    "bias3 = gridArithmetics(diff3, ref, operator = \"-\")\n",
    "\n",
    "# Representación\n",
    "b0 = spatialPlot(bias0, backdrop.theme = \"countries\", main = \"BC (lt 0)\", col.regions = color, at = seq(-0.006, 0.006, 0.0001))\n",
    "b1 = spatialPlot(bias1, backdrop.theme = \"countries\", main = \"BC (lt 1)\", col.regions = color, at = seq(-0.006, 0.006, 0.0001))\n",
    "b2 = spatialPlot(bias2, backdrop.theme = \"countries\", main = \"BC (lt 2)\", col.regions = color, at = seq(-0.006, 0.006, 0.0001))\n",
    "b3 = spatialPlot(bias3, backdrop.theme = \"countries\", main = \"BC (lt 3)\", col.regions = color, at = seq(-0.006, 0.006, 0.0001))"
   ]
  },
  {
   "cell_type": "code",
   "execution_count": 6,
   "id": "5b6115d8-0400-468a-866a-e13eddcd16b7",
   "metadata": {},
   "outputs": [
    {
     "data": {
      "text/html": [
       "<strong>pdf:</strong> 2"
      ],
      "text/latex": [
       "\\textbf{pdf:} 2"
      ],
      "text/markdown": [
       "**pdf:** 2"
      ],
      "text/plain": [
       "pdf \n",
       "  2 "
      ]
     },
     "metadata": {},
     "output_type": "display_data"
    }
   ],
   "source": [
    "png(\"bias_tmed_floracion_vid.png\", width = 2000, height = 1000, res = 150)\n",
    "grid.arrange(b_0, b_1, b_2, b_3, b0, b1, b2, b3, ncol = 4)\n",
    "dev.off()"
   ]
  },
  {
   "cell_type": "markdown",
   "id": "a658c11a-7d5c-406d-aa1f-df43c312ce0c",
   "metadata": {
    "jp-MarkdownHeadingCollapsed": true
   },
   "source": [
    "### Funciones auxiliares"
   ]
  },
  {
   "cell_type": "code",
   "execution_count": 7,
   "id": "d39fc5ac-df31-42c7-ad26-264ddea628a9",
   "metadata": {},
   "outputs": [],
   "source": [
    "# Calcula la media anual de días que cumplen una condición conjunta de temperatura\n",
    "# y humedad relativa a partir de datos diarios. Opcionalmente aplica una máscara\n",
    "# geográfica (por ejemplo, para tierra).\n",
    "#\n",
    "# Esta función se utilizado para datos de observaciones con dimeniones [time, lat, lon]\n",
    "#\n",
    "# @param tas_obs Lista con los datos diarios de temperatura y su información asociada.\n",
    "# @param hr_obs Lista con los datos diarios de humedad relativa y su información asociada.\n",
    "# @param temp_thresh Umbral de temperatura (por defecto 25 ºC).\n",
    "# @param hr_min Humedad relativa mínima (por defecto 60%).\n",
    "# @param hr_max Humedad relativa máxima (por defecto 80%).\n",
    "# @param land_mask Matriz binaria para aplicar máscara geográfica (NULL por defecto).\n",
    "#\n",
    "# @return Lista tipo \"grid\" con la media anual de días que cumplen la condición.\n",
    "#\n",
    "compute_masked_obs = function(tas_obs, hr_obs, temp_thresh = 25, hr_min = 60, hr_max = 80, land_mask = NULL) {\n",
    "    \n",
    "    # Vector de fechas diarias\n",
    "    dates = as.Date(tas_obs$Dates$start)\n",
    "    \n",
    "    # Extraer solo el año como carácter\n",
    "    years = format(dates, \"%Y\")\n",
    "    \n",
    "    # Condición conjunta: tas > temp_thresh y hr_min <= hr <= hr_max\n",
    "    mask = (tas_obs$Data > temp_thresh) & (hr_obs$Data >= hr_min & hr_obs$Data <= hr_max)\n",
    "    \n",
    "    # Conteo por año y pixel\n",
    "    mask_days = apply(mask, c(2,3), function(cell) tapply(cell, years, sum, na.rm = TRUE))\n",
    "    \n",
    "    # Media anual\n",
    "    annual_mean = apply(mask_days, c(2,3), mean, na.rm = TRUE)\n",
    "    \n",
    "    # Reconstruyo el grid\n",
    "    grid = list()\n",
    "    grid$Data = annual_mean\n",
    "    attr(grid$Data, \"dimensions\") = c(\"lat\", \"lon\")\n",
    "    grid$xyCoords = tas_obs$xyCoords\n",
    "    grid$Variable = tas_obs$Variable\n",
    "    grid$Dates = tas_obs$Dates\n",
    "    class(grid) = \"grid\"\n",
    "    \n",
    "    # Aplico la máscara de ERA-5 si se proporciona\n",
    "    if (!is.null(land_mask)) {\n",
    "        grid = gridArithmetics(grid, land_mask, operator = \"*\")\n",
    "    }\n",
    "    \n",
    "    return(grid)\n",
    "}"
   ]
  },
  {
   "cell_type": "code",
   "execution_count": 8,
   "id": "0403ffb1-d4a2-4a69-9697-dcdac9f1d5f3",
   "metadata": {},
   "outputs": [],
   "source": [
    "# Calcula la media anual de días que cumplen una condición conjunta de temperatura\n",
    "# y humedad relativa para un modelo con múltiples miembros. Devuelve la media anual\n",
    "# por miembro y la media sobre todos los miembros. Opcionalmente aplica una máscara de tierra.\n",
    "#\n",
    "# Esta función se utilizado para datos de observaciones con dimeniones [time, lat, lon]\n",
    "#\n",
    "# @param tas_model Lista con los datos diarios de temperatura del modelo [member, time, lat, lon].\n",
    "# @param hr_model Lista con los datos diarios de humedad relativa del modelo [member, time, lat, lon].\n",
    "# @param temp_thresh Umbral de temperatura (por defecto 25 ºC).\n",
    "# @param hr_min Humedad relativa mínima (por defecto 60%).\n",
    "# @param hr_max Humedad relativa máxima (por defecto 80%).\n",
    "# @param land_mask Matriz binaria para aplicar máscara geográfica (NULL por defecto).\n",
    "#\n",
    "# @return Lista con dos elementos: \n",
    "#   - per_member: grid con la media anual de días por cada miembro\n",
    "#   - mean_members: grid con la media anual sobre todos los miembros\n",
    "\n",
    "compute_masked = function(tas_model, hr_model, temp_thresh = 25, hr_min = 60, hr_max = 80, land_mask = NULL) {\n",
    "    \n",
    "    # Dimensiones\n",
    "    dims = dim(tas_model$Data)\n",
    "    nmem = dims[1]\n",
    "    ntime = dims[2]\n",
    "    nlat = dims[3]\n",
    "    nlon = dims[4]\n",
    "\n",
    "    # Vector de fechas diarias\n",
    "    dates = as.Date(tas_model$Dates$start)\n",
    "    years = factor(format(dates, \"%Y\"))\n",
    "    unique_years = levels(years)\n",
    "    n_years = length(unique_years)\n",
    "\n",
    "    # Inicializamos array para el resultado [member, lat, lon]\n",
    "    annual_mean_members = array(NA, dim = c(nmem, nlat, nlon))\n",
    "    \n",
    "    for(m in 1:nmem) {\n",
    "        mask = (tas_model$Data[m,,,] > temp_thresh) & \n",
    "        (hr_model$Data[m,,,] >= hr_min & hr_model$Data[m,,,] <= hr_max)\n",
    "    \n",
    "        # Inicializo array [n_years, lat, lon]\n",
    "        mask_days = array(NA, dim = c(n_years, nlat, nlon))\n",
    "        \n",
    "        for(y in 1:n_years) {\n",
    "            # índices de días para el año actual\n",
    "            idx = which(years == unique_years[y])\n",
    "            # suma diaria por píxel\n",
    "            mask_days[y,,] = apply(mask[idx,,], c(2,3), sum, na.rm=TRUE)\n",
    "        }\n",
    "        \n",
    "        annual_mean_members[m,,] = apply(mask_days, c(2,3), mean, na.rm = TRUE)\n",
    "    }\n",
    "\n",
    "    # Media entre miembros\n",
    "    mean_over_members = apply(annual_mean_members, c(2,3), mean, na.rm = TRUE)\n",
    "\n",
    "    # Reconstruyo grids\n",
    "    grid_members = list(\n",
    "        Data = annual_mean_members,\n",
    "        xyCoords = tas_model$xyCoords,\n",
    "        Variable = tas_model$Variable,\n",
    "        Dates = tas_model$Dates\n",
    "    )\n",
    "    attr(grid_members$Data, \"dimensions\") = c(\"member\", \"lat\", \"lon\")\n",
    "    class(grid_members) = \"grid\"\n",
    "\n",
    "    grid_mean = list(\n",
    "        Data = mean_over_members,\n",
    "        xyCoords = tas_model$xyCoords,\n",
    "        Variable = tas_model$Variable,\n",
    "        Dates = tas_model$Dates\n",
    "    )\n",
    "    attr(grid_mean$Data, \"dimensions\") = c(\"lat\", \"lon\")\n",
    "    class(grid_mean) = \"grid\"\n",
    "\n",
    "    # Aplico la máscara de tierra si se proporciona\n",
    "    if(!is.null(land_mask)) {\n",
    "        mask_rep = array(rep(land_mask, nmem), dim = c(nmem, nlat, nlon))\n",
    "        grid_members = gridArithmetics(grid_members, mask_rep, operator = \"*\")\n",
    "        grid_mean = gridArithmetics(grid_mean, land_mask, operator = \"*\")\n",
    "    }\n",
    "\n",
    "    return(list(per_member = grid_members, mean_members = grid_mean))\n",
    "}"
   ]
  },
  {
   "cell_type": "markdown",
   "id": "6739a886-d10d-4309-a1f1-4d02b83ebe7f",
   "metadata": {},
   "source": [
    "### Máscara de los datos raw"
   ]
  },
  {
   "cell_type": "code",
   "execution_count": 9,
   "id": "347a3ce2-181f-401b-b84c-3855bd443565",
   "metadata": {},
   "outputs": [],
   "source": [
    "land_mask = mask.model$Data[1,1,,]"
   ]
  },
  {
   "cell_type": "code",
   "execution_count": 10,
   "id": "bf7e6b8f-ab16-4a99-b78e-47aa3fb050cf",
   "metadata": {},
   "outputs": [],
   "source": [
    "grid_masked_oidio_0 = compute_masked(tas_modelo_0, hr_modelo_0, temp_thresh = 25, hr_min = 60, hr_max = 80, land_mask)$mean_members\n",
    "grid_masked_oidio_1 = compute_masked(tas_modelo_1, hr_modelo_1, temp_thresh = 25, hr_min = 60, hr_max = 80, land_mask)$mean_members\n",
    "grid_masked_oidio_2 = compute_masked(tas_modelo_2, hr_modelo_2, temp_thresh = 25, hr_min = 60, hr_max = 80, land_mask)$mean_members\n",
    "grid_masked_oidio_3 = compute_masked(tas_modelo_3, hr_modelo_3, temp_thresh = 25, hr_min = 60, hr_max = 80, land_mask)$mean_members"
   ]
  },
  {
   "cell_type": "code",
   "execution_count": 11,
   "id": "33fc3181-124c-473f-bd48-679acdfc9ed9",
   "metadata": {},
   "outputs": [],
   "source": [
    "nd_oid_0 = spatialPlot(grid_masked_oidio_0, backdrop.theme = \"countries\",\n",
    "                       col.regions = color, at = seq(0, 1, 0.1)) %>% suppressMessages %>% suppressWarnings\n",
    "nd_oid_1 = spatialPlot(grid_masked_oidio_1, backdrop.theme = \"countries\",\n",
    "                       col.regions = color, at = seq(0, 1, 0.1)) %>% suppressMessages %>% suppressWarnings\n",
    "nd_oid_2 = spatialPlot(grid_masked_oidio_2, backdrop.theme = \"countries\",\n",
    "                       col.regions = color, at = seq(0, 1, 0.1)) %>% suppressMessages %>% suppressWarnings\n",
    "nd_oid_3 = spatialPlot(grid_masked_oidio_3, backdrop.theme = \"countries\",\n",
    "                       col.regions = color, at = seq(0, 1, 0.1)) %>% suppressMessages %>% suppressWarnings"
   ]
  },
  {
   "cell_type": "markdown",
   "id": "a5ce31f3-e508-4443-993f-a24cef7dbd8c",
   "metadata": {},
   "source": [
    "### Máscara de los datos bC"
   ]
  },
  {
   "cell_type": "code",
   "execution_count": 12,
   "id": "25f29b74-3b31-47b0-85fc-5a83989675d2",
   "metadata": {},
   "outputs": [],
   "source": [
    "grid_bc_masked_oidio_0 = compute_masked(bc_tas_modelo_0, hr_modelo_0, temp_thresh = 25, hr_min = 60, hr_max = 80, land_mask)$mean_members\n",
    "grid_bc_masked_oidio_1 = compute_masked(bc_tas_modelo_1, hr_modelo_1, temp_thresh = 25, hr_min = 60, hr_max = 80, land_mask)$mean_members\n",
    "grid_bc_masked_oidio_2 = compute_masked(bc_tas_modelo_2, hr_modelo_2, temp_thresh = 25, hr_min = 60, hr_max = 80, land_mask)$mean_members\n",
    "grid_bc_masked_oidio_3 = compute_masked(bc_tas_modelo_3, hr_modelo_3, temp_thresh = 25, hr_min = 60, hr_max = 80, land_mask)$mean_members"
   ]
  },
  {
   "cell_type": "code",
   "execution_count": 13,
   "id": "8ce8ebef-e82b-4e41-8514-7e47769401ed",
   "metadata": {},
   "outputs": [],
   "source": [
    "bc_nd_oid_0 = spatialPlot(grid_bc_masked_oidio_0, backdrop.theme = \"countries\",\n",
    "                       col.regions = color, at = seq(0, 3, 0.1)) %>% suppressMessages %>% suppressWarnings\n",
    "bc_nd_oid_1 = spatialPlot(grid_bc_masked_oidio_1, backdrop.theme = \"countries\",\n",
    "                       col.regions = color, at = seq(0, 3, 0.1)) %>% suppressMessages %>% suppressWarnings\n",
    "bc_nd_oid_2 = spatialPlot(grid_bc_masked_oidio_2, backdrop.theme = \"countries\",\n",
    "                       col.regions = color, at = seq(0, 3, 0.1)) %>% suppressMessages %>% suppressWarnings\n",
    "bc_nd_oid_3 = spatialPlot(grid_bc_masked_oidio_3, backdrop.theme = \"countries\",\n",
    "                       col.regions = color, at = seq(0, 3, 0.1)) %>% suppressMessages %>% suppressWarnings"
   ]
  },
  {
   "cell_type": "code",
   "execution_count": 14,
   "id": "e96f8d0e-22d6-41f7-bbc8-ecf37f044e88",
   "metadata": {},
   "outputs": [
    {
     "data": {
      "text/html": [
       "<strong>pdf:</strong> 2"
      ],
      "text/latex": [
       "\\textbf{pdf:} 2"
      ],
      "text/markdown": [
       "**pdf:** 2"
      ],
      "text/plain": [
       "pdf \n",
       "  2 "
      ]
     },
     "metadata": {},
     "output_type": "display_data"
    }
   ],
   "source": [
    "png(\"ndays_riesgo_oidio_model_vid.png\", width = 2000, height = 1000, res = 150)\n",
    "grid.arrange(nd_oid_0, nd_oid_1, nd_oid_2, nd_oid_3,\n",
    "             bc_nd_oid_0, bc_nd_oid_1, bc_nd_oid_2, bc_nd_oid_3, ncol = 4)\n",
    "dev.off()"
   ]
  },
  {
   "cell_type": "markdown",
   "id": "421cd191-cf88-4a94-ba67-e3ab43082c63",
   "metadata": {},
   "source": [
    "### Máscara de los datos de ERA-5"
   ]
  },
  {
   "cell_type": "code",
   "execution_count": 15,
   "id": "34074093-fd3a-47be-99aa-33505efc5aa2",
   "metadata": {},
   "outputs": [],
   "source": [
    "land_mask = mask.bin.spain$Data[1,,]\n",
    "grid_masked_oidio_obs = compute_masked_obs(tas_obs, hr_obs, temp_thresh = 25, hr_min = 60, hr_max = 80, land_mask)"
   ]
  },
  {
   "cell_type": "code",
   "execution_count": 16,
   "id": "fdae0ee7-cc50-491e-a8bc-1bc80e323874",
   "metadata": {},
   "outputs": [],
   "source": [
    "nd_oid_obs = spatialPlot(grid_masked_oidio_obs, backdrop.theme = \"countries\",\n",
    "                       col.regions = color, at = seq(0, 1, 0.1)) %>% suppressMessages %>% suppressWarnings"
   ]
  },
  {
   "cell_type": "code",
   "execution_count": 17,
   "id": "2ebf514f-530b-4c28-a8e2-de35a91dbd98",
   "metadata": {},
   "outputs": [
    {
     "data": {
      "text/html": [
       "<strong>pdf:</strong> 2"
      ],
      "text/latex": [
       "\\textbf{pdf:} 2"
      ],
      "text/markdown": [
       "**pdf:** 2"
      ],
      "text/plain": [
       "pdf \n",
       "  2 "
      ]
     },
     "metadata": {},
     "output_type": "display_data"
    }
   ],
   "source": [
    "png(\"ndays_riesgo_oidio_obs_vid.png\", width = 2000, height = 1000, res = 150)\n",
    "grid.arrange(nd_oid_obs, ncol = 1)\n",
    "dev.off()"
   ]
  },
  {
   "cell_type": "code",
   "execution_count": null,
   "id": "3ddc3cd7-aac5-40a3-abb7-8391777238fd",
   "metadata": {},
   "outputs": [],
   "source": []
  }
 ],
 "metadata": {
  "kernelspec": {
   "display_name": "R",
   "language": "R",
   "name": "ir"
  },
  "language_info": {
   "codemirror_mode": "r",
   "file_extension": ".r",
   "mimetype": "text/x-r-source",
   "name": "R",
   "pygments_lexer": "r",
   "version": "4.3.3"
  }
 },
 "nbformat": 4,
 "nbformat_minor": 5
}
