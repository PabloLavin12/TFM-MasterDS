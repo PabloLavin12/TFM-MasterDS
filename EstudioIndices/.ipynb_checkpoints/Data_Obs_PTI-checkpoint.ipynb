{
 "cells": [
  {
   "cell_type": "markdown",
   "id": "cb32016b-3f7e-454f-acab-2faa6de4d54d",
   "metadata": {},
   "source": [
    "# PTI-grid-v0\n",
    "## Carga datos PTI-grid-v0 (res 2.5 km)\n",
    "## Pablo Lavín"
   ]
  },
  {
   "cell_type": "code",
   "execution_count": 1,
   "id": "7dcf9e19-9edb-427f-a1e8-690e5af90b91",
   "metadata": {},
   "outputs": [],
   "source": [
    "# Aumentar el heap de Java a 16 o 32 GB\n",
    "options(java.parameters = \"-Xmx16g\")"
   ]
  },
  {
   "cell_type": "code",
   "execution_count": 2,
   "id": "711b5ca6-da5f-43bd-b729-857db07fb410",
   "metadata": {
    "scrolled": true
   },
   "outputs": [
    {
     "name": "stderr",
     "output_type": "stream",
     "text": [
      "\n",
      "Attaching package: ‘dplyr’\n",
      "\n",
      "\n",
      "The following objects are masked from ‘package:stats’:\n",
      "\n",
      "    filter, lag\n",
      "\n",
      "\n",
      "The following objects are masked from ‘package:base’:\n",
      "\n",
      "    intersect, setdiff, setequal, union\n",
      "\n",
      "\n",
      "Loading required package: rJava\n",
      "\n",
      "Loading required package: loadeR.java\n",
      "\n",
      "Java version 23x amd64 by N/A detected\n",
      "\n",
      "NetCDF Java Library v4.6.0-SNAPSHOT (23 Apr 2015) loaded and ready\n",
      "\n",
      "Loading required package: climate4R.UDG\n",
      "\n",
      "climate4R.UDG version 0.2.6 (2023-06-26) is loaded\n",
      "\n",
      "Please use 'citation(\"climate4R.UDG\")' to cite this package.\n",
      "\n",
      "loadeR version 1.8.1 (2023-06-22) is loaded\n",
      "\n",
      "WARNING: Your current version of loadeR (v1.8.1) is not up-to-date\n",
      "\n",
      "Get the latest stable version (1.8.2) using <devtools::install_github(c('SantanderMetGroup/climate4R.UDG','SantanderMetGroup/loadeR'))>\n",
      "\n",
      "Please use 'citation(\"loadeR\")' to cite this package.\n",
      "\n"
     ]
    },
    {
     "name": "stdout",
     "output_type": "stream",
     "text": [
      "\n",
      "    _______   ____  ___________________  __  ________ \n",
      "   / ___/ /  / /  |/  / __  /_  __/ __/ / / / / __  / \n",
      "  / /  / /  / / /|_/ / /_/ / / / / __/ / /_/ / /_/_/  \n",
      " / /__/ /__/ / /  / / __  / / / / /__ /___  / / \\ \\ \n",
      " \\___/____/_/_/  /_/_/ /_/ /_/  \\___/    /_/\\/   \\_\\ \n",
      " \n",
      "      github.com/SantanderMetGroup/climate4R\n",
      "\n"
     ]
    },
    {
     "name": "stderr",
     "output_type": "stream",
     "text": [
      "transformeR version 2.2.2 (2023-10-26) is loaded\n",
      "\n",
      "WARNING: Your current version of transformeR (v2.2.2) is not up-to-date\n",
      "\n",
      "Get the latest stable version (2.2.3) using <devtools::install_github('SantanderMetGroup/transformeR')>\n",
      "\n",
      "Please see 'citation(\"transformeR\")' to cite this package.\n",
      "\n",
      "visualizeR version 1.6.4 (2023-10-26) is loaded\n",
      "\n",
      "Please see 'citation(\"visualizeR\")' to cite this package.\n",
      "\n",
      "downscaleR version 3.3.4 (2023-06-22) is loaded\n",
      "\n",
      "Please use 'citation(\"downscaleR\")' to cite this package.\n",
      "\n",
      "Loading required package: climdex.pcic\n",
      "\n",
      "Loading required package: PCICt\n",
      "\n",
      "climate4R.climdex version 0.2.3 (2023-06-23) is loaded\n",
      "\n",
      "Use 'climdexShow()' for an overview of the available ETCCDI indices\n",
      "\n",
      "climate4R.indices version 0.3.1 (2023-06-22) is loaded\n",
      "\n",
      "Use 'indexShow()' for an overview of the available climate indices and circIndexShow() for the circulation indices.\n",
      "\n",
      "NOTE: use package climate4R.climdex to calculate ETCCDI indices.\n",
      "\n",
      "\n",
      "Attaching package: ‘climate4R.indices’\n",
      "\n",
      "\n",
      "The following object is masked from ‘package:transformeR’:\n",
      "\n",
      "    lambWT\n",
      "\n",
      "\n",
      "Loading required package: SpecsVerification\n",
      "\n",
      "\n",
      "Attaching package: ‘easyVerification’\n",
      "\n",
      "\n",
      "The following object is masked from ‘package:SpecsVerification’:\n",
      "\n",
      "    EnsCorr\n",
      "\n",
      "\n",
      "\n",
      "Attaching package: ‘gridExtra’\n",
      "\n",
      "\n",
      "The following object is masked from ‘package:dplyr’:\n",
      "\n",
      "    combine\n",
      "\n",
      "\n"
     ]
    }
   ],
   "source": [
    "# Cargamos paquetes\n",
    "\n",
    "library(repr)\n",
    "library(dplyr)\n",
    "\n",
    "library(abind)\n",
    "library(loadeR)\n",
    "library(transformeR)\n",
    "library(visualizeR)\n",
    "library(downscaleR)\n",
    "library(climate4R.UDG)\n",
    "library(climate4R.climdex)\n",
    "library(climate4R.indices)\n",
    "library(easyVerification)\n",
    "\n",
    "library(lattice)\n",
    "library(magrittr)\n",
    "library(gridExtra)\n",
    "library(RColorBrewer)"
   ]
  },
  {
   "cell_type": "code",
   "execution_count": 3,
   "id": "ff47d827-34f2-4a7a-ad05-cb2263df2f27",
   "metadata": {},
   "outputs": [],
   "source": [
    "# Region de estudio\n",
    "\n",
    "lon = c(-10, 5)\n",
    "lat = c(35,44)\n",
    "\n",
    "# Color\n",
    "color = colorRampPalette(rev(brewer.pal(n = 9, \"RdYlBu\")))"
   ]
  },
  {
   "cell_type": "markdown",
   "id": "15c6174f-4eb7-4646-95d8-51a596726ca6",
   "metadata": {},
   "source": [
    "## Cargo datos de temperatura media y mínima"
   ]
  },
  {
   "cell_type": "code",
   "execution_count": 8,
   "id": "e9eecc05-0534-429c-9c4b-c05270328c27",
   "metadata": {},
   "outputs": [],
   "source": [
    "# Rutas\n",
    "ruta_tmax = \"/lustre/gmeteo/PTICLIMA/DATA/OBSERVATIONS/PTI-grid-v0/data/Iberia/day/tmax_daily_grid_pen.nc\"\n",
    "ruta_tmin = \"/lustre/gmeteo/PTICLIMA/DATA/OBSERVATIONS/PTI-grid-v0/data/Iberia/day/tmin_daily_grid_pen.nc\"\n",
    "\n",
    "# Listas para guardar tmean y tmin por mes\n",
    "tmean_month = list()\n",
    "tmin_month = list()\n",
    "meses = 1:12\n",
    "\n",
    "for (m in meses) {\n",
    "\n",
    "    # Cargar tmax del mes m\n",
    "    tmax_mes = loadGridData(\n",
    "        dataset = ruta_tmax,\n",
    "        var = \"tmax\",\n",
    "        latLim = lat,\n",
    "        lonLim = lon,\n",
    "        years = 1981:2022,\n",
    "        season = m) %>% suppressMessages() %>% suppressWarnings()\n",
    "    \n",
    "    # Cargar tmin del mes m\n",
    "    tmin_mes = loadGridData(\n",
    "        dataset = ruta_tmin,\n",
    "        var = \"tmin\",\n",
    "        latLim = lat,\n",
    "        lonLim = lon,\n",
    "        years = 1981:2022,\n",
    "        season = m) %>% suppressMessages() %>% suppressWarnings()\n",
    "    \n",
    "    # Calcular tmean = (tmax + tmin) / 2\n",
    "    tmean_mes = gridArithmetics(tmax_mes, tmin_mes, operator = \"+\")\n",
    "    tmean_mes = gridArithmetics(tmean_mes, 2, operator = \"/\")\n",
    "    \n",
    "    # Guardar tmean en la lista, índice correspondiente al mes\n",
    "    tmean_month[[m]] = tmean_mes\n",
    "    \n",
    "    # Guardar tmin en la lista, índice correspondiente al mes\n",
    "    tmin_month[[m]] = tmin_mes\n",
    "    \n",
    "    # Limpiar memoria temporal\n",
    "    rm(tmax_mes, tmin_mes, tmean_mes)\n",
    "    gc()\n",
    "}"
   ]
  },
  {
   "cell_type": "code",
   "execution_count": 10,
   "id": "35698eae-6507-47ce-9541-b5730235ee76",
   "metadata": {},
   "outputs": [],
   "source": [
    "# Guardo datos en formato RDS para su posterior uso\n",
    "for (m in 1:12) {\n",
    "  saveRDS(tmean_month[[m]], file = paste0(\"tmean_month_\", m, \".rds\"))\n",
    "    saveRDS(tmin_month[[m]], file = paste0(\"tmin_month_\", m, \".rds\"))\n",
    "}"
   ]
  },
  {
   "cell_type": "markdown",
   "id": "5839afc5-2e6c-44f2-b67f-d28f8dabf322",
   "metadata": {},
   "source": [
    "## Cargo datos de humedad relativa"
   ]
  },
  {
   "cell_type": "code",
   "execution_count": 7,
   "id": "7521b6ae-02a6-443b-ae6c-9e0094991222",
   "metadata": {},
   "outputs": [],
   "source": [
    "# Ruta\n",
    "ruta_hurs = \"/lustre/gmeteo/PTICLIMA/DATA/OBSERVATIONS/PTI-grid-v0/data/Iberia/day/hr_daily_grid_pen.nc\"\n",
    "\n",
    "# Listas para guardar hurs por mes\n",
    "hurs_month = list()\n",
    "meses = 1:12\n",
    "\n",
    "for (m in meses) {\n",
    "\n",
    "    # Cargar hurs del mes m\n",
    "    hurs_mes = loadGridData(\n",
    "        dataset = ruta_hurs,\n",
    "        var = \"hr\",\n",
    "        latLim = lat,\n",
    "        lonLim = lon,\n",
    "        years = 1981:2022,\n",
    "        season = m) %>% suppressMessages() %>% suppressWarnings()\n",
    "    \n",
    "    # Guardar hurs en la lista, índice correspondiente al mes\n",
    "    hurs_month[[m]] = hurs_mes\n",
    "    \n",
    "    # Limpiar memoria temporal\n",
    "    rm(hurs_mes)\n",
    "    gc()\n",
    "}"
   ]
  },
  {
   "cell_type": "code",
   "execution_count": 8,
   "id": "18958acf-1ff9-49e3-a09d-2b151b94afe0",
   "metadata": {},
   "outputs": [],
   "source": [
    "# Guardo datos en formato RDS para su posterior uso\n",
    "for (m in 1:12) {\n",
    "  saveRDS(hurs_month[[m]], file = paste0(\"hurs_month_\", m, \".rds\"))\n",
    "}"
   ]
  },
  {
   "cell_type": "markdown",
   "id": "6499dcbd-2d4e-42a7-a948-3e4b38857364",
   "metadata": {},
   "source": [
    "## Cargo datos de precipitación"
   ]
  },
  {
   "cell_type": "code",
   "execution_count": 4,
   "id": "b88ee2b6-d781-4b89-9ab5-35d9a2381c1d",
   "metadata": {},
   "outputs": [],
   "source": [
    "# Ruta\n",
    "ruta_pr = \"/lustre/gmeteo/PTICLIMA/DATA/OBSERVATIONS/PTI-grid-v0/data/Iberia/day/pr_daily_grid_pen.nc\"\n",
    "\n",
    "# Listas para guardar hurs por mes\n",
    "pr_month = list()\n",
    "meses = 1:12\n",
    "\n",
    "for (m in meses) {\n",
    "\n",
    "    # Cargar hurs del mes m\n",
    "    pr_mes = loadGridData(\n",
    "        dataset = ruta_pr,\n",
    "        var = \"pr\",\n",
    "        latLim = lat,\n",
    "        lonLim = lon,\n",
    "        years = 1981:2022,\n",
    "        season = m) %>% suppressMessages() %>% suppressWarnings()\n",
    "    \n",
    "    # Guardar hurs en la lista, índice correspondiente al mes\n",
    "    pr_month[[m]] = pr_mes\n",
    "    \n",
    "    # Limpiar memoria temporal\n",
    "    rm(pr_mes)\n",
    "    gc()\n",
    "}"
   ]
  },
  {
   "cell_type": "code",
   "execution_count": 5,
   "id": "cc27a9cd-c816-482c-873e-b343cc06e609",
   "metadata": {},
   "outputs": [],
   "source": [
    "# Guardo datos en formato RDS para su posterior uso\n",
    "for (m in 1:12) {\n",
    "  saveRDS(pr_month[[m]], file = paste0(\"pr_month_\", m, \".rds\"))\n",
    "}"
   ]
  }
 ],
 "metadata": {
  "kernelspec": {
   "display_name": "R",
   "language": "R",
   "name": "ir"
  },
  "language_info": {
   "codemirror_mode": "r",
   "file_extension": ".r",
   "mimetype": "text/x-r-source",
   "name": "R",
   "pygments_lexer": "r",
   "version": "4.3.3"
  }
 },
 "nbformat": 4,
 "nbformat_minor": 5
}
