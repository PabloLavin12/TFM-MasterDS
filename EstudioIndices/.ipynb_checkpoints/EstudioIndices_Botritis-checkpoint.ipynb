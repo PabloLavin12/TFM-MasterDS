{
 "cells": [
  {
   "cell_type": "markdown",
   "id": "d6ff022a-9701-4d90-bb3c-314e0699b4ce",
   "metadata": {},
   "source": [
    "# Estudio de índices climáticos\n",
    "## Pablo Lavín"
   ]
  },
  {
   "cell_type": "code",
   "execution_count": 1,
   "id": "cba9dfe7-b7da-4e0e-aed6-5940b68422c9",
   "metadata": {
    "scrolled": true
   },
   "outputs": [
    {
     "name": "stderr",
     "output_type": "stream",
     "text": [
      "\n",
      "Attaching package: ‘dplyr’\n",
      "\n",
      "\n",
      "The following objects are masked from ‘package:stats’:\n",
      "\n",
      "    filter, lag\n",
      "\n",
      "\n",
      "The following objects are masked from ‘package:base’:\n",
      "\n",
      "    intersect, setdiff, setequal, union\n",
      "\n",
      "\n",
      "Loading required package: rJava\n",
      "\n",
      "Loading required package: loadeR.java\n",
      "\n",
      "Java version 23x amd64 by N/A detected\n",
      "\n",
      "NetCDF Java Library v4.6.0-SNAPSHOT (23 Apr 2015) loaded and ready\n",
      "\n",
      "Loading required package: climate4R.UDG\n",
      "\n",
      "climate4R.UDG version 0.2.6 (2023-06-26) is loaded\n",
      "\n",
      "Please use 'citation(\"climate4R.UDG\")' to cite this package.\n",
      "\n",
      "loadeR version 1.8.1 (2023-06-22) is loaded\n",
      "\n",
      "WARNING: Your current version of loadeR (v1.8.1) is not up-to-date\n",
      "\n",
      "Get the latest stable version (1.8.2) using <devtools::install_github(c('SantanderMetGroup/climate4R.UDG','SantanderMetGroup/loadeR'))>\n",
      "\n",
      "Please use 'citation(\"loadeR\")' to cite this package.\n",
      "\n"
     ]
    },
    {
     "name": "stdout",
     "output_type": "stream",
     "text": [
      "\n",
      "    _______   ____  ___________________  __  ________ \n",
      "   / ___/ /  / /  |/  / __  /_  __/ __/ / / / / __  / \n",
      "  / /  / /  / / /|_/ / /_/ / / / / __/ / /_/ / /_/_/  \n",
      " / /__/ /__/ / /  / / __  / / / / /__ /___  / / \\ \\ \n",
      " \\___/____/_/_/  /_/_/ /_/ /_/  \\___/    /_/\\/   \\_\\ \n",
      " \n",
      "      github.com/SantanderMetGroup/climate4R\n",
      "\n"
     ]
    },
    {
     "name": "stderr",
     "output_type": "stream",
     "text": [
      "transformeR version 2.2.2 (2023-10-26) is loaded\n",
      "\n",
      "WARNING: Your current version of transformeR (v2.2.2) is not up-to-date\n",
      "\n",
      "Get the latest stable version (2.2.3) using <devtools::install_github('SantanderMetGroup/transformeR')>\n",
      "\n",
      "Please see 'citation(\"transformeR\")' to cite this package.\n",
      "\n",
      "Loading required package: udunits2\n",
      "\n",
      "udunits system database read from /vols/abedul/home/meteo/lavinp/miniforge3/envs/C4R/share/udunits/udunits2.xml\n",
      "\n",
      "convertR version 0.3.0 (2025-07-31) is loaded\n",
      "\n",
      "WARNING: Your current version of convertR (v0.3.0) is ahead of the master branch version (0.2.1)\n",
      "\n",
      "Development version may have an unexpected behaviour\n",
      "\n",
      "  More information about the 'climate4R' ecosystem in: http://meteo.unican.es/climate4R\n",
      "\n",
      "\n",
      "Attaching package: ‘convertR’\n",
      "\n",
      "\n",
      "The following objects are masked from ‘package:loadeR’:\n",
      "\n",
      "    hurs2huss, huss2hurs, tdps2hurs\n",
      "\n",
      "\n",
      "visualizeR version 1.6.4 (2023-10-26) is loaded\n",
      "\n",
      "Please see 'citation(\"visualizeR\")' to cite this package.\n",
      "\n",
      "downscaleR version 3.3.4 (2023-06-22) is loaded\n",
      "\n",
      "Please use 'citation(\"downscaleR\")' to cite this package.\n",
      "\n",
      "Loading required package: climdex.pcic\n",
      "\n",
      "Loading required package: PCICt\n",
      "\n",
      "climate4R.climdex version 0.2.3 (2023-06-23) is loaded\n",
      "\n",
      "Use 'climdexShow()' for an overview of the available ETCCDI indices\n",
      "\n",
      "climate4R.indices version 0.3.1 (2023-06-22) is loaded\n",
      "\n",
      "Use 'indexShow()' for an overview of the available climate indices and circIndexShow() for the circulation indices.\n",
      "\n",
      "NOTE: use package climate4R.climdex to calculate ETCCDI indices.\n",
      "\n",
      "\n",
      "Attaching package: ‘climate4R.indices’\n",
      "\n",
      "\n",
      "The following object is masked from ‘package:transformeR’:\n",
      "\n",
      "    lambWT\n",
      "\n",
      "\n",
      "Loading required package: SpecsVerification\n",
      "\n",
      "\n",
      "Attaching package: ‘easyVerification’\n",
      "\n",
      "\n",
      "The following object is masked from ‘package:SpecsVerification’:\n",
      "\n",
      "    EnsCorr\n",
      "\n",
      "\n",
      "\n",
      "Attaching package: ‘gridExtra’\n",
      "\n",
      "\n",
      "The following object is masked from ‘package:dplyr’:\n",
      "\n",
      "    combine\n",
      "\n",
      "\n"
     ]
    }
   ],
   "source": [
    "# Cargamos paquetes\n",
    "\n",
    "library(repr)\n",
    "library(dplyr)\n",
    "\n",
    "library(abind)\n",
    "library(loadeR)\n",
    "library(transformeR)\n",
    "library(convertR)\n",
    "library(visualizeR)\n",
    "library(downscaleR)\n",
    "library(climate4R.UDG)\n",
    "library(climate4R.climdex)\n",
    "library(climate4R.indices)\n",
    "library(easyVerification)\n",
    "\n",
    "library(lattice)\n",
    "library(magrittr)\n",
    "library(grid)\n",
    "library(gridExtra)\n",
    "library(RColorBrewer)"
   ]
  },
  {
   "cell_type": "code",
   "execution_count": 2,
   "id": "6efcbcce-40b0-40f6-9248-d96d5914ab13",
   "metadata": {},
   "outputs": [],
   "source": [
    "# Region de estudio\n",
    "\n",
    "lon = c(-10, 5)\n",
    "lat = c(35,44)\n",
    "\n",
    "# Color\n",
    "color = colorRampPalette(rev(brewer.pal(n = 9, \"RdYlBu\")))"
   ]
  },
  {
   "cell_type": "markdown",
   "id": "9fae7a04-9c29-4dce-95c9-4e8d89876d09",
   "metadata": {},
   "source": [
    "## Cargo datos ERA5-Land"
   ]
  },
  {
   "cell_type": "code",
   "execution_count": 3,
   "id": "08773782-0f0b-4927-a83b-668837c7ba4b",
   "metadata": {},
   "outputs": [],
   "source": [
    "for (m in 1:12) {\n",
    "    # Temperatura media\n",
    "    assign(paste0(\"era5_tmean_\", sprintf(\"%02d\", m)),\n",
    "           readRDS(paste0(\"Data_ERA5-Land/era5_tmean_\", sprintf(\"%02d\", m), \".rds\")))\n",
    "    \n",
    "    # Humedad relativa\n",
    "    assign(paste0(\"era5_hurs_\", sprintf(\"%02d\", m)),\n",
    "           readRDS(paste0(\"Data_ERA5-Land/era5_hurs_\", sprintf(\"%02d\", m), \".rds\")))\n",
    "}"
   ]
  },
  {
   "cell_type": "markdown",
   "id": "d6148b35-87e6-40ac-8f48-9dd41e04cc66",
   "metadata": {},
   "source": [
    "## Cargo datos PTI"
   ]
  },
  {
   "cell_type": "code",
   "execution_count": 4,
   "id": "fdfc0b41-cca3-4b2d-900d-46932a855a8f",
   "metadata": {},
   "outputs": [],
   "source": [
    "for (m in 1:12) {\n",
    "    # Temperatura media\n",
    "    assign(paste0(\"pti_tmean_\", sprintf(\"%02d\", m)),\n",
    "           readRDS(paste0(\"Data_PTI-v0/pti_tmean_\", sprintf(\"%02d\", m), \".rds\")))\n",
    "    \n",
    "    # Humedad relativa\n",
    "    assign(paste0(\"pti_hurs_\", sprintf(\"%02d\", m)),\n",
    "           readRDS(paste0(\"Data_PTI-v0/pti_hurs_\", sprintf(\"%02d\", m), \".rds\")))\n",
    "}"
   ]
  },
  {
   "cell_type": "markdown",
   "id": "f86afa7e-f9ba-4b47-9a03-9fa10cb0c349",
   "metadata": {
    "jp-MarkdownHeadingCollapsed": true
   },
   "source": [
    "## Máscara para los datos"
   ]
  },
  {
   "cell_type": "code",
   "execution_count": 5,
   "id": "decaca1e-794e-42f2-89cf-c91b0cdec80a",
   "metadata": {},
   "outputs": [],
   "source": [
    "## Calculo el número de días que tmax > 22 grados (solo para la estructura del grid)\n",
    "nd_obs = indexGrid(tx = era5_hurs_01, index.code = \"TXth\", th = 22) %>% suppressMessages %>% suppressWarnings\n",
    "\n",
    "## Máscara de tierra de ERA5 (es una variable más del propio reanális):\n",
    "## Valores continuos entre 0 (no hay nada de tierra en ese gridbox) y 1 (todo el gridbox es tierra)\n",
    "mask = loadGridData(\"/lustre/gmeteo/PTICLIMA/DATA/REANALYSIS/ERA5/lsm/lsm_era5.nc\", var = \"lsm\") %>% suppressMessages %>% suppressWarnings\n",
    "\n",
    "## Binarizo la máscara: Considero que todos los gridboxes con un valor por encima (debajo) de 0.5 son de tierra (mar)\n",
    "mask.bin = binaryGrid(mask, condition = \"GE\", threshold = 0.5, values = c(NA, 1))\n",
    "\n",
    "## Hago el upscaling como hice con los datos de ERA5 a la resolución de 1º del modelo\n",
    "mask_upscaled = interpGrid(mask.bin,\n",
    "                           new.coordinates = getGrid(era5_tmean_01),\n",
    "                           method = \"bilinear\") %>% suppressMessages %>% suppressWarnings\n",
    "\n",
    "## Apoyándome en la máscara binaria, me quedo únicamente con los datos en tierra y descarto el mar\n",
    "mask.bin.spain = subsetGrid(mask_upscaled, lonLim = c(-10, 5), latLim = c(35, 44))\n",
    "mask.bin.spain$Data = aperm(replicate(getShape(nd_obs)[\"time\"], mask.bin.spain$Data, simplify = \"array\"), c(3, 1, 2))\n",
    "attributes(mask.bin.spain$Data)$dimensions = c(\"time\", \"lat\", \"lon\")"
   ]
  },
  {
   "cell_type": "markdown",
   "id": "5a28c556-e522-47c2-9645-b59a730b0a85",
   "metadata": {
    "jp-MarkdownHeadingCollapsed": true
   },
   "source": [
    "## Funciones auxiliares"
   ]
  },
  {
   "cell_type": "code",
   "execution_count": 7,
   "id": "0ec08d3c-f1fc-4ec5-9a9a-d7c78dea6278",
   "metadata": {},
   "outputs": [],
   "source": [
    "# Calcula la media anual de días que cumplen una condición conjunta de temperatura\n",
    "# y humedad relativa a partir de datos diarios.\n",
    "#\n",
    "# Esta función se utilizado para datos de observaciones con dimeniones [time, lat, lon]\n",
    "#\n",
    "# @param tas_obs Lista con los datos diarios de temperatura y su información asociada.\n",
    "# @param hr_obs Lista con los datos diarios de humedad relativa y su información asociada.\n",
    "# @param temp_thresh Umbral de temperatura (por defecto 25 ºC).\n",
    "# @param hr_min Humedad relativa mínima (por defecto 60%).\n",
    "# @param hr_max Humedad relativa máxima (por defecto 80%).\n",
    "# @param land_mask Matriz binaria para aplicar máscara geográfica (NULL por defecto).\n",
    "#\n",
    "# @return Lista tipo \"grid\" con la media anual de días que cumplen la condición.\n",
    "#\n",
    "\n",
    "compute_masked_obs = function(tas_obs, hr_obs, temp_thresh = 25, hr_min = 60, hr_max = 80) {\n",
    "    \n",
    "    # Vector de fechas diarias\n",
    "    dates = as.Date(tas_obs$Dates$start)\n",
    "    years = factor(format(dates, \"%Y\"))\n",
    "    unique_years = levels(years)\n",
    "    n_years = length(unique_years)\n",
    "    nlat = dim(tas_obs$Data)[2]\n",
    "    nlon = dim(tas_obs$Data)[3]\n",
    "    \n",
    "    # Condición conjunta: tas > temp_thresh y hr_min <= hr <= hr_max\n",
    "    mask = (tas_obs$Data > temp_thresh) & (hr_obs$Data >= hr_min & hr_obs$Data <= hr_max)\n",
    "    \n",
    "    # Array [time(year), lat, lon]\n",
    "    annual_days = array(NA, dim = c(n_years, nlat, nlon))\n",
    "    \n",
    "    for (y in 1:n_years) {\n",
    "        idx = which(years == unique_years[y])\n",
    "        annual_days[y,,] = apply(mask[idx,,], c(2,3), sum, na.rm = TRUE)\n",
    "    }\n",
    "    \n",
    "    # Reconstruyo el grid\n",
    "    grid = list()\n",
    "    grid$Data = annual_days\n",
    "    attr(grid$Data, \"dimensions\") = c(\"time\", \"lat\", \"lon\")\n",
    "    grid$xyCoords = tas_obs$xyCoords\n",
    "    grid$Variable = tas_obs$Variable\n",
    "    grid$Dates = tas_obs$Dates\n",
    "    class(grid) = \"grid\"\n",
    "    \n",
    "    # Aplico la máscara de los datos\n",
    "    grid = gridArithmetics(grid, mask.bin.spain, operator = \"*\")\n",
    "    \n",
    "    return(grid)\n",
    "}"
   ]
  },
  {
   "cell_type": "markdown",
   "id": "4ce059a9-a1df-410a-8cfe-41cc35cd3575",
   "metadata": {},
   "source": [
    "## Riesgo botritis (Nº días con Tmed > 15ºC y HR > 80%)"
   ]
  },
  {
   "cell_type": "markdown",
   "id": "a693283a-d82a-4e8b-a481-e952ab26a315",
   "metadata": {},
   "source": [
    "### ERA5-Land"
   ]
  },
  {
   "cell_type": "code",
   "execution_count": 8,
   "id": "aed7247c-6264-4e4d-ace4-d61a81e39e0d",
   "metadata": {},
   "outputs": [],
   "source": [
    "for (i in 1:12) {\n",
    "    mes = sprintf(\"%02d\", i)\n",
    "  \n",
    "    # Construyo los nombres de las variables de entrada\n",
    "    tmean_var = get(paste0(\"era5_tmean_\", mes))\n",
    "    hr_var   = get(paste0(\"era5_hurs_\", mes))\n",
    "  \n",
    "    # Aplico la máscara y la guardo con el sufijo\n",
    "    assign(paste0(\"grid_masked_\", mes),\n",
    "           compute_masked_obs(tmean_var, hr_var,\n",
    "                              temp_thresh = 15,\n",
    "                              hr_min = 80,\n",
    "                              hr_max = 100))\n",
    "  \n",
    "    # Recupero el objeto recién creado\n",
    "    grid_masked_obs = get(paste0(\"grid_masked_\", mes))\n",
    "    \n",
    "    # Representación y guardado con sufijo\n",
    "    assign(paste0(\"nd_obs_era5_\", mes), spatialPlot(\n",
    "        climatology(grid_masked_obs), backdrop.theme = \"countries\",\n",
    "        main = paste(\"Mes\", mes), col.regions = color, at = seq(0, 31, 0.1)) %>% suppressMessages %>% suppressWarnings)\n",
    "}"
   ]
  },
  {
   "cell_type": "code",
   "execution_count": 9,
   "id": "d85b15d1-af53-4d75-b7b8-207edda956e6",
   "metadata": {},
   "outputs": [
    {
     "data": {
      "text/html": [
       "<strong>pdf:</strong> 2"
      ],
      "text/latex": [
       "\\textbf{pdf:} 2"
      ],
      "text/markdown": [
       "**pdf:** 2"
      ],
      "text/plain": [
       "pdf \n",
       "  2 "
      ]
     },
     "metadata": {},
     "output_type": "display_data"
    }
   ],
   "source": [
    "png(\"ndays_riesgo_botritis_era5Land_vid.png\", width = 2000, height = 1000, res = 150)\n",
    "\n",
    "# Recojo todos los plots \n",
    "plots = mget(paste0(\"nd_obs_era5_\", sprintf(\"%02d\", 1:12)))\n",
    "\n",
    "# Organizo en grid\n",
    "grid.arrange(grobs = plots, ncol = 4,\n",
    "             top   = textGrob(\"Número de días de riesgo de botritis (ERA5-Land)\",\n",
    "                              gp = gpar(fontsize = 16, fontface = \"bold\")))\n",
    "\n",
    "dev.off()"
   ]
  },
  {
   "cell_type": "markdown",
   "id": "fb63a8cb-7cf7-4e74-952a-d36eadbca8b3",
   "metadata": {},
   "source": [
    "### PTI-grid-v0"
   ]
  },
  {
   "cell_type": "code",
   "execution_count": 10,
   "id": "c706c5d1-90c8-4859-928c-be2a177faeaa",
   "metadata": {},
   "outputs": [],
   "source": [
    "for (i in 1:12) {\n",
    "    mes = sprintf(\"%02d\", i)\n",
    "  \n",
    "    # Construyo los nombres de las variables de entrada\n",
    "    tmean_var = get(paste0(\"pti_tmean_\", mes))\n",
    "    hr_var   = get(paste0(\"pti_hurs_\", mes))\n",
    "  \n",
    "    # Aplico la máscara y la guardo con el sufijo\n",
    "    assign(paste0(\"grid_masked_\", mes),\n",
    "           compute_masked_obs(tmean_var, hr_var,\n",
    "                              temp_thresh = 15,\n",
    "                              hr_min = 80,\n",
    "                              hr_max = 100))\n",
    "  \n",
    "    # Recupero el objeto recién creado\n",
    "    grid_masked_obs = get(paste0(\"grid_masked_\", mes))\n",
    "    \n",
    "    # Representación y guardado con sufijo\n",
    "    assign(paste0(\"nd_obs_pti_\", mes), spatialPlot(\n",
    "        climatology(grid_masked_obs), backdrop.theme = \"countries\",\n",
    "        main = paste(\"Mes\", mes), col.regions = color, at = seq(0, 31, 0.1)) %>% suppressMessages %>% suppressWarnings)\n",
    "}"
   ]
  },
  {
   "cell_type": "code",
   "execution_count": 11,
   "id": "bbb1337d-59cf-4e92-aba2-ba14b32eead7",
   "metadata": {},
   "outputs": [
    {
     "data": {
      "text/html": [
       "<strong>pdf:</strong> 2"
      ],
      "text/latex": [
       "\\textbf{pdf:} 2"
      ],
      "text/markdown": [
       "**pdf:** 2"
      ],
      "text/plain": [
       "pdf \n",
       "  2 "
      ]
     },
     "metadata": {},
     "output_type": "display_data"
    }
   ],
   "source": [
    "png(\"ndays_riesgo_botritis_ptiv0_vid.png\", width = 2000, height = 1000, res = 150)\n",
    "\n",
    "# Recojo todos los plots \n",
    "plots = mget(paste0(\"nd_obs_pti_\", sprintf(\"%02d\", 1:12)))\n",
    "\n",
    "# Organizo en grid\n",
    "grid.arrange(grobs = plots, ncol = 4,\n",
    "             top   = textGrob(\"Número de días de riesgo de botritis (PTI-grid-v0)\",\n",
    "                              gp = gpar(fontsize = 16, fontface = \"bold\")))\n",
    "\n",
    "dev.off()"
   ]
  }
 ],
 "metadata": {
  "kernelspec": {
   "display_name": "R",
   "language": "R",
   "name": "ir"
  },
  "language_info": {
   "codemirror_mode": "r",
   "file_extension": ".r",
   "mimetype": "text/x-r-source",
   "name": "R",
   "pygments_lexer": "r",
   "version": "4.3.3"
  }
 },
 "nbformat": 4,
 "nbformat_minor": 5
}
