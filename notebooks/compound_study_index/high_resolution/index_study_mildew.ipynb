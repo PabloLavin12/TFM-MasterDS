{
 "cells": [
  {
   "cell_type": "markdown",
   "id": "d6ff022a-9701-4d90-bb3c-314e0699b4ce",
   "metadata": {},
   "source": [
    "# Estudio índices climáticos (Mildiu Vid)\n",
    "## Pablo Lavín\n",
    "## TFM - Master Ciencia de Datos (UC-UIMP)\n",
    "## Beca JAE Intro ICU 2025\n",
    "## Septiembre 2025 - Junio 2026"
   ]
  },
  {
   "cell_type": "markdown",
   "id": "c0aeb4f1-755b-4048-bd4a-0ddbb8f00b78",
   "metadata": {},
   "source": [
    "En este notebook se realiza una intercomparación entre las observaciones de PTI-grid-v0 y del reanálisis ERA5-Land durante el periodo 1981–2021.\n",
    "\n",
    "Los datos de temperatura se convierten en índices, en este caso, un índice compuesto de temperatura mínima (número de días por debajo una temperatura umbral) y de precipitación, con el objetivo de estudiar el riesgo de aparición de mildiu, un tipo de epidemia que afecta a la vid, y es crítica durante los meses de floración (mayo a junio).\n",
    "\n",
    "Se incluyen métricas de sesgo, correlación, RMSE y ratio de varianzas."
   ]
  },
  {
   "cell_type": "markdown",
   "id": "27dc443c-dd7c-4861-ab5f-f021781da854",
   "metadata": {},
   "source": [
    "## Configuración"
   ]
  },
  {
   "cell_type": "code",
   "execution_count": 1,
   "id": "cba9dfe7-b7da-4e0e-aed6-5940b68422c9",
   "metadata": {
    "scrolled": true
   },
   "outputs": [
    {
     "name": "stderr",
     "output_type": "stream",
     "text": [
      "\n",
      "Attaching package: ‘dplyr’\n",
      "\n",
      "\n",
      "The following objects are masked from ‘package:stats’:\n",
      "\n",
      "    filter, lag\n",
      "\n",
      "\n",
      "The following objects are masked from ‘package:base’:\n",
      "\n",
      "    intersect, setdiff, setequal, union\n",
      "\n",
      "\n",
      "Type 'citation(\"pROC\")' for a citation.\n",
      "\n",
      "\n",
      "Attaching package: ‘pROC’\n",
      "\n",
      "\n",
      "The following objects are masked from ‘package:stats’:\n",
      "\n",
      "    cov, smooth, var\n",
      "\n",
      "\n",
      "Loading required package: rJava\n",
      "\n",
      "Loading required package: loadeR.java\n",
      "\n",
      "Java version 23x amd64 by N/A detected\n",
      "\n",
      "NetCDF Java Library v4.6.0-SNAPSHOT (23 Apr 2015) loaded and ready\n",
      "\n",
      "Loading required package: climate4R.UDG\n",
      "\n",
      "climate4R.UDG version 0.2.6 (2023-06-26) is loaded\n",
      "\n",
      "Please use 'citation(\"climate4R.UDG\")' to cite this package.\n",
      "\n",
      "loadeR version 1.8.1 (2023-06-22) is loaded\n",
      "\n",
      "WARNING: Your current version of loadeR (v1.8.1) is not up-to-date\n",
      "\n",
      "Get the latest stable version (1.8.2) using <devtools::install_github(c('SantanderMetGroup/climate4R.UDG','SantanderMetGroup/loadeR'))>\n",
      "\n",
      "Please use 'citation(\"loadeR\")' to cite this package.\n",
      "\n"
     ]
    },
    {
     "name": "stdout",
     "output_type": "stream",
     "text": [
      "\n",
      "    _______   ____  ___________________  __  ________ \n",
      "   / ___/ /  / /  |/  / __  /_  __/ __/ / / / / __  / \n",
      "  / /  / /  / / /|_/ / /_/ / / / / __/ / /_/ / /_/_/  \n",
      " / /__/ /__/ / /  / / __  / / / / /__ /___  / / \\ \\ \n",
      " \\___/____/_/_/  /_/_/ /_/ /_/  \\___/    /_/\\/   \\_\\ \n",
      " \n",
      "      github.com/SantanderMetGroup/climate4R\n",
      "\n"
     ]
    },
    {
     "name": "stderr",
     "output_type": "stream",
     "text": [
      "transformeR version 2.2.2 (2023-10-26) is loaded\n",
      "\n",
      "WARNING: Your current version of transformeR (v2.2.2) is not up-to-date\n",
      "\n",
      "Get the latest stable version (2.2.3) using <devtools::install_github('SantanderMetGroup/transformeR')>\n",
      "\n",
      "Please see 'citation(\"transformeR\")' to cite this package.\n",
      "\n",
      "Loading required package: udunits2\n",
      "\n",
      "udunits system database read from /vols/abedul/home/meteo/lavinp/miniforge3/envs/C4R/share/udunits/udunits2.xml\n",
      "\n",
      "convertR version 0.3.0 (2025-07-31) is loaded\n",
      "\n",
      "WARNING: Your current version of convertR (v0.3.0) is ahead of the master branch version (0.2.1)\n",
      "\n",
      "Development version may have an unexpected behaviour\n",
      "\n",
      "  More information about the 'climate4R' ecosystem in: http://meteo.unican.es/climate4R\n",
      "\n",
      "\n",
      "Attaching package: ‘convertR’\n",
      "\n",
      "\n",
      "The following objects are masked from ‘package:loadeR’:\n",
      "\n",
      "    hurs2huss, huss2hurs, tdps2hurs\n",
      "\n",
      "\n",
      "Registered S3 method overwritten by 'verification':\n",
      "  method    from\n",
      "  lines.roc pROC\n",
      "\n",
      "visualizeR version 1.6.4 (2023-10-26) is loaded\n",
      "\n",
      "Please see 'citation(\"visualizeR\")' to cite this package.\n",
      "\n",
      "downscaleR version 3.3.4 (2023-06-22) is loaded\n",
      "\n",
      "Please use 'citation(\"downscaleR\")' to cite this package.\n",
      "\n",
      "Loading required package: climdex.pcic\n",
      "\n",
      "Loading required package: PCICt\n",
      "\n",
      "climate4R.climdex version 0.2.3 (2023-06-23) is loaded\n",
      "\n",
      "Use 'climdexShow()' for an overview of the available ETCCDI indices\n",
      "\n",
      "climate4R.indices version 0.3.1 (2023-06-22) is loaded\n",
      "\n",
      "Use 'indexShow()' for an overview of the available climate indices and circIndexShow() for the circulation indices.\n",
      "\n",
      "NOTE: use package climate4R.climdex to calculate ETCCDI indices.\n",
      "\n",
      "\n",
      "Attaching package: ‘climate4R.indices’\n",
      "\n",
      "\n",
      "The following object is masked from ‘package:transformeR’:\n",
      "\n",
      "    lambWT\n",
      "\n",
      "\n",
      "Loading required package: SpecsVerification\n",
      "\n",
      "\n",
      "Attaching package: ‘easyVerification’\n",
      "\n",
      "\n",
      "The following object is masked from ‘package:SpecsVerification’:\n",
      "\n",
      "    EnsCorr\n",
      "\n",
      "\n",
      "\n",
      "Attaching package: ‘gridExtra’\n",
      "\n",
      "\n",
      "The following object is masked from ‘package:dplyr’:\n",
      "\n",
      "    combine\n",
      "\n",
      "\n"
     ]
    }
   ],
   "source": [
    "# Cargamos paquetes\n",
    "source(\"../../../scripts/setup_libraries.R\")\n",
    "source(\"../../../scripts/load_bc_functions.R\")"
   ]
  },
  {
   "cell_type": "code",
   "execution_count": 2,
   "id": "6efcbcce-40b0-40f6-9248-d96d5914ab13",
   "metadata": {},
   "outputs": [],
   "source": [
    "# Region de estudio\n",
    "\n",
    "lon = c(-10, 5)\n",
    "lat = c(35,44)\n",
    "\n",
    "# Color\n",
    "color = colorRampPalette(rev(brewer.pal(n = 9, \"RdYlBu\")))"
   ]
  },
  {
   "cell_type": "markdown",
   "id": "9fae7a04-9c29-4dce-95c9-4e8d89876d09",
   "metadata": {},
   "source": [
    "## Cargo datos ERA5-Land"
   ]
  },
  {
   "cell_type": "code",
   "execution_count": 3,
   "id": "08773782-0f0b-4927-a83b-668837c7ba4b",
   "metadata": {},
   "outputs": [],
   "source": [
    "for (m in 1:12) {\n",
    "    # Temperatura mínima\n",
    "    assign(paste0(\"era5_tmin_\", sprintf(\"%02d\", m)),\n",
    "           readRDS(paste0(\"../../../data/compound_study_index/high_resolution/era5_land_data/era5_tmin_\", sprintf(\"%02d\", m), \".rds\")))\n",
    "\n",
    "    # Precipitación\n",
    "    assign(paste0(\"era5_pr_\", sprintf(\"%02d\", m)),\n",
    "           readRDS(paste0(\"../../../data/compound_study_index/high_resolution/era5_land_data/era5_pr_\", sprintf(\"%02d\", m), \".rds\")))\n",
    "}"
   ]
  },
  {
   "cell_type": "markdown",
   "id": "d6148b35-87e6-40ac-8f48-9dd41e04cc66",
   "metadata": {},
   "source": [
    "## Cargo datos PTI"
   ]
  },
  {
   "cell_type": "code",
   "execution_count": 4,
   "id": "fdfc0b41-cca3-4b2d-900d-46932a855a8f",
   "metadata": {},
   "outputs": [],
   "source": [
    "for (m in 1:12) {\n",
    "    # Temperatura mínima\n",
    "    assign(paste0(\"pti_tmin_\", sprintf(\"%02d\", m)),\n",
    "           readRDS(paste0(\"../../../data/compound_study_index/high_resolution/pti_v0_data/pti_tmin_\", sprintf(\"%02d\", m), \".rds\")))\n",
    "\n",
    "    # Precipitación\n",
    "    assign(paste0(\"pti_pr_\", sprintf(\"%02d\", m)),\n",
    "           readRDS(paste0(\"../../../data/compound_study_index/high_resolution/pti_v0_data/pti_pr_\", sprintf(\"%02d\", m), \".rds\")))\n",
    "}"
   ]
  },
  {
   "cell_type": "markdown",
   "id": "f86afa7e-f9ba-4b47-9a03-9fa10cb0c349",
   "metadata": {
    "jp-MarkdownHeadingCollapsed": true
   },
   "source": [
    "## Máscara para los datos"
   ]
  },
  {
   "cell_type": "code",
   "execution_count": 7,
   "id": "decaca1e-794e-42f2-89cf-c91b0cdec80a",
   "metadata": {},
   "outputs": [],
   "source": [
    "## Calculo el número de días que tmax > 22 grados (solo para la estructura del grid)\n",
    "nd_obs = indexGrid(tx = era5_tmin_01, index.code = \"TXth\", th = 22) %>% suppressMessages %>% suppressWarnings\n",
    "\n",
    "## Máscara de tierra de ERA5 (es una variable más del propio reanális):\n",
    "## Valores continuos entre 0 (no hay nada de tierra en ese gridbox) y 1 (todo el gridbox es tierra)\n",
    "mask = loadGridData(\"/lustre/gmeteo/PTICLIMA/DATA/REANALYSIS/ERA5/lsm/lsm_era5.nc\", var = \"lsm\") %>% suppressMessages %>% suppressWarnings\n",
    "\n",
    "## Binarizo la máscara: Considero que todos los gridboxes con un valor por encima (debajo) de 0.5 son de tierra (mar)\n",
    "mask.bin = binaryGrid(mask, condition = \"GE\", threshold = 0.5, values = c(NA, 1))\n",
    "\n",
    "## Hago el upscaling como hice con los datos de ERA5 a la resolución de 1º del modelo\n",
    "mask_upscaled = interpGrid(mask.bin,\n",
    "                           new.coordinates = getGrid(era5_tmin_01),\n",
    "                           method = \"bilinear\") %>% suppressMessages %>% suppressWarnings\n",
    "\n",
    "## Apoyándome en la máscara binaria, me quedo únicamente con los datos en tierra y descarto el mar\n",
    "mask.bin.spain = subsetGrid(mask_upscaled, lonLim = c(-10, 5), latLim = c(35, 44))\n",
    "mask.bin.spain$Data = aperm(replicate(getShape(nd_obs)[\"time\"], mask.bin.spain$Data, simplify = \"array\"), c(3, 1, 2))\n",
    "attributes(mask.bin.spain$Data)$dimensions = c(\"time\", \"lat\", \"lon\")"
   ]
  },
  {
   "cell_type": "markdown",
   "id": "5a28c556-e522-47c2-9645-b59a730b0a85",
   "metadata": {
    "jp-MarkdownHeadingCollapsed": true
   },
   "source": [
    "## Funciones auxiliares"
   ]
  },
  {
   "cell_type": "code",
   "execution_count": 8,
   "id": "0ec08d3c-f1fc-4ec5-9a9a-d7c78dea6278",
   "metadata": {},
   "outputs": [],
   "source": [
    "# Calcula la media anual de días que cumplen una condición conjunta de temperatura\n",
    "# y humedad relativa a partir de datos diarios.\n",
    "#\n",
    "# Esta función se utilizado para datos de observaciones con dimeniones [time, lat, lon]\n",
    "#\n",
    "# @param tas_obs Lista con los datos diarios de temperatura y su información asociada.\n",
    "# @param pr_obs Lista con los datos diarios de precipitación y su información asociada.\n",
    "# @param temp_thresh Umbral de temperatura (por defecto 10 ºC).\n",
    "# @param pr_thresh Umbral de precipitación (por defecto 10 mm).\n",
    "#\n",
    "# @return Lista tipo \"grid\" con la media anual de días que cumplen la condición.\n",
    "#\n",
    "\n",
    "compute_masked_obs = function(tas_obs, pr_obs, temp_thresh = 10, pr_thresh = 10) {\n",
    "    \n",
    "    # Vector de fechas diarias\n",
    "    dates = as.Date(tas_obs$Dates$start)\n",
    "    years = factor(format(dates, \"%Y\"))\n",
    "    unique_years = levels(years)\n",
    "    n_years = length(unique_years)\n",
    "    nlat = dim(tas_obs$Data)[2]\n",
    "    nlon = dim(tas_obs$Data)[3]\n",
    "    \n",
    "    # Condición conjunta: tas > temp_thresh y pr > pr_thresh\n",
    "    mask = (tas_obs$Data > temp_thresh) & (pr_obs$Data >= pr_thresh)\n",
    "    \n",
    "    # Array [time(year), lat, lon]\n",
    "    annual_days = array(NA, dim = c(n_years, nlat, nlon))\n",
    "    \n",
    "    for (y in 1:n_years) {\n",
    "        idx = which(years == unique_years[y])\n",
    "        annual_days[y,,] = apply(mask[idx,,], c(2,3), sum, na.rm = TRUE)\n",
    "    }\n",
    "    \n",
    "    # Reconstruyo el grid\n",
    "    grid = list()\n",
    "    grid$Data = annual_days\n",
    "    attr(grid$Data, \"dimensions\") = c(\"time\", \"lat\", \"lon\")\n",
    "    grid$xyCoords = tas_obs$xyCoords\n",
    "    grid$Variable = tas_obs$Variable\n",
    "    grid$Dates = tas_obs$Dates\n",
    "    class(grid) = \"grid\"\n",
    "    \n",
    "    # Aplico la máscara de los datos\n",
    "    grid = gridArithmetics(grid, mask.bin.spain, operator = \"*\")\n",
    "    \n",
    "    return(grid)\n",
    "}"
   ]
  },
  {
   "cell_type": "markdown",
   "id": "ab7a40e6-32b5-418b-b47e-cfb4e06764b2",
   "metadata": {
    "jp-MarkdownHeadingCollapsed": true
   },
   "source": [
    "## Valores medio de las variables por mes"
   ]
  },
  {
   "cell_type": "markdown",
   "id": "cc5a515e-f988-45ce-9a08-33c89f964d6e",
   "metadata": {},
   "source": [
    "### ERA5-Land"
   ]
  },
  {
   "cell_type": "code",
   "execution_count": null,
   "id": "a02d9b1d-60ca-4b53-afa0-f7c7dd1fa5d2",
   "metadata": {},
   "outputs": [],
   "source": [
    "for (i in 1:12) {\n",
    "    mes = sprintf(\"%02d\", i)\n",
    "  \n",
    "    # Construyo los nombres de las variables de entrada\n",
    "    var = get(paste0(\"era5_tmin_\", mes))\n",
    "    \n",
    "    # Representación y guardado con sufijo\n",
    "    assign(paste0(\"tmin_era5_\", mes), spatialPlot(\n",
    "        climatology(var), backdrop.theme = \"countries\",\n",
    "        main = paste(\"Mes\", mes), col.regions = color, at = seq(-10, 25, 0.1)) %>% suppressMessages %>% suppressWarnings)\n",
    "}\n",
    "\n",
    "png(\"tmin_era5Land_vid.png\", width = 2000, height = 1000, res = 150)\n",
    "\n",
    "# Recojo todos los plots \n",
    "plots = mget(paste0(\"tmin_era5_\", sprintf(\"%02d\", 1:12)))\n",
    "\n",
    "# Organizo en grid\n",
    "grid.arrange(grobs = plots, ncol = 4,\n",
    "             top   = textGrob(\"Temperatura mínima media (1981-2021) (ERA5-Land)\",\n",
    "                              gp = gpar(fontsize = 16, fontface = \"bold\")))\n",
    "\n",
    "dev.off()"
   ]
  },
  {
   "cell_type": "code",
   "execution_count": null,
   "id": "8cb06ced-86b9-435c-95f6-0ea592b7f02e",
   "metadata": {},
   "outputs": [],
   "source": [
    "for (i in 1:12) {\n",
    "    mes = sprintf(\"%02d\", i)\n",
    "  \n",
    "    # Construyo los nombres de las variables de entrada\n",
    "    var = get(paste0(\"era5_pr_\", mes))\n",
    "    \n",
    "    # Representación y guardado con sufijo\n",
    "    assign(paste0(\"pr_era5_\", mes), spatialPlot(\n",
    "        climatology(var), backdrop.theme = \"countries\",\n",
    "        main = paste(\"Mes\", mes), col.regions = color, at = seq(0, 15, 0.1)) %>% suppressMessages %>% suppressWarnings)\n",
    "}\n",
    "\n",
    "png(\"pr_era5Land_vid.png\", width = 2000, height = 1000, res = 150)\n",
    "\n",
    "# Recojo todos los plots \n",
    "plots = mget(paste0(\"pr_era5_\", sprintf(\"%02d\", 1:12)))\n",
    "\n",
    "# Organizo en grid\n",
    "grid.arrange(grobs = plots, ncol = 4,\n",
    "             top   = textGrob(\"Precipitación media (1981-2021) (ERA5-Land)\",\n",
    "                              gp = gpar(fontsize = 16, fontface = \"bold\")))\n",
    "\n",
    "dev.off()"
   ]
  },
  {
   "cell_type": "markdown",
   "id": "84d86289-da9e-49fd-9a57-650a0b439f2f",
   "metadata": {},
   "source": [
    "### PTI-grid-v0"
   ]
  },
  {
   "cell_type": "code",
   "execution_count": null,
   "id": "3f8f3ebd-fe20-4800-be09-cfafd8417f96",
   "metadata": {},
   "outputs": [],
   "source": [
    "for (i in 1:12) {\n",
    "    mes = sprintf(\"%02d\", i)\n",
    "  \n",
    "    # Construyo los nombres de las variables de entrada\n",
    "    var = get(paste0(\"pti_tmin_\", mes))\n",
    "    \n",
    "    # Representación y guardado con sufijo\n",
    "    assign(paste0(\"tmin_pti_\", mes), spatialPlot(\n",
    "        climatology(var), backdrop.theme = \"countries\",\n",
    "        main = paste(\"Mes\", mes), col.regions = color, at = seq(-10, 25, 0.1)) %>% suppressMessages %>% suppressWarnings)\n",
    "}\n",
    "\n",
    "png(\"tmin_pti_vid.png\", width = 2000, height = 1000, res = 150)\n",
    "\n",
    "# Recojo todos los plots \n",
    "plots = mget(paste0(\"tmin_pti_\", sprintf(\"%02d\", 1:12)))\n",
    "\n",
    "# Organizo en grid\n",
    "grid.arrange(grobs = plots, ncol = 4,\n",
    "             top   = textGrob(\"Temperatura mínima media (1981-2021) (PTI-grid-v0)\",\n",
    "                              gp = gpar(fontsize = 16, fontface = \"bold\")))\n",
    "\n",
    "dev.off()"
   ]
  },
  {
   "cell_type": "code",
   "execution_count": null,
   "id": "8abde0ad-3fba-453e-863c-37ae63113d9c",
   "metadata": {},
   "outputs": [],
   "source": [
    "for (i in 1:12) {\n",
    "    mes = sprintf(\"%02d\", i)\n",
    "  \n",
    "    # Construyo los nombres de las variables de entrada\n",
    "    var = get(paste0(\"pti_pr_\", mes))\n",
    "    \n",
    "    # Representación y guardado con sufijo\n",
    "    assign(paste0(\"pr_pti_\", mes), spatialPlot(\n",
    "        climatology(var), backdrop.theme = \"countries\",\n",
    "        main = paste(\"Mes\", mes), col.regions = color, at = seq(0, 15, 0.1)) %>% suppressMessages %>% suppressWarnings)\n",
    "}\n",
    "\n",
    "png(\"pr_pti_vid.png\", width = 2000, height = 1000, res = 150)\n",
    "\n",
    "# Recojo todos los plots \n",
    "plots = mget(paste0(\"pr_pti_\", sprintf(\"%02d\", 1:12)))\n",
    "\n",
    "# Organizo en grid\n",
    "grid.arrange(grobs = plots, ncol = 4,\n",
    "             top   = textGrob(\"Precipitación media (1981-2021) (PTI-grid-v0)\",\n",
    "                              gp = gpar(fontsize = 16, fontface = \"bold\")))\n",
    "\n",
    "dev.off()"
   ]
  },
  {
   "cell_type": "markdown",
   "id": "4ce059a9-a1df-410a-8cfe-41cc35cd3575",
   "metadata": {
    "jp-MarkdownHeadingCollapsed": true
   },
   "source": [
    "## Riesgo aparición mildiu (Nº días con Tmin > 10ºC y PR > 10)"
   ]
  },
  {
   "cell_type": "markdown",
   "id": "a693283a-d82a-4e8b-a481-e952ab26a315",
   "metadata": {},
   "source": [
    "### ERA5-Land"
   ]
  },
  {
   "cell_type": "code",
   "execution_count": 12,
   "id": "aed7247c-6264-4e4d-ace4-d61a81e39e0d",
   "metadata": {},
   "outputs": [],
   "source": [
    "for (i in 1:12) {\n",
    "    mes = sprintf(\"%02d\", i)\n",
    "  \n",
    "    # Construyo los nombres de las variables de entrada\n",
    "    tmin_var = get(paste0(\"era5_tmin_\", mes))\n",
    "    pr_var   = get(paste0(\"era5_pr_\", mes))\n",
    "  \n",
    "    # Aplico la máscara y la guardo con el sufijo\n",
    "    assign(paste0(\"grid_masked_\", mes),\n",
    "           compute_masked_obs(tmin_var, pr_var,\n",
    "                              temp_thresh = 10,\n",
    "                              pr_thresh   = 10))\n",
    "  \n",
    "    # Recupero el objeto recién creado\n",
    "    grid_masked_obs = get(paste0(\"grid_masked_\", mes))\n",
    "    assign(paste0(\"grid_masked_era5_\", mes), grid_masked_obs)\n",
    "    \n",
    "    # Representación y guardado con sufijo\n",
    "    assign(paste0(\"nd_obs_era5_\", mes), spatialPlot(\n",
    "        climatology(grid_masked_obs), backdrop.theme = \"countries\",\n",
    "        main = paste(\"Mes\", mes), col.regions = color, at = seq(0, 31, 0.1)) %>% suppressMessages %>% suppressWarnings)\n",
    "}"
   ]
  },
  {
   "cell_type": "code",
   "execution_count": 8,
   "id": "d85b15d1-af53-4d75-b7b8-207edda956e6",
   "metadata": {},
   "outputs": [
    {
     "data": {
      "text/html": [
       "<strong>pdf:</strong> 2"
      ],
      "text/latex": [
       "\\textbf{pdf:} 2"
      ],
      "text/markdown": [
       "**pdf:** 2"
      ],
      "text/plain": [
       "pdf \n",
       "  2 "
      ]
     },
     "metadata": {},
     "output_type": "display_data"
    }
   ],
   "source": [
    "png(\"ndays_riesgo_mildiu_era5Land_vid.png\", width = 2000, height = 1000, res = 150)\n",
    "\n",
    "# Recojo todos los plots \n",
    "plots = mget(paste0(\"nd_obs_era5_\", sprintf(\"%02d\", 1:12)))\n",
    "\n",
    "# Organizo en grid\n",
    "grid.arrange(grobs = plots, ncol = 4,\n",
    "             top   = textGrob(\"Número de días de riesgo de mildiu (ERA5-Land)\",\n",
    "                              gp = gpar(fontsize = 16, fontface = \"bold\")))\n",
    "\n",
    "dev.off()"
   ]
  },
  {
   "cell_type": "markdown",
   "id": "fb63a8cb-7cf7-4e74-952a-d36eadbca8b3",
   "metadata": {},
   "source": [
    "### PTI-grid-v0"
   ]
  },
  {
   "cell_type": "code",
   "execution_count": 13,
   "id": "c706c5d1-90c8-4859-928c-be2a177faeaa",
   "metadata": {},
   "outputs": [],
   "source": [
    "for (i in 1:12) {\n",
    "    mes = sprintf(\"%02d\", i)\n",
    "  \n",
    "    # Construyo los nombres de las variables de entrada\n",
    "    tmin_var = get(paste0(\"pti_tmin_\", mes))\n",
    "    pr_var   = get(paste0(\"pti_pr_\", mes))\n",
    "  \n",
    "    # Aplico la máscara y la guardo con el sufijo\n",
    "    assign(paste0(\"grid_masked_\", mes),\n",
    "           compute_masked_obs(tmin_var, pr_var,\n",
    "                              temp_thresh = 10,\n",
    "                              pr_thresh   = 10))\n",
    "  \n",
    "    # Recupero el objeto recién creado\n",
    "    grid_masked_obs = get(paste0(\"grid_masked_\", mes))\n",
    "    assign(paste0(\"grid_masked_pti_\", mes), grid_masked_obs)\n",
    "    \n",
    "    # Representación y guardado con sufijo\n",
    "    assign(paste0(\"nd_obs_pti_\", mes), spatialPlot(\n",
    "        climatology(grid_masked_obs), backdrop.theme = \"countries\",\n",
    "        main = paste(\"Mes\", mes), col.regions = color, at = seq(0, 31, 0.1)) %>% suppressMessages %>% suppressWarnings)\n",
    "}"
   ]
  },
  {
   "cell_type": "code",
   "execution_count": 10,
   "id": "bbb1337d-59cf-4e92-aba2-ba14b32eead7",
   "metadata": {},
   "outputs": [
    {
     "data": {
      "text/html": [
       "<strong>pdf:</strong> 2"
      ],
      "text/latex": [
       "\\textbf{pdf:} 2"
      ],
      "text/markdown": [
       "**pdf:** 2"
      ],
      "text/plain": [
       "pdf \n",
       "  2 "
      ]
     },
     "metadata": {},
     "output_type": "display_data"
    }
   ],
   "source": [
    "png(\"ndays_riesgo_mildiu_ptiv0_vid.png\", width = 2000, height = 1000, res = 150)\n",
    "\n",
    "# Recojo todos los plots \n",
    "plots = mget(paste0(\"nd_obs_pti_\", sprintf(\"%02d\", 1:12)))\n",
    "\n",
    "# Organizo en grid\n",
    "grid.arrange(grobs = plots, ncol = 4,\n",
    "             top   = textGrob(\"Número de días de riesgo de mildiu (PTI-grid-v0)\",\n",
    "                              gp = gpar(fontsize = 16, fontface = \"bold\")))\n",
    "\n",
    "dev.off()"
   ]
  },
  {
   "cell_type": "markdown",
   "id": "885c000f-ffcf-4671-b902-9c5c860a426d",
   "metadata": {
    "jp-MarkdownHeadingCollapsed": true
   },
   "source": [
    "## Bias ndays"
   ]
  },
  {
   "cell_type": "code",
   "execution_count": 27,
   "id": "e33386c6-b2ee-4149-9a83-93fad129c695",
   "metadata": {},
   "outputs": [],
   "source": [
    "for (i in 1:12) {\n",
    "    mes = sprintf(\"%02d\", i)\n",
    "    \n",
    "    # Calcular diferencias\n",
    "    assign(paste0(\"diff_\", mes),\n",
    "           gridArithmetics(climatology(get(paste0(\"grid_masked_era5_\", mes))),\n",
    "                           climatology(get(paste0(\"grid_masked_pti_\", mes))),\n",
    "                           operator = \"-\") %>% suppressMessages %>% suppressWarnings)\n",
    "    \n",
    "    # Graficar\n",
    "    assign(paste0(\"b_\", mes),\n",
    "           spatialPlot(get(paste0(\"diff_\", mes)),\n",
    "                       backdrop.theme = \"countries\",\n",
    "                       main = paste(\"Bias ndays (Mes\", mes, \")\"),\n",
    "                       col.regions = color,\n",
    "                       at = seq(-5, 5, 0.1)) %>% suppressMessages %>% suppressWarnings)\n",
    "}"
   ]
  },
  {
   "cell_type": "code",
   "execution_count": 28,
   "id": "9f2e07b1-d5a6-4566-ac53-9e563cb87299",
   "metadata": {},
   "outputs": [
    {
     "data": {
      "text/html": [
       "<strong>pdf:</strong> 2"
      ],
      "text/latex": [
       "\\textbf{pdf:} 2"
      ],
      "text/markdown": [
       "**pdf:** 2"
      ],
      "text/plain": [
       "pdf \n",
       "  2 "
      ]
     },
     "metadata": {},
     "output_type": "display_data"
    }
   ],
   "source": [
    "png(\"bias_ndays_mildiu_vid.png\", width = 2000, height = 1000, res = 150)\n",
    "\n",
    "# Recojo todos los plots\n",
    "plots = mget(paste0(\"b_\", sprintf(\"%02d\", 1:12)))\n",
    "\n",
    "# Organizo en grid\n",
    "grid.arrange(\n",
    "    grobs = plots,\n",
    "    ncol = 4,\n",
    "    top = grid::textGrob(\n",
    "        \"Sesgo en el número de días de riesgo de mildiu (ERA5-Land vs PTI)\",\n",
    "        gp = grid::gpar(fontsize = 16, fontface = \"bold\")\n",
    "    )\n",
    ")\n",
    "\n",
    "dev.off()"
   ]
  },
  {
   "cell_type": "markdown",
   "id": "7b506a06-93fa-4d4c-8d46-c81ed4ac86dc",
   "metadata": {
    "jp-MarkdownHeadingCollapsed": true
   },
   "source": [
    "## Corr ndays"
   ]
  },
  {
   "cell_type": "code",
   "execution_count": 20,
   "id": "2586fbcf-e6ad-4bf0-84cf-e5001d8c4cd8",
   "metadata": {},
   "outputs": [],
   "source": [
    "calc_cor_pval_climate4R_blocked = function(model_data, obs_data, threshold = 0.05, block_size = 10) {\n",
    "    ntime = dim(model_data$Data)[1]\n",
    "    nlat  = dim(model_data$Data)[2]\n",
    "    nlon  = dim(model_data$Data)[3]\n",
    "\n",
    "    # Inicializar arrays finales\n",
    "    cor_array  = matrix(NA, nrow = nlat, ncol = nlon)\n",
    "    pval_array = matrix(NA, nrow = nlat, ncol = nlon)\n",
    "\n",
    "    # Dividir latitudes en bloques\n",
    "    blocks = split(seq_len(nlat), ceiling(seq_len(nlat)/block_size))\n",
    "\n",
    "    # Procesar cada bloque\n",
    "    for (b in seq_along(blocks)) {\n",
    "        lat_idx = blocks[[b]]\n",
    "\n",
    "        for (i in lat_idx) {\n",
    "            for (j in seq_len(nlon)) {\n",
    "                pred = model_data$Data[, i, j]\n",
    "                obs  = obs_data$Data[, i, j]\n",
    "                ok   = complete.cases(pred, obs)\n",
    "\n",
    "                if (sum(ok) >= 10) {\n",
    "                    r = cor(pred[ok], obs[ok])\n",
    "                    n = sum(ok)\n",
    "                    t = r * sqrt((n - 2) / (1 - r^2))\n",
    "                    p = 2 * (1 - pt(abs(t), df = n - 2))\n",
    "\n",
    "                    cor_array[i, j]  = r\n",
    "                    pval_array[i, j] = p\n",
    "                }\n",
    "            }\n",
    "        }\n",
    "\n",
    "        # Liberar memoria del bloque\n",
    "        rm(pred, obs, ok)\n",
    "        gc()\n",
    "    }\n",
    "\n",
    "    # Construir grid de correlación\n",
    "    cor_grid = list(\n",
    "        Data     = cor_array,\n",
    "        xyCoords = model_data$xyCoords,\n",
    "        Variable = model_data$Variable\n",
    "    )\n",
    "    attr(cor_grid$Data, \"dimensions\") = c(\"lat\", \"lon\")\n",
    "    cor_grid$Dates = model_data$Dates\n",
    "    class(cor_grid) = \"grid\"\n",
    "    cor_grid$Variable$varName = \"Corr\"\n",
    "    attr(cor_grid$Variable, \"description\") = \"Mapa de correlaciones\"\n",
    "    attr(cor_grid$Variable, \"units\") = \"\"\n",
    "    attr(cor_grid$Variable, \"longname\") = \"Correlación\"\n",
    "\n",
    "    # Construir grid de p-valores\n",
    "    pval_grid = list(\n",
    "        Data     = pval_array,\n",
    "        xyCoords = model_data$xyCoords,\n",
    "        Variable = model_data$Variable\n",
    "    )\n",
    "    attr(pval_grid$Data, \"dimensions\") = c(\"lat\", \"lon\")\n",
    "    pval_grid$Dates = model_data$Dates\n",
    "    class(pval_grid) = \"grid\"\n",
    "    pval_grid$Variable$varName = \"p-values\"\n",
    "    attr(pval_grid$Variable, \"description\") = \"Mapa de p-valores\"\n",
    "    attr(pval_grid$Variable, \"units\") = \"\"\n",
    "    attr(pval_grid$Variable, \"longname\") = \"p-values\"\n",
    "\n",
    "    # Puntos significativos\n",
    "    pts = map.stippling(\n",
    "        climatology(pval_grid),\n",
    "        threshold = threshold,\n",
    "        condition = \"LT\",\n",
    "        pch = 19,\n",
    "        col = \"black\",\n",
    "        cex = 0.05\n",
    "    ) %>% suppressMessages() %>% suppressWarnings()\n",
    "\n",
    "    return(list(cor = cor_grid, pval = pval_grid, pts = pts))\n",
    "}"
   ]
  },
  {
   "cell_type": "code",
   "execution_count": 21,
   "id": "f6769272-afdb-4bb7-a812-159b6cfbc2a3",
   "metadata": {},
   "outputs": [],
   "source": [
    "# Vector de meses en formato \"01\", \"02\", ..., \"12\"\n",
    "meses = sprintf(\"%02d\", 1:12)\n",
    "\n",
    "# Lista para guardar resultados\n",
    "resultados = lapply(meses, function(mes) {\n",
    "    # Construir los nombres de los objetos para cada mes\n",
    "    grid_era5 = get(paste0(\"grid_masked_era5_\", mes))\n",
    "    grid_pti   = get(paste0(\"grid_masked_pti_\", mes))\n",
    "    \n",
    "    # Llamar a la función bloqueada\n",
    "    calc_cor_pval_climate4R_blocked(grid_era5, grid_pti) %>% suppressWarnings()\n",
    "})\n",
    "\n",
    "# Asignar nombres a la lista para cada mes\n",
    "names(resultados) = meses\n",
    "\n",
    "# Guardar la lista completa en un archivo RDS\n",
    "saveRDS(resultados, file = \"corr_meses_mildiu_highres.rds\")"
   ]
  },
  {
   "cell_type": "code",
   "execution_count": 23,
   "id": "cad95d9e-4494-4974-9e45-b122d19b8bf9",
   "metadata": {
    "scrolled": true
   },
   "outputs": [
    {
     "name": "stderr",
     "output_type": "stream",
     "text": [
      "Warning message in min(x):\n",
      "“ningún argumento finito para min; retornando Inf”\n",
      "Warning message in max(x):\n",
      "“ningun argumento finito para max; retornando -Inf”\n",
      "Warning message in min(x):\n",
      "“ningún argumento finito para min; retornando Inf”\n",
      "Warning message in max(x):\n",
      "“ningun argumento finito para max; retornando -Inf”\n",
      "Warning message in min(x):\n",
      "“ningún argumento finito para min; retornando Inf”\n",
      "Warning message in max(x):\n",
      "“ningun argumento finito para max; retornando -Inf”\n",
      "Warning message in min(x):\n",
      "“ningún argumento finito para min; retornando Inf”\n",
      "Warning message in max(x):\n",
      "“ningun argumento finito para max; retornando -Inf”\n",
      "Warning message in min(x):\n",
      "“ningún argumento finito para min; retornando Inf”\n",
      "Warning message in max(x):\n",
      "“ningun argumento finito para max; retornando -Inf”\n",
      "Warning message in min(x):\n",
      "“ningún argumento finito para min; retornando Inf”\n",
      "Warning message in max(x):\n",
      "“ningun argumento finito para max; retornando -Inf”\n"
     ]
    },
    {
     "data": {
      "text/html": [
       "<strong>pdf:</strong> 2"
      ],
      "text/latex": [
       "\\textbf{pdf:} 2"
      ],
      "text/markdown": [
       "**pdf:** 2"
      ],
      "text/plain": [
       "pdf \n",
       "  2 "
      ]
     },
     "metadata": {},
     "output_type": "display_data"
    }
   ],
   "source": [
    "cor = readRDS(\"../../../data/compound_study_index/high_resolution/corr_meses_oidio_highres.rds\")\n",
    "\n",
    "# Vector de meses\n",
    "meses = sprintf(\"%02d\", 1:12)\n",
    "\n",
    "# Generar y guardar los plots\n",
    "for (mes in meses) {\n",
    "    assign(paste0(\"c_\", mes),\n",
    "           spatialPlot(\n",
    "               climatology(cor[[mes]]$cor),\n",
    "               backdrop.theme = \"countries\",\n",
    "               main = paste(\"Corr ndays (Mes\", mes, \")\"),\n",
    "               col.regions = color,\n",
    "               sp.layout = list(cor[[mes]]$pts),\n",
    "               at = seq(-1, 1, 0.1)) %>% suppressMessages() %>% suppressWarnings())\n",
    "}\n",
    "\n",
    "# Guardar en un PNG multipanel\n",
    "png(\"corr_ndays_mildiu_vid.png\", width = 2000, height = 1000, res = 150)\n",
    "\n",
    "# Recojo todos los plots\n",
    "plots = mget(paste0(\"c_\", sprintf(\"%02d\", 1:12)))\n",
    "\n",
    "# Organizo en grid\n",
    "grid.arrange(\n",
    "    grobs = plots,\n",
    "    ncol = 4,\n",
    "    top = grid::textGrob(\n",
    "        \"Correlación en el número de días de riesgo de mildiu (ERA5-Land vs PTI)\",\n",
    "        gp = grid::gpar(fontsize = 16, fontface = \"bold\")))\n",
    "\n",
    "dev.off()"
   ]
  },
  {
   "cell_type": "markdown",
   "id": "a1cae81e-014b-4fbe-9150-15fe44110740",
   "metadata": {
    "jp-MarkdownHeadingCollapsed": true
   },
   "source": [
    "## RMSE ndays"
   ]
  },
  {
   "cell_type": "code",
   "execution_count": 24,
   "id": "a1370778-a007-4312-9c58-84acf5bbc048",
   "metadata": {},
   "outputs": [],
   "source": [
    "# Función para calcular RMSE entre dos grids climate4R\n",
    "calc_rmse = function(pred, obs) {\n",
    "    \n",
    "    # Error = grid1 - grid2\n",
    "    err = gridArithmetics(pred, obs, operator = \"-\")\n",
    "    \n",
    "    # Error^2\n",
    "    err2 = gridArithmetics(err, err, operator = \"*\")\n",
    "\n",
    "    # RMSE, promedio temporal\n",
    "    rmse_field = sqrt(apply(err2$Data, c(2, 3), mean, na.rm = TRUE))\n",
    "\n",
    "    # Reconstruir el objeto grid\n",
    "    rmse_grid = list()\n",
    "    rmse_grid$Data = rmse_field\n",
    "    attr(rmse_grid$Data, \"dimensions\") = c(\"lat\", \"lon\")\n",
    "    rmse_grid$xyCoords = pred$xyCoords\n",
    "    rmse_grid$Variable = pred$Variable\n",
    "    rmse_grid$Dates = pred$Dates\n",
    "    class(rmse_grid) = \"grid\"\n",
    "\n",
    "    # Ajustar metadatos\n",
    "    rmse_grid$Dates = err$Dates\n",
    "    rmse_grid$Variable$varName = \"RMSE\"\n",
    "    rmse_grid$Variable$longname = \"Root Mean Square Error\"\n",
    "    rmse_grid$Variable$description = \"RMSE\"\n",
    "    rmse_grid$Variable$units = \"Número de días\"\n",
    "    \n",
    "    return(rmse_grid)\n",
    "}"
   ]
  },
  {
   "cell_type": "code",
   "execution_count": 31,
   "id": "9b2898fc-954d-432a-a38b-d0fe313c5de7",
   "metadata": {},
   "outputs": [],
   "source": [
    "for (i in 1:12) {\n",
    "    mes = sprintf(\"%02d\", i)\n",
    "    \n",
    "    # Calcular diferencias\n",
    "    assign(paste0(\"rmse_\", mes),\n",
    "           calc_rmse(get(paste0(\"grid_masked_era5_\", mes)),\n",
    "                     get(paste0(\"grid_masked_pti_\", mes))) %>% suppressMessages %>% suppressWarnings)\n",
    "    \n",
    "    # Graficar\n",
    "    assign(paste0(\"rmse\", mes),\n",
    "           spatialPlot(get(paste0(\"rmse_\", mes)),\n",
    "                       backdrop.theme = \"countries\",\n",
    "                       main = paste(\"RMSE ndays (Mes\", mes, \")\"),\n",
    "                       col.regions = color,\n",
    "                       at = seq(0, 7, 0.1)) %>% suppressMessages %>% suppressWarnings)\n",
    "}"
   ]
  },
  {
   "cell_type": "code",
   "execution_count": 32,
   "id": "64ed4e3b-e48b-4dd0-aed1-33f872583e3f",
   "metadata": {},
   "outputs": [
    {
     "data": {
      "text/html": [
       "<strong>pdf:</strong> 2"
      ],
      "text/latex": [
       "\\textbf{pdf:} 2"
      ],
      "text/markdown": [
       "**pdf:** 2"
      ],
      "text/plain": [
       "pdf \n",
       "  2 "
      ]
     },
     "metadata": {},
     "output_type": "display_data"
    }
   ],
   "source": [
    "png(\"rmse_ndays_mildiu_vid.png\", width = 2000, height = 1000, res = 150)\n",
    "\n",
    "# Recojo todos los plots\n",
    "plots = mget(paste0(\"rmse\", sprintf(\"%02d\", 1:12)))\n",
    "\n",
    "# Organizo en grid\n",
    "grid.arrange(\n",
    "    grobs = plots,\n",
    "    ncol = 4,\n",
    "    top = grid::textGrob(\n",
    "        \"RMSE del número de días de riesgo de mildiu (ERA5-Land vs PTI)\",\n",
    "        gp = grid::gpar(fontsize = 16, fontface = \"bold\")\n",
    "    )\n",
    ")\n",
    "\n",
    "dev.off()"
   ]
  },
  {
   "cell_type": "markdown",
   "id": "6e85a3e7-ba87-46c3-8a77-645a4ced6a36",
   "metadata": {
    "jp-MarkdownHeadingCollapsed": true
   },
   "source": [
    "## Ratio de varianzas"
   ]
  },
  {
   "cell_type": "code",
   "execution_count": 36,
   "id": "4e7a82df-9fea-4ea4-aeb4-d58dc7a5a66e",
   "metadata": {},
   "outputs": [],
   "source": [
    "# Vector con los meses\n",
    "meses = sprintf(\"%02d\", 1:12)\n",
    "\n",
    "# Lista para guardar los plots\n",
    "plots = list()\n",
    "\n",
    "for (m in meses) {\n",
    "    # Nombres dinámicos\n",
    "    era5_name = paste0(\"grid_masked_era5_\", m)\n",
    "    pti_name  = paste0(\"grid_masked_pti_\", m)\n",
    "    \n",
    "    # Recupero objetos\n",
    "    era5_obj = get(era5_name)\n",
    "    pti_obj  = get(pti_name)\n",
    "    \n",
    "    # Calculo varianzas\n",
    "    var_era5 = climatology(era5_obj,\n",
    "                           clim.fun = list(FUN = \"var\", na.rm = TRUE)) %>% suppressMessages() %>% suppressWarnings()\n",
    "    \n",
    "    var_pti = climatology(pti_obj,\n",
    "                          clim.fun = list(FUN = \"var\", na.rm = TRUE)) %>% suppressMessages() %>% suppressWarnings()\n",
    "    \n",
    "    # Cociente\n",
    "    rv = gridArithmetics(var_era5, var_pti, operator = \"/\")\n",
    "    \n",
    " # Si no hay datos válidos, grid vacío con mismo dominio\n",
    "    if (all(is.na(rv$Data)) | all(rv$Data == 0, na.rm = TRUE) | all(!is.finite(rv$Data))) {\n",
    "        rv_empty = rv\n",
    "        rv_empty$Data[] = NA\n",
    "        \n",
    "        plots[[paste0(\"rv\", m)]] = spatialPlot(\n",
    "            rv_empty,\n",
    "            backdrop.theme = \"countries\",\n",
    "            col.regions = color,\n",
    "            main = paste(\"Mes\", m),\n",
    "            at = seq(0, 4, 0.1))\n",
    "    } else {\n",
    "        plots[[paste0(\"rv\", m)]] = spatialPlot(\n",
    "            rv,\n",
    "            backdrop.theme = \"countries\",\n",
    "            col.regions = color,\n",
    "            main = paste(\"Mes\", m),\n",
    "            at = seq(0, 4, 0.1))\n",
    "    }\n",
    "}"
   ]
  },
  {
   "cell_type": "code",
   "execution_count": 37,
   "id": "fdd552de-1a5e-4efe-9d1e-038049e61967",
   "metadata": {},
   "outputs": [
    {
     "data": {
      "text/html": [
       "<strong>pdf:</strong> 2"
      ],
      "text/latex": [
       "\\textbf{pdf:} 2"
      ],
      "text/markdown": [
       "**pdf:** 2"
      ],
      "text/plain": [
       "pdf \n",
       "  2 "
      ]
     },
     "metadata": {},
     "output_type": "display_data"
    }
   ],
   "source": [
    "# Exportar en PNG\n",
    "png(\"rv_ndays_mildiu_vid.png\", width = 2000, height = 1000, res = 150)\n",
    "\n",
    "grid.arrange(grobs = plots,\n",
    "             ncol = 4,\n",
    "             top = grid::textGrob(\n",
    "                 \"Ratio de varianzas del número de días de riesgo de mildiu (ERA5-Land vs PTI)\",\n",
    "                 gp = grid::gpar(fontsize = 16, fontface = \"bold\"))\n",
    ")\n",
    "\n",
    "dev.off()"
   ]
  }
 ],
 "metadata": {
  "kernelspec": {
   "display_name": "R",
   "language": "R",
   "name": "ir"
  },
  "language_info": {
   "codemirror_mode": "r",
   "file_extension": ".r",
   "mimetype": "text/x-r-source",
   "name": "R",
   "pygments_lexer": "r",
   "version": "4.3.3"
  }
 },
 "nbformat": 4,
 "nbformat_minor": 5
}
