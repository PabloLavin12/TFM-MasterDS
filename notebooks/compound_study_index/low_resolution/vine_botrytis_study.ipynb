{
 "cells": [
  {
   "cell_type": "markdown",
   "id": "33eb3b83-009b-4bee-8f21-bd70ef29c4d0",
   "metadata": {},
   "source": [
    "# Estudio Vid (Botritis)\n",
    "## Pablo Lavín\n",
    "## TFM - Master Ciencia de Datos (UC-UIMP)\n",
    "## Beca JAE Intro ICU 2025\n",
    "## Septiembre 2025 - Junio 2026"
   ]
  },
  {
   "cell_type": "markdown",
   "id": "41392c8e-b779-44bf-9f10-771a06cc3f27",
   "metadata": {},
   "source": [
    "En este notebook se analiza el desempeño del modelo ECMWF frente a ERA5-Land durante el periodo 1981–2022.\n",
    "\n",
    "Con el objetivo de mejorar la representatividad del modelo respecto a los datos observacionales, se realiza una corrección del sesgo de la temperatura media del modelo ECMWF.\n",
    "\n",
    "Posteriormente los datos de temperatura se convierten en índices, en este caso, un índice compuesto de temperatura media (número de días que se supera una temperatura umbral) y de humedad relativa, con el objetivo de estudiar el riesgo de aparición de botritis, un tipo de epidemia que afecta a la vid, y es crítica durante los meses de fructificación (julio a septiembre).\n",
    "\n",
    "Se incluyen métricas de sesgo, correlación, RMSE, ratio de varianzas y ROCSS."
   ]
  },
  {
   "cell_type": "markdown",
   "id": "d5c1ee01-3bae-40ad-bf95-b465fec7ed5b",
   "metadata": {},
   "source": [
    "## Configuración"
   ]
  },
  {
   "cell_type": "code",
   "execution_count": 1,
   "id": "e37ac4ee-c237-4c7c-936a-2c76ce6be6f9",
   "metadata": {
    "scrolled": true
   },
   "outputs": [
    {
     "name": "stderr",
     "output_type": "stream",
     "text": [
      "\n",
      "Attaching package: ‘dplyr’\n",
      "\n",
      "\n",
      "The following objects are masked from ‘package:stats’:\n",
      "\n",
      "    filter, lag\n",
      "\n",
      "\n",
      "The following objects are masked from ‘package:base’:\n",
      "\n",
      "    intersect, setdiff, setequal, union\n",
      "\n",
      "\n",
      "Type 'citation(\"pROC\")' for a citation.\n",
      "\n",
      "\n",
      "Attaching package: ‘pROC’\n",
      "\n",
      "\n",
      "The following objects are masked from ‘package:stats’:\n",
      "\n",
      "    cov, smooth, var\n",
      "\n",
      "\n",
      "Loading required package: rJava\n",
      "\n",
      "Loading required package: loadeR.java\n",
      "\n",
      "Java version 23x amd64 by N/A detected\n",
      "\n",
      "NetCDF Java Library v4.6.0-SNAPSHOT (23 Apr 2015) loaded and ready\n",
      "\n",
      "Loading required package: climate4R.UDG\n",
      "\n",
      "climate4R.UDG version 0.2.6 (2023-06-26) is loaded\n",
      "\n",
      "Please use 'citation(\"climate4R.UDG\")' to cite this package.\n",
      "\n",
      "loadeR version 1.8.1 (2023-06-22) is loaded\n",
      "\n",
      "WARNING: Your current version of loadeR (v1.8.1) is not up-to-date\n",
      "\n",
      "Get the latest stable version (1.8.2) using <devtools::install_github(c('SantanderMetGroup/climate4R.UDG','SantanderMetGroup/loadeR'))>\n",
      "\n",
      "Please use 'citation(\"loadeR\")' to cite this package.\n",
      "\n"
     ]
    },
    {
     "name": "stdout",
     "output_type": "stream",
     "text": [
      "\n",
      "    _______   ____  ___________________  __  ________ \n",
      "   / ___/ /  / /  |/  / __  /_  __/ __/ / / / / __  / \n",
      "  / /  / /  / / /|_/ / /_/ / / / / __/ / /_/ / /_/_/  \n",
      " / /__/ /__/ / /  / / __  / / / / /__ /___  / / \\ \\ \n",
      " \\___/____/_/_/  /_/_/ /_/ /_/  \\___/    /_/\\/   \\_\\ \n",
      " \n",
      "      github.com/SantanderMetGroup/climate4R\n",
      "\n"
     ]
    },
    {
     "name": "stderr",
     "output_type": "stream",
     "text": [
      "transformeR version 2.2.2 (2023-10-26) is loaded\n",
      "\n",
      "WARNING: Your current version of transformeR (v2.2.2) is not up-to-date\n",
      "\n",
      "Get the latest stable version (2.2.3) using <devtools::install_github('SantanderMetGroup/transformeR')>\n",
      "\n",
      "Please see 'citation(\"transformeR\")' to cite this package.\n",
      "\n",
      "Loading required package: udunits2\n",
      "\n",
      "udunits system database read from /vols/abedul/home/meteo/lavinp/miniforge3/envs/C4R/share/udunits/udunits2.xml\n",
      "\n",
      "convertR version 0.3.0 (2025-07-31) is loaded\n",
      "\n",
      "WARNING: Your current version of convertR (v0.3.0) is ahead of the master branch version (0.2.1)\n",
      "\n",
      "Development version may have an unexpected behaviour\n",
      "\n",
      "  More information about the 'climate4R' ecosystem in: http://meteo.unican.es/climate4R\n",
      "\n",
      "\n",
      "Attaching package: ‘convertR’\n",
      "\n",
      "\n",
      "The following objects are masked from ‘package:loadeR’:\n",
      "\n",
      "    hurs2huss, huss2hurs, tdps2hurs\n",
      "\n",
      "\n",
      "Registered S3 method overwritten by 'verification':\n",
      "  method    from\n",
      "  lines.roc pROC\n",
      "\n",
      "visualizeR version 1.6.4 (2023-10-26) is loaded\n",
      "\n",
      "Please see 'citation(\"visualizeR\")' to cite this package.\n",
      "\n",
      "downscaleR version 3.3.4 (2023-06-22) is loaded\n",
      "\n",
      "Please use 'citation(\"downscaleR\")' to cite this package.\n",
      "\n",
      "Loading required package: climdex.pcic\n",
      "\n",
      "Loading required package: PCICt\n",
      "\n",
      "climate4R.climdex version 0.2.3 (2023-06-23) is loaded\n",
      "\n",
      "Use 'climdexShow()' for an overview of the available ETCCDI indices\n",
      "\n",
      "climate4R.indices version 0.3.1 (2023-06-22) is loaded\n",
      "\n",
      "Use 'indexShow()' for an overview of the available climate indices and circIndexShow() for the circulation indices.\n",
      "\n",
      "NOTE: use package climate4R.climdex to calculate ETCCDI indices.\n",
      "\n",
      "\n",
      "Attaching package: ‘climate4R.indices’\n",
      "\n",
      "\n",
      "The following object is masked from ‘package:transformeR’:\n",
      "\n",
      "    lambWT\n",
      "\n",
      "\n",
      "Loading required package: SpecsVerification\n",
      "\n",
      "\n",
      "Attaching package: ‘easyVerification’\n",
      "\n",
      "\n",
      "The following object is masked from ‘package:SpecsVerification’:\n",
      "\n",
      "    EnsCorr\n",
      "\n",
      "\n",
      "\n",
      "Attaching package: ‘gridExtra’\n",
      "\n",
      "\n",
      "The following object is masked from ‘package:dplyr’:\n",
      "\n",
      "    combine\n",
      "\n",
      "\n"
     ]
    }
   ],
   "source": [
    "# Cargamos paquetes\n",
    "source(\"../../../scripts/setup_libraries.R\")\n",
    "source(\"../../../scripts/load_bc_functions.R\")"
   ]
  },
  {
   "cell_type": "code",
   "execution_count": 2,
   "id": "bbb8c646-3771-4c78-bf16-152464c2882c",
   "metadata": {},
   "outputs": [],
   "source": [
    "# Region de estudio\n",
    "\n",
    "lon = c(-10, 5)\n",
    "lat = c(35, 44)\n",
    "\n",
    "# Color\n",
    "color = colorRampPalette(rev(brewer.pal(n = 9, \"RdYlBu\")))"
   ]
  },
  {
   "cell_type": "code",
   "execution_count": 5,
   "id": "034d55a4-f0da-401b-82dc-92c073bd0136",
   "metadata": {},
   "outputs": [],
   "source": [
    "# Cargo datos: temperatura media (con sesgo y sin sesgo) y humedad relativa\n",
    "tas_modelo_0 = readRDS(\"../../../data/compound_study_index/low_resolution/vine_botrytis_data/tas_botritis_model_vid_0.rds\")\n",
    "tas_modelo_1 = readRDS(\"../../../data/compound_study_index/low_resolution/vine_botrytis_data/tas_botritis_model_vid_1.rds\")\n",
    "tas_modelo_2 = readRDS(\"../../../data/compound_study_index/low_resolution/vine_botrytis_data/tas_botritis_model_vid_2.rds\")\n",
    "tas_modelo_3 = readRDS(\"../../../data/compound_study_index/low_resolution/vine_botrytis_data/tas_botritis_model_vid_3.rds\")\n",
    "\n",
    "tas_obs = readRDS(\"../../../data/compound_study_index/low_resolution/vine_botrytis_data/tas_botritis_obs_vid.rds\")\n",
    "\n",
    "bc_tas_modelo_0 = readRDS(\"../../../data/compound_study_index/low_resolution/vine_botrytis_data/bc_tas_botritis_vid_0.rds\")\n",
    "bc_tas_modelo_1 = readRDS(\"../../../data/compound_study_index/low_resolution/vine_botrytis_data/bc_tas_botritis_vid_1.rds\")\n",
    "bc_tas_modelo_2 = readRDS(\"../../../data/compound_study_index/low_resolution/vine_botrytis_data/bc_tas_botritis_vid_2.rds\")\n",
    "bc_tas_modelo_3 = readRDS(\"../../../data/compound_study_index/low_resolution/vine_botrytis_data/bc_tas_botritis_vid_3.rds\")\n",
    "\n",
    "hr_modelo_0 = readRDS(\"../../../data/compound_study_index/low_resolution/vine_botrytis_data/hr_botritis_model_vid_0.rds\")\n",
    "hr_modelo_1 = readRDS(\"../../../data/compound_study_index/low_resolution/vine_botrytis_data/hr_botritis_model_vid_1.rds\")\n",
    "hr_modelo_2 = readRDS(\"../../../data/compound_study_index/low_resolution/vine_botrytis_data/hr_botritis_model_vid_2.rds\")\n",
    "hr_modelo_3 = readRDS(\"../../../data/compound_study_index/low_resolution/vine_botrytis_data/hr_botritis_model_vid_3.rds\")\n",
    "\n",
    "hr_obs = readRDS(\"../../../data/compound_study_index/low_resolution/vine_botrytis_data/hr_botritis_obs_vid.rds\")\n",
    "\n",
    "# Paso los datos de bC a Kelvin\n",
    "bc_tas_modelo_0 = gridArithmetics(bc_tas_modelo_0, 273.15, operator = \"-\")\n",
    "bc_tas_modelo_1 = gridArithmetics(bc_tas_modelo_1, 273.15, operator = \"-\")\n",
    "bc_tas_modelo_2 = gridArithmetics(bc_tas_modelo_2, 273.15, operator = \"-\")\n",
    "bc_tas_modelo_3 = gridArithmetics(bc_tas_modelo_3, 273.15, operator = \"-\")"
   ]
  },
  {
   "cell_type": "markdown",
   "id": "aaa47571-8279-48ef-9407-8ac8d9568cf4",
   "metadata": {
    "jp-MarkdownHeadingCollapsed": true
   },
   "source": [
    "## Máscara para los datos"
   ]
  },
  {
   "cell_type": "code",
   "execution_count": 6,
   "id": "ebae6438-2d80-4db4-b5b1-3d624665ea10",
   "metadata": {},
   "outputs": [],
   "source": [
    "## Calculo el número de días que tmax > 22 grados (solo para la estructura del grid)\n",
    "nd_obs = indexGrid(tx = tas_obs, index.code = \"TXth\", th = 22) %>% suppressMessages %>% suppressWarnings\n",
    "\n",
    "## Máscara de tierra de ERA5 (es una variable más del propio reanális):\n",
    "## Valores continuos entre 0 (no hay nada de tierra en ese gridbox) y 1 (todo el gridbox es tierra)\n",
    "mask = loadGridData(\"/lustre/gmeteo/PTICLIMA/DATA/REANALYSIS/ERA5/lsm/lsm_era5.nc\", var = \"lsm\") %>% suppressMessages %>% suppressWarnings\n",
    "\n",
    "## Binarizo la máscara: Considero que todos los gridboxes con un valor por encima (debajo) de 0.5 son de tierra (mar)\n",
    "mask.bin = binaryGrid(mask, condition = \"GE\", threshold = 0.5, values = c(NA, 1))\n",
    "\n",
    "## Hago el upscaling como hice con los datos de ERA5 a la resolución de 1º del modelo\n",
    "mask_upscaled = interpGrid(mask.bin,\n",
    "                           new.coordinates = getGrid(tas_obs),\n",
    "                           method = \"bilinear\") %>% suppressMessages %>% suppressWarnings\n",
    "\n",
    "## Apoyándome en la máscara binaria, me quedo únicamente con los datos en tierra y descarto el mar\n",
    "mask.bin.spain = subsetGrid(mask_upscaled, lonLim = c(-10, 5), latLim = c(35, 44))\n",
    "mask.bin.spain$Data = aperm(replicate(getShape(nd_obs)[\"time\"], mask.bin.spain$Data, simplify = \"array\"), c(3, 1, 2))\n",
    "attributes(mask.bin.spain$Data)$dimensions = c(\"time\", \"lat\", \"lon\")\n",
    "\n",
    "## Máscara para el moodelo\n",
    "n.members = getShape(tas_modelo_0)[\"member\"]\n",
    "mask.data = mask.bin.spain$Data\n",
    "mask.4d = array(NA, dim = c(n.members, dim(mask.data)))  # member x time x lat x lon\n",
    "for (m in 1:n.members) {\n",
    "    mask.4d[m,,,] = mask.data\n",
    "}\n",
    "\n",
    "mask.model = mask.bin.spain  # copia de la estructura\n",
    "mask.model$Data = mask.4d\n",
    "attributes(mask.model$Data)$dimensions = c(\"member\", \"time\", \"lat\", \"lon\")"
   ]
  },
  {
   "cell_type": "markdown",
   "id": "a74728ed-3bab-4ab3-a23d-b518405498b9",
   "metadata": {
    "jp-MarkdownHeadingCollapsed": true
   },
   "source": [
    "## Fructificación (julio-septiembre). Riesgo botritis (Nº días con Tmed > 15ºC y HR > 80%)"
   ]
  },
  {
   "cell_type": "markdown",
   "id": "010e9427-ec85-40e5-b99f-92f1f3ac9629",
   "metadata": {
    "jp-MarkdownHeadingCollapsed": true
   },
   "source": [
    "### Representación del sesgo de la temperatura media"
   ]
  },
  {
   "cell_type": "code",
   "execution_count": 5,
   "id": "4b282662-3c41-4430-a69b-f00b652b530d",
   "metadata": {},
   "outputs": [],
   "source": [
    "# Climatología de las obs\n",
    "ref = climatology(tas_obs) %>% suppressMessages %>% suppressWarnings\n",
    "\n",
    "# Climatología del modelos con los 4 leadtime (datos con sesgo)\n",
    "diff_0 = climatology(tas_modelo_0, by.member = FALSE) %>% suppressMessages %>% suppressWarnings\n",
    "diff_1 = climatology(tas_modelo_1, by.member = FALSE) %>% suppressMessages %>% suppressWarnings\n",
    "diff_2 = climatology(tas_modelo_2, by.member = FALSE) %>% suppressMessages %>% suppressWarnings\n",
    "diff_3 = climatology(tas_modelo_3, by.member = FALSE) %>% suppressMessages %>% suppressWarnings\n",
    "\n",
    "# Sesgo para cada leadtime\n",
    "bias_0 = gridArithmetics(diff_0, ref, operator = \"-\")\n",
    "bias_1 = gridArithmetics(diff_1, ref, operator = \"-\")\n",
    "bias_2 = gridArithmetics(diff_2, ref, operator = \"-\")\n",
    "bias_3 = gridArithmetics(diff_3, ref, operator = \"-\")\n",
    "\n",
    "# Representación\n",
    "b_0 = spatialPlot(bias_0, backdrop.theme = \"countries\", main = \"Raw (lt 0)\", col.regions = color, at = seq(-4, 4, 0.1))\n",
    "b_1 = spatialPlot(bias_1, backdrop.theme = \"countries\", main = \"Raw (lt 1)\", col.regions = color, at = seq(-4, 4, 0.1))\n",
    "b_2 = spatialPlot(bias_2, backdrop.theme = \"countries\", main = \"Raw (lt 2)\", col.regions = color, at = seq(-4, 4, 0.1))\n",
    "b_3 = spatialPlot(bias_3, backdrop.theme = \"countries\", main = \"Raw (lt 3)\", col.regions = color, at = seq(-4, 4, 0.1))\n",
    "\n",
    "# Climatología de cada leadtime (datos sin sesgo)\n",
    "diff0 = climatology(bc_tas_modelo_0, by.member = FALSE) %>% suppressMessages %>% suppressWarnings\n",
    "diff1 = climatology(bc_tas_modelo_1, by.member = FALSE) %>% suppressMessages %>% suppressWarnings\n",
    "diff2 = climatology(bc_tas_modelo_2, by.member = FALSE) %>% suppressMessages %>% suppressWarnings\n",
    "diff3 = climatology(bc_tas_modelo_3, by.member = FALSE) %>% suppressMessages %>% suppressWarnings\n",
    "\n",
    "# Cálculo del sesgo\n",
    "bias0 = gridArithmetics(diff0, ref, operator = \"-\")\n",
    "bias1 = gridArithmetics(diff1, ref, operator = \"-\")\n",
    "bias2 = gridArithmetics(diff2, ref, operator = \"-\")\n",
    "bias3 = gridArithmetics(diff3, ref, operator = \"-\")\n",
    "\n",
    "# Representación\n",
    "b0 = spatialPlot(bias0, backdrop.theme = \"countries\", main = \"BC (lt 0)\", col.regions = color, at = seq(-0.003, 0.003, 0.0001))\n",
    "b1 = spatialPlot(bias1, backdrop.theme = \"countries\", main = \"BC (lt 1)\", col.regions = color, at = seq(-0.003, 0.003, 0.0001))\n",
    "b2 = spatialPlot(bias2, backdrop.theme = \"countries\", main = \"BC (lt 2)\", col.regions = color, at = seq(-0.003, 0.003, 0.0001))\n",
    "b3 = spatialPlot(bias3, backdrop.theme = \"countries\", main = \"BC (lt 3)\", col.regions = color, at = seq(-0.003, 0.003, 0.0001))"
   ]
  },
  {
   "cell_type": "code",
   "execution_count": 7,
   "id": "5b6115d8-0400-468a-866a-e13eddcd16b7",
   "metadata": {},
   "outputs": [
    {
     "data": {
      "text/html": [
       "<strong>pdf:</strong> 2"
      ],
      "text/latex": [
       "\\textbf{pdf:} 2"
      ],
      "text/markdown": [
       "**pdf:** 2"
      ],
      "text/plain": [
       "pdf \n",
       "  2 "
      ]
     },
     "metadata": {},
     "output_type": "display_data"
    }
   ],
   "source": [
    "png(\"bias_tmed_fructificacion_vid.png\", width = 2000, height = 1000, res = 150)\n",
    "grid.arrange(b_0, b_1, b_2, b_3, b0, b1, b2, b3, ncol = 4)\n",
    "dev.off()"
   ]
  },
  {
   "cell_type": "markdown",
   "id": "a658c11a-7d5c-406d-aa1f-df43c312ce0c",
   "metadata": {
    "jp-MarkdownHeadingCollapsed": true
   },
   "source": [
    "### Funciones auxiliares"
   ]
  },
  {
   "cell_type": "code",
   "execution_count": 7,
   "id": "d39fc5ac-df31-42c7-ad26-264ddea628a9",
   "metadata": {},
   "outputs": [],
   "source": [
    "# Calcula la media anual de días que cumplen una condición conjunta de temperatura\n",
    "# y humedad relativa a partir de datos diarios.\n",
    "#\n",
    "# Esta función se utilizado para datos de observaciones con dimeniones [time, lat, lon]\n",
    "#\n",
    "# @param tas_obs Lista con los datos diarios de temperatura y su información asociada.\n",
    "# @param hr_obs Lista con los datos diarios de humedad relativa y su información asociada.\n",
    "# @param temp_thresh Umbral de temperatura (por defecto 25 ºC).\n",
    "# @param hr_min Humedad relativa mínima (por defecto 60%).\n",
    "# @param hr_max Humedad relativa máxima (por defecto 80%).\n",
    "#\n",
    "# @return Lista tipo \"grid\" con la media anual de días que cumplen la condición.\n",
    "#\n",
    "\n",
    "compute_masked_obs = function(tas_obs, hr_obs, temp_thresh = 25, hr_min = 60, hr_max = 80) {\n",
    "    \n",
    "    # Vector de fechas diarias\n",
    "    dates = as.Date(tas_obs$Dates$start)\n",
    "    years = factor(format(dates, \"%Y\"))\n",
    "    unique_years = levels(years)\n",
    "    n_years = length(unique_years)\n",
    "    nlat = dim(tas_obs$Data)[2]\n",
    "    nlon = dim(tas_obs$Data)[3]\n",
    "    \n",
    "    # Condición conjunta: tas > temp_thresh y hr_min <= hr <= hr_max\n",
    "    mask = (tas_obs$Data > temp_thresh) & (hr_obs$Data >= hr_min & hr_obs$Data <= hr_max)\n",
    "    \n",
    "    # Array [time(year), lat, lon]\n",
    "    annual_days = array(NA, dim = c(n_years, nlat, nlon))\n",
    "    \n",
    "    for (y in 1:n_years) {\n",
    "        idx = which(years == unique_years[y])\n",
    "        annual_days[y,,] = apply(mask[idx,,], c(2,3), sum, na.rm = TRUE)\n",
    "    }\n",
    "    \n",
    "    # Reconstruyo el grid\n",
    "    grid = list()\n",
    "    grid$Data = annual_days\n",
    "    attr(grid$Data, \"dimensions\") = c(\"time\", \"lat\", \"lon\")\n",
    "    grid$xyCoords = tas_obs$xyCoords\n",
    "    grid$Variable = tas_obs$Variable\n",
    "    grid$Dates = tas_obs$Dates\n",
    "    class(grid) = \"grid\"\n",
    "    \n",
    "    # Aplico la máscara de los datos\n",
    "    grid = gridArithmetics(grid, mask.bin.spain, operator = \"*\")\n",
    "    \n",
    "    return(grid)\n",
    "}"
   ]
  },
  {
   "cell_type": "code",
   "execution_count": 8,
   "id": "b88645ae-04cb-4003-b300-341d1036dc91",
   "metadata": {},
   "outputs": [],
   "source": [
    "# Calcula la media anual de días que cumplen una condición conjunta de temperatura\n",
    "# y humedad relativa para un modelo con múltiples miembros. Devuelve la media anual\n",
    "# por miembro y la media sobre todos los miembros.\n",
    "#\n",
    "# Esta función se utilizado para datos de observaciones con dimeniones [time, lat, lon]\n",
    "#\n",
    "# @param tas_model Lista con los datos diarios de temperatura del modelo [member, time, lat, lon].\n",
    "# @param hr_model Lista con los datos diarios de humedad relativa del modelo [member, time, lat, lon].\n",
    "# @param temp_thresh Umbral de temperatura (por defecto 25 ºC).\n",
    "# @param hr_min Humedad relativa mínima (por defecto 60%).\n",
    "# @param hr_max Humedad relativa máxima (por defecto 80%).\n",
    "#\n",
    "# @return Lista con dos elementos: \n",
    "#   - per_member: grid con la media anual de días por cada miembro\n",
    "#   - mean_members: grid con la media anual sobre todos los miembros\n",
    "\n",
    "compute_masked = function(tas_model, hr_model, temp_thresh = 25, hr_min = 60, hr_max = 80) {\n",
    "    \n",
    "    # Dimensiones\n",
    "    dims = dim(tas_model$Data)\n",
    "    nmem = dims[1]\n",
    "    ntime = dims[2]\n",
    "    nlat = dims[3]\n",
    "    nlon = dims[4]\n",
    "\n",
    "    # Vector de fechas diarias\n",
    "    dates = as.Date(tas_model$Dates$start)\n",
    "    years = factor(format(dates, \"%Y\"))\n",
    "    unique_years = levels(years)\n",
    "    n_years = length(unique_years)\n",
    "\n",
    "    # Inicializamos array para el resultado [member, year, lat, lon]\n",
    "    annual_days_members = array(NA, dim = c(nmem, n_years, nlat, nlon))\n",
    "    \n",
    "    for(m in 1:nmem) {\n",
    "        mask = (tas_model$Data[m,,,] > temp_thresh) & \n",
    "        (hr_model$Data[m,,,] >= hr_min & hr_model$Data[m,,,] <= hr_max)\n",
    "    \n",
    "        for(y in 1:n_years) {\n",
    "            # índices de días para el año actual\n",
    "            idx = which(years == unique_years[y])\n",
    "            # suma diaria por píxel (número de días que cumplen condición)\n",
    "            annual_days_members[m,y,,] = apply(mask[idx,,], c(2,3), sum, na.rm=TRUE)\n",
    "        }\n",
    "    }\n",
    "\n",
    "    # Media entre miembros por año\n",
    "    mean_over_members = apply(annual_days_members, c(2,3,4), mean, na.rm = TRUE)\n",
    "\n",
    "    # Reconstruyo grids\n",
    "    grid_members = list()\n",
    "    grid_members$Data = annual_days_members\n",
    "    attr(grid_members$Data, \"dimensions\") = c(\"member\", \"time\", \"lat\", \"lon\")\n",
    "    grid_members$xyCoords = tas_model$xyCoords\n",
    "    grid_members$Variable = tas_model$Variable\n",
    "    grid_members$Dates = tas_model$Dates\n",
    "    class(grid_members) = \"grid\"\n",
    "\n",
    "    grid_mean = list()\n",
    "    grid_mean$Data = mean_over_members\n",
    "    attr(grid_mean$Data, \"dimensions\") = c(\"time\", \"lat\", \"lon\")\n",
    "    grid_mean$xyCoords = tas_model$xyCoords\n",
    "    grid_mean$Variable = tas_model$Variable\n",
    "    grid_mean$Dates = tas_model$Dates\n",
    "    class(grid_mean) = \"grid\"\n",
    "\n",
    "    # Aplico la máscara de los datos con la dimensión de miembros\n",
    "    grid_members = gridArithmetics(grid_members, mask.model, operator = \"*\")\n",
    "    # Aplico la máscara de los datos sin la dimensión de miembros\n",
    "    grid_mean = gridArithmetics(grid_mean, mask.bin.spain, operator = \"*\")\n",
    "\n",
    "    return(list(per_member = grid_members, mean_members = grid_mean))\n",
    "}"
   ]
  },
  {
   "cell_type": "markdown",
   "id": "6739a886-d10d-4309-a1f1-4d02b83ebe7f",
   "metadata": {},
   "source": [
    "### Máscara de los datos raw"
   ]
  },
  {
   "cell_type": "code",
   "execution_count": 9,
   "id": "bf7e6b8f-ab16-4a99-b78e-47aa3fb050cf",
   "metadata": {},
   "outputs": [],
   "source": [
    "# Aplico la máscara donde evalúo las condiciones a los datos del modelo\n",
    "grid_masked_0 = compute_masked(tas_modelo_0, hr_modelo_0, temp_thresh = 15, hr_min = 80, hr_max = 100)$mean_members\n",
    "grid_masked_1 = compute_masked(tas_modelo_1, hr_modelo_1, temp_thresh = 15, hr_min = 80, hr_max = 100)$mean_members\n",
    "grid_masked_2 = compute_masked(tas_modelo_2, hr_modelo_2, temp_thresh = 15, hr_min = 80, hr_max = 100)$mean_members\n",
    "grid_masked_3 = compute_masked(tas_modelo_3, hr_modelo_3, temp_thresh = 15, hr_min = 80, hr_max = 100)$mean_members"
   ]
  },
  {
   "cell_type": "code",
   "execution_count": 10,
   "id": "33fc3181-124c-473f-bd48-679acdfc9ed9",
   "metadata": {},
   "outputs": [],
   "source": [
    "# Representación\n",
    "nd_0 = spatialPlot(climatology(grid_masked_0, by.member = FALSE), backdrop.theme = \"countries\",\n",
    "                   main = \"Raw (lt 0)\", col.regions = color, at = seq(0, 67, 0.1)) %>% suppressMessages %>% suppressWarnings\n",
    "nd_1 = spatialPlot(climatology(grid_masked_1, by.member = FALSE), backdrop.theme = \"countries\",\n",
    "                   main = \"Raw (lt 1)\", col.regions = color, at = seq(0, 67, 0.1)) %>% suppressMessages %>% suppressWarnings\n",
    "nd_2 = spatialPlot(climatology(grid_masked_2, by.member = FALSE), backdrop.theme = \"countries\",\n",
    "                   main = \"Raw (lt 2)\", col.regions = color, at = seq(0, 67, 0.1)) %>% suppressMessages %>% suppressWarnings\n",
    "nd_3 = spatialPlot(climatology(grid_masked_3, by.member = FALSE), backdrop.theme = \"countries\",\n",
    "                   main = \"Raw (lt 3)\", col.regions = color, at = seq(0, 67, 0.1)) %>% suppressMessages %>% suppressWarnings"
   ]
  },
  {
   "cell_type": "markdown",
   "id": "a5ce31f3-e508-4443-993f-a24cef7dbd8c",
   "metadata": {},
   "source": [
    "### Máscara de los datos bC"
   ]
  },
  {
   "cell_type": "code",
   "execution_count": 11,
   "id": "25f29b74-3b31-47b0-85fc-5a83989675d2",
   "metadata": {},
   "outputs": [],
   "source": [
    "# Aplico la máscara donde evalúo las condiciones a los datos del modelo\n",
    "grid_bc_masked_0 = compute_masked(bc_tas_modelo_0, hr_modelo_0, temp_thresh = 15, hr_min = 80, hr_max = 100)$mean_members\n",
    "grid_bc_masked_1 = compute_masked(bc_tas_modelo_1, hr_modelo_1, temp_thresh = 15, hr_min = 80, hr_max = 100)$mean_members\n",
    "grid_bc_masked_2 = compute_masked(bc_tas_modelo_2, hr_modelo_2, temp_thresh = 15, hr_min = 80, hr_max = 100)$mean_members\n",
    "grid_bc_masked_3 = compute_masked(bc_tas_modelo_3, hr_modelo_3, temp_thresh = 15, hr_min = 80, hr_max = 100)$mean_members"
   ]
  },
  {
   "cell_type": "code",
   "execution_count": 12,
   "id": "8ce8ebef-e82b-4e41-8514-7e47769401ed",
   "metadata": {},
   "outputs": [],
   "source": [
    "# Representación\n",
    "bc_nd_0 = spatialPlot(climatology(grid_bc_masked_0, by.member = FALSE), backdrop.theme = \"countries\",\n",
    "                      main = \"BC (lt 0)\", col.regions = color, at = seq(0, 67, 0.1)) %>% suppressMessages %>% suppressWarnings\n",
    "bc_nd_1 = spatialPlot(climatology(grid_bc_masked_1, by.member = FALSE), backdrop.theme = \"countries\",\n",
    "                      main = \"BC (lt 1)\", col.regions = color, at = seq(0, 67, 0.1)) %>% suppressMessages %>% suppressWarnings\n",
    "bc_nd_2 = spatialPlot(climatology(grid_bc_masked_2, by.member = FALSE), backdrop.theme = \"countries\",\n",
    "                      main = \"BC (lt 2)\", col.regions = color, at = seq(0, 67, 0.1)) %>% suppressMessages %>% suppressWarnings\n",
    "bc_nd_3 = spatialPlot(climatology(grid_bc_masked_3, by.member = FALSE), backdrop.theme = \"countries\",\n",
    "                      main = \"BC (lt 3)\", col.regions = color, at = seq(0, 67, 0.1)) %>% suppressMessages %>% suppressWarnings"
   ]
  },
  {
   "cell_type": "code",
   "execution_count": 28,
   "id": "e96f8d0e-22d6-41f7-bbc8-ecf37f044e88",
   "metadata": {},
   "outputs": [
    {
     "data": {
      "text/html": [
       "<strong>pdf:</strong> 2"
      ],
      "text/latex": [
       "\\textbf{pdf:} 2"
      ],
      "text/markdown": [
       "**pdf:** 2"
      ],
      "text/plain": [
       "pdf \n",
       "  2 "
      ]
     },
     "metadata": {},
     "output_type": "display_data"
    }
   ],
   "source": [
    "png(\"ndays_riesgo_botritis_model_vid.png\", width = 2000, height = 1000, res = 150)\n",
    "grid.arrange(nd_0, nd_1, nd_2, nd_3, bc_nd_0, bc_nd_1, bc_nd_2, bc_nd_3, ncol = 4)\n",
    "dev.off()"
   ]
  },
  {
   "cell_type": "markdown",
   "id": "421cd191-cf88-4a94-ba67-e3ab43082c63",
   "metadata": {},
   "source": [
    "### Máscara de los datos de ERA-5"
   ]
  },
  {
   "cell_type": "code",
   "execution_count": 13,
   "id": "34074093-fd3a-47be-99aa-33505efc5aa2",
   "metadata": {},
   "outputs": [],
   "source": [
    "# Aplico la máscara donde evalúo las condiciones\n",
    "grid_masked_obs = compute_masked_obs(tas_obs, hr_obs, temp_thresh = 15, hr_min = 80, hr_max = 100)\n",
    "\n",
    "# Representación\n",
    "nd_obs = spatialPlot(climatology(grid_masked_obs), backdrop.theme = \"countries\",\n",
    "                         main = \"Obs\", col.regions = color, at = seq(0, 67, 0.1)) %>% suppressMessages %>% suppressWarnings"
   ]
  },
  {
   "cell_type": "code",
   "execution_count": 30,
   "id": "2ebf514f-530b-4c28-a8e2-de35a91dbd98",
   "metadata": {},
   "outputs": [
    {
     "data": {
      "text/html": [
       "<strong>pdf:</strong> 2"
      ],
      "text/latex": [
       "\\textbf{pdf:} 2"
      ],
      "text/markdown": [
       "**pdf:** 2"
      ],
      "text/plain": [
       "pdf \n",
       "  2 "
      ]
     },
     "metadata": {},
     "output_type": "display_data"
    }
   ],
   "source": [
    "png(\"ndays_riesgo_botritis_obs_vid.png\", width = 2000, height = 1000, res = 150)\n",
    "grid.arrange(nd_obs, ncol = 1)\n",
    "dev.off()"
   ]
  },
  {
   "cell_type": "markdown",
   "id": "1442d4e0-f33a-4b87-b20e-79e8d7899bc1",
   "metadata": {
    "jp-MarkdownHeadingCollapsed": true
   },
   "source": [
    "## Bias ndays"
   ]
  },
  {
   "cell_type": "code",
   "execution_count": 18,
   "id": "39708017-a57f-4a99-ac21-f873f8fbc3bb",
   "metadata": {},
   "outputs": [],
   "source": [
    "# Uilizo los datos con la dimensión de miembro\n",
    "grid_mem_masked_0 = compute_masked(tas_modelo_0, hr_modelo_0, temp_thresh = 15, hr_min = 80, hr_max = 100)$per_member\n",
    "grid_mem_masked_1 = compute_masked(tas_modelo_1, hr_modelo_1, temp_thresh = 15, hr_min = 80, hr_max = 100)$per_member\n",
    "grid_mem_masked_2 = compute_masked(tas_modelo_2, hr_modelo_2, temp_thresh = 15, hr_min = 80, hr_max = 100)$per_member\n",
    "grid_mem_masked_3 = compute_masked(tas_modelo_3, hr_modelo_3, temp_thresh = 15, hr_min = 80, hr_max = 100)$per_member\n",
    "\n",
    "bc_grid_mem_masked_0 = compute_masked(bc_tas_modelo_0, hr_modelo_0, temp_thresh = 15, hr_min = 80, hr_max = 100)$per_member\n",
    "bc_grid_mem_masked_1 = compute_masked(bc_tas_modelo_1, hr_modelo_1, temp_thresh = 15, hr_min = 80, hr_max = 100)$per_member\n",
    "bc_grid_mem_masked_2 = compute_masked(bc_tas_modelo_2, hr_modelo_2, temp_thresh = 15, hr_min = 80, hr_max = 100)$per_member\n",
    "bc_grid_mem_masked_3 = compute_masked(bc_tas_modelo_3, hr_modelo_3, temp_thresh = 15, hr_min = 80, hr_max = 100)$per_member"
   ]
  },
  {
   "cell_type": "markdown",
   "id": "f74237de-b584-48b9-96eb-39e0aeb72c6c",
   "metadata": {},
   "source": [
    "### obs y raw"
   ]
  },
  {
   "cell_type": "code",
   "execution_count": 37,
   "id": "f340f68b-30ae-4b1c-abee-b9231b984772",
   "metadata": {},
   "outputs": [],
   "source": [
    "# Calculo del bias del ndays para cada leadtime del modelo\n",
    "bias_tas_days_0 = veriApply(verifun = \"EnsMe\", \n",
    "                            fcst = grid_mem_masked_0$Data, \n",
    "                            obs = grid_masked_obs$Data, \n",
    "                            ensdim = 1, tdim = 2) %>% suppressMessages %>% suppressWarnings\n",
    "\n",
    "bias_tas_days_1 = veriApply(verifun = \"EnsMe\", \n",
    "                            fcst = grid_mem_masked_1$Data, \n",
    "                            obs = grid_masked_obs$Data, \n",
    "                            ensdim = 1, tdim = 2) %>% suppressMessages %>% suppressWarnings\n",
    "\n",
    "bias_tas_days_2 = veriApply(verifun = \"EnsMe\", \n",
    "                            fcst = grid_mem_masked_2$Data, \n",
    "                            obs = grid_masked_obs$Data, \n",
    "                            ensdim = 1, tdim = 2) %>% suppressMessages %>% suppressWarnings\n",
    "\n",
    "bias_tas_days_3 = veriApply(verifun = \"EnsMe\", \n",
    "                            fcst = grid_mem_masked_3$Data, \n",
    "                            obs = grid_masked_obs$Data, \n",
    "                            ensdim = 1, tdim = 2) %>% suppressMessages %>% suppressWarnings\n",
    "\n",
    "# Reconstrucción del grid\n",
    "bias_ndtas_grid_0 = easyVeri2grid(easyVeri.mat = bias_tas_days_0, obs.grid = tas_obs, verifun = \"EnsMe\")\n",
    "bias_ndtas_grid_1 = easyVeri2grid(easyVeri.mat = bias_tas_days_1, obs.grid = tas_obs, verifun = \"EnsMe\")\n",
    "bias_ndtas_grid_2 = easyVeri2grid(easyVeri.mat = bias_tas_days_2, obs.grid = tas_obs, verifun = \"EnsMe\")\n",
    "bias_ndtas_grid_3 = easyVeri2grid(easyVeri.mat = bias_tas_days_3, obs.grid = tas_obs, verifun = \"EnsMe\")"
   ]
  },
  {
   "cell_type": "code",
   "execution_count": 42,
   "id": "ed7d4779-00be-437d-af74-4a40566b60a5",
   "metadata": {},
   "outputs": [],
   "source": [
    "# Representación\n",
    "bias_tas_0 = spatialPlot(climatology(bias_ndtas_grid_0),\n",
    "                         backdrop.theme = \"countries\",\n",
    "                         col.regions = color,\n",
    "                         main = \"Raw (lt 0)\",\n",
    "                         at = seq(-25, 25, 1)) %>% suppressMessages %>% suppressWarnings\n",
    "\n",
    "bias_tas_1 = spatialPlot(climatology(bias_ndtas_grid_1),\n",
    "                         backdrop.theme = \"countries\",\n",
    "                         col.regions = color,\n",
    "                         main = \"Raw (lt 1)\",\n",
    "                         at = seq(-25, 25, 1)) %>% suppressMessages %>% suppressWarnings\n",
    "\n",
    "bias_tas_2 = spatialPlot(climatology(bias_ndtas_grid_2),\n",
    "                         backdrop.theme = \"countries\",\n",
    "                         col.regions = color,\n",
    "                         main = \"Raw (lt 2)\",\n",
    "                         at = seq(-25, 25, 1)) %>% suppressMessages %>% suppressWarnings\n",
    "\n",
    "bias_tas_3 = spatialPlot(climatology(bias_ndtas_grid_3),\n",
    "                         backdrop.theme = \"countries\",\n",
    "                         col.regions = color,\n",
    "                         main = \"Raw (lt 3)\",\n",
    "                         at = seq(-25, 25, 1)) %>% suppressMessages %>% suppressWarnings"
   ]
  },
  {
   "cell_type": "markdown",
   "id": "50901fd6-4bfa-4b8a-899e-268630858fca",
   "metadata": {},
   "source": [
    "### obs y bC"
   ]
  },
  {
   "cell_type": "code",
   "execution_count": 43,
   "id": "1ea94943-498e-4753-a1fc-cee071bf6a21",
   "metadata": {},
   "outputs": [],
   "source": [
    "# Calculo del bias del ndays para cada leadtime del modelo (bias corregido)\n",
    "bc_bias_tas_days_0 = veriApply(verifun = \"EnsMe\", \n",
    "                               fcst = bc_grid_mem_masked_0$Data, \n",
    "                               obs = grid_masked_obs$Data, \n",
    "                               ensdim = 1, tdim = 2) %>% suppressMessages %>% suppressWarnings\n",
    "\n",
    "bc_bias_tas_days_1 = veriApply(verifun = \"EnsMe\", \n",
    "                               fcst = bc_grid_mem_masked_1$Data, \n",
    "                               obs = grid_masked_obs$Data, \n",
    "                               ensdim = 1, tdim = 2) %>% suppressMessages %>% suppressWarnings\n",
    "\n",
    "bc_bias_tas_days_2 = veriApply(verifun = \"EnsMe\", \n",
    "                               fcst = bc_grid_mem_masked_2$Data, \n",
    "                               obs = grid_masked_obs$Data, \n",
    "                               ensdim = 1, tdim = 2) %>% suppressMessages %>% suppressWarnings\n",
    "\n",
    "bc_bias_tas_days_3 = veriApply(verifun = \"EnsMe\", \n",
    "                               fcst = bc_grid_mem_masked_3$Data, \n",
    "                               obs = grid_masked_obs$Data, \n",
    "                               ensdim = 1, tdim = 2) %>% suppressMessages %>% suppressWarnings\n",
    "\n",
    "# Reconstrucción del grid\n",
    "bc_bias_ndtas_grid_0 = easyVeri2grid(easyVeri.mat = bc_bias_tas_days_0, obs.grid = tas_obs, verifun = \"EnsMe\")\n",
    "bc_bias_ndtas_grid_1 = easyVeri2grid(easyVeri.mat = bc_bias_tas_days_1, obs.grid = tas_obs, verifun = \"EnsMe\")\n",
    "bc_bias_ndtas_grid_2 = easyVeri2grid(easyVeri.mat = bc_bias_tas_days_2, obs.grid = tas_obs, verifun = \"EnsMe\")\n",
    "bc_bias_ndtas_grid_3 = easyVeri2grid(easyVeri.mat = bc_bias_tas_days_3, obs.grid = tas_obs, verifun = \"EnsMe\")"
   ]
  },
  {
   "cell_type": "code",
   "execution_count": 44,
   "id": "ec0297dc-30ff-406b-87a4-58bcb3016d49",
   "metadata": {},
   "outputs": [],
   "source": [
    "# Representación\n",
    "bc_bias_tas_0 = spatialPlot(climatology(bc_bias_ndtas_grid_0),\n",
    "                            backdrop.theme = \"countries\",\n",
    "                            col.regions = color,\n",
    "                            main = \"BC (lt 0)\",\n",
    "                            at = seq(-25, 25, 1)) %>% suppressMessages %>% suppressWarnings\n",
    "\n",
    "bc_bias_tas_1 = spatialPlot(climatology(bc_bias_ndtas_grid_1),\n",
    "                            backdrop.theme = \"countries\",\n",
    "                            col.regions = color,\n",
    "                            main = \"BC (lt 1)\",\n",
    "                            at = seq(-25, 25, 1)) %>% suppressMessages %>% suppressWarnings\n",
    "\n",
    "bc_bias_tas_2 = spatialPlot(climatology(bc_bias_ndtas_grid_2),\n",
    "                            backdrop.theme = \"countries\",\n",
    "                            col.regions = color,\n",
    "                            main = \"BC (lt 2)\",\n",
    "                            at = seq(-25, 25, 1)) %>% suppressMessages %>% suppressWarnings\n",
    "\n",
    "bc_bias_tas_3 = spatialPlot(climatology(bc_bias_ndtas_grid_3),\n",
    "                            backdrop.theme = \"countries\",\n",
    "                            col.regions = color,\n",
    "                            main = \"BC (lt 3)\",\n",
    "                            at = seq(-25, 25, 1)) %>% suppressMessages %>% suppressWarnings"
   ]
  },
  {
   "cell_type": "code",
   "execution_count": 45,
   "id": "730aa7b7-df96-4bc2-996d-a560575ffb99",
   "metadata": {},
   "outputs": [
    {
     "data": {
      "text/html": [
       "<strong>pdf:</strong> 2"
      ],
      "text/latex": [
       "\\textbf{pdf:} 2"
      ],
      "text/markdown": [
       "**pdf:** 2"
      ],
      "text/plain": [
       "pdf \n",
       "  2 "
      ]
     },
     "metadata": {},
     "output_type": "display_data"
    }
   ],
   "source": [
    "png(\"bias_ndays_botritis_vid.png\", width = 2000, height = 1000, res = 150)\n",
    "grid.arrange(bias_tas_0, bias_tas_1, bias_tas_2, bias_tas_3,\n",
    "             bc_bias_tas_0, bc_bias_tas_1, bc_bias_tas_2, bc_bias_tas_3, ncol = 4)\n",
    "dev.off()"
   ]
  },
  {
   "cell_type": "markdown",
   "id": "efbbf3db-8540-4470-92ff-74384775bfd4",
   "metadata": {
    "jp-MarkdownHeadingCollapsed": true
   },
   "source": [
    "## Correlación ndays"
   ]
  },
  {
   "cell_type": "markdown",
   "id": "08059502-d652-4c8a-846a-0a36110b04de",
   "metadata": {
    "jp-MarkdownHeadingCollapsed": true
   },
   "source": [
    "### test de hipótesis para puntos significativos"
   ]
  },
  {
   "cell_type": "code",
   "execution_count": 46,
   "id": "2cf23fb6-d3c4-4498-a613-2251dc9ecb62",
   "metadata": {},
   "outputs": [],
   "source": [
    "# Función para calcular correlación de Pearson y valores p entre datos de modelo y observaciones en una grilla espacial\n",
    "# Además, identifica y marca los puntos con correlación estadísticamente significativa según un umbral de p-valor\n",
    "#\n",
    "# Args:\n",
    "#   model_data: objeto con datos del modelo, estructura esperada con dimensión [miembros, tiempo, latitud, longitud]\n",
    "#   obs_data: objeto con datos observacionales, estructura con dimensión [tiempo, latitud, longitud]\n",
    "#   ref_grid: objeto referencia con metadatos espaciales y temporales para construir grillas (xyCoords, Variable, Dates)\n",
    "#   threshold: umbral para marcar significancia estadística (p-valor), default 0.05\n",
    "#\n",
    "# Returns:\n",
    "#   Lista con:\n",
    "#     - cor: matriz de correlaciones [lat x lon]\n",
    "#     - pval: matriz de valores p [lat x lon]\n",
    "#     - pval_grid: objeto tipo \"grid\" con valores p y metadatos\n",
    "#     - pts: lista de objetos para graficar puntos de significancia (stippling)\n",
    "\n",
    "calc_cor_pval_grid = function(model_data, obs_data, ref_grid, threshold = 0.05) {\n",
    "    \n",
    "    # Calcular la media del ensamble para cada punto [tiempo, lat, lon]\n",
    "    ens_mean = apply(model_data$Data, c(2, 3, 4), mean, na.rm = TRUE)\n",
    "    \n",
    "    # Dimensiones espaciales (latitud y longitud)\n",
    "    lat_n = dim(ens_mean)[2]\n",
    "    lon_n = dim(ens_mean)[3]\n",
    "  \n",
    "    # Inicializar matrices vacías para almacenar correlaciones y p-valores\n",
    "    cor_array = matrix(NA, nrow = lat_n, ncol = lon_n)\n",
    "    pval_array = matrix(NA, nrow = lat_n, ncol = lon_n)\n",
    "    \n",
    "    # Iterar sobre cada punto espacial\n",
    "    for (i in 1:lat_n) {\n",
    "        for (j in 1:lon_n) {\n",
    "            \n",
    "            # Extraer series temporales de modelo y observaciones para la celda actual\n",
    "            pred_series = ens_mean[, i, j]\n",
    "            obs_series = obs_data$Data[, i, j]\n",
    "      \n",
    "            # Filtrar índices con datos completos (no NA)\n",
    "            valid_idx = complete.cases(pred_series, obs_series)\n",
    "            \n",
    "            # Solo calcular correlación si hay suficientes datos (mínimo 10)\n",
    "            if (sum(valid_idx) >= 10) {\n",
    "                test = cor.test(pred_series[valid_idx], obs_series[valid_idx], method = \"pearson\")\n",
    "                cor_array[i, j] = test$estimate  # Coeficiente de correlación\n",
    "                pval_array[i, j] = test$p.value  # Valor p de la prueba\n",
    "            }\n",
    "        }\n",
    "    }\n",
    "  \n",
    "    # Construir un objeto \"grid\" para los valores p, con metadatos espaciales y temporales\n",
    "    pval_grid = list()\n",
    "    pval_grid$Data = pval_array\n",
    "    attr(pval_grid$Data, \"dimensions\") = c(\"lat\", \"lon\")\n",
    "    pval_grid$xyCoords = ref_grid$xyCoords\n",
    "    pval_grid$Variable = ref_grid$Variable\n",
    "    pval_grid$Dates = ref_grid$Dates\n",
    "    class(pval_grid) = \"grid\"\n",
    "\n",
    "    pval_grid$Variable$varName = \"p-values\"\n",
    "    attr(pval_grid$Variable, \"description\") = \"Mapa de p-valores\"\n",
    "    attr(pval_grid$Variable, \"units\") = \"\"\n",
    "    attr(pval_grid$Variable, \"longname\") = \"p-values\"\n",
    "    \n",
    "    # Crear objetos para graficar puntos de significancia estadística (stippling)\n",
    "    pts = map.stippling(climatology(pval_grid), \n",
    "                        threshold = threshold, \n",
    "                        condition = \"LT\", \n",
    "                        pch = 19, col = \"black\", cex = 0.5) %>% suppressMessages() %>% suppressWarnings()\n",
    "    \n",
    "    # Devolver lista con resultados y objetos para plot\n",
    "    return(list(cor = cor_array, pval = pval_array, pval_grid = pval_grid, pts = pts))\n",
    "}"
   ]
  },
  {
   "cell_type": "code",
   "execution_count": 55,
   "id": "b0ef83c0-12bb-445f-8301-9fa11e86754b",
   "metadata": {},
   "outputs": [],
   "source": [
    "# Datos raw tas\n",
    "test_cor_tas_0 = calc_cor_pval_grid(grid_mem_masked_0, grid_masked_obs, grid_mem_masked_0)\n",
    "test_cor_tas_1 = calc_cor_pval_grid(grid_mem_masked_1, grid_masked_obs, grid_mem_masked_1)\n",
    "test_cor_tas_2 = calc_cor_pval_grid(grid_mem_masked_2, grid_masked_obs, grid_mem_masked_2)\n",
    "test_cor_tas_3 = calc_cor_pval_grid(grid_mem_masked_3, grid_masked_obs, grid_mem_masked_3)\n",
    "\n",
    "# Datos bC tas\n",
    "test_cor_tas_0_bc = calc_cor_pval_grid(bc_grid_mem_masked_0, grid_masked_obs, bc_grid_mem_masked_0)\n",
    "test_cor_tas_1_bc = calc_cor_pval_grid(bc_grid_mem_masked_0, grid_masked_obs, bc_grid_mem_masked_0)\n",
    "test_cor_tas_2_bc = calc_cor_pval_grid(bc_grid_mem_masked_0, grid_masked_obs, bc_grid_mem_masked_0)\n",
    "test_cor_tas_3_bc = calc_cor_pval_grid(bc_grid_mem_masked_0, grid_masked_obs, bc_grid_mem_masked_0)"
   ]
  },
  {
   "cell_type": "markdown",
   "id": "d74b4636-6ae8-4815-939c-6b0edc137fe3",
   "metadata": {},
   "source": [
    "### obs y raw"
   ]
  },
  {
   "cell_type": "code",
   "execution_count": 48,
   "id": "308de075-0223-4db7-b13f-6ff0cab464b4",
   "metadata": {},
   "outputs": [],
   "source": [
    "# Calculo de correlacion para cada leadtime del modelo\n",
    "cor_ndays_tas_0 = veriApply(verifun = \"EnsCorr\",\n",
    "                            fcst = grid_mem_masked_0$Data, \n",
    "                            obs = grid_masked_obs$Data, \n",
    "                            ensdim = 1, tdim = 2) %>% suppressMessages %>% suppressWarnings\n",
    "\n",
    "cor_ndays_tas_1 = veriApply(verifun = \"EnsCorr\",\n",
    "                            fcst = grid_mem_masked_1$Data, \n",
    "                            obs = grid_masked_obs$Data, \n",
    "                            ensdim = 1, tdim = 2) %>% suppressMessages %>% suppressWarnings\n",
    "\n",
    "cor_ndays_tas_2 = veriApply(verifun = \"EnsCorr\",\n",
    "                            fcst = grid_mem_masked_2$Data, \n",
    "                            obs = grid_masked_obs$Data, \n",
    "                            ensdim = 1, tdim = 2) %>% suppressMessages %>% suppressWarnings\n",
    "\n",
    "cor_ndays_tas_3 = veriApply(verifun = \"EnsCorr\",\n",
    "                            fcst = grid_mem_masked_3$Data, \n",
    "                            obs = grid_masked_obs$Data, \n",
    "                            ensdim = 1, tdim = 2) %>% suppressMessages %>% suppressWarnings\n",
    "\n",
    "# Reconstrucción del grid\n",
    "cor_ndtas_grid_0 = easyVeri2grid(easyVeri.mat = cor_ndays_tas_0, obs.grid = tas_obs, verifun = \"EnsCorr\")\n",
    "cor_ndtas_grid_1 = easyVeri2grid(easyVeri.mat = cor_ndays_tas_1, obs.grid = tas_obs, verifun = \"EnsCorr\")\n",
    "cor_ndtas_grid_2 = easyVeri2grid(easyVeri.mat = cor_ndays_tas_2, obs.grid = tas_obs, verifun = \"EnsCorr\")\n",
    "cor_ndtas_grid_3 = easyVeri2grid(easyVeri.mat = cor_ndays_tas_3, obs.grid = tas_obs, verifun = \"EnsCorr\")"
   ]
  },
  {
   "cell_type": "code",
   "execution_count": 52,
   "id": "1603eed1-aba5-4e32-9740-2bef8669526b",
   "metadata": {},
   "outputs": [],
   "source": [
    "# Representación\n",
    "c0_tas = spatialPlot(climatology(cor_ndtas_grid_0),\n",
    "                     backdrop.theme = \"countries\",\n",
    "                     sp.layout = list(test_cor_tas_0$pts),\n",
    "                     col.regions = color,\n",
    "                     at = seq(-1, 1, 0.1),\n",
    "                     main = \"Raw (lt 0)\") %>% suppressMessages %>% suppressWarnings\n",
    "\n",
    "c1_tas = spatialPlot(climatology(cor_ndtas_grid_1),\n",
    "                     backdrop.theme = \"countries\",\n",
    "                     sp.layout = list(test_cor_tas_1$pts),\n",
    "                     col.regions = color,\n",
    "                     at = seq(-1, 1, 0.1),\n",
    "                     main = \"Raw (lt 1)\") %>% suppressMessages %>% suppressWarnings\n",
    "\n",
    "c2_tas = spatialPlot(climatology(cor_ndtas_grid_2),\n",
    "                     backdrop.theme = \"countries\",\n",
    "                     sp.layout = list(test_cor_tas_2$pts),\n",
    "                     col.regions = color,\n",
    "                     at = seq(-1, 1, 0.1),\n",
    "                     main = \"Raw (lt 2)\") %>% suppressMessages %>% suppressWarnings\n",
    "\n",
    "c3_tas = spatialPlot(climatology(cor_ndtas_grid_3),\n",
    "                     backdrop.theme = \"countries\",\n",
    "                     sp.layout = list(test_cor_tas_3$pts),\n",
    "                     col.regions = color,\n",
    "                     at = seq(-1, 1, 0.1),\n",
    "                     main = \"Raw (lt 3)\") %>% suppressMessages %>% suppressWarnings"
   ]
  },
  {
   "cell_type": "markdown",
   "id": "d7e25146-66f8-4654-a664-75e3ffde10cf",
   "metadata": {},
   "source": [
    "### obs y bC"
   ]
  },
  {
   "cell_type": "code",
   "execution_count": 51,
   "id": "d604c239-ae8e-476e-b3f1-693cea55f8e9",
   "metadata": {},
   "outputs": [],
   "source": [
    "# Calculo de correlacion para cada leadtime del modelo\n",
    "bc_cor_ndays_tas_0 = veriApply(verifun = \"EnsCorr\",\n",
    "                               fcst = bc_grid_mem_masked_0$Data, \n",
    "                               obs = grid_masked_obs$Data, \n",
    "                               ensdim = 1, tdim = 2) %>% suppressMessages %>% suppressWarnings\n",
    "\n",
    "# Calculo de correlacion para cada leadtime del modelo\n",
    "bc_cor_ndays_tas_1 = veriApply(verifun = \"EnsCorr\",\n",
    "                               fcst = bc_grid_mem_masked_1$Data, \n",
    "                               obs = grid_masked_obs$Data, \n",
    "                               ensdim = 1, tdim = 2) %>% suppressMessages %>% suppressWarnings\n",
    "\n",
    "# Calculo de correlacion para cada leadtime del modelo\n",
    "bc_cor_ndays_tas_2 = veriApply(verifun = \"EnsCorr\",\n",
    "                               fcst = bc_grid_mem_masked_2$Data, \n",
    "                               obs = grid_masked_obs$Data, \n",
    "                               ensdim = 1, tdim = 2) %>% suppressMessages %>% suppressWarnings\n",
    "\n",
    "# Calculo de correlacion para cada leadtime del modelo\n",
    "bc_cor_ndays_tas_3 = veriApply(verifun = \"EnsCorr\",\n",
    "                               fcst = bc_grid_mem_masked_3$Data, \n",
    "                               obs = grid_masked_obs$Data, \n",
    "                               ensdim = 1, tdim = 2) %>% suppressMessages %>% suppressWarnings\n",
    "\n",
    "# Reconstrucción del grid\n",
    "bc_cor_ndtas_grid_0 = easyVeri2grid(easyVeri.mat = bc_cor_ndays_tas_0, obs.grid = tas_obs, verifun = \"EnsCorr\")\n",
    "bc_cor_ndtas_grid_1 = easyVeri2grid(easyVeri.mat = bc_cor_ndays_tas_1, obs.grid = tas_obs, verifun = \"EnsCorr\")\n",
    "bc_cor_ndtas_grid_2 = easyVeri2grid(easyVeri.mat = bc_cor_ndays_tas_2, obs.grid = tas_obs, verifun = \"EnsCorr\")\n",
    "bc_cor_ndtas_grid_3 = easyVeri2grid(easyVeri.mat = bc_cor_ndays_tas_3, obs.grid = tas_obs, verifun = \"EnsCorr\")"
   ]
  },
  {
   "cell_type": "code",
   "execution_count": 53,
   "id": "fda10ddc-4d71-41c8-ab6a-611257710919",
   "metadata": {},
   "outputs": [],
   "source": [
    "# Representación\n",
    "bc_c0_tas = spatialPlot(climatology(bc_cor_ndtas_grid_0),\n",
    "                        backdrop.theme = \"countries\",\n",
    "                        sp.layout = list(test_cor_tas_0_bc$pts),\n",
    "                        col.regions = color,\n",
    "                        at = seq(-1, 1, 0.1),\n",
    "                        main = \"BC (lt 0)\") %>% suppressMessages %>% suppressWarnings\n",
    "\n",
    "bc_c1_tas = spatialPlot(climatology(bc_cor_ndtas_grid_1),\n",
    "                        backdrop.theme = \"countries\",\n",
    "                        sp.layout = list(test_cor_tas_1_bc$pts),\n",
    "                        col.regions = color,\n",
    "                        at = seq(-1, 1, 0.1),\n",
    "                        main = \"BC (lt 1)\") %>% suppressMessages %>% suppressWarnings\n",
    "\n",
    "bc_c2_tas = spatialPlot(climatology(bc_cor_ndtas_grid_2),\n",
    "                        backdrop.theme = \"countries\",\n",
    "                        sp.layout = list(test_cor_tas_2_bc$pts),\n",
    "                        col.regions = color,\n",
    "                        at = seq(-1, 1, 0.1),\n",
    "                        main = \"BC (lt 2)\") %>% suppressMessages %>% suppressWarnings\n",
    "\n",
    "bc_c3_tas = spatialPlot(climatology(bc_cor_ndtas_grid_3),\n",
    "                        backdrop.theme = \"countries\",\n",
    "                        sp.layout = list(test_cor_tas_3_bc$pts),\n",
    "                        col.regions = color,\n",
    "                        at = seq(-1, 1, 0.1),\n",
    "                        main = \"BC (lt 3)\") %>% suppressMessages %>% suppressWarnings"
   ]
  },
  {
   "cell_type": "code",
   "execution_count": 54,
   "id": "5cf99da8-f802-4a32-ab41-173c9a171f2c",
   "metadata": {},
   "outputs": [
    {
     "data": {
      "text/html": [
       "<strong>pdf:</strong> 2"
      ],
      "text/latex": [
       "\\textbf{pdf:} 2"
      ],
      "text/markdown": [
       "**pdf:** 2"
      ],
      "text/plain": [
       "pdf \n",
       "  2 "
      ]
     },
     "metadata": {},
     "output_type": "display_data"
    }
   ],
   "source": [
    "png(\"cor_ndays_botritis_vid.png\", width = 2000, height = 1000, res = 150)\n",
    "grid.arrange(c0_tas, c1_tas, c2_tas, c3_tas, bc_c0_tas, bc_c1_tas, bc_c2_tas, bc_c3_tas, ncol = 4)\n",
    "dev.off()"
   ]
  },
  {
   "cell_type": "markdown",
   "id": "46d6d3bf-07a6-4992-93f0-d6a36046c5f7",
   "metadata": {
    "jp-MarkdownHeadingCollapsed": true
   },
   "source": [
    "## RMSE ndays"
   ]
  },
  {
   "cell_type": "markdown",
   "id": "83ed7abb-8cff-45d2-80d4-4897cdb8a36b",
   "metadata": {},
   "source": [
    "### obs y raw"
   ]
  },
  {
   "cell_type": "code",
   "execution_count": 56,
   "id": "7b210355-d115-47a0-8e76-93b7d3eb4e8e",
   "metadata": {},
   "outputs": [],
   "source": [
    "# Calculo del RMSE del ndays para cada leadtime del modelo\n",
    "rmse_tas_days_0 = veriApply(verifun = \"EnsRmse\", \n",
    "                            fcst = grid_mem_masked_0$Data, \n",
    "                            obs = grid_masked_obs$Data, \n",
    "                            ensdim = 1, tdim = 2) %>% suppressMessages %>% suppressWarnings\n",
    "\n",
    "rmse_tas_days_1 = veriApply(verifun = \"EnsRmse\", \n",
    "                            fcst = grid_mem_masked_1$Data, \n",
    "                            obs = grid_masked_obs$Data, \n",
    "                            ensdim = 1, tdim = 2) %>% suppressMessages %>% suppressWarnings\n",
    "\n",
    "rmse_tas_days_2 = veriApply(verifun = \"EnsRmse\", \n",
    "                            fcst = grid_mem_masked_2$Data, \n",
    "                            obs = grid_masked_obs$Data, \n",
    "                            ensdim = 1, tdim = 2) %>% suppressMessages %>% suppressWarnings\n",
    "\n",
    "rmse_tas_days_3 = veriApply(verifun = \"EnsRmse\", \n",
    "                            fcst = grid_mem_masked_3$Data, \n",
    "                            obs = grid_masked_obs$Data, \n",
    "                            ensdim = 1, tdim = 2) %>% suppressMessages %>% suppressWarnings\n",
    "\n",
    "# Reconstrucción del grid\n",
    "rmse_ndtas_grid_0 = easyVeri2grid(easyVeri.mat = rmse_tas_days_0, obs.grid = tas_obs, verifun = \"EnsRmse\")\n",
    "rmse_ndtas_grid_1 = easyVeri2grid(easyVeri.mat = rmse_tas_days_1, obs.grid = tas_obs, verifun = \"EnsRmse\")\n",
    "rmse_ndtas_grid_2 = easyVeri2grid(easyVeri.mat = rmse_tas_days_2, obs.grid = tas_obs, verifun = \"EnsRmse\")\n",
    "rmse_ndtas_grid_3 = easyVeri2grid(easyVeri.mat = rmse_tas_days_3, obs.grid = tas_obs, verifun = \"EnsRmse\")"
   ]
  },
  {
   "cell_type": "code",
   "execution_count": 68,
   "id": "f84846ae-6c21-4f7b-8693-ebedc52edec4",
   "metadata": {},
   "outputs": [],
   "source": [
    "# Representación RMSE\n",
    "rmse_tas_0 = spatialPlot(climatology(rmse_ndtas_grid_0),\n",
    "                         backdrop.theme = \"countries\",\n",
    "                         col.regions = color,\n",
    "                         main = \"Raw (lt 0)\",\n",
    "                         at = seq(0, 30, 1)) %>% suppressMessages %>% suppressWarnings\n",
    "\n",
    "rmse_tas_1 = spatialPlot(climatology(rmse_ndtas_grid_1),\n",
    "                         backdrop.theme = \"countries\",\n",
    "                         col.regions = color,\n",
    "                         main = \"Raw (lt 1)\",\n",
    "                         at = seq(0, 30, 1)) %>% suppressMessages %>% suppressWarnings\n",
    "\n",
    "rmse_tas_2 = spatialPlot(climatology(rmse_ndtas_grid_2),\n",
    "                         backdrop.theme = \"countries\",\n",
    "                         col.regions = color,\n",
    "                         main = \"Raw (lt 2)\",\n",
    "                         at = seq(0, 30, 1)) %>% suppressMessages %>% suppressWarnings\n",
    "\n",
    "rmse_tas_3 = spatialPlot(climatology(rmse_ndtas_grid_3),\n",
    "                         backdrop.theme = \"countries\",\n",
    "                         col.regions = color,\n",
    "                         main = \"Raw (lt 3)\",\n",
    "                         at = seq(0, 30, 1)) %>% suppressMessages %>% suppressWarnings"
   ]
  },
  {
   "cell_type": "markdown",
   "id": "f10a2cdc-0c8e-4ad6-b8a4-5076cf01d16f",
   "metadata": {},
   "source": [
    "### obs y bC"
   ]
  },
  {
   "cell_type": "code",
   "execution_count": 62,
   "id": "11e84446-992d-42fe-9911-352900907947",
   "metadata": {},
   "outputs": [],
   "source": [
    "# Calculo del RMSE del ndays para cada leadtime del modelo\n",
    "bc_rmse_tas_days_0 = veriApply(verifun = \"EnsRmse\", \n",
    "                               fcst = bc_grid_mem_masked_0$Data, \n",
    "                               obs = grid_masked_obs$Data, \n",
    "                               ensdim = 1, tdim = 2) %>% suppressMessages %>% suppressWarnings\n",
    "\n",
    "bc_rmse_tas_days_1 = veriApply(verifun = \"EnsRmse\", \n",
    "                               fcst = bc_grid_mem_masked_1$Data, \n",
    "                               obs = grid_masked_obs$Data, \n",
    "                               ensdim = 1, tdim = 2) %>% suppressMessages %>% suppressWarnings\n",
    "\n",
    "bc_rmse_tas_days_2 = veriApply(verifun = \"EnsRmse\", \n",
    "                               fcst = bc_grid_mem_masked_2$Data, \n",
    "                               obs = grid_masked_obs$Data, \n",
    "                               ensdim = 1, tdim = 2) %>% suppressMessages %>% suppressWarnings\n",
    "\n",
    "bc_rmse_tas_days_3 = veriApply(verifun = \"EnsRmse\", \n",
    "                               fcst = bc_grid_mem_masked_3$Data, \n",
    "                               obs = grid_masked_obs$Data, \n",
    "                               ensdim = 1, tdim = 2) %>% suppressMessages %>% suppressWarnings\n",
    "\n",
    "# Reconstrucción del grid\n",
    "bc_rmse_ndtas_grid_0 = easyVeri2grid(easyVeri.mat = bc_rmse_tas_days_0, obs.grid = tas_obs, verifun = \"EnsRmse\")\n",
    "bc_rmse_ndtas_grid_1 = easyVeri2grid(easyVeri.mat = bc_rmse_tas_days_1, obs.grid = tas_obs, verifun = \"EnsRmse\")\n",
    "bc_rmse_ndtas_grid_2 = easyVeri2grid(easyVeri.mat = bc_rmse_tas_days_2, obs.grid = tas_obs, verifun = \"EnsRmse\")\n",
    "bc_rmse_ndtas_grid_3 = easyVeri2grid(easyVeri.mat = bc_rmse_tas_days_3, obs.grid = tas_obs, verifun = \"EnsRmse\")"
   ]
  },
  {
   "cell_type": "code",
   "execution_count": 69,
   "id": "2db1bb30-7341-43f0-8b69-953949ee9ee5",
   "metadata": {},
   "outputs": [],
   "source": [
    "# Representación\n",
    "bc_rmse_tas_0 = spatialPlot(climatology(bc_rmse_ndtas_grid_0),\n",
    "                            backdrop.theme = \"countries\",\n",
    "                            col.regions = color,\n",
    "                            main = \"BC (lt 0)\",\n",
    "                            at = seq(0, 30, 1)) %>% suppressMessages %>% suppressWarnings\n",
    "\n",
    "bc_rmse_tas_1 = spatialPlot(climatology(bc_rmse_ndtas_grid_1),\n",
    "                            backdrop.theme = \"countries\",\n",
    "                            col.regions = color,\n",
    "                            main = \"BC (lt 1)\",\n",
    "                            at = seq(0, 30, 1)) %>% suppressMessages %>% suppressWarnings\n",
    "\n",
    "bc_rmse_tas_2 = spatialPlot(climatology(bc_rmse_ndtas_grid_2),\n",
    "                            backdrop.theme = \"countries\",\n",
    "                            col.regions = color,\n",
    "                            main = \"BC (lt 2)\",\n",
    "                            at = seq(0, 30, 1)) %>% suppressMessages %>% suppressWarnings\n",
    "\n",
    "bc_rmse_tas_3 = spatialPlot(climatology(bc_rmse_ndtas_grid_3),\n",
    "                            backdrop.theme = \"countries\",\n",
    "                            col.regions = color,\n",
    "                            main = \"BC (lt 3)\",\n",
    "                            at = seq(0, 30, 1)) %>% suppressMessages %>% suppressWarnings"
   ]
  },
  {
   "cell_type": "code",
   "execution_count": 72,
   "id": "bab14564-79fa-4948-ae03-36ebd1c11d18",
   "metadata": {},
   "outputs": [
    {
     "data": {
      "text/html": [
       "<strong>pdf:</strong> 2"
      ],
      "text/latex": [
       "\\textbf{pdf:} 2"
      ],
      "text/markdown": [
       "**pdf:** 2"
      ],
      "text/plain": [
       "pdf \n",
       "  2 "
      ]
     },
     "metadata": {},
     "output_type": "display_data"
    }
   ],
   "source": [
    "png(\"rmse_ndays_botritis_vid.png\", width = 2000, height = 1000, res = 150)\n",
    "\n",
    "grid.arrange(rmse_tas_0, rmse_tas_1, rmse_tas_2, rmse_tas_3,\n",
    "             bc_rmse_tas_0, bc_rmse_tas_1, bc_rmse_tas_2, bc_rmse_tas_3, ncol = 4)\n",
    "dev.off()"
   ]
  },
  {
   "cell_type": "markdown",
   "id": "a95e55dd-e14d-414c-ae5b-6343df01ed75",
   "metadata": {
    "jp-MarkdownHeadingCollapsed": true
   },
   "source": [
    "## Ratio varianzas ndays"
   ]
  },
  {
   "cell_type": "markdown",
   "id": "4884aaad-8abc-403e-96db-173784fd5930",
   "metadata": {},
   "source": [
    "### obs y raw"
   ]
  },
  {
   "cell_type": "code",
   "execution_count": 80,
   "id": "0a435db8-c93d-452f-83be-3ba3ee53f219",
   "metadata": {},
   "outputs": [],
   "source": [
    "# Varianzas, calculo la varianza de cada miembro y luego hago el promedio\n",
    "var_tas_0 = climatology(grid_mem_masked_0,\n",
    "                        clim.fun = list(FUN = \"var\", na.rm = TRUE),\n",
    "                        by.member = TRUE) %>% suppressMessages %>% suppressWarnings\n",
    "\n",
    "mean_var_tas_0 = climatology(var_tas_0,\n",
    "                             clim.fun = list(FUN = \"mean\", na.rm = TRUE),\n",
    "                             by.member = FALSE) %>% suppressMessages %>% suppressWarnings\n",
    "\n",
    "var_tas_1 = climatology(grid_mem_masked_1,\n",
    "                        clim.fun = list(FUN = \"var\", na.rm = TRUE),\n",
    "                        by.member = TRUE) %>% suppressMessages %>% suppressWarnings\n",
    "\n",
    "mean_var_tas_1 = climatology(var_tas_1,\n",
    "                             clim.fun = list(FUN = \"mean\", na.rm = TRUE),\n",
    "                             by.member = FALSE) %>% suppressMessages %>% suppressWarnings\n",
    "\n",
    "var_tas_2 = climatology(grid_mem_masked_2,\n",
    "                        clim.fun = list(FUN = \"var\", na.rm = TRUE),\n",
    "                        by.member = TRUE) %>% suppressMessages %>% suppressWarnings\n",
    "\n",
    "mean_var_tas_2 = climatology(var_tas_2,\n",
    "                             clim.fun = list(FUN = \"mean\", na.rm = TRUE),\n",
    "                             by.member = FALSE) %>% suppressMessages %>% suppressWarnings\n",
    "\n",
    "var_tas_3 = climatology(grid_mem_masked_3,\n",
    "                        clim.fun = list(FUN = \"var\", na.rm = TRUE),\n",
    "                        by.member = TRUE) %>% suppressMessages %>% suppressWarnings\n",
    "\n",
    "mean_var_tas_3 = climatology(var_tas_3,\n",
    "                             clim.fun = list(FUN = \"mean\", na.rm = TRUE),\n",
    "                             by.member = FALSE) %>% suppressMessages %>% suppressWarnings\n",
    "\n",
    "var_tas_obs = climatology(grid_masked_obs,\n",
    "                          clim.fun = list(FUN = \"var\", na.rm = TRUE)) %>% suppressMessages %>% suppressWarnings\n",
    "\n",
    "# Ratio de varianzas\n",
    "rv_tas_0 = gridArithmetics(mean_var_tas_0, var_tas_obs, operator = \"/\")\n",
    "rv_tas_1 = gridArithmetics(mean_var_tas_1, var_tas_obs, operator = \"/\")\n",
    "rv_tas_2 = gridArithmetics(mean_var_tas_2, var_tas_obs, operator = \"/\")\n",
    "rv_tas_3 = gridArithmetics(mean_var_tas_3, var_tas_obs, operator = \"/\")\n",
    "\n",
    "# Representación\n",
    "rv0_tas = spatialPlot(rv_tas_0, backdrop.theme = \"countries\", col.regions = color, main = \"Raw (lt 0)\", at = seq(0, 3, 0.1))\n",
    "rv1_tas = spatialPlot(rv_tas_1, backdrop.theme = \"countries\", col.regions = color, main = \"Raw (lt 1)\", at = seq(0, 3, 0.1))\n",
    "rv2_tas = spatialPlot(rv_tas_2, backdrop.theme = \"countries\", col.regions = color, main = \"Raw (lt 2)\", at = seq(0, 3, 0.1))\n",
    "rv3_tas = spatialPlot(rv_tas_3, backdrop.theme = \"countries\", col.regions = color, main = \"Raw (lt 3)\", at = seq(0, 3, 0.1))"
   ]
  },
  {
   "cell_type": "markdown",
   "id": "1b1f27e1-e474-407b-9c2d-18341986e866",
   "metadata": {},
   "source": [
    "### obs y bC"
   ]
  },
  {
   "cell_type": "code",
   "execution_count": 81,
   "id": "a6f92746-9669-4ff9-88c9-8abb13f746c8",
   "metadata": {},
   "outputs": [],
   "source": [
    "# Varianzas, calculo la varianza de cada miembro y luego hago el promedio\n",
    "bc_var_tas_0 = climatology(bc_grid_mem_masked_0,\n",
    "                           clim.fun = list(FUN = \"var\", na.rm = TRUE),\n",
    "                           by.member = TRUE) %>% suppressMessages %>% suppressWarnings\n",
    "\n",
    "bc_mean_var_tas_0 = climatology(bc_var_tas_0,\n",
    "                                clim.fun = list(FUN = \"mean\", na.rm = TRUE),\n",
    "                                by.member = FALSE) %>% suppressMessages %>% suppressWarnings\n",
    "\n",
    "bc_var_tas_1 = climatology(bc_grid_mem_masked_1,\n",
    "                           clim.fun = list(FUN = \"var\", na.rm = TRUE),\n",
    "                           by.member = TRUE) %>% suppressMessages %>% suppressWarnings\n",
    "\n",
    "bc_mean_var_tas_1 = climatology(bc_var_tas_1,\n",
    "                                clim.fun = list(FUN = \"mean\", na.rm = TRUE),\n",
    "                                by.member = FALSE) %>% suppressMessages %>% suppressWarnings\n",
    "\n",
    "bc_var_tas_2 = climatology(bc_grid_mem_masked_2,\n",
    "                           clim.fun = list(FUN = \"var\", na.rm = TRUE),\n",
    "                           by.member = TRUE) %>% suppressMessages %>% suppressWarnings\n",
    "\n",
    "bc_mean_var_tas_2 = climatology(bc_var_tas_2,\n",
    "                                clim.fun = list(FUN = \"mean\", na.rm = TRUE),\n",
    "                                by.member = FALSE) %>% suppressMessages %>% suppressWarnings\n",
    "\n",
    "bc_var_tas_3 = climatology(bc_grid_mem_masked_3,\n",
    "                           clim.fun = list(FUN = \"var\", na.rm = TRUE),\n",
    "                           by.member = TRUE) %>% suppressMessages %>% suppressWarnings\n",
    "\n",
    "bc_mean_var_tas_3 = climatology(bc_var_tas_3,\n",
    "                                clim.fun = list(FUN = \"mean\", na.rm = TRUE),\n",
    "                                by.member = FALSE) %>% suppressMessages %>% suppressWarnings\n",
    "\n",
    "# Ratio de varianzas\n",
    "bc_rv_tas_0 = gridArithmetics(bc_mean_var_tas_0, var_tas_obs, operator = \"/\")\n",
    "bc_rv_tas_1 = gridArithmetics(bc_mean_var_tas_1, var_tas_obs, operator = \"/\")\n",
    "bc_rv_tas_2 = gridArithmetics(bc_mean_var_tas_2, var_tas_obs, operator = \"/\")\n",
    "bc_rv_tas_3 = gridArithmetics(bc_mean_var_tas_3, var_tas_obs, operator = \"/\")\n",
    "\n",
    "# Representación\n",
    "bc_rv0_tas = spatialPlot(bc_rv_tas_0, backdrop.theme = \"countries\", col.regions = color, main = \"BC (lt 0)\", at = seq(0, 3, 0.1))\n",
    "bc_rv1_tas = spatialPlot(bc_rv_tas_1, backdrop.theme = \"countries\", col.regions = color, main = \"BC (lt 1)\", at = seq(0, 3, 0.1))\n",
    "bc_rv2_tas = spatialPlot(bc_rv_tas_2, backdrop.theme = \"countries\", col.regions = color, main = \"BC (lt 2)\", at = seq(0, 3, 0.1))\n",
    "bc_rv3_tas = spatialPlot(bc_rv_tas_3, backdrop.theme = \"countries\", col.regions = color, main = \"BC (lt 3)\", at = seq(0, 3, 0.1))"
   ]
  },
  {
   "cell_type": "code",
   "execution_count": 82,
   "id": "d897870b-7060-4f2b-8a6d-613142b0719e",
   "metadata": {},
   "outputs": [
    {
     "data": {
      "text/html": [
       "<strong>pdf:</strong> 2"
      ],
      "text/latex": [
       "\\textbf{pdf:} 2"
      ],
      "text/markdown": [
       "**pdf:** 2"
      ],
      "text/plain": [
       "pdf \n",
       "  2 "
      ]
     },
     "metadata": {},
     "output_type": "display_data"
    }
   ],
   "source": [
    "png(\"ratiovars_ndays_botritis_vid.png\", width = 2000, height = 1000, res = 150)\n",
    "grid.arrange(rv0_tas, rv1_tas, rv2_tas, rv3_tas,\n",
    "             bc_rv0_tas, bc_rv1_tas, bc_rv2_tas, bc_rv3_tas, ncol = 4)\n",
    "dev.off()"
   ]
  },
  {
   "cell_type": "markdown",
   "id": "1a886449-be56-44c6-ae20-142e5ac6942b",
   "metadata": {
    "jp-MarkdownHeadingCollapsed": true
   },
   "source": [
    "## ROCSS ndays"
   ]
  },
  {
   "cell_type": "markdown",
   "id": "34f7247d-d9a0-4ac7-a001-49eda8db0687",
   "metadata": {
    "jp-MarkdownHeadingCollapsed": true
   },
   "source": [
    "### Funciones auxiliares"
   ]
  },
  {
   "cell_type": "code",
   "execution_count": 14,
   "id": "c27d4afc-649d-43f8-9e6f-cab62afd3fcf",
   "metadata": {},
   "outputs": [],
   "source": [
    "## Función para realizar bootstrap y calcular ROCSS\n",
    "##\n",
    "## Esta función calcula el ROC Skill Score (ROCSS) mediante un enfoque bootstrap,\n",
    "## generando múltiples muestras re-muestreadas con reemplazo sobre la dimensión temporal.\n",
    "##\n",
    "## Argumentos:\n",
    "## - nd_modelo: objeto con los pronósticos originales (formato esperado: [member, time, lat, lon])\n",
    "## - nd_obs: objeto con las observaciones correspondientes (formato: [time, lat, lon])\n",
    "## - n_boot: número de muestras bootstrap a generar (por defecto: 1000)\n",
    "##\n",
    "## Valor:\n",
    "## - Lista de 3 arrays (uno por tercil), cada uno con dimensiones [n_boot, lat, lon],\n",
    "##   que contiene los valores bootstrap del ROCSS para cada tercil.\n",
    "\n",
    "rocss_bootstrap = function(nd_modelo, nd_obs, n_boot = 1000) {\n",
    "    \n",
    "    # Obtener dimensiones del array de pronóstico\n",
    "    dims = dim(nd_modelo$Data)\n",
    "    \n",
    "    # Inicializar lista para guardar ROCSS bootstrap para los tres terciles\n",
    "    rocss_bootstrap = vector(\"list\", length = 3)\n",
    "    \n",
    "    # Extraer observaciones\n",
    "    obs = nd_obs$Data\n",
    "    \n",
    "    # Inicializar arrays vacíos para cada tercil: [n_boot, lat, lon]\n",
    "    for (i in 1:3) {\n",
    "        rocss_bootstrap[[i]] = array(NA, dim = c(n_boot, dims[3], dims[4]))\n",
    "    }\n",
    "    \n",
    "    # Bucle principal de bootstrap\n",
    "    for (b in 1:n_boot) {\n",
    "        \n",
    "        # Muestreo con reemplazo sobre la dimensión temporal (índice de tiempo)\n",
    "        time_idx = sample(1:dims[2], size = dims[2], replace = TRUE)\n",
    "    \n",
    "        # Crear pronóstico re-muestreado\n",
    "        fcst_boot = nd_modelo$Data[, time_idx, , , drop = FALSE]\n",
    "    \n",
    "        # Calcular ROCSS con veriApply usando la función EnsRocss\n",
    "        boot_result = veriApply(\n",
    "            verifun = \"EnsRocss\",\n",
    "            fcst = fcst_boot,\n",
    "            obs = obs,\n",
    "            prob = c(1/3, 2/3),\n",
    "            ensdim = 1,   # Dimensión de los miembros del ensamble\n",
    "            tdim = 2      # Dimensión temporal\n",
    "        )\n",
    "    \n",
    "        # Guardar el resultado para cada tercil en la lista correspondiente\n",
    "        for (i in 1:3) {\n",
    "            rocss_bootstrap[[i]][b, , ] = boot_result[[i]]\n",
    "        }\n",
    "    }\n",
    "    \n",
    "    # Devolver lista con resultados bootstrap por tercil\n",
    "    return(rocss_bootstrap)\n",
    "}"
   ]
  },
  {
   "cell_type": "code",
   "execution_count": 16,
   "id": "23611048-70af-4088-a464-f4001f23f664",
   "metadata": {},
   "outputs": [],
   "source": [
    "## Función para generar capas de \"stippling\" que indican puntos con ROCSS significativamente mayores que un percentil dado\n",
    "##\n",
    "## Parámetros:\n",
    "## mg               : objeto con datos ROCSS con dimensiones [tercil, member, time, lat, lon]\n",
    "## rocss_bootstrap  : lista de arrays bootstrap con dimensiones [n_boot, lat, lon] para cada tercil\n",
    "## ref_grid         : grid de referencia que contiene Dates y xyCoords (coordenadas XY)\n",
    "## threshold        : percentil del bootstrap para determinar significancia (default 0.95)\n",
    "##\n",
    "## Retorna:\n",
    "## lista de objetos \"sp.points\" para cada tercil con puntos significativos (stippling)\n",
    "\n",
    "get_rocss_stippling_layers = function(mg, rocss_bootstrap, ref_grid, threshold = 0.95) {\n",
    "\t\n",
    "\trocss_orig = mg$Data\n",
    "\tn_terciles = dim(rocss_orig)[1]\n",
    "\tn_lat = dim(rocss_orig)[4]\n",
    "\tn_lon = dim(rocss_orig)[5]\n",
    "\t\n",
    "\txyCoords = ref_grid$xyCoords\n",
    "\tDates = ref_grid$Dates\n",
    "\t\n",
    "\tstippling_list = vector(\"list\", n_terciles)\n",
    "\t\n",
    "\tfor (t in 1:n_terciles) {\n",
    "\t\tsignif_mask = matrix(NA, nrow = n_lat, ncol = n_lon)\n",
    "\t\t\n",
    "\t\tfor (i in 1:n_lat) {\n",
    "\t\t\tfor (j in 1:n_lon) {\n",
    "\t\t\t\tboot_vals = rocss_bootstrap[[t]][, i, j]\n",
    "\t\t\t\tval_orig = rocss_orig[t, 1, 1, i, j]\n",
    "\t\t\t\tif (all(is.na(boot_vals)) || is.na(val_orig)) next\n",
    "\t\t\t\tq95 = quantile(boot_vals, threshold, na.rm = TRUE)\n",
    "\t\t\t\tsignif_mask[i, j] = val_orig > q95\n",
    "\t\t\t}\n",
    "\t\t}\n",
    "\t\t\n",
    "\t\t# Construcción manual del objeto grid para la capa de significancia\n",
    "\t\tpval_grid = list()\n",
    "\t\tpval_grid$Data = signif_mask\n",
    "\t\tattr(pval_grid$Data, \"dimensions\") = c(\"lat\", \"lon\")\n",
    "\t\tpval_grid$Dates = Dates\n",
    "\t\tpval_grid$xyCoords = xyCoords\n",
    "\t\tpval_grid$Variable = list(varName = paste0(\"significance_tercil_\", t))\n",
    "\t\tclass(pval_grid) = \"grid\"\n",
    "\t\t\n",
    "\t\t# Genera puntos de significancia con map.stippling (pch=19, color negro, tamaño 0.5)\n",
    "\t\tstippling_list[[t]] = suppressWarnings(\n",
    "\t\t\tsuppressMessages(\n",
    "\t\t\t\tmap.stippling(climatology(pval_grid), threshold = 0.5, condition = \"GT\",\n",
    "\t\t\t\t              pch = 19, col = \"black\", cex = 0.5)\n",
    "\t\t\t)\n",
    "\t\t)\n",
    "\t}\n",
    "\t\n",
    "\t# Elimina entradas NULL (si algún tercil no tiene puntos significativos)\n",
    "\tstippling_list = Filter(Negate(is.null), stippling_list)\n",
    "\t\n",
    "\t# Filtra para quedarse solo con listas que son puntos espaciales (sp.points)\n",
    "\tstippling_list = Filter(function(x) {\n",
    "\t\tis.list(x) && length(x) > 1 && x[[1]] == \"sp.points\"\n",
    "\t}, stippling_list)\n",
    "\t\n",
    "\treturn(stippling_list)\n",
    "}"
   ]
  },
  {
   "cell_type": "markdown",
   "id": "b5507ab0-be9e-40a7-bc52-44326fe0e31f",
   "metadata": {},
   "source": [
    "### obs y raw"
   ]
  },
  {
   "cell_type": "code",
   "execution_count": 19,
   "id": "4282483c-4184-4091-b1ab-8b71a66640cb",
   "metadata": {},
   "outputs": [],
   "source": [
    "# Calculo del ROCSS para cada leadtime del modelo\n",
    "rocss_ndays_tas_0 = veriApply(verifun = \"EnsRocss\", \n",
    "                              fcst = grid_mem_masked_0$Data, \n",
    "                              obs = grid_masked_obs$Data,\n",
    "                              prob = c(1/3, 2/3),\n",
    "                              ensdim = 1, tdim = 2) %>% suppressMessages %>% suppressWarnings\n",
    "\n",
    "rocss_ndays_tas_1 = veriApply(verifun = \"EnsRocss\", \n",
    "                              fcst = grid_mem_masked_1$Data, \n",
    "                              obs = grid_masked_obs$Data,\n",
    "                              prob = c(1/3, 2/3),\n",
    "                              ensdim = 1, tdim = 2) %>% suppressMessages %>% suppressWarnings\n",
    "\n",
    "rocss_ndays_tas_2 = veriApply(verifun = \"EnsRocss\", \n",
    "                              fcst = grid_mem_masked_2$Data, \n",
    "                              obs = grid_masked_obs$Data,\n",
    "                              prob = c(1/3, 2/3),\n",
    "                              ensdim = 1, tdim = 2) %>% suppressMessages %>% suppressWarnings\n",
    "\n",
    "rocss_ndays_tas_3 = veriApply(verifun = \"EnsRocss\", \n",
    "                              fcst = grid_mem_masked_3$Data, \n",
    "                              obs = grid_masked_obs$Data,\n",
    "                              prob = c(1/3, 2/3),\n",
    "                              ensdim = 1, tdim = 2) %>% suppressMessages %>% suppressWarnings\n",
    "\n",
    "# Multigrid para representar los tres percentiles\n",
    "mg_tas_0 = makeMultiGrid(lapply(rocss_ndays_tas_0[1:3], \"easyVeri2grid\", grid_masked_obs))\n",
    "mg_tas_1 = makeMultiGrid(lapply(rocss_ndays_tas_1[1:3], \"easyVeri2grid\", grid_masked_obs))\n",
    "mg_tas_2 = makeMultiGrid(lapply(rocss_ndays_tas_2[1:3], \"easyVeri2grid\", grid_masked_obs))\n",
    "mg_tas_3 = makeMultiGrid(lapply(rocss_ndays_tas_3[1:3], \"easyVeri2grid\", grid_masked_obs))"
   ]
  },
  {
   "cell_type": "code",
   "execution_count": 86,
   "id": "cf0bfa7b-4078-4fdd-8dbe-e0277edc822b",
   "metadata": {},
   "outputs": [],
   "source": [
    "set.seed(123)  # Reproducibilidad\n",
    "\n",
    "# Aplico función de bootstraping\n",
    "rocss_bootstrap_tas_0 = rocss_bootstrap(grid_mem_masked_0, grid_masked_obs)\n",
    "rocss_bootstrap_tas_1 = rocss_bootstrap(grid_mem_masked_1, grid_masked_obs)\n",
    "rocss_bootstrap_tas_2 = rocss_bootstrap(grid_mem_masked_2, grid_masked_obs)\n",
    "rocss_bootstrap_tas_3 = rocss_bootstrap(grid_mem_masked_3, grid_masked_obs)"
   ]
  },
  {
   "cell_type": "code",
   "execution_count": 87,
   "id": "ac88e7ea-59c9-4d31-90c4-40b63b48188e",
   "metadata": {},
   "outputs": [],
   "source": [
    "saveRDS(rocss_bootstrap_tas_0, file = \"rocss_bootstrap_tas_raw_vid_botritis_0.rds\")\n",
    "saveRDS(rocss_bootstrap_tas_1, file = \"rocss_bootstrap_tas_raw_vid_botritis_1.rds\")\n",
    "saveRDS(rocss_bootstrap_tas_2, file = \"rocss_bootstrap_tas_raw_vid_botritis_2.rds\")\n",
    "saveRDS(rocss_bootstrap_tas_3, file = \"rocss_bootstrap_tas_raw_vid_botritis_3.rds\")"
   ]
  },
  {
   "cell_type": "code",
   "execution_count": 92,
   "id": "a1d7880a-a4af-4ab3-b818-dd395211659a",
   "metadata": {},
   "outputs": [],
   "source": [
    "rocss_bootstrap_tas_0 = readRDS(\"../../../data/compound_study_index/low_resolution/vine_botrytis_data/rocss_bootstrap_tas_raw_vid_botritis_0.rds\")\n",
    "rocss_bootstrap_tas_1 = readRDS(\"../../../data/compound_study_index/low_resolution/vine_botrytis_data/rocss_bootstrap_tas_raw_vid_botritis_1.rds\")\n",
    "rocss_bootstrap_tas_2 = readRDS(\"../../../data/compound_study_index/low_resolution/vine_botrytis_data/rocss_bootstrap_tas_raw_vid_botritis_2.rds\")\n",
    "rocss_bootstrap_tas_3 = readRDS(\"../../../data/compound_study_index/low_resolution/vine_botrytis_data/rocss_bootstrap_tas_raw_vid_botritis_3.rds\")"
   ]
  },
  {
   "cell_type": "code",
   "execution_count": 88,
   "id": "e2f000e3-b045-4a92-9039-6a23861b52d7",
   "metadata": {},
   "outputs": [],
   "source": [
    "# Aplico función de máscara significativa\n",
    "pts_layers_tas_0 = get_rocss_stippling_layers(mg_tas_0, rocss_bootstrap_tas_0, grid_mem_masked_0)\n",
    "pts_layers_tas_1 = get_rocss_stippling_layers(mg_tas_1, rocss_bootstrap_tas_1, grid_mem_masked_0)\n",
    "pts_layers_tas_2 = get_rocss_stippling_layers(mg_tas_2, rocss_bootstrap_tas_2, grid_mem_masked_0)\n",
    "pts_layers_tas_3 = get_rocss_stippling_layers(mg_tas_3, rocss_bootstrap_tas_3, grid_mem_masked_0)"
   ]
  },
  {
   "cell_type": "code",
   "execution_count": 89,
   "id": "5622d8d3-f2a4-456c-aaaf-9bd519317e15",
   "metadata": {},
   "outputs": [],
   "source": [
    "rocss_tas_0 = spatialPlot(climatology(mg_tas_0),\n",
    "                          backdrop.theme = \"countries\",\n",
    "                          names.attr = c(\"Lower tercile\", \"Middle tercile\", \"Upper tercile\"),\n",
    "                          layout = c(3,1),\n",
    "                          col.regions = color,\n",
    "                          at = seq(-1, 1, 0.05),\n",
    "                          sp.layout = list(pts_layers_tas_0),\n",
    "                          main = \"Raw (lt 0)\") %>% suppressMessages %>% suppressWarnings\n",
    "\n",
    "rocss_tas_1 = spatialPlot(climatology(mg_tas_1),\n",
    "                          backdrop.theme = \"countries\",\n",
    "                          names.attr = c(\"Lower tercile\", \"Middle tercile\", \"Upper tercile\"),\n",
    "                          layout = c(3,1),\n",
    "                          col.regions = color,\n",
    "                          at = seq(-1, 1, 0.05),\n",
    "                          sp.layout = list(pts_layers_tas_1),\n",
    "                          main = \"Raw (lt 1)\") %>% suppressMessages %>% suppressWarnings\n",
    "\n",
    "rocss_tas_2 = spatialPlot(climatology(mg_tas_2),\n",
    "                          backdrop.theme = \"countries\",\n",
    "                          names.attr = c(\"Lower tercile\", \"Middle tercile\", \"Upper tercile\"),\n",
    "                          layout = c(3,1),\n",
    "                          col.regions = color,\n",
    "                          at = seq(-1, 1, 0.05),\n",
    "                          sp.layout = list(pts_layers_tas_2),\n",
    "                          main = \"Raw (lt 2)\") %>% suppressMessages %>% suppressWarnings\n",
    "\n",
    "rocss_tas_3 = spatialPlot(climatology(mg_tas_3),\n",
    "                          backdrop.theme = \"countries\",\n",
    "                          names.attr = c(\"Lower tercile\", \"Middle tercile\", \"Upper tercile\"),\n",
    "                          layout = c(3,1),\n",
    "                          col.regions = color,\n",
    "                          at = seq(-1, 1, 0.05),\n",
    "                          sp.layout = list(pts_layers_tas_3),\n",
    "                          main = \"Raw (lt 3)\") %>% suppressMessages %>% suppressWarnings"
   ]
  },
  {
   "cell_type": "code",
   "execution_count": 90,
   "id": "3801cc47-bc93-44da-9fdc-c6049e0bed8e",
   "metadata": {},
   "outputs": [
    {
     "data": {
      "text/html": [
       "<strong>pdf:</strong> 2"
      ],
      "text/latex": [
       "\\textbf{pdf:} 2"
      ],
      "text/markdown": [
       "**pdf:** 2"
      ],
      "text/plain": [
       "pdf \n",
       "  2 "
      ]
     },
     "metadata": {},
     "output_type": "display_data"
    }
   ],
   "source": [
    "png(\"rocss_ndays_botritis_raw_vid.png\", width = 2000, height = 1000, res = 150)\n",
    "grid.arrange(rocss_tas_0, rocss_tas_1, rocss_tas_2, rocss_tas_3, ncol = 2)\n",
    "dev.off()"
   ]
  },
  {
   "cell_type": "markdown",
   "id": "bbab7056-1767-44cf-97c5-b9d2a5f8669a",
   "metadata": {},
   "source": [
    "### obs y bC"
   ]
  },
  {
   "cell_type": "code",
   "execution_count": 91,
   "id": "52a43c20-fbf2-4d2f-a013-a8a7cde38b6c",
   "metadata": {},
   "outputs": [],
   "source": [
    "# Calculo del ROCSS para cada leadtime del modelo\n",
    "bc_rocss_ndays_tas_0 = veriApply(verifun = \"EnsRocss\", \n",
    "                                 fcst = bc_grid_mem_masked_0$Data, \n",
    "                                 obs = grid_masked_obs$Data,\n",
    "                                 prob = c(1/3, 2/3),\n",
    "                                 ensdim = 1, tdim = 2) %>% suppressMessages %>% suppressWarnings\n",
    "\n",
    "bc_rocss_ndays_tas_1 = veriApply(verifun = \"EnsRocss\", \n",
    "                                 fcst = bc_grid_mem_masked_1$Data, \n",
    "                                 obs = grid_masked_obs$Data,\n",
    "                                 prob = c(1/3, 2/3),\n",
    "                                 ensdim = 1, tdim = 2) %>% suppressMessages %>% suppressWarnings\n",
    "\n",
    "bc_rocss_ndays_tas_2 = veriApply(verifun = \"EnsRocss\", \n",
    "                                 fcst = bc_grid_mem_masked_2$Data, \n",
    "                                 obs = grid_masked_obs$Data,\n",
    "                                 prob = c(1/3, 2/3),\n",
    "                                 ensdim = 1, tdim = 2) %>% suppressMessages %>% suppressWarnings\n",
    "\n",
    "bc_rocss_ndays_tas_3 = veriApply(verifun = \"EnsRocss\", \n",
    "                                 fcst = bc_grid_mem_masked_3$Data, \n",
    "                                 obs = grid_masked_obs$Data,\n",
    "                                 prob = c(1/3, 2/3),\n",
    "                                 ensdim = 1, tdim = 2) %>% suppressMessages %>% suppressWarnings\n",
    "\n",
    "# Multigrid para representar los tres percentiles\n",
    "bc_mg_tas_0 = makeMultiGrid(lapply(bc_rocss_ndays_tas_0[1:3], \"easyVeri2grid\", grid_masked_obs))\n",
    "bc_mg_tas_1 = makeMultiGrid(lapply(bc_rocss_ndays_tas_1[1:3], \"easyVeri2grid\", grid_masked_obs))\n",
    "bc_mg_tas_2 = makeMultiGrid(lapply(bc_rocss_ndays_tas_2[1:3], \"easyVeri2grid\", grid_masked_obs))\n",
    "bc_mg_tas_3 = makeMultiGrid(lapply(bc_rocss_ndays_tas_3[1:3], \"easyVeri2grid\", grid_masked_obs))"
   ]
  },
  {
   "cell_type": "code",
   "execution_count": 93,
   "id": "3bf264cf-9151-407a-b4a9-9c06ab6817d9",
   "metadata": {},
   "outputs": [],
   "source": [
    "# Aplico función de bootstraping\n",
    "bc_rocss_bootstrap_tas_0 = rocss_bootstrap(bc_grid_mem_masked_0, grid_masked_obs)\n",
    "bc_rocss_bootstrap_tas_1 = rocss_bootstrap(bc_grid_mem_masked_1, grid_masked_obs)\n",
    "bc_rocss_bootstrap_tas_2 = rocss_bootstrap(bc_grid_mem_masked_2, grid_masked_obs)\n",
    "bc_rocss_bootstrap_tas_3 = rocss_bootstrap(bc_grid_mem_masked_3, grid_masked_obs)"
   ]
  },
  {
   "cell_type": "code",
   "execution_count": 94,
   "id": "828ef253-975c-4d65-a421-70a21106bafc",
   "metadata": {},
   "outputs": [],
   "source": [
    "saveRDS(bc_rocss_bootstrap_tas_0, file = \"rocss_bootstrap_tas_bc_vid_botritis_0.rds\")\n",
    "saveRDS(bc_rocss_bootstrap_tas_1, file = \"rocss_bootstrap_tas_bc_vid_botritis_1.rds\")\n",
    "saveRDS(bc_rocss_bootstrap_tas_2, file = \"rocss_bootstrap_tas_bc_vid_botritis_2.rds\")\n",
    "saveRDS(bc_rocss_bootstrap_tas_3, file = \"rocss_bootstrap_tas_bc_vid_botritis_3.rds\")"
   ]
  },
  {
   "cell_type": "code",
   "execution_count": 98,
   "id": "e11bc200-234b-44b3-a9fe-1d87ee404d2a",
   "metadata": {},
   "outputs": [],
   "source": [
    "bc_rocss_bootstrap_tas_0 = readRDS(\"../../../data/compound_study_index/low_resolution/vine_botrytis_data/rocss_bootstrap_tas_bc_vid_botritis_0.rds\")\n",
    "bc_rocss_bootstrap_tas_1 = readRDS(\"../../../data/compound_study_index/low_resolution/vine_botrytis_data/rocss_bootstrap_tas_bc_vid_botritis_1.rds\")\n",
    "bc_rocss_bootstrap_tas_2 = readRDS(\"../../../data/compound_study_index/low_resolution/vine_botrytis_data/rocss_bootstrap_tas_bc_vid_botritis_2.rds\")\n",
    "bc_rocss_bootstrap_tas_3 = readRDS(\"../../../data/compound_study_index/low_resolution/vine_botrytis_data/rocss_bootstrap_tas_bc_vid_botritis_3.rds\")"
   ]
  },
  {
   "cell_type": "code",
   "execution_count": 95,
   "id": "466552b7-6e51-4f47-9b9d-8b6be6201aec",
   "metadata": {},
   "outputs": [],
   "source": [
    "# Aplico función de máscara significativa\n",
    "bc_pts_layers_tas_0 = get_rocss_stippling_layers(bc_mg_tas_0, bc_rocss_bootstrap_tas_0, bc_grid_mem_masked_0)\n",
    "bc_pts_layers_tas_1 = get_rocss_stippling_layers(bc_mg_tas_1, bc_rocss_bootstrap_tas_1, bc_grid_mem_masked_0)\n",
    "bc_pts_layers_tas_2 = get_rocss_stippling_layers(bc_mg_tas_2, bc_rocss_bootstrap_tas_2, bc_grid_mem_masked_0)\n",
    "bc_pts_layers_tas_3 = get_rocss_stippling_layers(bc_mg_tas_3, bc_rocss_bootstrap_tas_3, bc_grid_mem_masked_0)"
   ]
  },
  {
   "cell_type": "code",
   "execution_count": 96,
   "id": "928b5c3d-5cda-4f0e-9b0d-390a7f74b384",
   "metadata": {},
   "outputs": [],
   "source": [
    "bc_rocss_tas_0 = spatialPlot(climatology(bc_mg_tas_0),\n",
    "                          backdrop.theme = \"countries\",\n",
    "                          names.attr = c(\"Lower tercile\", \"Middle tercile\", \"Upper tercile\"),\n",
    "                          layout = c(3,1),\n",
    "                          col.regions = color,\n",
    "                          at = seq(-1, 1, 0.05),\n",
    "                          sp.layout = list(bc_pts_layers_tas_0),\n",
    "                          main = \"BC (lt 0)\") %>% suppressMessages %>% suppressWarnings\n",
    "\n",
    "bc_rocss_tas_1 = spatialPlot(climatology(bc_mg_tas_1),\n",
    "                          backdrop.theme = \"countries\",\n",
    "                          names.attr = c(\"Lower tercile\", \"Middle tercile\", \"Upper tercile\"),\n",
    "                          layout = c(3,1),\n",
    "                          col.regions = color,\n",
    "                          at = seq(-1, 1, 0.05),\n",
    "                          sp.layout = list(bc_pts_layers_tas_1),\n",
    "                          main = \"BC (lt 1)\") %>% suppressMessages %>% suppressWarnings\n",
    "\n",
    "bc_rocss_tas_2 = spatialPlot(climatology(bc_mg_tas_2),\n",
    "                          backdrop.theme = \"countries\",\n",
    "                          names.attr = c(\"Lower tercile\", \"Middle tercile\", \"Upper tercile\"),\n",
    "                          layout = c(3,1),\n",
    "                          col.regions = color,\n",
    "                          at = seq(-1, 1, 0.05),\n",
    "                          sp.layout = list(bc_pts_layers_tas_2),\n",
    "                          main = \"BC (lt 2)\") %>% suppressMessages %>% suppressWarnings\n",
    "\n",
    "bc_rocss_tas_3 = spatialPlot(climatology(bc_mg_tas_3),\n",
    "                          backdrop.theme = \"countries\",\n",
    "                          names.attr = c(\"Lower tercile\", \"Middle tercile\", \"Upper tercile\"),\n",
    "                          layout = c(3,1),\n",
    "                          col.regions = color,\n",
    "                          at = seq(-1, 1, 0.05),\n",
    "                          sp.layout = list(bc_pts_layers_tas_3),\n",
    "                          main = \"BC (lt 3)\") %>% suppressMessages %>% suppressWarnings"
   ]
  },
  {
   "cell_type": "code",
   "execution_count": 97,
   "id": "aab41bcb-3aa5-4831-916c-2cd6971a6ccc",
   "metadata": {},
   "outputs": [
    {
     "data": {
      "text/html": [
       "<strong>pdf:</strong> 2"
      ],
      "text/latex": [
       "\\textbf{pdf:} 2"
      ],
      "text/markdown": [
       "**pdf:** 2"
      ],
      "text/plain": [
       "pdf \n",
       "  2 "
      ]
     },
     "metadata": {},
     "output_type": "display_data"
    }
   ],
   "source": [
    "png(\"rocss_ndays_botritis_bc_vid.png\", width = 2000, height = 1000, res = 150)\n",
    "grid.arrange(bc_rocss_tas_0, bc_rocss_tas_1, bc_rocss_tas_2, bc_rocss_tas_3, ncol = 2)\n",
    "dev.off()"
   ]
  }
 ],
 "metadata": {
  "kernelspec": {
   "display_name": "R",
   "language": "R",
   "name": "ir"
  },
  "language_info": {
   "codemirror_mode": "r",
   "file_extension": ".r",
   "mimetype": "text/x-r-source",
   "name": "R",
   "pygments_lexer": "r",
   "version": "4.3.3"
  }
 },
 "nbformat": 4,
 "nbformat_minor": 5
}
