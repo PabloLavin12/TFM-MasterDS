{
 "cells": [
  {
   "cell_type": "markdown",
   "id": "c753f06e-4c16-4a0d-862f-50396351e38d",
   "metadata": {},
   "source": [
    "# Estudio Junio - Julio - Agosto (JJA)\n",
    "## Pablo Lavín\n",
    "## TFM - Master Ciencia de Datos (UC-UIMP)\n",
    "## Beca JAE Intro ICU 2025\n",
    "## Septiembre 2025 - Junio 2026"
   ]
  },
  {
   "cell_type": "markdown",
   "id": "0baf4d46-b3a2-4405-9c6d-384fe45cfd14",
   "metadata": {},
   "source": [
    "En este notebook se analiza el desempeño del modelo ECMWF frente a ERA5-Land durante el periodo 1981–2022 (JJA).\n",
    "\n",
    "Con el objetivo de mejorar la representatividad del modelo respecto a los datos observacionales, se realiza una corrección del sesgo de la temperatura máxima del modelo ECMWF.\n",
    "\n",
    "Posteriormente los datos de temperatura se convierten en índices, en este caso, un índice de temperatura máxima (número de días que se supera una temperatura umbral).\n",
    "\n",
    "Se incluyen métricas de sesgo, correlación, RMSE, ratio de varianzas y ROCSS."
   ]
  },
  {
   "cell_type": "markdown",
   "id": "32f3fda4-8e54-4b00-866c-d7b60d90af89",
   "metadata": {},
   "source": [
    "## Configuración"
   ]
  },
  {
   "cell_type": "code",
   "execution_count": 1,
   "id": "48d8b66c-a776-4a01-9ca1-58ed0d877d61",
   "metadata": {
    "scrolled": true
   },
   "outputs": [
    {
     "name": "stderr",
     "output_type": "stream",
     "text": [
      "\n",
      "Attaching package: ‘dplyr’\n",
      "\n",
      "\n",
      "The following objects are masked from ‘package:stats’:\n",
      "\n",
      "    filter, lag\n",
      "\n",
      "\n",
      "The following objects are masked from ‘package:base’:\n",
      "\n",
      "    intersect, setdiff, setequal, union\n",
      "\n",
      "\n",
      "Loading required package: rJava\n",
      "\n",
      "Loading required package: loadeR.java\n",
      "\n",
      "Java version 23x amd64 by N/A detected\n",
      "\n",
      "NetCDF Java Library v4.6.0-SNAPSHOT (23 Apr 2015) loaded and ready\n",
      "\n",
      "Loading required package: climate4R.UDG\n",
      "\n",
      "climate4R.UDG version 0.2.6 (2023-06-26) is loaded\n",
      "\n",
      "Please use 'citation(\"climate4R.UDG\")' to cite this package.\n",
      "\n",
      "loadeR version 1.8.1 (2023-06-22) is loaded\n",
      "\n",
      "WARNING: Your current version of loadeR (v1.8.1) is not up-to-date\n",
      "\n",
      "Get the latest stable version (1.8.2) using <devtools::install_github(c('SantanderMetGroup/climate4R.UDG','SantanderMetGroup/loadeR'))>\n",
      "\n",
      "Please use 'citation(\"loadeR\")' to cite this package.\n",
      "\n"
     ]
    },
    {
     "name": "stdout",
     "output_type": "stream",
     "text": [
      "\n",
      "    _______   ____  ___________________  __  ________ \n",
      "   / ___/ /  / /  |/  / __  /_  __/ __/ / / / / __  / \n",
      "  / /  / /  / / /|_/ / /_/ / / / / __/ / /_/ / /_/_/  \n",
      " / /__/ /__/ / /  / / __  / / / / /__ /___  / / \\ \\ \n",
      " \\___/____/_/_/  /_/_/ /_/ /_/  \\___/    /_/\\/   \\_\\ \n",
      " \n",
      "      github.com/SantanderMetGroup/climate4R\n",
      "\n"
     ]
    },
    {
     "name": "stderr",
     "output_type": "stream",
     "text": [
      "transformeR version 2.2.2 (2023-10-26) is loaded\n",
      "\n",
      "WARNING: Your current version of transformeR (v2.2.2) is not up-to-date\n",
      "\n",
      "Get the latest stable version (2.2.3) using <devtools::install_github('SantanderMetGroup/transformeR')>\n",
      "\n",
      "Please see 'citation(\"transformeR\")' to cite this package.\n",
      "\n",
      "Loading required package: udunits2\n",
      "\n",
      "udunits system database read from /vols/abedul/home/meteo/lavinp/miniforge3/envs/C4R/share/udunits/udunits2.xml\n",
      "\n",
      "convertR version 0.3.0 (2025-07-31) is loaded\n",
      "\n",
      "WARNING: Your current version of convertR (v0.3.0) is ahead of the master branch version (0.2.1)\n",
      "\n",
      "Development version may have an unexpected behaviour\n",
      "\n",
      "  More information about the 'climate4R' ecosystem in: http://meteo.unican.es/climate4R\n",
      "\n",
      "\n",
      "Attaching package: ‘convertR’\n",
      "\n",
      "\n",
      "The following objects are masked from ‘package:loadeR’:\n",
      "\n",
      "    hurs2huss, huss2hurs, tdps2hurs\n",
      "\n",
      "\n",
      "visualizeR version 1.6.4 (2023-10-26) is loaded\n",
      "\n",
      "Please see 'citation(\"visualizeR\")' to cite this package.\n",
      "\n",
      "downscaleR version 3.3.4 (2023-06-22) is loaded\n",
      "\n",
      "Please use 'citation(\"downscaleR\")' to cite this package.\n",
      "\n",
      "Loading required package: climdex.pcic\n",
      "\n",
      "Loading required package: PCICt\n",
      "\n",
      "climate4R.climdex version 0.2.3 (2023-06-23) is loaded\n",
      "\n",
      "Use 'climdexShow()' for an overview of the available ETCCDI indices\n",
      "\n",
      "climate4R.indices version 0.3.1 (2023-06-22) is loaded\n",
      "\n",
      "Use 'indexShow()' for an overview of the available climate indices and circIndexShow() for the circulation indices.\n",
      "\n",
      "NOTE: use package climate4R.climdex to calculate ETCCDI indices.\n",
      "\n",
      "\n",
      "Attaching package: ‘climate4R.indices’\n",
      "\n",
      "\n",
      "The following object is masked from ‘package:transformeR’:\n",
      "\n",
      "    lambWT\n",
      "\n",
      "\n",
      "Loading required package: SpecsVerification\n",
      "\n",
      "\n",
      "Attaching package: ‘easyVerification’\n",
      "\n",
      "\n",
      "The following object is masked from ‘package:SpecsVerification’:\n",
      "\n",
      "    EnsCorr\n",
      "\n",
      "\n",
      "\n",
      "Attaching package: ‘gridExtra’\n",
      "\n",
      "\n",
      "The following object is masked from ‘package:dplyr’:\n",
      "\n",
      "    combine\n",
      "\n",
      "\n"
     ]
    }
   ],
   "source": [
    "# Cargamos paquetes\n",
    "source(\"../../scripts/setup_libraries.R\")\n",
    "source(\"../../scripts/load_bc_functions.R\")"
   ]
  },
  {
   "cell_type": "code",
   "execution_count": 2,
   "id": "85e6e009-a375-4caa-aa87-be1fcb1f83ac",
   "metadata": {
    "vscode": {
     "languageId": "r"
    }
   },
   "outputs": [],
   "source": [
    "# Region de estudio\n",
    "\n",
    "lon = c(-10, 5)\n",
    "lat = c(35, 44)\n",
    "\n",
    "# Color\n",
    "color = colorRampPalette(rev(brewer.pal(n = 9, \"RdYlBu\")))"
   ]
  },
  {
   "cell_type": "code",
   "execution_count": 3,
   "id": "e28aae56-3c49-4250-bf1d-aa2b97511332",
   "metadata": {},
   "outputs": [],
   "source": [
    "# Cargo datos\n",
    "tmx_modelo_0 = readRDS(\"../../data/jja_data/tmx_modelo_jja_0.rds\")\n",
    "tmx_modelo_1 = readRDS(\"../../data/jja_data/tmx_modelo_jja_1.rds\")\n",
    "tmx_modelo_2 = readRDS(\"../../data/jja_data/tmx_modelo_jja_2.rds\")\n",
    "tmx_modelo_3 = readRDS(\"../../data/jja_data/tmx_modelo_jja_3.rds\")\n",
    "\n",
    "tmx_obs_cel = readRDS(\"../../data/jja_data/tmx_obs_cel_jja.rds\")"
   ]
  },
  {
   "cell_type": "markdown",
   "id": "70f734be-48a1-4d81-b558-499795f7c213",
   "metadata": {
    "jp-MarkdownHeadingCollapsed": true
   },
   "source": [
    "## biasCorrection (bC)"
   ]
  },
  {
   "cell_type": "code",
   "execution_count": null,
   "id": "91ada2a2-b4cc-4ebf-9792-baf48e2b670b",
   "metadata": {
    "scrolled": true,
    "vscode": {
     "languageId": "r"
    }
   },
   "outputs": [],
   "source": [
    "folds_list = lapply(1981:2022, function(x) x)\n",
    "                    \n",
    "bc_0 = biasCorrection_RM(\n",
    "    y = tmx_obs_cel,\n",
    "    x = tmx_modelo_0,\n",
    "    newdata = tmx_modelo_0,\n",
    "    method = \"eqm\",\n",
    "    extrapolation = \"constant\",\n",
    "    cross.val = 'kfold',\n",
    "    folds = folds_list) %>% suppressMessages %>% suppressWarnings\n",
    "\n",
    "bc_1 = biasCorrection_RM(\n",
    "    y = tmx_obs_cel,\n",
    "    x = tmx_modelo_1,\n",
    "    newdata = tmx_modelo_1,\n",
    "    method = \"eqm\",\n",
    "    extrapolation = \"constant\",\n",
    "    cross.val = 'kfold',\n",
    "    folds = folds_list) %>% suppressMessages %>% suppressWarnings\n",
    "\n",
    "bc_2 = biasCorrection_RM(\n",
    "    y = tmx_obs_cel,\n",
    "    x = tmx_modelo_2,\n",
    "    newdata = tmx_modelo_2,\n",
    "    method = \"eqm\",\n",
    "    extrapolation = \"constant\",\n",
    "    cross.val = 'kfold',\n",
    "    folds = folds_list) %>% suppressMessages %>% suppressWarnings\n",
    "\n",
    "bc_3 = biasCorrection_RM(\n",
    "    y = tmx_obs_cel,\n",
    "    x = tmx_modelo_3,\n",
    "    newdata = tmx_modelo_3,\n",
    "    method = \"eqm\",\n",
    "    extrapolation = \"constant\",\n",
    "    cross.val = 'kfold',\n",
    "    folds = folds_list) %>% suppressMessages %>% suppressWarnings"
   ]
  },
  {
   "cell_type": "code",
   "execution_count": null,
   "id": "4bac4ec7-8e37-441c-b8b5-2f8a13c1536f",
   "metadata": {},
   "outputs": [],
   "source": [
    "saveRDS(bc_0, file = \"bc_jja_0.rds\")\n",
    "saveRDS(bc_1, file = \"bc_jja_1.rds\")\n",
    "saveRDS(bc_2, file = \"bc_jja_2.rds\")\n",
    "saveRDS(bc_3, file = \"bc_jja_3.rds\")"
   ]
  },
  {
   "cell_type": "code",
   "execution_count": 4,
   "id": "61645c4a-dffa-4d51-bebe-c6e0b28ba14f",
   "metadata": {},
   "outputs": [],
   "source": [
    "bc_0 = readRDS(\"../../data/jja_data/bc_jja_0.rds\")\n",
    "bc_1 = readRDS(\"../../data/jja_data/bc_jja_1.rds\")\n",
    "bc_2 = readRDS(\"../../data/jja_data/bc_jja_2.rds\")\n",
    "bc_3 = readRDS(\"../../data/jja_data/bc_jja_3.rds\")"
   ]
  },
  {
   "cell_type": "code",
   "execution_count": 5,
   "id": "657e4015-ad2a-48f0-a381-49dd769dd321",
   "metadata": {},
   "outputs": [],
   "source": [
    "# Climatología de las obs\n",
    "ref = climatology(tmx_obs_cel) %>% suppressMessages %>% suppressWarnings\n",
    "\n",
    "# Climatología del modelos con los 4 leadtime (datos con sesgo)\n",
    "diff_0 = climatology(tmx_modelo_0, by.member = FALSE) %>% suppressMessages %>% suppressWarnings\n",
    "diff_1 = climatology(tmx_modelo_1, by.member = FALSE) %>% suppressMessages %>% suppressWarnings\n",
    "diff_2 = climatology(tmx_modelo_2, by.member = FALSE) %>% suppressMessages %>% suppressWarnings\n",
    "diff_3 = climatology(tmx_modelo_3, by.member = FALSE) %>% suppressMessages %>% suppressWarnings\n",
    "\n",
    "# Sesgo para cada leadtime\n",
    "bias_0 = gridArithmetics(diff_0, ref, operator = \"-\")\n",
    "bias_1 = gridArithmetics(diff_1, ref, operator = \"-\")\n",
    "bias_2 = gridArithmetics(diff_2, ref, operator = \"-\")\n",
    "bias_3 = gridArithmetics(diff_3, ref, operator = \"-\")\n",
    "\n",
    "# Representación\n",
    "b_0 = spatialPlot(bias_0, backdrop.theme = \"countries\", main = \"Raw (lt 0)\", col.regions = color, at = seq(-4, 4, 0.1))\n",
    "b_1 = spatialPlot(bias_1, backdrop.theme = \"countries\", main = \"Raw (lt 1)\", col.regions = color, at = seq(-4, 4, 0.1))\n",
    "b_2 = spatialPlot(bias_2, backdrop.theme = \"countries\", main = \"Raw (lt 2)\", col.regions = color, at = seq(-4, 4, 0.1))\n",
    "b_3 = spatialPlot(bias_3, backdrop.theme = \"countries\", main = \"Raw (lt 3)\", col.regions = color, at = seq(-4, 4, 0.1))"
   ]
  },
  {
   "cell_type": "code",
   "execution_count": 6,
   "id": "1f53c5ea-1c1f-4d27-ad6b-4e66efb939e8",
   "metadata": {},
   "outputs": [],
   "source": [
    "# Climatología de cada leadtime (datos sin sesgo)\n",
    "diff0 = climatology(bc_0, by.member = FALSE) %>% suppressMessages %>% suppressWarnings\n",
    "diff1 = climatology(bc_1, by.member = FALSE) %>% suppressMessages %>% suppressWarnings\n",
    "diff2 = climatology(bc_2, by.member = FALSE) %>% suppressMessages %>% suppressWarnings\n",
    "diff3 = climatology(bc_3, by.member = FALSE) %>% suppressMessages %>% suppressWarnings\n",
    "\n",
    "# Cálculo del sesgo\n",
    "bias0 = gridArithmetics(diff0, ref, operator = \"-\")\n",
    "bias1 = gridArithmetics(diff1, ref, operator = \"-\")\n",
    "bias2 = gridArithmetics(diff2, ref, operator = \"-\")\n",
    "bias3 = gridArithmetics(diff3, ref, operator = \"-\")\n",
    "\n",
    "# Representación\n",
    "b0 = spatialPlot(bias0, backdrop.theme = \"countries\", main = \"BC (lt 0)\", col.regions = color, at = seq(-0.004, 0.004, 0.0001))\n",
    "b1 = spatialPlot(bias1, backdrop.theme = \"countries\", main = \"BC (lt 1)\", col.regions = color, at = seq(-0.004, 0.004, 0.0001))\n",
    "b2 = spatialPlot(bias2, backdrop.theme = \"countries\", main = \"BC (lt 2)\", col.regions = color, at = seq(-0.004, 0.004, 0.0001))\n",
    "b3 = spatialPlot(bias3, backdrop.theme = \"countries\", main = \"BC (lt 3)\", col.regions = color, at = seq(-0.004, 0.004, 0.0001))"
   ]
  },
  {
   "cell_type": "code",
   "execution_count": 7,
   "id": "74de7de2-d071-4bbe-9886-5117a2b10289",
   "metadata": {},
   "outputs": [
    {
     "data": {
      "text/html": [
       "<strong>pdf:</strong> 2"
      ],
      "text/latex": [
       "\\textbf{pdf:} 2"
      ],
      "text/markdown": [
       "**pdf:** 2"
      ],
      "text/plain": [
       "pdf \n",
       "  2 "
      ]
     },
     "metadata": {},
     "output_type": "display_data"
    }
   ],
   "source": [
    "png(\"bias_tmax_jja.png\", width = 2000, height = 1000, res = 150)\n",
    "grid.arrange(b_0, b_1, b_2, b_3, b0, b1, b2, b3, ncol = 4)\n",
    "dev.off()"
   ]
  },
  {
   "cell_type": "markdown",
   "id": "3cb0ded7-8396-4af6-ac10-226545d5bfdf",
   "metadata": {
    "jp-MarkdownHeadingCollapsed": true
   },
   "source": [
    "## Máscara para los datos"
   ]
  },
  {
   "cell_type": "code",
   "execution_count": 8,
   "id": "79f16908-afd2-498c-813f-d55c30a21d78",
   "metadata": {},
   "outputs": [],
   "source": [
    "## Calculo el número de días que tmax > 30 grados\n",
    "nd30_obs = indexGrid(tx = tmx_obs_cel, index.code = \"TXth\", th = 30) %>% suppressMessages %>% suppressWarnings\n",
    "\n",
    "## Máscara de tierra de ERA5 (es una variable más del propio reanális):\n",
    "## Valores continuos entre 0 (no hay nada de tierra en ese gridbox) y 1 (todo el gridbox es tierra)\n",
    "mask = loadGridData(\"/lustre/gmeteo/PTICLIMA/DATA/REANALYSIS/ERA5/lsm/lsm_era5.nc\", var = \"lsm\") %>% suppressMessages %>% suppressWarnings\n",
    "\n",
    "## Binarizo la máscara: Considero que todos los gridboxes con un valor por encima (debajo) de 0.5 son de tierra (mar)\n",
    "mask.bin = binaryGrid(mask, condition = \"GE\", threshold = 0.5, values = c(NA, 1))\n",
    "\n",
    "## Hago el upscaling como hice con los datos de ERA5 a la resolución de 1º del modelo\n",
    "mask_upscaled = interpGrid(mask.bin,\n",
    "                           new.coordinates = getGrid(tmx_obs_cel),\n",
    "                           method = \"bilinear\") %>% suppressMessages %>% suppressWarnings\n",
    "\n",
    "## Apoyándome en la máscara binaria, me quedo únicamente con los datos en tierra y descarto el mar\n",
    "mask.bin.spain = subsetGrid(mask_upscaled, lonLim = c(-10, 5), latLim = c(35, 44))\n",
    "mask.bin.spain$Data = aperm(replicate(getShape(nd30_obs)[\"time\"], mask.bin.spain$Data, simplify = \"array\"), c(3, 1, 2))\n",
    "attributes(mask.bin.spain$Data)$dimensions = c(\"time\", \"lat\", \"lon\")\n",
    "\n",
    "## Máscara para el moodelo\n",
    "n.members = getShape(tmx_modelo_0)[\"member\"]\n",
    "mask.data = mask.bin.spain$Data\n",
    "mask.4d = array(NA, dim = c(n.members, dim(mask.data)))  # member x time x lat x lon\n",
    "for (m in 1:n.members) {\n",
    "    mask.4d[m,,,] = mask.data\n",
    "}\n",
    "\n",
    "mask.model = mask.bin.spain  # copia de la estructura\n",
    "mask.model$Data = mask.4d\n",
    "attributes(mask.model$Data)$dimensions = c(\"member\", \"time\", \"lat\", \"lon\")"
   ]
  },
  {
   "cell_type": "markdown",
   "id": "b3af4a03-458e-46dc-9d89-12ba1aedec57",
   "metadata": {
    "jp-MarkdownHeadingCollapsed": true
   },
   "source": [
    "## ndays tmax > 30"
   ]
  },
  {
   "cell_type": "markdown",
   "id": "da46812d-e844-4fd9-a38f-7265fdffd8d4",
   "metadata": {},
   "source": [
    "### obs"
   ]
  },
  {
   "cell_type": "code",
   "execution_count": null,
   "id": "6241ddfa-0945-441f-8153-753461d59bf5",
   "metadata": {},
   "outputs": [],
   "source": [
    "# Calculo el número de días que tmax > 30 grados\n",
    "nd30_obs = indexGrid(tx = tmx_obs_cel, index.code = \"TXth\", th = 30) %>% suppressMessages %>% suppressWarnings\n",
    "\n",
    "# Aplico la máscara a mis datos de ERA5\n",
    "nd30_obs = gridArithmetics(nd30_obs, mask.bin.spain, operator = \"*\")\n",
    "\n",
    "# Computo la climatología\n",
    "nd_obs = climatology(nd30_obs) %>% suppressMessages %>% suppressWarnings\n",
    "\n",
    "# Representación\n",
    "ndobs = spatialPlot(nd_obs, backdrop.theme = \"countries\", main = \"Obs\", col.regions = color, at = seq(0, 90, 1))"
   ]
  },
  {
   "cell_type": "code",
   "execution_count": null,
   "id": "b532258a-d6aa-410b-8581-01e54007bd56",
   "metadata": {},
   "outputs": [],
   "source": [
    "png(\"ndays_tmax30_obs_jja.png\", width = 2000, height = 1000, res = 150)\n",
    "print(ndobs)\n",
    "dev.off()"
   ]
  },
  {
   "cell_type": "markdown",
   "id": "21626c10-423c-4ee0-8f86-25c79e625beb",
   "metadata": {},
   "source": [
    "### datos modelo raw"
   ]
  },
  {
   "cell_type": "code",
   "execution_count": 13,
   "id": "cdc96668-0913-4ec2-806d-3b59aca5fda2",
   "metadata": {
    "scrolled": true,
    "vscode": {
     "languageId": "r"
    }
   },
   "outputs": [],
   "source": [
    "# Calculo el número de días que tmax > 30 grados\n",
    "nd30_0 = indexGrid(tx = tmx_modelo_0, index.code = \"TXth\", th = 30) %>% suppressMessages %>% suppressWarnings\n",
    "nd30_1 = indexGrid(tx = tmx_modelo_1, index.code = \"TXth\", th = 30) %>% suppressMessages %>% suppressWarnings\n",
    "nd30_2 = indexGrid(tx = tmx_modelo_2, index.code = \"TXth\", th = 30) %>% suppressMessages %>% suppressWarnings\n",
    "nd30_3 = indexGrid(tx = tmx_modelo_3, index.code = \"TXth\", th = 30) %>% suppressMessages %>% suppressWarnings\n",
    "\n",
    "# Aplico la máscara a mis datos del modelo\n",
    "nd30_0 = gridArithmetics(nd30_0, mask.model, operator = \"*\")\n",
    "nd30_1 = gridArithmetics(nd30_1, mask.model, operator = \"*\")\n",
    "nd30_2 = gridArithmetics(nd30_2, mask.model, operator = \"*\")\n",
    "nd30_3 = gridArithmetics(nd30_3, mask.model, operator = \"*\")\n",
    "\n",
    "# Computo la climatología\n",
    "nd_0 = climatology(nd30_0, by.member = FALSE) %>% suppressMessages %>% suppressWarnings\n",
    "nd_1 = climatology(nd30_1, by.member = FALSE) %>% suppressMessages %>% suppressWarnings\n",
    "nd_2 = climatology(nd30_2, by.member = FALSE) %>% suppressMessages %>% suppressWarnings\n",
    "nd_3 = climatology(nd30_3, by.member = FALSE) %>% suppressMessages %>% suppressWarnings\n",
    "\n",
    "# Representación\n",
    "nd0 = spatialPlot(nd_0, backdrop.theme = \"countries\", main = \"Raw (lt 0)\", col.regions = color, at = seq(0, 90, 1))\n",
    "nd1 = spatialPlot(nd_1, backdrop.theme = \"countries\", main = \"Raw (lt 1)\", col.regions = color, at = seq(0, 90, 1))\n",
    "nd2 = spatialPlot(nd_2, backdrop.theme = \"countries\", main = \"Raw (lt 2)\", col.regions = color, at = seq(0, 90, 1))\n",
    "nd3 = spatialPlot(nd_3, backdrop.theme = \"countries\", main = \"Raw (lt 3)\", col.regions = color, at = seq(0, 90, 1))"
   ]
  },
  {
   "cell_type": "markdown",
   "id": "2b5c6800-1a79-4e5a-bd48-23be9aed5345",
   "metadata": {},
   "source": [
    "### datos modelo bC"
   ]
  },
  {
   "cell_type": "code",
   "execution_count": 10,
   "id": "192e3167-879f-4e09-aff9-53bb18e67152",
   "metadata": {},
   "outputs": [],
   "source": [
    "# Calculo el número de días que tmax > 30 grados\n",
    "nd30_bc_0 = indexGrid(tx = bc_0, index.code = \"TXth\", th = 30) %>% suppressMessages %>% suppressWarnings\n",
    "nd30_bc_1 = indexGrid(tx = bc_1, index.code = \"TXth\", th = 30) %>% suppressMessages %>% suppressWarnings\n",
    "nd30_bc_2 = indexGrid(tx = bc_2, index.code = \"TXth\", th = 30) %>% suppressMessages %>% suppressWarnings\n",
    "nd30_bc_3 = indexGrid(tx = bc_3, index.code = \"TXth\", th = 30) %>% suppressMessages %>% suppressWarnings\n",
    "\n",
    "# Aplico la máscara a mis datos del modelo\n",
    "nd30_bc_0 = gridArithmetics(nd30_bc_0, mask.model, operator = \"*\")\n",
    "nd30_bc_1 = gridArithmetics(nd30_bc_1, mask.model, operator = \"*\")\n",
    "nd30_bc_2 = gridArithmetics(nd30_bc_2, mask.model, operator = \"*\")\n",
    "nd30_bc_3 = gridArithmetics(nd30_bc_3, mask.model, operator = \"*\")\n",
    "\n",
    "# Computo la climatología\n",
    "nd_bc_0 = climatology(nd30_bc_0, by.member = FALSE) %>% suppressMessages %>% suppressWarnings\n",
    "nd_bc_1 = climatology(nd30_bc_1, by.member = FALSE) %>% suppressMessages %>% suppressWarnings\n",
    "nd_bc_2 = climatology(nd30_bc_2, by.member = FALSE) %>% suppressMessages %>% suppressWarnings\n",
    "nd_bc_3 = climatology(nd30_bc_3, by.member = FALSE) %>% suppressMessages %>% suppressWarnings\n",
    "\n",
    "# Representación\n",
    "nd0_bc = spatialPlot(nd_bc_0, backdrop.theme = \"countries\", main = \"BC (lt 0)\", col.regions = color, at = seq(0, 90, 1))\n",
    "nd1_bc = spatialPlot(nd_bc_1, backdrop.theme = \"countries\", main = \"BC (lt 1)\", col.regions = color, at = seq(0, 90, 1))\n",
    "nd2_bc = spatialPlot(nd_bc_2, backdrop.theme = \"countries\", main = \"BC (lt 2)\", col.regions = color, at = seq(0, 90, 1))\n",
    "nd3_bc = spatialPlot(nd_bc_3, backdrop.theme = \"countries\", main = \"BC (lt 3)\", col.regions = color, at = seq(0, 90, 1))"
   ]
  },
  {
   "cell_type": "code",
   "execution_count": 14,
   "id": "5f33f5bf-706d-4765-ac07-3bb3d1d1c49c",
   "metadata": {},
   "outputs": [
    {
     "data": {
      "text/html": [
       "<strong>pdf:</strong> 2"
      ],
      "text/latex": [
       "\\textbf{pdf:} 2"
      ],
      "text/markdown": [
       "**pdf:** 2"
      ],
      "text/plain": [
       "pdf \n",
       "  2 "
      ]
     },
     "metadata": {},
     "output_type": "display_data"
    }
   ],
   "source": [
    "png(\"ndays_tmax30_model_jja.png\", width = 2000, height = 1000, res = 150)\n",
    "grid.arrange(nd0, nd1, nd2, nd3, nd0_bc, nd1_bc, nd2_bc, nd3_bc, ncol = 4)\n",
    "dev.off()"
   ]
  },
  {
   "cell_type": "markdown",
   "id": "f0ef1494-4657-4df1-bcea-d4dcbdd28896",
   "metadata": {
    "jp-MarkdownHeadingCollapsed": true
   },
   "source": [
    "## Bias ndays tmax"
   ]
  },
  {
   "cell_type": "markdown",
   "id": "85726979-91dc-43b7-99ad-4970c647d2ad",
   "metadata": {},
   "source": [
    "### obs y raw"
   ]
  },
  {
   "cell_type": "code",
   "execution_count": 17,
   "id": "6f732420-7b40-47ff-9ac4-3cb3f775b2d1",
   "metadata": {
    "vscode": {
     "languageId": "r"
    }
   },
   "outputs": [],
   "source": [
    "# Calculo del bias del ndays para cada leadtime del modelo\n",
    "bias_days_0 = veriApply(verifun = \"EnsMe\", \n",
    "                       fcst = nd30_0$Data, \n",
    "                       obs = nd30_obs$Data, \n",
    "                       ensdim = 1, tdim = 2) %>% suppressMessages %>% suppressWarnings\n",
    "\n",
    "bias_days_1 = veriApply(verifun = \"EnsMe\", \n",
    "                       fcst = nd30_1$Data, \n",
    "                       obs = nd30_obs$Data, \n",
    "                       ensdim = 1, tdim = 2) %>% suppressMessages %>% suppressWarnings\n",
    "\n",
    "bias_days_2 = veriApply(verifun = \"EnsMe\", \n",
    "                       fcst = nd30_2$Data, \n",
    "                       obs = nd30_obs$Data, \n",
    "                       ensdim = 1, tdim = 2) %>% suppressMessages %>% suppressWarnings\n",
    "\n",
    "bias_days_3 = veriApply(verifun = \"EnsMe\", \n",
    "                       fcst = nd30_3$Data, \n",
    "                       obs = nd30_obs$Data, \n",
    "                       ensdim = 1, tdim = 2) %>% suppressMessages %>% suppressWarnings\n",
    "\n",
    "# Reconstrucción del grid\n",
    "bias_nd_grid_0 = easyVeri2grid(easyVeri.mat = bias_days_0, obs.grid = tmx_obs_cel, verifun = \"EnsMe\")\n",
    "bias_nd_grid_1 = easyVeri2grid(easyVeri.mat = bias_days_1, obs.grid = tmx_obs_cel, verifun = \"EnsMe\")\n",
    "bias_nd_grid_2 = easyVeri2grid(easyVeri.mat = bias_days_2, obs.grid = tmx_obs_cel, verifun = \"EnsMe\")\n",
    "bias_nd_grid_3 = easyVeri2grid(easyVeri.mat = bias_days_3, obs.grid = tmx_obs_cel, verifun = \"EnsMe\")"
   ]
  },
  {
   "cell_type": "code",
   "execution_count": 18,
   "id": "05365e0d-84f5-4903-92fd-05aa2d9c77e4",
   "metadata": {
    "vscode": {
     "languageId": "r"
    }
   },
   "outputs": [],
   "source": [
    "# Representación\n",
    "bias0 = spatialPlot(climatology(bias_nd_grid_0),\n",
    "                    backdrop.theme = \"countries\",\n",
    "                    col.regions = color,\n",
    "                    main = \"Raw (lt 0)\",\n",
    "                    at = seq(-40, 40, 1)) %>% suppressMessages %>% suppressWarnings\n",
    "\n",
    "bias1 = spatialPlot(climatology(bias_nd_grid_1),\n",
    "                    backdrop.theme = \"countries\",\n",
    "                    col.regions = color,\n",
    "                    main = \"Raw (lt 1)\",\n",
    "                    at = seq(-40, 40, 1)) %>% suppressMessages %>% suppressWarnings\n",
    "\n",
    "bias2 = spatialPlot(climatology(bias_nd_grid_2),\n",
    "                    backdrop.theme = \"countries\",\n",
    "                    col.regions = color,\n",
    "                    main = \"Raw (lt 2)\",\n",
    "                    at = seq(-40, 40, 1)) %>% suppressMessages %>% suppressWarnings\n",
    "\n",
    "bias3 = spatialPlot(climatology(bias_nd_grid_3),\n",
    "                    backdrop.theme = \"countries\",\n",
    "                    col.regions = color,\n",
    "                    main = \"Raw (lt 3)\",\n",
    "                    at = seq(-40, 40, 1)) %>% suppressMessages %>% suppressWarnings"
   ]
  },
  {
   "cell_type": "markdown",
   "id": "b743bc1b-bda3-417d-a721-afdfee2c65fb",
   "metadata": {},
   "source": [
    "### obs y bC"
   ]
  },
  {
   "cell_type": "code",
   "execution_count": 19,
   "id": "a8f98846-02ca-42a9-bd35-da24ebac3552",
   "metadata": {},
   "outputs": [],
   "source": [
    "# Calculo del bias del ndays para cada leadtime del modelo\n",
    "bias_days_0_bc = veriApply(verifun = \"EnsMe\", \n",
    "                       fcst = nd30_bc_0$Data, \n",
    "                       obs = nd30_obs$Data, \n",
    "                       ensdim = 1, tdim = 2) %>% suppressMessages %>% suppressWarnings\n",
    "\n",
    "bias_days_1_bc = veriApply(verifun = \"EnsMe\", \n",
    "                       fcst = nd30_bc_1$Data, \n",
    "                       obs = nd30_obs$Data, \n",
    "                       ensdim = 1, tdim = 2) %>% suppressMessages %>% suppressWarnings\n",
    "\n",
    "bias_days_2_bc = veriApply(verifun = \"EnsMe\", \n",
    "                       fcst = nd30_bc_2$Data, \n",
    "                       obs = nd30_obs$Data, \n",
    "                       ensdim = 1, tdim = 2) %>% suppressMessages %>% suppressWarnings\n",
    "\n",
    "bias_days_3_bc = veriApply(verifun = \"EnsMe\", \n",
    "                       fcst = nd30_bc_3$Data, \n",
    "                       obs = nd30_obs$Data, \n",
    "                       ensdim = 1, tdim = 2) %>% suppressMessages %>% suppressWarnings\n",
    "\n",
    "# Reconstrucción del grid\n",
    "bias_nd_grid_0_bc = easyVeri2grid(easyVeri.mat = bias_days_0_bc, obs.grid = tmx_obs_cel, verifun = \"EnsMe\")\n",
    "bias_nd_grid_1_bc = easyVeri2grid(easyVeri.mat = bias_days_1_bc, obs.grid = tmx_obs_cel, verifun = \"EnsMe\")\n",
    "bias_nd_grid_2_bc = easyVeri2grid(easyVeri.mat = bias_days_2_bc, obs.grid = tmx_obs_cel, verifun = \"EnsMe\")\n",
    "bias_nd_grid_3_bc = easyVeri2grid(easyVeri.mat = bias_days_3_bc, obs.grid = tmx_obs_cel, verifun = \"EnsMe\")"
   ]
  },
  {
   "cell_type": "code",
   "execution_count": 20,
   "id": "845f3c9c-7b6d-4601-b1ef-0bc72a0759e0",
   "metadata": {},
   "outputs": [],
   "source": [
    "# Representación\n",
    "bias0_bc = spatialPlot(climatology(bias_nd_grid_0_bc),\n",
    "                    backdrop.theme = \"countries\",\n",
    "                    col.regions = color,\n",
    "                    main = \"BC (lt 0)\",\n",
    "                    at = seq(-0.1, 0.1, 0.01)) %>% suppressMessages %>% suppressWarnings\n",
    "\n",
    "bias1_bc = spatialPlot(climatology(bias_nd_grid_1_bc),\n",
    "                    backdrop.theme = \"countries\",\n",
    "                    col.regions = color,\n",
    "                    main = \"BC (lt 1)\",\n",
    "                    at = seq(-0.1, 0.1, 0.01)) %>% suppressMessages %>% suppressWarnings\n",
    "\n",
    "bias2_bc = spatialPlot(climatology(bias_nd_grid_2_bc),\n",
    "                    backdrop.theme = \"countries\",\n",
    "                    col.regions = color,\n",
    "                    main = \"BC (lt 2)\",\n",
    "                    at = seq(-0.1, 0.1, 0.01)) %>% suppressMessages %>% suppressWarnings\n",
    "\n",
    "bias3_bc = spatialPlot(climatology(bias_nd_grid_3_bc),\n",
    "                    backdrop.theme = \"countries\",\n",
    "                    col.regions = color,\n",
    "                    main = \"BC (lt 3)\",\n",
    "                    at = seq(-0.1, 0.1, 0.01)) %>% suppressMessages %>% suppressWarnings"
   ]
  },
  {
   "cell_type": "code",
   "execution_count": 21,
   "id": "072fa08b-415f-48bf-a6e1-6780ff893480",
   "metadata": {},
   "outputs": [
    {
     "data": {
      "text/html": [
       "<strong>pdf:</strong> 2"
      ],
      "text/latex": [
       "\\textbf{pdf:} 2"
      ],
      "text/markdown": [
       "**pdf:** 2"
      ],
      "text/plain": [
       "pdf \n",
       "  2 "
      ]
     },
     "metadata": {},
     "output_type": "display_data"
    }
   ],
   "source": [
    "png(\"bias_ndays_tmax30_jja.png\", width = 2000, height = 1000, res = 150)\n",
    "grid.arrange(bias0, bias1, bias2, bias3, bias0_bc, bias1_bc, bias2_bc, bias3_bc, ncol = 4)\n",
    "dev.off()"
   ]
  },
  {
   "cell_type": "markdown",
   "id": "89e9b6e8-3ab9-4226-bdd7-5585f9f67e84",
   "metadata": {
    "jp-MarkdownHeadingCollapsed": true
   },
   "source": [
    "## Correlación ndays tmax"
   ]
  },
  {
   "cell_type": "markdown",
   "id": "e9e95d3c-f4c6-4796-a205-1523c6966289",
   "metadata": {
    "jp-MarkdownHeadingCollapsed": true
   },
   "source": [
    "### test de hipótesis para puntos significativos"
   ]
  },
  {
   "cell_type": "code",
   "execution_count": 22,
   "id": "1a58d742-57ed-4be1-9422-3a6e3456c04b",
   "metadata": {},
   "outputs": [],
   "source": [
    "# Función para calcular correlación de Pearson y valores p entre datos de modelo y observaciones en una grilla espacial\n",
    "# Además, identifica y marca los puntos con correlación estadísticamente significativa según un umbral de p-valor\n",
    "#\n",
    "# Args:\n",
    "#   model_data: objeto con datos del modelo, estructura esperada con dimensión [miembros, tiempo, latitud, longitud]\n",
    "#   obs_data: objeto con datos observacionales, estructura con dimensión [tiempo, latitud, longitud]\n",
    "#   ref_grid: objeto referencia con metadatos espaciales y temporales para construir grillas (xyCoords, Variable, Dates)\n",
    "#   threshold: umbral para marcar significancia estadística (p-valor), default 0.05\n",
    "#\n",
    "# Returns:\n",
    "#   Lista con:\n",
    "#     - cor: matriz de correlaciones [lat x lon]\n",
    "#     - pval: matriz de valores p [lat x lon]\n",
    "#     - pval_grid: objeto tipo \"grid\" con valores p y metadatos\n",
    "#     - pts: lista de objetos para graficar puntos de significancia (stippling)\n",
    "\n",
    "calc_cor_pval_grid = function(model_data, obs_data, ref_grid, threshold = 0.05) {\n",
    "    \n",
    "    # Calcular la media del ensamble para cada punto [tiempo, lat, lon]\n",
    "    ens_mean = apply(model_data$Data, c(2, 3, 4), mean, na.rm = TRUE)\n",
    "    \n",
    "    # Dimensiones espaciales (latitud y longitud)\n",
    "    lat_n = dim(ens_mean)[2]\n",
    "    lon_n = dim(ens_mean)[3]\n",
    "  \n",
    "    # Inicializar matrices vacías para almacenar correlaciones y p-valores\n",
    "    cor_array = matrix(NA, nrow = lat_n, ncol = lon_n)\n",
    "    pval_array = matrix(NA, nrow = lat_n, ncol = lon_n)\n",
    "    \n",
    "    # Iterar sobre cada punto espacial\n",
    "    for (i in 1:lat_n) {\n",
    "        for (j in 1:lon_n) {\n",
    "            \n",
    "            # Extraer series temporales de modelo y observaciones para la celda actual\n",
    "            pred_series = ens_mean[, i, j]\n",
    "            obs_series = obs_data$Data[, i, j]\n",
    "      \n",
    "            # Filtrar índices con datos completos (no NA)\n",
    "            valid_idx = complete.cases(pred_series, obs_series)\n",
    "            \n",
    "            # Solo calcular correlación si hay suficientes datos (mínimo 10)\n",
    "            if (sum(valid_idx) >= 10) {\n",
    "                test = cor.test(pred_series[valid_idx], obs_series[valid_idx], method = \"pearson\")\n",
    "                cor_array[i, j] = test$estimate  # Coeficiente de correlación\n",
    "                pval_array[i, j] = test$p.value  # Valor p de la prueba\n",
    "            }\n",
    "        }\n",
    "    }\n",
    "  \n",
    "    # Construir un objeto \"grid\" para los valores p, con metadatos espaciales y temporales\n",
    "    pval_grid = list()\n",
    "    pval_grid$Data = pval_array\n",
    "    attr(pval_grid$Data, \"dimensions\") = c(\"lat\", \"lon\")\n",
    "    pval_grid$xyCoords = ref_grid$xyCoords\n",
    "    pval_grid$Variable = ref_grid$Variable\n",
    "    pval_grid$Dates = ref_grid$Dates\n",
    "    class(pval_grid) = \"grid\"\n",
    "\n",
    "    pval_grid$Variable$varName = \"p-values\"\n",
    "    attr(pval_grid$Variable, \"description\") = \"Mapa de p-valores\"\n",
    "    attr(pval_grid$Variable, \"units\") = \"\"\n",
    "    attr(pval_grid$Variable, \"longname\") = \"p-values\"\n",
    "    \n",
    "    # Crear objetos para graficar puntos de significancia estadística (stippling)\n",
    "    pts = map.stippling(climatology(pval_grid), \n",
    "                        threshold = threshold, \n",
    "                        condition = \"LT\", \n",
    "                        pch = 19, col = \"black\", cex = 0.5) %>% suppressMessages() %>% suppressWarnings()\n",
    "    \n",
    "    # Devolver lista con resultados y objetos para plot\n",
    "    return(list(cor = cor_array, pval = pval_array, pval_grid = pval_grid, pts = pts))\n",
    "}"
   ]
  },
  {
   "cell_type": "code",
   "execution_count": 23,
   "id": "a71f751d-50e2-4935-8a4b-0c724c37e887",
   "metadata": {},
   "outputs": [
    {
     "name": "stderr",
     "output_type": "stream",
     "text": [
      "Warning message in cor(x, y):\n",
      "“the standard deviation is zero”\n",
      "Warning message in cor(x, y):\n",
      "“the standard deviation is zero”\n",
      "Warning message in cor(x, y):\n",
      "“the standard deviation is zero”\n"
     ]
    }
   ],
   "source": [
    "# Datos raw\n",
    "test_cor_0 = calc_cor_pval_grid(nd30_0, nd30_obs, nd30_0)\n",
    "test_cor_1 = calc_cor_pval_grid(nd30_1, nd30_obs, nd30_0)\n",
    "test_cor_2 = calc_cor_pval_grid(nd30_2, nd30_obs, nd30_0)\n",
    "test_cor_3 = calc_cor_pval_grid(nd30_3, nd30_obs, nd30_0)\n",
    "\n",
    "# Datos bC\n",
    "test_cor_0_bc = calc_cor_pval_grid(nd30_bc_0, nd30_obs, nd30_0)\n",
    "test_cor_1_bc = calc_cor_pval_grid(nd30_bc_1, nd30_obs, nd30_0)\n",
    "test_cor_2_bc = calc_cor_pval_grid(nd30_bc_2, nd30_obs, nd30_0)\n",
    "test_cor_3_bc = calc_cor_pval_grid(nd30_bc_3, nd30_obs, nd30_0)"
   ]
  },
  {
   "cell_type": "markdown",
   "id": "3bc41230-ff34-41be-ba43-cfbf75d3fa6d",
   "metadata": {},
   "source": [
    "### obs y raw"
   ]
  },
  {
   "cell_type": "code",
   "execution_count": 24,
   "id": "5d769920-43ea-4b31-b45a-08ff72874316",
   "metadata": {
    "scrolled": true,
    "vscode": {
     "languageId": "r"
    }
   },
   "outputs": [],
   "source": [
    "# Calculo de correlacion para cada leadtime del modelo\n",
    "cor_days_0 = veriApply(verifun = \"EnsCorr\", \n",
    "                       fcst = nd30_0$Data, \n",
    "                       obs = nd30_obs$Data, \n",
    "                       ensdim = 1, tdim = 2) %>% suppressMessages %>% suppressWarnings\n",
    "\n",
    "cor_days_1 = veriApply(verifun = \"EnsCorr\", \n",
    "                       fcst = nd30_1$Data, \n",
    "                       obs = nd30_obs$Data, \n",
    "                       ensdim = 1, tdim = 2) %>% suppressMessages %>% suppressWarnings\n",
    "\n",
    "cor_days_2 = veriApply(verifun = \"EnsCorr\", \n",
    "                       fcst = nd30_2$Data, \n",
    "                       obs = nd30_obs$Data, \n",
    "                       ensdim = 1, tdim = 2) %>% suppressMessages %>% suppressWarnings\n",
    "\n",
    "cor_days_3 = veriApply(verifun = \"EnsCorr\", \n",
    "                       fcst = nd30_3$Data, \n",
    "                       obs = nd30_obs$Data, \n",
    "                       ensdim = 1, tdim = 2) %>% suppressMessages %>% suppressWarnings\n",
    "\n",
    "# Reconstrucción del grid\n",
    "cor_nd_grid_0 = easyVeri2grid(easyVeri.mat = cor_days_0, obs.grid = tmx_obs_cel, verifun = \"EnsCorr\")\n",
    "cor_nd_grid_1 = easyVeri2grid(easyVeri.mat = cor_days_1, obs.grid = tmx_obs_cel, verifun = \"EnsCorr\")\n",
    "cor_nd_grid_2 = easyVeri2grid(easyVeri.mat = cor_days_2, obs.grid = tmx_obs_cel, verifun = \"EnsCorr\")\n",
    "cor_nd_grid_3 = easyVeri2grid(easyVeri.mat = cor_days_3, obs.grid = tmx_obs_cel, verifun = \"EnsCorr\")"
   ]
  },
  {
   "cell_type": "code",
   "execution_count": 25,
   "id": "958e1c1e-1904-4bac-959a-c9b7537362c0",
   "metadata": {
    "vscode": {
     "languageId": "r"
    }
   },
   "outputs": [],
   "source": [
    "# Representación\n",
    "c0 = spatialPlot(climatology(cor_nd_grid_0),\n",
    "                 backdrop.theme = \"countries\",\n",
    "                 sp.layout = list(test_cor_0$pts),\n",
    "                 col.regions = color,\n",
    "                 at = seq(-1, 1, 0.1),\n",
    "                 main = \"Raw (lt 0)\") %>% suppressMessages %>% suppressWarnings\n",
    "\n",
    "c1 = spatialPlot(climatology(cor_nd_grid_1),\n",
    "                 backdrop.theme = \"countries\",\n",
    "                 sp.layout = list(test_cor_1$pts),\n",
    "                 col.regions = color,\n",
    "                 at = seq(-1, 1, 0.1),\n",
    "                 main = \"Raw (lt 1)\") %>% suppressMessages %>% suppressWarnings\n",
    "\n",
    "c2 = spatialPlot(climatology(cor_nd_grid_2),\n",
    "                 backdrop.theme = \"countries\",\n",
    "                 sp.layout = list(test_cor_2$pts),\n",
    "                 col.regions = color,\n",
    "                 at = seq(-1, 1, 0.1),\n",
    "                 main = \"Raw (lt 2)\") %>% suppressMessages %>% suppressWarnings\n",
    "\n",
    "c3 = spatialPlot(climatology(cor_nd_grid_3),\n",
    "                 backdrop.theme = \"countries\",\n",
    "                 sp.layout = list(test_cor_3$pts),\n",
    "                 col.regions = color,\n",
    "                 at = seq(-1, 1, 0.1),\n",
    "                 main = \"Raw (lt 3)\") %>% suppressMessages %>% suppressWarnings"
   ]
  },
  {
   "cell_type": "markdown",
   "id": "d87189d2-f3a3-46a4-b0e5-9a6e9a6fae04",
   "metadata": {},
   "source": [
    "### obs y bC"
   ]
  },
  {
   "cell_type": "code",
   "execution_count": 26,
   "id": "9f83731c-687f-4ada-b380-a43b90aa8f5a",
   "metadata": {},
   "outputs": [],
   "source": [
    "# Calculo de correlacion para cada leadtime del modelo\n",
    "cor_days_0_bc = veriApply(verifun = \"EnsCorr\", \n",
    "                       fcst = nd30_bc_0$Data, \n",
    "                       obs = nd30_obs$Data, \n",
    "                       ensdim = 1, tdim = 2) %>% suppressMessages %>% suppressWarnings\n",
    "\n",
    "cor_days_1_bc = veriApply(verifun = \"EnsCorr\", \n",
    "                       fcst = nd30_bc_1$Data, \n",
    "                       obs = nd30_obs$Data, \n",
    "                       ensdim = 1, tdim = 2) %>% suppressMessages %>% suppressWarnings\n",
    "\n",
    "cor_days_2_bc = veriApply(verifun = \"EnsCorr\", \n",
    "                       fcst = nd30_bc_2$Data, \n",
    "                       obs = nd30_obs$Data, \n",
    "                       ensdim = 1, tdim = 2) %>% suppressMessages %>% suppressWarnings\n",
    "\n",
    "cor_days_3_bc = veriApply(verifun = \"EnsCorr\", \n",
    "                       fcst = nd30_bc_3$Data, \n",
    "                       obs = nd30_obs$Data, \n",
    "                       ensdim = 1, tdim = 2) %>% suppressMessages %>% suppressWarnings\n",
    "\n",
    "# Reconstrucción del grid\n",
    "cor_nd_grid_0_bc = easyVeri2grid(easyVeri.mat = cor_days_0_bc, obs.grid = tmx_obs_cel, verifun = \"EnsCorr\")\n",
    "cor_nd_grid_1_bc = easyVeri2grid(easyVeri.mat = cor_days_1_bc, obs.grid = tmx_obs_cel, verifun = \"EnsCorr\")\n",
    "cor_nd_grid_2_bc = easyVeri2grid(easyVeri.mat = cor_days_2_bc, obs.grid = tmx_obs_cel, verifun = \"EnsCorr\")\n",
    "cor_nd_grid_3_bc = easyVeri2grid(easyVeri.mat = cor_days_3_bc, obs.grid = tmx_obs_cel, verifun = \"EnsCorr\")"
   ]
  },
  {
   "cell_type": "code",
   "execution_count": 27,
   "id": "a965a052-b3d1-4da4-af92-76d28b03f501",
   "metadata": {},
   "outputs": [],
   "source": [
    "# Representación\n",
    "c0_bc = spatialPlot(climatology(cor_nd_grid_0_bc),\n",
    "                    backdrop.theme = \"countries\",\n",
    "                    sp.layout = list(test_cor_0_bc$pts),\n",
    "                    col.regions = color,\n",
    "                    at = seq(-1, 1, 0.1),\n",
    "                    main = \"BC (lt 0)\") %>% suppressMessages %>% suppressWarnings\n",
    "\n",
    "c1_bc = spatialPlot(climatology(cor_nd_grid_1_bc),\n",
    "                    backdrop.theme = \"countries\",\n",
    "                    sp.layout = list(test_cor_1_bc$pts),\n",
    "                    col.regions = color,\n",
    "                    at = seq(-1, 1, 0.1),\n",
    "                    main = \"BC (lt 1)\") %>% suppressMessages %>% suppressWarnings\n",
    "\n",
    "c2_bc = spatialPlot(climatology(cor_nd_grid_2_bc),\n",
    "                    backdrop.theme = \"countries\",\n",
    "                    sp.layout = list(test_cor_2_bc$pts),\n",
    "                    col.regions = color,\n",
    "                    at = seq(-1, 1, 0.1),\n",
    "                    main = \"BC (lt 2)\") %>% suppressMessages %>% suppressWarnings\n",
    "\n",
    "c3_bc = spatialPlot(climatology(cor_nd_grid_3_bc),\n",
    "                    backdrop.theme = \"countries\",\n",
    "                    sp.layout = list(test_cor_3_bc$pts),\n",
    "                    col.regions = color,\n",
    "                    at = seq(-1, 1, 0.1),\n",
    "                    main = \"BC (lt 3)\") %>% suppressMessages %>% suppressWarnings"
   ]
  },
  {
   "cell_type": "code",
   "execution_count": 28,
   "id": "a5ec85b6-c7de-4b9f-a9c4-21baaa9814fe",
   "metadata": {},
   "outputs": [
    {
     "data": {
      "text/html": [
       "<strong>pdf:</strong> 2"
      ],
      "text/latex": [
       "\\textbf{pdf:} 2"
      ],
      "text/markdown": [
       "**pdf:** 2"
      ],
      "text/plain": [
       "pdf \n",
       "  2 "
      ]
     },
     "metadata": {},
     "output_type": "display_data"
    }
   ],
   "source": [
    "png(\"cor_ndays_tmax30_jja.png\", width = 2000, height = 1000, res = 150)\n",
    "grid.arrange(c0, c1, c2, c3, c0_bc, c1_bc, c2_bc, c3_bc, ncol = 4)\n",
    "dev.off()"
   ]
  },
  {
   "cell_type": "markdown",
   "id": "07819521-fe7a-4f75-8503-e07b758808cd",
   "metadata": {
    "jp-MarkdownHeadingCollapsed": true
   },
   "source": [
    "## RMSE ndays tmax"
   ]
  },
  {
   "cell_type": "markdown",
   "id": "0430e465-8c8f-4fb9-abcd-44debcbc2ecb",
   "metadata": {},
   "source": [
    "### obs y raw"
   ]
  },
  {
   "cell_type": "code",
   "execution_count": 29,
   "id": "65fbc9d8-1fd8-4d61-ac8f-a3b7bad13a51",
   "metadata": {
    "vscode": {
     "languageId": "r"
    }
   },
   "outputs": [],
   "source": [
    "# Calculo del RMSE para cada leadtime del modelo\n",
    "rmse_days_0 = veriApply(verifun = \"EnsRmse\", \n",
    "                       fcst = nd30_0$Data, \n",
    "                       obs = nd30_obs$Data, \n",
    "                       ensdim = 1, tdim = 2) %>% suppressMessages %>% suppressWarnings\n",
    "\n",
    "rmse_days_1 = veriApply(verifun = \"EnsRmse\", \n",
    "                       fcst = nd30_1$Data, \n",
    "                       obs = nd30_obs$Data, \n",
    "                       ensdim = 1, tdim = 2) %>% suppressMessages %>% suppressWarnings\n",
    "\n",
    "rmse_days_2 = veriApply(verifun = \"EnsRmse\", \n",
    "                       fcst = nd30_2$Data, \n",
    "                       obs = nd30_obs$Data, \n",
    "                       ensdim = 1, tdim = 2) %>% suppressMessages %>% suppressWarnings\n",
    "\n",
    "rmse_days_3 = veriApply(verifun = \"EnsRmse\", \n",
    "                       fcst = nd30_3$Data, \n",
    "                       obs = nd30_obs$Data, \n",
    "                       ensdim = 1, tdim = 2) %>% suppressMessages %>% suppressWarnings\n",
    "\n",
    "# Reconstrucción del grid\n",
    "rmse_nd_grid_0 = easyVeri2grid(easyVeri.mat = rmse_days_0, obs.grid = tmx_obs_cel, verifun = \"EnsRmse\")\n",
    "rmse_nd_grid_1 = easyVeri2grid(easyVeri.mat = rmse_days_1, obs.grid = tmx_obs_cel, verifun = \"EnsRmse\")\n",
    "rmse_nd_grid_2 = easyVeri2grid(easyVeri.mat = rmse_days_2, obs.grid = tmx_obs_cel, verifun = \"EnsRmse\")\n",
    "rmse_nd_grid_3 = easyVeri2grid(easyVeri.mat = rmse_days_3, obs.grid = tmx_obs_cel, verifun = \"EnsRmse\")"
   ]
  },
  {
   "cell_type": "code",
   "execution_count": 30,
   "id": "5fc50770-46a4-412d-95fd-27b0919d23fa",
   "metadata": {
    "vscode": {
     "languageId": "r"
    }
   },
   "outputs": [],
   "source": [
    "# Representación\n",
    "rmse_0 = spatialPlot(climatology(rmse_nd_grid_0),\n",
    "                     backdrop.theme = \"countries\",\n",
    "                     col.regions = color,\n",
    "                     main = \"Raw (lt 0)\",\n",
    "                     at = seq(0, 50, 1)) %>% suppressMessages %>% suppressWarnings\n",
    "\n",
    "rmse_1 = spatialPlot(climatology(rmse_nd_grid_1),\n",
    "                     backdrop.theme = \"countries\",\n",
    "                     col.regions = color,\n",
    "                     main = \"Raw (lt 1)\",\n",
    "                     at = seq(0, 50, 1)) %>% suppressMessages %>% suppressWarnings\n",
    "\n",
    "rmse_2 = spatialPlot(climatology(rmse_nd_grid_2),\n",
    "                     backdrop.theme = \"countries\",\n",
    "                     col.regions = color,\n",
    "                     main = \"Raw (lt 2)\",\n",
    "                     at = seq(0, 50, 1)) %>% suppressMessages %>% suppressWarnings\n",
    "\n",
    "rmse_3 = spatialPlot(climatology(rmse_nd_grid_3),\n",
    "                     backdrop.theme = \"countries\",\n",
    "                     col.regions = color,\n",
    "                     main = \"Raw (lt 3)\",\n",
    "                     at = seq(0, 50, 1)) %>% suppressMessages %>% suppressWarnings"
   ]
  },
  {
   "cell_type": "markdown",
   "id": "324cd76c-1939-446e-af56-e2273c5d0ea0",
   "metadata": {},
   "source": [
    "### obs y bC"
   ]
  },
  {
   "cell_type": "code",
   "execution_count": 31,
   "id": "52104f09-8e4a-4660-9acf-edec077e7cbb",
   "metadata": {},
   "outputs": [],
   "source": [
    "# Calculo del RMSE para cada leadtime del modelo\n",
    "rmse_days_0_bc = veriApply(verifun = \"EnsRmse\", \n",
    "                       fcst = nd30_bc_0$Data, \n",
    "                       obs = nd30_obs$Data, \n",
    "                       ensdim = 1, tdim = 2) %>% suppressMessages %>% suppressWarnings\n",
    "\n",
    "rmse_days_1_bc = veriApply(verifun = \"EnsRmse\", \n",
    "                       fcst = nd30_bc_1$Data, \n",
    "                       obs = nd30_obs$Data, \n",
    "                       ensdim = 1, tdim = 2) %>% suppressMessages %>% suppressWarnings\n",
    "\n",
    "rmse_days_2_bc = veriApply(verifun = \"EnsRmse\", \n",
    "                       fcst = nd30_bc_2$Data, \n",
    "                       obs = nd30_obs$Data, \n",
    "                       ensdim = 1, tdim = 2) %>% suppressMessages %>% suppressWarnings\n",
    "\n",
    "rmse_days_3_bc = veriApply(verifun = \"EnsRmse\", \n",
    "                       fcst = nd30_bc_3$Data, \n",
    "                       obs = nd30_obs$Data, \n",
    "                       ensdim = 1, tdim = 2) %>% suppressMessages %>% suppressWarnings\n",
    "\n",
    "# Reconstrucción del grid\n",
    "rmse_nd_grid_0_bc = easyVeri2grid(easyVeri.mat = rmse_days_0_bc, obs.grid = tmx_obs_cel, verifun = \"EnsRmse\")\n",
    "rmse_nd_grid_1_bc = easyVeri2grid(easyVeri.mat = rmse_days_1_bc, obs.grid = tmx_obs_cel, verifun = \"EnsRmse\")\n",
    "rmse_nd_grid_2_bc = easyVeri2grid(easyVeri.mat = rmse_days_2_bc, obs.grid = tmx_obs_cel, verifun = \"EnsRmse\")\n",
    "rmse_nd_grid_3_bc = easyVeri2grid(easyVeri.mat = rmse_days_3_bc, obs.grid = tmx_obs_cel, verifun = \"EnsRmse\")"
   ]
  },
  {
   "cell_type": "code",
   "execution_count": 32,
   "id": "1b3ba161-21cd-4835-8e65-4dca6c3eee84",
   "metadata": {},
   "outputs": [],
   "source": [
    "# Representación\n",
    "rmse_0_bc = spatialPlot(climatology(rmse_nd_grid_0_bc),\n",
    "                     backdrop.theme = \"countries\",\n",
    "                     col.regions = color,\n",
    "                     main = \"BC (lt 0)\",\n",
    "                     at = seq(0, 50, 1)) %>% suppressMessages %>% suppressWarnings\n",
    "\n",
    "rmse_1_bc = spatialPlot(climatology(rmse_nd_grid_1_bc),\n",
    "                     backdrop.theme = \"countries\",\n",
    "                     col.regions = color,\n",
    "                     main = \"BC (lt 1)\",\n",
    "                     at = seq(0, 50, 1)) %>% suppressMessages %>% suppressWarnings\n",
    "\n",
    "rmse_2_bc = spatialPlot(climatology(rmse_nd_grid_2_bc),\n",
    "                     backdrop.theme = \"countries\",\n",
    "                     col.regions = color,\n",
    "                     main = \"BC (lt 2)\",\n",
    "                     at = seq(0, 50, 1)) %>% suppressMessages %>% suppressWarnings\n",
    "\n",
    "rmse_3_bc = spatialPlot(climatology(rmse_nd_grid_3_bc),\n",
    "                     backdrop.theme = \"countries\",\n",
    "                     col.regions = color,\n",
    "                     main = \"BC (lt 3)\",\n",
    "                     at = seq(0, 50, 1)) %>% suppressMessages %>% suppressWarnings"
   ]
  },
  {
   "cell_type": "code",
   "execution_count": 33,
   "id": "923b454b-97a7-438a-af77-c76a23393984",
   "metadata": {},
   "outputs": [
    {
     "data": {
      "text/html": [
       "<strong>pdf:</strong> 2"
      ],
      "text/latex": [
       "\\textbf{pdf:} 2"
      ],
      "text/markdown": [
       "**pdf:** 2"
      ],
      "text/plain": [
       "pdf \n",
       "  2 "
      ]
     },
     "metadata": {},
     "output_type": "display_data"
    }
   ],
   "source": [
    "png(\"rmse_ndays_tmax30_jja.png\", width = 2000, height = 1000, res = 150)\n",
    "grid.arrange(rmse_0, rmse_1, rmse_2, rmse_3, rmse_0_bc, rmse_1_bc, rmse_2_bc, rmse_3_bc, ncol = 4)\n",
    "dev.off()"
   ]
  },
  {
   "cell_type": "markdown",
   "id": "fd295b3a-ee52-4756-a37b-0881340c9d95",
   "metadata": {
    "jp-MarkdownHeadingCollapsed": true
   },
   "source": [
    "## Ratio varianzas ndays tmax"
   ]
  },
  {
   "cell_type": "markdown",
   "id": "14b204f4-5585-492d-91c7-b074807152ce",
   "metadata": {},
   "source": [
    "### obs y raw"
   ]
  },
  {
   "cell_type": "code",
   "execution_count": 34,
   "id": "f335cae4-2cd4-4833-9c7e-2f3d541d10de",
   "metadata": {},
   "outputs": [],
   "source": [
    "# Varianzas, calculo la varianza de cada miembro y luego hago el promedio\n",
    "var_0 = climatology(nd30_0,\n",
    "                    clim.fun = list(FUN = \"var\", na.rm = TRUE),\n",
    "                    by.member = TRUE) %>% suppressMessages %>% suppressWarnings\n",
    "\n",
    "mean_var_0 = climatology(var_0,\n",
    "                         clim.fun = list(FUN = \"mean\", na.rm = TRUE),\n",
    "                         by.member = FALSE) %>% suppressMessages %>% suppressWarnings\n",
    "\n",
    "var_1 = climatology(nd30_1,\n",
    "                    clim.fun = list(FUN = \"var\", na.rm = TRUE),\n",
    "                    by.member = TRUE) %>% suppressMessages %>% suppressWarnings\n",
    "\n",
    "mean_var_1 = climatology(var_1,\n",
    "                         clim.fun = list(FUN = \"mean\", na.rm = TRUE),\n",
    "                         by.member = FALSE) %>% suppressMessages %>% suppressWarnings\n",
    "\n",
    "var_2 = climatology(nd30_2,\n",
    "                    clim.fun = list(FUN = \"var\", na.rm = TRUE),\n",
    "                    by.member = TRUE) %>% suppressMessages %>% suppressWarnings\n",
    "\n",
    "mean_var_2 = climatology(var_2,\n",
    "                         clim.fun = list(FUN = \"mean\", na.rm = TRUE),\n",
    "                         by.member = FALSE) %>% suppressMessages %>% suppressWarnings\n",
    "\n",
    "var_3 = climatology(nd30_3,\n",
    "                    clim.fun = list(FUN = \"var\", na.rm = TRUE),\n",
    "                    by.member = TRUE) %>% suppressMessages %>% suppressWarnings\n",
    "\n",
    "mean_var_3 = climatology(var_3,\n",
    "                         clim.fun = list(FUN = \"mean\", na.rm = TRUE),\n",
    "                         by.member = FALSE) %>% suppressMessages %>% suppressWarnings\n",
    "\n",
    "var_obs = climatology(nd30_obs,\n",
    "                      clim.fun = list(FUN = \"var\", na.rm = TRUE)) %>% suppressMessages %>% suppressWarnings\n",
    "\n",
    "# Ratio de varianzas\n",
    "rv_0 = gridArithmetics(mean_var_0, var_obs, operator = \"/\")\n",
    "rv_1 = gridArithmetics(mean_var_1, var_obs, operator = \"/\")\n",
    "rv_2 = gridArithmetics(mean_var_2, var_obs, operator = \"/\")\n",
    "rv_3 = gridArithmetics(mean_var_3, var_obs, operator = \"/\")\n",
    "\n",
    "# Representación\n",
    "rv0 = spatialPlot(rv_0, backdrop.theme = \"countries\", col.regions = color, main = \"Raw (lt 0)\", at = seq(0, 2, 0.1))\n",
    "rv1 = spatialPlot(rv_1, backdrop.theme = \"countries\", col.regions = color, main = \"Raw (lt 1)\", at = seq(0, 2, 0.1))\n",
    "rv2 = spatialPlot(rv_2, backdrop.theme = \"countries\", col.regions = color, main = \"Raw (lt 2)\", at = seq(0, 2, 0.1))\n",
    "rv3 = spatialPlot(rv_3, backdrop.theme = \"countries\", col.regions = color, main = \"Raw (lt 3)\", at = seq(0, 2, 0.1))"
   ]
  },
  {
   "cell_type": "markdown",
   "id": "43497f78-0467-4f6c-91ff-2dabfadc27ed",
   "metadata": {},
   "source": [
    "### obs y bC"
   ]
  },
  {
   "cell_type": "code",
   "execution_count": 35,
   "id": "ced7845a-e587-4a9c-912d-804ee774dfdb",
   "metadata": {},
   "outputs": [],
   "source": [
    "# Varianzas, calculo la varianza de cada miembro y luego hago el promedio\n",
    "var_0_bc = climatology(nd30_bc_0,\n",
    "                    clim.fun = list(FUN = \"var\", na.rm = TRUE),\n",
    "                    by.member = TRUE) %>% suppressMessages %>% suppressWarnings\n",
    "\n",
    "mean_var_0_bc = climatology(var_0_bc,\n",
    "                         clim.fun = list(FUN = \"mean\", na.rm = TRUE),\n",
    "                         by.member = FALSE) %>% suppressMessages %>% suppressWarnings\n",
    "\n",
    "var_1_bc = climatology(nd30_bc_1,\n",
    "                    clim.fun = list(FUN = \"var\", na.rm = TRUE),\n",
    "                    by.member = TRUE) %>% suppressMessages %>% suppressWarnings\n",
    "\n",
    "mean_var_1_bc = climatology(var_1_bc,\n",
    "                         clim.fun = list(FUN = \"mean\", na.rm = TRUE),\n",
    "                         by.member = FALSE) %>% suppressMessages %>% suppressWarnings\n",
    "\n",
    "var_2_bc = climatology(nd30_bc_2,\n",
    "                    clim.fun = list(FUN = \"var\", na.rm = TRUE),\n",
    "                    by.member = TRUE) %>% suppressMessages %>% suppressWarnings\n",
    "\n",
    "mean_var_2_bc = climatology(var_2_bc,\n",
    "                         clim.fun = list(FUN = \"mean\", na.rm = TRUE),\n",
    "                         by.member = FALSE) %>% suppressMessages %>% suppressWarnings\n",
    "\n",
    "var_3_bc = climatology(nd30_bc_3,\n",
    "                    clim.fun = list(FUN = \"var\", na.rm = TRUE),\n",
    "                    by.member = TRUE) %>% suppressMessages %>% suppressWarnings\n",
    "\n",
    "mean_var_3_bc = climatology(var_3_bc,\n",
    "                         clim.fun = list(FUN = \"mean\", na.rm = TRUE),\n",
    "                         by.member = FALSE) %>% suppressMessages %>% suppressWarnings\n",
    "\n",
    "# Ratio de varianzas\n",
    "rv_0_bc = gridArithmetics(mean_var_0_bc, var_obs, operator = \"/\")\n",
    "rv_1_bc = gridArithmetics(mean_var_1_bc, var_obs, operator = \"/\")\n",
    "rv_2_bc = gridArithmetics(mean_var_2_bc, var_obs, operator = \"/\")\n",
    "rv_3_bc = gridArithmetics(mean_var_3_bc, var_obs, operator = \"/\")\n",
    "\n",
    "# Representación\n",
    "rv0_bc = spatialPlot(rv_0_bc, backdrop.theme = \"countries\", col.regions = color, main = \"BC (lt 0)\", at = seq(0, 2, 0.1))\n",
    "rv1_bc = spatialPlot(rv_1_bc, backdrop.theme = \"countries\", col.regions = color, main = \"BC (lt 1)\", at = seq(0, 2, 0.1))\n",
    "rv2_bc = spatialPlot(rv_2_bc, backdrop.theme = \"countries\", col.regions = color, main = \"BC (lt 2)\", at = seq(0, 2, 0.1))\n",
    "rv3_bc = spatialPlot(rv_3_bc, backdrop.theme = \"countries\", col.regions = color, main = \"BC (lt 3)\", at = seq(0, 2, 0.1))"
   ]
  },
  {
   "cell_type": "code",
   "execution_count": 36,
   "id": "f53f995f-93d2-4f1f-af13-22885f0a6564",
   "metadata": {},
   "outputs": [
    {
     "data": {
      "text/html": [
       "<strong>pdf:</strong> 2"
      ],
      "text/latex": [
       "\\textbf{pdf:} 2"
      ],
      "text/markdown": [
       "**pdf:** 2"
      ],
      "text/plain": [
       "pdf \n",
       "  2 "
      ]
     },
     "metadata": {},
     "output_type": "display_data"
    }
   ],
   "source": [
    "png(\"ratiovars_ndays_tmax30_jja.png\", width = 2000, height = 1000, res = 150)\n",
    "grid.arrange(rv0, rv1, rv2, rv3, rv0_bc, rv1_bc, rv2_bc, rv3_bc, ncol = 4)\n",
    "dev.off()"
   ]
  },
  {
   "cell_type": "markdown",
   "id": "59881468-c7a9-4aac-a871-411b6778eee8",
   "metadata": {
    "jp-MarkdownHeadingCollapsed": true
   },
   "source": [
    "## ROCSS ndays tmax"
   ]
  },
  {
   "cell_type": "markdown",
   "id": "7bda3120-7372-4f72-b48f-04b4dbf9f545",
   "metadata": {
    "jp-MarkdownHeadingCollapsed": true
   },
   "source": [
    "### Funciones auxiliares"
   ]
  },
  {
   "cell_type": "code",
   "execution_count": 37,
   "id": "3c2f90fd-1784-491a-8e50-6d821a64234e",
   "metadata": {},
   "outputs": [],
   "source": [
    "## Función para realizar bootstrap y calcular ROCSS\n",
    "##\n",
    "## Esta función calcula el ROC Skill Score (ROCSS) mediante un enfoque bootstrap,\n",
    "## generando múltiples muestras re-muestreadas con reemplazo sobre la dimensión temporal.\n",
    "##\n",
    "## Argumentos:\n",
    "## - nd_modelo: objeto con los pronósticos originales (formato esperado: [member, time, lat, lon])\n",
    "## - nd_obs: objeto con las observaciones correspondientes (formato: [time, lat, lon])\n",
    "## - n_boot: número de muestras bootstrap a generar (por defecto: 1000)\n",
    "##\n",
    "## Valor:\n",
    "## - Lista de 3 arrays (uno por tercil), cada uno con dimensiones [n_boot, lat, lon],\n",
    "##   que contiene los valores bootstrap del ROCSS para cada tercil.\n",
    "\n",
    "rocss_bootstrap = function(nd_modelo, nd_obs, n_boot = 1000) {\n",
    "    \n",
    "    # Obtener dimensiones del array de pronóstico\n",
    "    dims = dim(nd_modelo$Data)\n",
    "    \n",
    "    # Inicializar lista para guardar ROCSS bootstrap para los tres terciles\n",
    "    rocss_bootstrap = vector(\"list\", length = 3)\n",
    "    \n",
    "    # Extraer observaciones\n",
    "    obs = nd_obs$Data\n",
    "    \n",
    "    # Inicializar arrays vacíos para cada tercil: [n_boot, lat, lon]\n",
    "    for (i in 1:3) {\n",
    "        rocss_bootstrap[[i]] = array(NA, dim = c(n_boot, dims[3], dims[4]))\n",
    "    }\n",
    "    \n",
    "    # Bucle principal de bootstrap\n",
    "    for (b in 1:n_boot) {\n",
    "        \n",
    "        # Muestreo con reemplazo sobre la dimensión temporal (índice de tiempo)\n",
    "        time_idx = sample(1:dims[2], size = dims[2], replace = TRUE)\n",
    "    \n",
    "        # Crear pronóstico re-muestreado: [member, time*, sdate, lat, lon]\n",
    "        fcst_boot = nd_modelo$Data[, time_idx, , , drop = FALSE]\n",
    "    \n",
    "        # Calcular ROCSS con veriApply usando la función EnsRocss\n",
    "        boot_result = veriApply(\n",
    "            verifun = \"EnsRocss\",\n",
    "            fcst = fcst_boot,\n",
    "            obs = obs,\n",
    "            prob = c(1/3, 2/3),\n",
    "            ensdim = 1,   # Dimensión de los miembros del ensamble\n",
    "            tdim = 2      # Dimensión temporal\n",
    "        )\n",
    "    \n",
    "        # Guardar el resultado para cada tercil en la lista correspondiente\n",
    "        for (i in 1:3) {\n",
    "            rocss_bootstrap[[i]][b, , ] = boot_result[[i]]\n",
    "        }\n",
    "    }\n",
    "    \n",
    "    # Devolver lista con resultados bootstrap por tercil\n",
    "    return(rocss_bootstrap)\n",
    "}"
   ]
  },
  {
   "cell_type": "code",
   "execution_count": 84,
   "id": "90045430-c272-41a0-be0f-e2855601bc68",
   "metadata": {},
   "outputs": [],
   "source": [
    "## Función para generar capas de \"stippling\" que indican puntos con ROCSS significativamente mayores que un percentil dado\n",
    "##\n",
    "## Parámetros:\n",
    "## mg               : objeto con datos ROCSS con dimensiones [tercil, member, time, lat, lon]\n",
    "## rocss_bootstrap  : lista de arrays bootstrap con dimensiones [n_boot, lat, lon] para cada tercil\n",
    "## ref_grid         : grid de referencia que contiene Dates y xyCoords (coordenadas XY)\n",
    "## threshold        : percentil del bootstrap para determinar significancia (default 0.95)\n",
    "##\n",
    "## Retorna:\n",
    "## lista de objetos \"sp.points\" para cada tercil con puntos significativos (stippling)\n",
    "\n",
    "get_rocss_stippling_layers = function(mg, rocss_bootstrap, ref_grid, threshold = 0.95) {\n",
    "\t\n",
    "\trocss_orig = mg$Data\n",
    "\tn_terciles = dim(rocss_orig)[1]\n",
    "\tn_lat = dim(rocss_orig)[4]\n",
    "\tn_lon = dim(rocss_orig)[5]\n",
    "\t\n",
    "\txyCoords = ref_grid$xyCoords\n",
    "\tDates = ref_grid$Dates\n",
    "\t\n",
    "\tstippling_list = vector(\"list\", n_terciles)\n",
    "\t\n",
    "\tfor (t in 1:n_terciles) {\n",
    "\t\tsignif_mask = matrix(NA, nrow = n_lat, ncol = n_lon)\n",
    "\t\t\n",
    "\t\tfor (i in 1:n_lat) {\n",
    "\t\t\tfor (j in 1:n_lon) {\n",
    "\t\t\t\tboot_vals = rocss_bootstrap[[t]][, i, j]\n",
    "\t\t\t\tval_orig = rocss_orig[t, 1, 1, i, j]\n",
    "\t\t\t\tif (all(is.na(boot_vals)) || is.na(val_orig)) next\n",
    "\t\t\t\tq95 = quantile(boot_vals, threshold, na.rm = TRUE)\n",
    "\t\t\t\tsignif_mask[i, j] = val_orig > q95\n",
    "\t\t\t}\n",
    "\t\t}\n",
    "\t\t\n",
    "\t\t# Construcción manual del objeto grid para la capa de significancia\n",
    "\t\tpval_grid = list()\n",
    "\t\tpval_grid$Data = signif_mask\n",
    "\t\tattr(pval_grid$Data, \"dimensions\") = c(\"lat\", \"lon\")\n",
    "\t\tpval_grid$Dates = Dates\n",
    "\t\tpval_grid$xyCoords = xyCoords\n",
    "\t\tpval_grid$Variable = list(varName = paste0(\"significance_tercil_\", t))\n",
    "\t\tclass(pval_grid) = \"grid\"\n",
    "\t\t\n",
    "\t\t# Genera puntos de significancia con map.stippling (pch=19, color negro, tamaño 0.5)\n",
    "\t\tstippling_list[[t]] = suppressWarnings(\n",
    "\t\t\tsuppressMessages(\n",
    "\t\t\t\tmap.stippling(climatology(pval_grid), threshold = 0.5, condition = \"GT\",\n",
    "\t\t\t\t              pch = 19, col = \"black\", cex = 0.5)\n",
    "\t\t\t)\n",
    "\t\t)\n",
    "\t}\n",
    "\t\n",
    "\t# Elimina entradas NULL (si algún tercil no tiene puntos significativos)\n",
    "\tstippling_list = Filter(Negate(is.null), stippling_list)\n",
    "\t\n",
    "\t# Filtra para quedarse solo con listas que son puntos espaciales (sp.points)\n",
    "\tstippling_list = Filter(function(x) {\n",
    "\t\tis.list(x) && length(x) > 1 && x[[1]] == \"sp.points\"\n",
    "\t}, stippling_list)\n",
    "\t\n",
    "\treturn(stippling_list)\n",
    "}"
   ]
  },
  {
   "cell_type": "markdown",
   "id": "c65cb2a7-9f8a-40cb-a46f-e72d896b29ec",
   "metadata": {},
   "source": [
    "### obs y raw"
   ]
  },
  {
   "cell_type": "code",
   "execution_count": 74,
   "id": "2ee3a5da-488f-4a44-8b5c-ca4fd80c2ac1",
   "metadata": {},
   "outputs": [],
   "source": [
    "# Calculo del ROCSS para cada leadtime del modelo\n",
    "rocss_days_0 = veriApply(verifun = \"EnsRocss\", \n",
    "                         fcst = nd30_0$Data, \n",
    "                         obs = nd30_obs$Data,\n",
    "                         prob = c(1/3, 2/3),\n",
    "                         ensdim = 1, tdim = 2) %>% suppressMessages %>% suppressWarnings\n",
    "\n",
    "rocss_days_1 = veriApply(verifun = \"EnsRocss\", \n",
    "                         fcst = nd30_1$Data, \n",
    "                         obs = nd30_obs$Data,\n",
    "                         prob = c(1/3, 2/3),\n",
    "                         ensdim = 1, tdim = 2) %>% suppressMessages %>% suppressWarnings\n",
    "\n",
    "rocss_days_2 = veriApply(verifun = \"EnsRocss\", \n",
    "                         fcst = nd30_2$Data, \n",
    "                         obs = nd30_obs$Data,\n",
    "                         prob = c(1/3, 2/3),\n",
    "                         ensdim = 1, tdim = 2) %>% suppressMessages %>% suppressWarnings\n",
    "\n",
    "rocss_days_3 = veriApply(verifun = \"EnsRocss\", \n",
    "                         fcst = nd30_3$Data, \n",
    "                         obs = nd30_obs$Data,\n",
    "                         prob = c(1/3, 2/3),\n",
    "                         ensdim = 1, tdim = 2) %>% suppressMessages %>% suppressWarnings\n",
    "\n",
    "# Multigrid para representar los tres percentiles\n",
    "mg_0 = makeMultiGrid(lapply(rocss_days_0[1:3], \"easyVeri2grid\", nd30_obs))\n",
    "mg_1 = makeMultiGrid(lapply(rocss_days_1[1:3], \"easyVeri2grid\", nd30_obs))\n",
    "mg_2 = makeMultiGrid(lapply(rocss_days_2[1:3], \"easyVeri2grid\", nd30_obs))\n",
    "mg_3 = makeMultiGrid(lapply(rocss_days_3[1:3], \"easyVeri2grid\", nd30_obs))"
   ]
  },
  {
   "cell_type": "code",
   "execution_count": 30,
   "id": "8ee88778-77e7-4e4c-ba23-6135394fa01c",
   "metadata": {},
   "outputs": [],
   "source": [
    "set.seed(123)  # Reproducibilidad\n",
    "\n",
    "# Aplico función de bootstraping\n",
    "rocss_bootstrap_0 = rocss_bootstrap(nd30_0, nd30_obs)\n",
    "rocss_bootstrap_1 = rocss_bootstrap(nd30_1, nd30_obs)\n",
    "rocss_bootstrap_2 = rocss_bootstrap(nd30_2, nd30_obs)\n",
    "rocss_bootstrap_3 = rocss_bootstrap(nd30_3, nd30_obs)"
   ]
  },
  {
   "cell_type": "code",
   "execution_count": 68,
   "id": "fe0f5bbb-b92d-4273-bb45-98ba6b5a70c3",
   "metadata": {},
   "outputs": [],
   "source": [
    "saveRDS(rocss_bootstrap_0, file = \"rocss_bootstrap_raw_jja_0.rds\")\n",
    "saveRDS(rocss_bootstrap_1, file = \"rocss_bootstrap_raw_jja_1.rds\")\n",
    "saveRDS(rocss_bootstrap_2, file = \"rocss_bootstrap_raw_jja_2.rds\")\n",
    "saveRDS(rocss_bootstrap_3, file = \"rocss_bootstrap_raw_jja_3.rds\")"
   ]
  },
  {
   "cell_type": "code",
   "execution_count": 75,
   "id": "71e4d24f-366d-43d2-b68c-f5afa300be99",
   "metadata": {},
   "outputs": [],
   "source": [
    "rocss_bootstrap_0 = readRDS(\"../../data/jja_data/rocss_bootstrap_raw_jja_0.rds\")\n",
    "rocss_bootstrap_1 = readRDS(\"../../data/jja_data/rocss_bootstrap_raw_jja_1.rds\")\n",
    "rocss_bootstrap_2 = readRDS(\"../../data/jja_data/rocss_bootstrap_raw_jja_2.rds\")\n",
    "rocss_bootstrap_3 = readRDS(\"../../data/jja_data/rocss_bootstrap_raw_jja_3.rds\")"
   ]
  },
  {
   "cell_type": "code",
   "execution_count": 76,
   "id": "ad35f732-a29e-4ab6-aa35-29d73ffe7604",
   "metadata": {},
   "outputs": [],
   "source": [
    "# Aplico función de máscara significativa\n",
    "pts_layers_0 = get_rocss_stippling_layers(mg_0, rocss_bootstrap_0, nd30_0)\n",
    "pts_layers_1 = get_rocss_stippling_layers(mg_1, rocss_bootstrap_1, nd30_0)\n",
    "pts_layers_2 = get_rocss_stippling_layers(mg_2, rocss_bootstrap_2, nd30_0)\n",
    "pts_layers_3 = get_rocss_stippling_layers(mg_3, rocss_bootstrap_3, nd30_0)"
   ]
  },
  {
   "cell_type": "code",
   "execution_count": 77,
   "id": "49e105b9-98bb-4e64-ad00-549b4e7229cc",
   "metadata": {},
   "outputs": [],
   "source": [
    "rocss0 = spatialPlot(climatology(mg_0),\n",
    "                     backdrop.theme = \"countries\",\n",
    "                     names.attr = c(\"Lower tercile\", \"Middle tercile\", \"Upper tercile\"),\n",
    "                     layout = c(3,1),\n",
    "                     col.regions = color,\n",
    "                     at = seq(-1, 1, 0.05),\n",
    "                     sp.layout = list(pts_layers_0),\n",
    "                     main = \"Raw (lt 0)\") %>% suppressMessages %>% suppressWarnings\n",
    "\n",
    "rocss1 = spatialPlot(climatology(mg_1),\n",
    "                     backdrop.theme = \"countries\",\n",
    "                     names.attr = c(\"Lower tercile\", \"Middle tercile\", \"Upper tercile\"),\n",
    "                     layout = c(3,1),\n",
    "                     col.regions = color,\n",
    "                     at = seq(-1, 1, 0.05),\n",
    "                     sp.layout = list(pts_layers_1),\n",
    "                     main = \"Raw (lt 1)\") %>% suppressMessages %>% suppressWarnings\n",
    "\n",
    "rocss2 = spatialPlot(climatology(mg_2),\n",
    "                     backdrop.theme = \"countries\",\n",
    "                     names.attr = c(\"Lower tercile\", \"Middle tercile\", \"Upper tercile\"),\n",
    "                     layout = c(3,1),\n",
    "                     col.regions = color,\n",
    "                     at = seq(-1, 1, 0.05),\n",
    "                     sp.layout = list(pts_layers_2),\n",
    "                     main = \"Raw (lt 2)\") %>% suppressMessages %>% suppressWarnings\n",
    "\n",
    "rocss3 = spatialPlot(climatology(mg_3),\n",
    "                     backdrop.theme = \"countries\",\n",
    "                     names.attr = c(\"Lower tercile\", \"Middle tercile\", \"Upper tercile\"),\n",
    "                     layout = c(3,1),\n",
    "                     col.regions = color,\n",
    "                     at = seq(-1, 1, 0.05),\n",
    "                     sp.layout = list(pts_layers_3),\n",
    "                     main = \"Raw (lt 3)\") %>% suppressMessages %>% suppressWarnings"
   ]
  },
  {
   "cell_type": "code",
   "execution_count": 78,
   "id": "18adc277-e8a0-4926-92a3-15e021676259",
   "metadata": {},
   "outputs": [
    {
     "data": {
      "text/html": [
       "<strong>pdf:</strong> 2"
      ],
      "text/latex": [
       "\\textbf{pdf:} 2"
      ],
      "text/markdown": [
       "**pdf:** 2"
      ],
      "text/plain": [
       "pdf \n",
       "  2 "
      ]
     },
     "metadata": {},
     "output_type": "display_data"
    }
   ],
   "source": [
    "png(\"rocss_ndays_tmax30_raw_jja.png\", width = 2000, height = 1000, res = 150)\n",
    "grid.arrange(rocss0, rocss1, rocss2, rocss3, ncol = 2)\n",
    "dev.off()"
   ]
  },
  {
   "cell_type": "markdown",
   "id": "fe764b47-5a08-47ac-be9a-6168632547b9",
   "metadata": {},
   "source": [
    "### obs y bC"
   ]
  },
  {
   "cell_type": "code",
   "execution_count": 79,
   "id": "1af8d1e2-d5b1-4d52-bd26-e68a552eeaef",
   "metadata": {},
   "outputs": [],
   "source": [
    "# Calculo del ROCSS para cada leadtime del modelo\n",
    "rocss_days_0_bc = veriApply(verifun = \"EnsRocss\", \n",
    "                         fcst = nd30_bc_0$Data, \n",
    "                         obs = nd30_obs$Data,\n",
    "                         prob = c(1/3, 2/3),\n",
    "                         ensdim = 1, tdim = 2) %>% suppressMessages %>% suppressWarnings\n",
    "\n",
    "rocss_days_1_bc = veriApply(verifun = \"EnsRocss\", \n",
    "                         fcst = nd30_bc_1$Data, \n",
    "                         obs = nd30_obs$Data,\n",
    "                         prob = c(1/3, 2/3),\n",
    "                         ensdim = 1, tdim = 2) %>% suppressMessages %>% suppressWarnings\n",
    "\n",
    "rocss_days_2_bc = veriApply(verifun = \"EnsRocss\", \n",
    "                         fcst = nd30_bc_2$Data, \n",
    "                         obs = nd30_obs$Data,\n",
    "                         prob = c(1/3, 2/3),\n",
    "                         ensdim = 1, tdim = 2) %>% suppressMessages %>% suppressWarnings\n",
    "\n",
    "rocss_days_3_bc = veriApply(verifun = \"EnsRocss\", \n",
    "                         fcst = nd30_bc_3$Data, \n",
    "                         obs = nd30_obs$Data,\n",
    "                         prob = c(1/3, 2/3),\n",
    "                         ensdim = 1, tdim = 2) %>% suppressMessages %>% suppressWarnings\n",
    "\n",
    "# Multigrid para representar los tres percentiles\n",
    "mg_0_bc = makeMultiGrid(lapply(rocss_days_0_bc[1:3], \"easyVeri2grid\", nd30_obs))\n",
    "mg_1_bc = makeMultiGrid(lapply(rocss_days_1_bc[1:3], \"easyVeri2grid\", nd30_obs))\n",
    "mg_2_bc = makeMultiGrid(lapply(rocss_days_2_bc[1:3], \"easyVeri2grid\", nd30_obs))\n",
    "mg_3_bc = makeMultiGrid(lapply(rocss_days_3_bc[1:3], \"easyVeri2grid\", nd30_obs))"
   ]
  },
  {
   "cell_type": "code",
   "execution_count": 33,
   "id": "896f24dd-d2e0-4d25-88ab-b4f71ad6fb35",
   "metadata": {},
   "outputs": [],
   "source": [
    "set.seed(123)  # Reproducibilidad\n",
    "\n",
    "# Aplico función de bootstraping\n",
    "rocss_bootstrap_0_bc = rocss_bootstrap(nd30_bc_0, nd30_obs)\n",
    "rocss_bootstrap_1_bc = rocss_bootstrap(nd30_bc_1, nd30_obs)\n",
    "rocss_bootstrap_2_bc = rocss_bootstrap(nd30_bc_2, nd30_obs)\n",
    "rocss_bootstrap_3_bc = rocss_bootstrap(nd30_bc_3, nd30_obs)"
   ]
  },
  {
   "cell_type": "code",
   "execution_count": 69,
   "id": "e745eee2-e4f6-4580-b8f1-8b3aa4e31fc9",
   "metadata": {},
   "outputs": [],
   "source": [
    "saveRDS(rocss_bootstrap_0_bc, file = \"rocss_bootstrap_bc_jja_0.rds\")\n",
    "saveRDS(rocss_bootstrap_1_bc, file = \"rocss_bootstrap_bc_jja_1.rds\")\n",
    "saveRDS(rocss_bootstrap_2_bc, file = \"rocss_bootstrap_bc_jja_2.rds\")\n",
    "saveRDS(rocss_bootstrap_3_bc, file = \"rocss_bootstrap_bc_jja_3.rds\")"
   ]
  },
  {
   "cell_type": "code",
   "execution_count": 80,
   "id": "84ad79fb-f75f-4685-9f46-8b7ee1b605de",
   "metadata": {},
   "outputs": [],
   "source": [
    "rocss_bootstrap_0_bc = readRDS(\"../../data/jja_data/rocss_bootstrap_bc_jja_0.rds\")\n",
    "rocss_bootstrap_1_bc = readRDS(\"../../data/jja_data/rocss_bootstrap_bc_jja_1.rds\")\n",
    "rocss_bootstrap_2_bc = readRDS(\"../../data/jja_data/rocss_bootstrap_bc_jja_2.rds\")\n",
    "rocss_bootstrap_3_bc = readRDS(\"../../data/jja_data/rocss_bootstrap_bc_jja_3.rds\")"
   ]
  },
  {
   "cell_type": "code",
   "execution_count": 81,
   "id": "a7f66b56-93c3-47a8-9805-773b391e16a2",
   "metadata": {},
   "outputs": [],
   "source": [
    "# Aplico función de máscara significativa\n",
    "pts_layers_0_bc = get_rocss_stippling_layers(mg_0_bc, rocss_bootstrap_0_bc, nd30_0)\n",
    "pts_layers_1_bc = get_rocss_stippling_layers(mg_1_bc, rocss_bootstrap_1_bc, nd30_0)\n",
    "pts_layers_2_bc = get_rocss_stippling_layers(mg_2_bc, rocss_bootstrap_2_bc, nd30_0)\n",
    "pts_layers_3_bc = get_rocss_stippling_layers(mg_3_bc, rocss_bootstrap_3_bc, nd30_0)"
   ]
  },
  {
   "cell_type": "code",
   "execution_count": 82,
   "id": "f09d91a3-85bf-45c4-a983-b6c90108e03d",
   "metadata": {},
   "outputs": [],
   "source": [
    "rocss0_bc = spatialPlot(climatology(mg_0_bc),\n",
    "                        backdrop.theme = \"countries\",\n",
    "                        names.attr = c(\"Lower tercile\", \"Middle tercile\", \"Upper tercile\"),\n",
    "                        layout = c(3,1),\n",
    "                        col.regions = color,\n",
    "                        at = seq(-1, 1, 0.05),\n",
    "                        sp.layout = list(pts_layers_0_bc),\n",
    "                        main = \"BC (lt 0)\") %>% suppressMessages %>% suppressWarnings\n",
    "\n",
    "rocss1_bc = spatialPlot(climatology(mg_1_bc),\n",
    "                        backdrop.theme = \"countries\",\n",
    "                        names.attr = c(\"Lower tercile\", \"Middle tercile\", \"Upper tercile\"),\n",
    "                        layout = c(3,1),\n",
    "                        col.regions = color,\n",
    "                        at = seq(-1, 1, 0.05),\n",
    "                        sp.layout = list(pts_layers_1_bc),\n",
    "                        main = \"BC (lt 1)\") %>% suppressMessages %>% suppressWarnings\n",
    "\n",
    "rocss2_bc = spatialPlot(climatology(mg_2_bc),\n",
    "                        backdrop.theme = \"countries\",\n",
    "                        names.attr = c(\"Lower tercile\", \"Middle tercile\", \"Upper tercile\"),\n",
    "                        layout = c(3,1),\n",
    "                        col.regions = color,\n",
    "                        at = seq(-1, 1, 0.05),\n",
    "                        sp.layout = list(pts_layers_2_bc),\n",
    "                        main = \"BC (lt 2)\") %>% suppressMessages %>% suppressWarnings\n",
    "\n",
    "rocss3_bc = spatialPlot(climatology(mg_3_bc),\n",
    "                        backdrop.theme = \"countries\",\n",
    "                        names.attr = c(\"Lower tercile\", \"Middle tercile\", \"Upper tercile\"),\n",
    "                        layout = c(3,1),\n",
    "                        col.regions = color,\n",
    "                        at = seq(-1, 1, 0.05),\n",
    "                        sp.layout = list(pts_layers_3_bc),\n",
    "                        main = \"BC (lt 3)\") %>% suppressMessages %>% suppressWarnings"
   ]
  },
  {
   "cell_type": "code",
   "execution_count": 83,
   "id": "b5e87db1-3974-41f8-bf00-380c5bbb60c6",
   "metadata": {},
   "outputs": [
    {
     "data": {
      "text/html": [
       "<strong>pdf:</strong> 2"
      ],
      "text/latex": [
       "\\textbf{pdf:} 2"
      ],
      "text/markdown": [
       "**pdf:** 2"
      ],
      "text/plain": [
       "pdf \n",
       "  2 "
      ]
     },
     "metadata": {},
     "output_type": "display_data"
    }
   ],
   "source": [
    "png(\"rocss_ndays_tmax30_bc_jja.png\", width = 2000, height = 1000, res = 150)\n",
    "grid.arrange(rocss0_bc, rocss1_bc, rocss2_bc, rocss3_bc, ncol = 2)\n",
    "dev.off()"
   ]
  }
 ],
 "metadata": {
  "kernelspec": {
   "display_name": "R",
   "language": "R",
   "name": "ir"
  },
  "language_info": {
   "codemirror_mode": "r",
   "file_extension": ".r",
   "mimetype": "text/x-r-source",
   "name": "R",
   "pygments_lexer": "r",
   "version": "4.3.3"
  }
 },
 "nbformat": 4,
 "nbformat_minor": 5
}
