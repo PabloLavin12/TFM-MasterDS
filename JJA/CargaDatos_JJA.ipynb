{
 "cells": [
  {
   "cell_type": "markdown",
   "id": "338b9c14-7ccf-4460-b176-7ab7a38118cb",
   "metadata": {},
   "source": [
    "# Carga Datos JJA"
   ]
  },
  {
   "cell_type": "code",
   "execution_count": 1,
   "id": "a513cdc8-aa6f-4fb8-8d3d-60d47ad2d94a",
   "metadata": {
    "scrolled": true
   },
   "outputs": [
    {
     "name": "stderr",
     "output_type": "stream",
     "text": [
      "\n",
      "Attaching package: ‘dplyr’\n",
      "\n",
      "\n",
      "The following objects are masked from ‘package:stats’:\n",
      "\n",
      "    filter, lag\n",
      "\n",
      "\n",
      "The following objects are masked from ‘package:base’:\n",
      "\n",
      "    intersect, setdiff, setequal, union\n",
      "\n",
      "\n",
      "Loading required package: rJava\n",
      "\n",
      "Loading required package: loadeR.java\n",
      "\n",
      "Java version 23x amd64 by N/A detected\n",
      "\n",
      "NetCDF Java Library v4.6.0-SNAPSHOT (23 Apr 2015) loaded and ready\n",
      "\n",
      "Loading required package: climate4R.UDG\n",
      "\n",
      "climate4R.UDG version 0.2.6 (2023-06-26) is loaded\n",
      "\n",
      "Please use 'citation(\"climate4R.UDG\")' to cite this package.\n",
      "\n",
      "loadeR version 1.8.1 (2023-06-22) is loaded\n",
      "\n",
      "WARNING: Your current version of loadeR (v1.8.1) is not up-to-date\n",
      "\n",
      "Get the latest stable version (1.8.2) using <devtools::install_github(c('SantanderMetGroup/climate4R.UDG','SantanderMetGroup/loadeR'))>\n",
      "\n",
      "Please use 'citation(\"loadeR\")' to cite this package.\n",
      "\n"
     ]
    },
    {
     "name": "stdout",
     "output_type": "stream",
     "text": [
      "\n",
      "    _______   ____  ___________________  __  ________ \n",
      "   / ___/ /  / /  |/  / __  /_  __/ __/ / / / / __  / \n",
      "  / /  / /  / / /|_/ / /_/ / / / / __/ / /_/ / /_/_/  \n",
      " / /__/ /__/ / /  / / __  / / / / /__ /___  / / \\ \\ \n",
      " \\___/____/_/_/  /_/_/ /_/ /_/  \\___/    /_/\\/   \\_\\ \n",
      " \n",
      "      github.com/SantanderMetGroup/climate4R\n",
      "\n"
     ]
    },
    {
     "name": "stderr",
     "output_type": "stream",
     "text": [
      "transformeR version 2.2.2 (2023-10-26) is loaded\n",
      "\n",
      "WARNING: Your current version of transformeR (v2.2.2) is not up-to-date\n",
      "\n",
      "Get the latest stable version (2.2.3) using <devtools::install_github('SantanderMetGroup/transformeR')>\n",
      "\n",
      "Please see 'citation(\"transformeR\")' to cite this package.\n",
      "\n",
      "visualizeR version 1.6.4 (2023-10-26) is loaded\n",
      "\n",
      "Please see 'citation(\"visualizeR\")' to cite this package.\n",
      "\n",
      "downscaleR version 3.3.4 (2023-06-22) is loaded\n",
      "\n",
      "Please use 'citation(\"downscaleR\")' to cite this package.\n",
      "\n",
      "Loading required package: climdex.pcic\n",
      "\n",
      "Loading required package: PCICt\n",
      "\n",
      "climate4R.climdex version 0.2.3 (2023-06-23) is loaded\n",
      "\n",
      "Use 'climdexShow()' for an overview of the available ETCCDI indices\n",
      "\n",
      "climate4R.indices version 0.3.1 (2023-06-22) is loaded\n",
      "\n",
      "Use 'indexShow()' for an overview of the available climate indices and circIndexShow() for the circulation indices.\n",
      "\n",
      "NOTE: use package climate4R.climdex to calculate ETCCDI indices.\n",
      "\n",
      "\n",
      "Attaching package: ‘climate4R.indices’\n",
      "\n",
      "\n",
      "The following object is masked from ‘package:transformeR’:\n",
      "\n",
      "    lambWT\n",
      "\n",
      "\n",
      "Loading required package: SpecsVerification\n",
      "\n",
      "\n",
      "Attaching package: ‘easyVerification’\n",
      "\n",
      "\n",
      "The following object is masked from ‘package:SpecsVerification’:\n",
      "\n",
      "    EnsCorr\n",
      "\n",
      "\n",
      "\n",
      "Attaching package: ‘gridExtra’\n",
      "\n",
      "\n",
      "The following object is masked from ‘package:dplyr’:\n",
      "\n",
      "    combine\n",
      "\n",
      "\n"
     ]
    }
   ],
   "source": [
    "# Cargamos paquetes\n",
    "\n",
    "library(repr)\n",
    "library(dplyr)\n",
    "\n",
    "library(abind)\n",
    "library(loadeR)\n",
    "library(transformeR)\n",
    "library(visualizeR)\n",
    "library(downscaleR)\n",
    "library(climate4R.UDG)\n",
    "library(climate4R.climdex)\n",
    "library(climate4R.indices)\n",
    "library(easyVerification)\n",
    "\n",
    "library(lattice)\n",
    "library(magrittr)\n",
    "library(gridExtra)\n",
    "library(RColorBrewer)\n",
    "\n",
    "# biasCorrection_RM\n",
    "source(\"load_bc_functions.R\")"
   ]
  },
  {
   "cell_type": "code",
   "execution_count": 2,
   "id": "abb30529-9a75-422e-8dc2-3d8d0b2a6ac7",
   "metadata": {},
   "outputs": [],
   "source": [
    "# Region de estudio\n",
    "\n",
    "lon = c(-10, 20)\n",
    "lat = c(35,46)"
   ]
  },
  {
   "cell_type": "markdown",
   "id": "c7586073-ed48-456a-b4d2-bb2a89ce9eaf",
   "metadata": {},
   "source": [
    "## Cargar hindcast (leadtime 0, 1, 2, 3)"
   ]
  },
  {
   "cell_type": "code",
   "execution_count": 3,
   "id": "fbe2f734-92c3-48b8-b3f5-ba0de3efbc6e",
   "metadata": {},
   "outputs": [],
   "source": [
    "anios = 1981:2016\n",
    "meses_ini = c(\"06\", \"05\", \"04\", \"03\")  # meses de inicialización\n",
    "\n",
    "# Función generalizada para cargar los datos por mes y año\n",
    "cargar_dato = function(anio, mes_ini) {\n",
    "    \n",
    "    yyyymm = paste0(anio, mes_ini)\n",
    "\n",
    "    ruta = paste0(\n",
    "        \"/lustre/gmeteo/PTICLIMA/DATA/SEASONAL/\",\n",
    "        \"seasonal-original-single-levels/medcof/hindcast/tasmax/ecmwf/51/\", yyyymm, \"/\",\n",
    "        \"seasonal-original-single-levels_medcof_hindcast_tasmax_ecmwf_51_\", yyyymm, \".ncml\"\n",
    "    )\n",
    "\n",
    "    data_aux = loadGridData(dataset = ruta,\n",
    "                            var = \"tasmax\",\n",
    "                            lonLim = lon,\n",
    "                            latLim = lat,\n",
    "                            season = c(6, 7, 8)) %>% suppressMessages %>% suppressWarnings\n",
    "\n",
    "    data_aux = aggregateGrid(data_aux, aggr.d = list(FUN = \"mean\", na.rm = TRUE)) %>% suppressMessages %>% suppressWarnings\n",
    "\n",
    "    return(data_aux)\n",
    "}\n",
    "\n",
    "# Creo una lista donde cada elemento es la salida para un mes de inicialización diferente\n",
    "resultados_por_mes = lapply(meses_ini, function(mes) {\n",
    "    lapply(anios, function(anio) cargar_dato(anio, mes))\n",
    "})\n",
    "\n",
    "# Nombro los elementos por mes\n",
    "names(resultados_por_mes) = paste0(\"mes_\", meses_ini)"
   ]
  },
  {
   "cell_type": "code",
   "execution_count": 4,
   "id": "6538ffaf-7e0c-4229-9f15-fa4906230daa",
   "metadata": {},
   "outputs": [],
   "source": [
    "# Asigno nombre a cada grid con los leadtime\n",
    "tmx_ecmwf_jja_0 = resultados_por_mes[[\"mes_06\"]]\n",
    "tmx_ecmwf_jja_1 = resultados_por_mes[[\"mes_05\"]]\n",
    "tmx_ecmwf_jja_2 = resultados_por_mes[[\"mes_04\"]]\n",
    "tmx_ecmwf_jja_3 = resultados_por_mes[[\"mes_03\"]]"
   ]
  },
  {
   "cell_type": "code",
   "execution_count": 5,
   "id": "91e4f6fc-a066-42d7-b315-d8d564c0d506",
   "metadata": {},
   "outputs": [],
   "source": [
    "# Combinamos los grids en la dimensión temporal\n",
    "tmx_ecmwf_jja_0_grid = bindGrid(tmx_ecmwf_jja_0, dimension = \"time\")\n",
    "tmx_ecmwf_jja_1_grid = bindGrid(tmx_ecmwf_jja_1, dimension = \"time\")\n",
    "tmx_ecmwf_jja_2_grid = bindGrid(tmx_ecmwf_jja_2, dimension = \"time\")\n",
    "tmx_ecmwf_jja_3_grid = bindGrid(tmx_ecmwf_jja_3, dimension = \"time\")"
   ]
  },
  {
   "cell_type": "markdown",
   "id": "ac35f17f-0680-476e-8504-9108f9502db5",
   "metadata": {},
   "source": [
    "## Cargar forecast (leadtime 0, 1, 2, 3)"
   ]
  },
  {
   "cell_type": "code",
   "execution_count": 6,
   "id": "19938503-137b-4d28-adb0-a95b1795fb81",
   "metadata": {},
   "outputs": [],
   "source": [
    "anios = 2017:2022\n",
    "meses_ini = c(\"06\", \"05\", \"04\", \"03\")  # meses de inicialización\n",
    "\n",
    "# Función generalizada para cargar los datos por mes y año\n",
    "cargar_dato = function(anio, mes_ini) {\n",
    "    \n",
    "    yyyymm = paste0(anio, mes_ini)\n",
    "\n",
    "    ruta = paste0(\n",
    "        \"/lustre/gmeteo/PTICLIMA/DATA/SEASONAL/\",\n",
    "        \"seasonal-original-single-levels/medcof/forecast/tasmax/ecmwf/51/\", yyyymm, \"/\",\n",
    "        \"seasonal-original-single-levels_medcof_forecast_tasmax_ecmwf_51_\", yyyymm, \".ncml\"\n",
    "    )\n",
    "\n",
    "    data_aux = loadGridData(dataset = ruta,\n",
    "                            var = \"tasmax\",\n",
    "                            lonLim = lon,\n",
    "                            latLim = lat,\n",
    "                            season = c(6, 7, 8)) %>% suppressMessages %>% suppressWarnings\n",
    "\n",
    "    data_aux = aggregateGrid(data_aux, aggr.d = list(FUN = \"mean\", na.rm = TRUE)) %>% suppressMessages %>% suppressWarnings\n",
    "\n",
    "    return(data_aux)\n",
    "}\n",
    "\n",
    "# Creo una lista donde cada elemento es la salida para un mes de inicialización diferente\n",
    "forecast = lapply(meses_ini, function(mes) {\n",
    "    lapply(anios, function(anio) cargar_dato(anio, mes))\n",
    "})\n",
    "\n",
    "# Nombro los elementos por mes\n",
    "names(forecast) = paste0(\"mes_\", meses_ini)"
   ]
  },
  {
   "cell_type": "code",
   "execution_count": 7,
   "id": "dae990a8-5f75-4038-bc01-14fc6023d977",
   "metadata": {},
   "outputs": [],
   "source": [
    "# Asigno nombre a cada grid con los leadtime\n",
    "tmx_forecast_jja_0 = forecast[[\"mes_06\"]]\n",
    "tmx_forecast_jja_1 = forecast[[\"mes_05\"]]\n",
    "tmx_forecast_jja_2 = forecast[[\"mes_04\"]]\n",
    "tmx_forecast_jja_3 = forecast[[\"mes_03\"]]"
   ]
  },
  {
   "cell_type": "code",
   "execution_count": 8,
   "id": "72bc7931-0523-40c1-9d07-2a490fff9926",
   "metadata": {},
   "outputs": [],
   "source": [
    "# Combinamos los grids en la dimensión temporal\n",
    "tmx_forecast_jja_0_grid = bindGrid(tmx_forecast_jja_0, dimension = \"time\")\n",
    "tmx_forecast_jja_1_grid = bindGrid(tmx_forecast_jja_1, dimension = \"time\")\n",
    "tmx_forecast_jja_2_grid = bindGrid(tmx_forecast_jja_2, dimension = \"time\")\n",
    "tmx_forecast_jja_3_grid = bindGrid(tmx_forecast_jja_3, dimension = \"time\")"
   ]
  },
  {
   "cell_type": "code",
   "execution_count": 9,
   "id": "2ff74b60-b031-4bcd-b08c-bba49d8e414e",
   "metadata": {},
   "outputs": [],
   "source": [
    "# Me quedo con los primeros 25 miembros\n",
    "tmx_forecast_jja_0_members = subsetGrid(tmx_forecast_jja_0_grid, members = 1:25)\n",
    "tmx_forecast_jja_1_members = subsetGrid(tmx_forecast_jja_1_grid, members = 1:25)\n",
    "tmx_forecast_jja_2_members = subsetGrid(tmx_forecast_jja_2_grid, members = 1:25)\n",
    "tmx_forecast_jja_3_members = subsetGrid(tmx_forecast_jja_3_grid, members = 1:25)"
   ]
  },
  {
   "cell_type": "code",
   "execution_count": 10,
   "id": "d0f14727-0276-4f4a-88be-f516a798b1d7",
   "metadata": {},
   "outputs": [],
   "source": [
    "# Combinamos los grids de hindcast y forecast\n",
    "final_0_grid = bindGrid(tmx_ecmwf_jja_0_grid, tmx_forecast_jja_0_members, dimension = \"time\")\n",
    "final_1_grid = bindGrid(tmx_ecmwf_jja_1_grid, tmx_forecast_jja_1_members, dimension = \"time\")\n",
    "final_2_grid = bindGrid(tmx_ecmwf_jja_2_grid, tmx_forecast_jja_2_members, dimension = \"time\")\n",
    "final_3_grid = bindGrid(tmx_ecmwf_jja_3_grid, tmx_forecast_jja_3_members, dimension = \"time\")"
   ]
  },
  {
   "cell_type": "markdown",
   "id": "8d608c25-2b65-4685-822f-f7406762ed83",
   "metadata": {},
   "source": [
    "## Cargar las observaciones ERA5-Land"
   ]
  },
  {
   "cell_type": "code",
   "execution_count": 11,
   "id": "2ff2434a-5de0-40b6-bb61-b154dd378cda",
   "metadata": {},
   "outputs": [],
   "source": [
    "# Define años y meses\n",
    "anios = 1981:2022\n",
    "meses = sprintf(\"%02d\", 6:8)\n",
    "\n",
    "# Función para construir la ruta y cargar los datos\n",
    "cargar_dato = function(anio, mes) {\n",
    "    yyyy = paste0(anio)\n",
    "    yyyymm = paste0(anio, mes)\n",
    "    ruta = paste0(\n",
    "        \"/lustre/gmeteo/PTICLIMA/DATA/REANALYSIS/ERA5-Land/data/Iberia/day/t2mx/\", yyyy, \"/\",\n",
    "        \"t2mx_ERA5-Land_\", yyyymm, \".nc\"\n",
    "    )\n",
    "    \n",
    "    # Carga el dataset\n",
    "    data_aux = loadGridData(dataset = ruta,\n",
    "                            var = \"t2mx\",\n",
    "                            lonLim = lon,\n",
    "                            latLim = lat,\n",
    "                            aggr.d = 'mean') %>% suppressMessages %>% suppressWarnings\n",
    "    \n",
    "    # Cargo datos diario para trabajar con biasCorrection, habría que agregar aggr.m = 'mean' para el dato mensual\n",
    "\n",
    "    return(data_aux)\n",
    "}\n",
    "\n",
    "# Crear combinaciones año-mes\n",
    "combinaciones = data.frame(\n",
    "  anio = rep(anios, each = 3),\n",
    "  mes = rep(meses, times = length(anios)),\n",
    "  stringsAsFactors = FALSE\n",
    ")\n",
    "\n",
    "# Aplicar la función a cada combinación\n",
    "tmx_era5_jja = lapply(1:nrow(combinaciones), function(i) {\n",
    "  cargar_dato(combinaciones$anio[i], combinaciones$mes[i])\n",
    "})"
   ]
  },
  {
   "cell_type": "code",
   "execution_count": 12,
   "id": "2b9c3818-219e-4cd2-a575-d55493ad0575",
   "metadata": {},
   "outputs": [],
   "source": [
    "# Combinamos los grids en la dimensión temporal\n",
    "tmx_era5_jja_time = bindGrid(tmx_era5_jja, dimension = \"time\")\n",
    "\n",
    "# Upscaling de la resolución de las observaciones\n",
    "tmx_era5_jja_ups = interpGrid(tmx_era5_jja_time,\n",
    "                              new.coordinates = getGrid(tmx_ecmwf_jja_0_grid),\n",
    "                              method = \"bilinear\") %>% suppressMessages %>% suppressWarnings"
   ]
  },
  {
   "cell_type": "code",
   "execution_count": 13,
   "id": "43a77f0f-2c5b-49d0-b120-7934b396611f",
   "metadata": {},
   "outputs": [],
   "source": [
    "# Recorto los datos a la región de España\n",
    "tmx_modelo_0 = subsetGrid(final_0_grid, lonLim = c(-10, 5), latLim = c(35, 44))\n",
    "tmx_modelo_1 = subsetGrid(final_1_grid, lonLim = c(-10, 5), latLim = c(35, 44))\n",
    "tmx_modelo_2 = subsetGrid(final_2_grid, lonLim = c(-10, 5), latLim = c(35, 44))\n",
    "tmx_modelo_3 = subsetGrid(final_3_grid, lonLim = c(-10, 5), latLim = c(35, 44))\n",
    "\n",
    "tmx_obs = subsetGrid(tmx_era5_jja_ups, lonLim = c(-10, 5), latLim = c(35, 44))\n",
    "\n",
    "# Pasamos las observaciones de Kelvin a Celsius\n",
    "tmx_obs_cel = gridArithmetics(tmx_obs, 273.15, operator = \"-\")"
   ]
  },
  {
   "cell_type": "code",
   "execution_count": 14,
   "id": "631b110e-0806-43f7-98f6-02eaf9f0cc07",
   "metadata": {},
   "outputs": [
    {
     "data": {
      "text/html": [
       "<style>\n",
       ".dl-inline {width: auto; margin:0; padding: 0}\n",
       ".dl-inline>dt, .dl-inline>dd {float: none; width: auto; display: inline-block}\n",
       ".dl-inline>dt::after {content: \":\\0020\"; padding-right: .5ex}\n",
       ".dl-inline>dt:not(:first-of-type) {padding-left: .5ex}\n",
       "</style><dl class=dl-inline><dt>member</dt><dd>25</dd><dt>time</dt><dd>3864</dd><dt>lat</dt><dd>10</dd><dt>lon</dt><dd>16</dd></dl>\n"
      ],
      "text/latex": [
       "\\begin{description*}\n",
       "\\item[member] 25\n",
       "\\item[time] 3864\n",
       "\\item[lat] 10\n",
       "\\item[lon] 16\n",
       "\\end{description*}\n"
      ],
      "text/markdown": [
       "member\n",
       ":   25time\n",
       ":   3864lat\n",
       ":   10lon\n",
       ":   16\n",
       "\n"
      ],
      "text/plain": [
       "member   time    lat    lon \n",
       "    25   3864     10     16 "
      ]
     },
     "metadata": {},
     "output_type": "display_data"
    },
    {
     "data": {
      "text/html": [
       "<style>\n",
       ".dl-inline {width: auto; margin:0; padding: 0}\n",
       ".dl-inline>dt, .dl-inline>dd {float: none; width: auto; display: inline-block}\n",
       ".dl-inline>dt::after {content: \":\\0020\"; padding-right: .5ex}\n",
       ".dl-inline>dt:not(:first-of-type) {padding-left: .5ex}\n",
       "</style><dl class=dl-inline><dt>time</dt><dd>3864</dd><dt>lat</dt><dd>10</dd><dt>lon</dt><dd>16</dd></dl>\n"
      ],
      "text/latex": [
       "\\begin{description*}\n",
       "\\item[time] 3864\n",
       "\\item[lat] 10\n",
       "\\item[lon] 16\n",
       "\\end{description*}\n"
      ],
      "text/markdown": [
       "time\n",
       ":   3864lat\n",
       ":   10lon\n",
       ":   16\n",
       "\n"
      ],
      "text/plain": [
       "time  lat  lon \n",
       "3864   10   16 "
      ]
     },
     "metadata": {},
     "output_type": "display_data"
    }
   ],
   "source": [
    "getShape(tmx_modelo_0)\n",
    "getShape(tmx_obs_cel)"
   ]
  },
  {
   "cell_type": "code",
   "execution_count": 15,
   "id": "e4bbea28-a007-4156-a4aa-902ac9f841bd",
   "metadata": {},
   "outputs": [],
   "source": [
    "# Guardo los datos\n",
    "saveRDS(tmx_modelo_0, file = \"tmx_modelo_jja_0.rds\")\n",
    "saveRDS(tmx_modelo_1, file = \"tmx_modelo_jja_1.rds\")\n",
    "saveRDS(tmx_modelo_2, file = \"tmx_modelo_jja_2.rds\")\n",
    "saveRDS(tmx_modelo_3, file = \"tmx_modelo_jja_3.rds\")\n",
    "\n",
    "saveRDS(tmx_obs_cel, file = \"tmx_obs_cel_jja.rds\")"
   ]
  }
 ],
 "metadata": {
  "kernelspec": {
   "display_name": "R",
   "language": "R",
   "name": "ir"
  },
  "language_info": {
   "codemirror_mode": "r",
   "file_extension": ".r",
   "mimetype": "text/x-r-source",
   "name": "R",
   "pygments_lexer": "r",
   "version": "4.3.3"
  }
 },
 "nbformat": 4,
 "nbformat_minor": 5
}
