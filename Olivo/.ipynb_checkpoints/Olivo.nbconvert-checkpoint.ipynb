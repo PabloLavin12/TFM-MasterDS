{
 "cells": [
  {
   "cell_type": "markdown",
   "id": "c40e24c3-01a2-4dcd-880a-5bd5e8cf5ddc",
   "metadata": {},
   "source": [
    "# Estudio índices Olivo\n",
    "\n",
    "## Pablo Lavín"
   ]
  },
  {
   "cell_type": "markdown",
   "id": "6a73513a-7325-42bc-a2a4-08d607b9d748",
   "metadata": {},
   "source": [
    "## Configuración"
   ]
  },
  {
   "cell_type": "code",
   "execution_count": 1,
   "id": "b62f7d6a-d53c-4998-9fce-2e0b41492816",
   "metadata": {
    "execution": {
     "iopub.execute_input": "2025-07-24T09:18:48.122649Z",
     "iopub.status.busy": "2025-07-24T09:18:48.120371Z",
     "iopub.status.idle": "2025-07-24T09:18:53.894284Z",
     "shell.execute_reply": "2025-07-24T09:18:53.892851Z"
    },
    "scrolled": true
   },
   "outputs": [
    {
     "name": "stderr",
     "output_type": "stream",
     "text": [
      "\n",
      "Attaching package: ‘dplyr’\n",
      "\n",
      "\n"
     ]
    },
    {
     "name": "stderr",
     "output_type": "stream",
     "text": [
      "The following objects are masked from ‘package:stats’:\n",
      "\n",
      "    filter, lag\n",
      "\n",
      "\n"
     ]
    },
    {
     "name": "stderr",
     "output_type": "stream",
     "text": [
      "The following objects are masked from ‘package:base’:\n",
      "\n",
      "    intersect, setdiff, setequal, union\n",
      "\n",
      "\n"
     ]
    },
    {
     "name": "stderr",
     "output_type": "stream",
     "text": [
      "Loading required package: rJava\n",
      "\n"
     ]
    },
    {
     "name": "stderr",
     "output_type": "stream",
     "text": [
      "Loading required package: loadeR.java\n",
      "\n"
     ]
    },
    {
     "name": "stderr",
     "output_type": "stream",
     "text": [
      "Java version 23x amd64 by N/A detected\n",
      "\n"
     ]
    },
    {
     "name": "stderr",
     "output_type": "stream",
     "text": [
      "NetCDF Java Library v4.6.0-SNAPSHOT (23 Apr 2015) loaded and ready\n",
      "\n"
     ]
    },
    {
     "name": "stderr",
     "output_type": "stream",
     "text": [
      "Loading required package: climate4R.UDG\n",
      "\n"
     ]
    },
    {
     "name": "stderr",
     "output_type": "stream",
     "text": [
      "climate4R.UDG version 0.2.6 (2023-06-26) is loaded\n",
      "\n"
     ]
    },
    {
     "name": "stderr",
     "output_type": "stream",
     "text": [
      "Please use 'citation(\"climate4R.UDG\")' to cite this package.\n",
      "\n"
     ]
    },
    {
     "name": "stderr",
     "output_type": "stream",
     "text": [
      "loadeR version 1.8.1 (2023-06-22) is loaded\n",
      "\n"
     ]
    },
    {
     "name": "stderr",
     "output_type": "stream",
     "text": [
      "WARNING: Your current version of loadeR (v1.8.1) is not up-to-date\n",
      "\n"
     ]
    },
    {
     "name": "stderr",
     "output_type": "stream",
     "text": [
      "Get the latest stable version (1.8.2) using <devtools::install_github(c('SantanderMetGroup/climate4R.UDG','SantanderMetGroup/loadeR'))>\n",
      "\n"
     ]
    },
    {
     "name": "stderr",
     "output_type": "stream",
     "text": [
      "Please use 'citation(\"loadeR\")' to cite this package.\n",
      "\n"
     ]
    },
    {
     "name": "stdout",
     "output_type": "stream",
     "text": [
      "\n",
      "    _______   ____  ___________________  __  ________ \n",
      "   / ___/ /  / /  |/  / __  /_  __/ __/ / / / / __  / \n",
      "  / /  / /  / / /|_/ / /_/ / / / / __/ / /_/ / /_/_/  \n",
      " / /__/ /__/ / /  / / __  / / / / /__ /___  / / \\ \\ \n",
      " \\___/____/_/_/  /_/_/ /_/ /_/  \\___/    /_/\\/   \\_\\ \n",
      " \n",
      "      github.com/SantanderMetGroup/climate4R\n",
      "\n"
     ]
    },
    {
     "name": "stderr",
     "output_type": "stream",
     "text": [
      "transformeR version 2.2.2 (2023-10-26) is loaded\n",
      "\n"
     ]
    },
    {
     "name": "stderr",
     "output_type": "stream",
     "text": [
      "WARNING: Your current version of transformeR (v2.2.2) is not up-to-date\n",
      "\n"
     ]
    },
    {
     "name": "stderr",
     "output_type": "stream",
     "text": [
      "Get the latest stable version (2.2.3) using <devtools::install_github('SantanderMetGroup/transformeR')>\n",
      "\n"
     ]
    },
    {
     "name": "stderr",
     "output_type": "stream",
     "text": [
      "Please see 'citation(\"transformeR\")' to cite this package.\n",
      "\n"
     ]
    },
    {
     "name": "stderr",
     "output_type": "stream",
     "text": [
      "visualizeR version 1.6.4 (2023-10-26) is loaded\n",
      "\n"
     ]
    },
    {
     "name": "stderr",
     "output_type": "stream",
     "text": [
      "Please see 'citation(\"visualizeR\")' to cite this package.\n",
      "\n"
     ]
    },
    {
     "name": "stderr",
     "output_type": "stream",
     "text": [
      "downscaleR version 3.3.4 (2023-06-22) is loaded\n",
      "\n"
     ]
    },
    {
     "name": "stderr",
     "output_type": "stream",
     "text": [
      "Please use 'citation(\"downscaleR\")' to cite this package.\n",
      "\n"
     ]
    },
    {
     "name": "stderr",
     "output_type": "stream",
     "text": [
      "Loading required package: climdex.pcic\n",
      "\n"
     ]
    },
    {
     "name": "stderr",
     "output_type": "stream",
     "text": [
      "Loading required package: PCICt\n",
      "\n"
     ]
    },
    {
     "name": "stderr",
     "output_type": "stream",
     "text": [
      "climate4R.climdex version 0.2.3 (2023-06-23) is loaded\n",
      "\n"
     ]
    },
    {
     "name": "stderr",
     "output_type": "stream",
     "text": [
      "Use 'climdexShow()' for an overview of the available ETCCDI indices\n",
      "\n"
     ]
    },
    {
     "name": "stderr",
     "output_type": "stream",
     "text": [
      "climate4R.indices version 0.3.1 (2023-06-22) is loaded\n",
      "\n"
     ]
    },
    {
     "name": "stderr",
     "output_type": "stream",
     "text": [
      "Use 'indexShow()' for an overview of the available climate indices and circIndexShow() for the circulation indices.\n",
      "\n"
     ]
    },
    {
     "name": "stderr",
     "output_type": "stream",
     "text": [
      "NOTE: use package climate4R.climdex to calculate ETCCDI indices.\n",
      "\n"
     ]
    },
    {
     "name": "stderr",
     "output_type": "stream",
     "text": [
      "\n",
      "Attaching package: ‘climate4R.indices’\n",
      "\n",
      "\n"
     ]
    },
    {
     "name": "stderr",
     "output_type": "stream",
     "text": [
      "The following object is masked from ‘package:transformeR’:\n",
      "\n",
      "    lambWT\n",
      "\n",
      "\n"
     ]
    },
    {
     "name": "stderr",
     "output_type": "stream",
     "text": [
      "Loading required package: SpecsVerification\n",
      "\n"
     ]
    },
    {
     "name": "stderr",
     "output_type": "stream",
     "text": [
      "\n",
      "Attaching package: ‘easyVerification’\n",
      "\n",
      "\n"
     ]
    },
    {
     "name": "stderr",
     "output_type": "stream",
     "text": [
      "The following object is masked from ‘package:SpecsVerification’:\n",
      "\n",
      "    EnsCorr\n",
      "\n",
      "\n"
     ]
    },
    {
     "name": "stderr",
     "output_type": "stream",
     "text": [
      "\n",
      "Attaching package: ‘gridExtra’\n",
      "\n",
      "\n"
     ]
    },
    {
     "name": "stderr",
     "output_type": "stream",
     "text": [
      "The following object is masked from ‘package:dplyr’:\n",
      "\n",
      "    combine\n",
      "\n",
      "\n"
     ]
    }
   ],
   "source": [
    "# Cargamos paquetes\n",
    "\n",
    "library(repr)\n",
    "library(dplyr)\n",
    "\n",
    "library(abind)\n",
    "library(loadeR)\n",
    "library(transformeR)\n",
    "library(visualizeR)\n",
    "library(downscaleR)\n",
    "library(climate4R.UDG)\n",
    "library(climate4R.climdex)\n",
    "library(climate4R.indices)\n",
    "library(easyVerification)\n",
    "\n",
    "library(lattice)\n",
    "library(magrittr)\n",
    "library(gridExtra)\n",
    "library(RColorBrewer)\n",
    "\n",
    "# biasCorrection_RM\n",
    "source(\"../load_bc_functions.R\")"
   ]
  },
  {
   "cell_type": "code",
   "execution_count": 2,
   "id": "5cdb3d4d-3c81-44bc-94da-38d4014817ba",
   "metadata": {
    "execution": {
     "iopub.execute_input": "2025-07-24T09:18:53.921646Z",
     "iopub.status.busy": "2025-07-24T09:18:53.896937Z",
     "iopub.status.idle": "2025-07-24T09:18:53.937925Z",
     "shell.execute_reply": "2025-07-24T09:18:53.936617Z"
    }
   },
   "outputs": [],
   "source": [
    "# Region de estudio\n",
    "\n",
    "lon = c(-10, 20)\n",
    "lat = c(35,46)\n",
    "\n",
    "# Color\n",
    "color = colorRampPalette(rev(brewer.pal(n = 9, \"RdYlBu\")))"
   ]
  },
  {
   "cell_type": "code",
   "execution_count": 3,
   "id": "5130b0eb-4925-4787-956c-c031f084ac72",
   "metadata": {
    "execution": {
     "iopub.execute_input": "2025-07-24T09:18:53.941615Z",
     "iopub.status.busy": "2025-07-24T09:18:53.940561Z",
     "iopub.status.idle": "2025-07-24T09:19:04.225340Z",
     "shell.execute_reply": "2025-07-24T09:19:04.223910Z"
    }
   },
   "outputs": [],
   "source": [
    "# Cargo datos\n",
    "tmx_modelo_0 = readRDS(\"DatosOlivo/tasmax_model_oliv_0.rds\")\n",
    "tmx_modelo_1 = readRDS(\"DatosOlivo/tasmax_model_oliv_1.rds\")\n",
    "tmx_modelo_2 = readRDS(\"DatosOlivo/tasmax_model_oliv_2.rds\")\n",
    "tmx_modelo_3 = readRDS(\"DatosOlivo/tasmax_model_oliv_3.rds\")\n",
    "\n",
    "tmx_obs_cel = readRDS(\"DatosOlivo/tasmax_obs_oliv.rds\")\n",
    "\n",
    "tmn_modelo_0 = readRDS(\"DatosOlivo/tasmin_model_oliv_0.rds\")\n",
    "tmn_modelo_1 = readRDS(\"DatosOlivo/tasmin_model_oliv_1.rds\")\n",
    "tmn_modelo_2 = readRDS(\"DatosOlivo/tasmin_model_oliv_2.rds\")\n",
    "tmn_modelo_3 = readRDS(\"DatosOlivo/tasmin_model_oliv_3.rds\")\n",
    "\n",
    "tmn_obs_cel = readRDS(\"DatosOlivo/tasmin_obs_oliv.rds\")"
   ]
  },
  {
   "cell_type": "markdown",
   "id": "53319a04-7392-46d5-8575-15630e26cb7a",
   "metadata": {},
   "source": [
    "## biasCorrection (bC)"
   ]
  },
  {
   "cell_type": "code",
   "execution_count": 4,
   "id": "112a5bf8-e917-4b1b-bede-4485fc4c95ab",
   "metadata": {
    "execution": {
     "iopub.execute_input": "2025-07-24T09:19:04.229834Z",
     "iopub.status.busy": "2025-07-24T09:19:04.228669Z",
     "iopub.status.idle": "2025-07-24T10:37:21.864799Z",
     "shell.execute_reply": "2025-07-24T10:37:21.863471Z"
    }
   },
   "outputs": [],
   "source": [
    "folds_list = lapply(1981:2022, function(x) x)\n",
    "\n",
    "bc_tasmax_0 = biasCorrection_RM(\n",
    "    y = tmx_obs_cel,\n",
    "    x = tmx_modelo_0,\n",
    "    newdata = tmx_modelo_0,\n",
    "    method = \"eqm\",\n",
    "    extrapolation = \"constant\",\n",
    "    cross.val = 'kfold',\n",
    "    folds = folds_list) %>% suppressMessages %>% suppressWarnings\n",
    "\n",
    "bc_tasmax_1 = biasCorrection_RM(\n",
    "    y = tmx_obs_cel,\n",
    "    x = tmx_modelo_1,\n",
    "    newdata = tmx_modelo_1,\n",
    "    method = \"eqm\",\n",
    "    extrapolation = \"constant\",\n",
    "    cross.val = 'kfold',\n",
    "    folds = folds_list) %>% suppressMessages %>% suppressWarnings\n",
    "\n",
    "bc_tasmax_2 = biasCorrection_RM(\n",
    "    y = tmx_obs_cel,\n",
    "    x = tmx_modelo_2,\n",
    "    newdata = tmx_modelo_2,\n",
    "    method = \"eqm\",\n",
    "    extrapolation = \"constant\",\n",
    "    cross.val = 'kfold',\n",
    "    folds = folds_list) %>% suppressMessages %>% suppressWarnings\n",
    "\n",
    "bc_tasmax_3 = biasCorrection_RM(\n",
    "    y = tmx_obs_cel,\n",
    "    x = tmx_modelo_3,\n",
    "    newdata = tmx_modelo_3,\n",
    "    method = \"eqm\",\n",
    "    extrapolation = \"constant\",\n",
    "    cross.val = 'kfold',\n",
    "    folds = folds_list) %>% suppressMessages %>% suppressWarnings"
   ]
  },
  {
   "cell_type": "code",
   "execution_count": 5,
   "id": "675ed09e-db67-4327-aeed-eb29fb65444a",
   "metadata": {
    "execution": {
     "iopub.execute_input": "2025-07-24T10:37:22.067059Z",
     "iopub.status.busy": "2025-07-24T10:37:22.066049Z",
     "iopub.status.idle": "2025-07-24T10:37:32.841223Z",
     "shell.execute_reply": "2025-07-24T10:37:32.839844Z"
    }
   },
   "outputs": [],
   "source": [
    "saveRDS(bc_tasmax_0, file = \"bc_tasmax_oliv_0.rds\")\n",
    "saveRDS(bc_tasmax_1, file = \"bc_tasmax_oliv_1.rds\")\n",
    "saveRDS(bc_tasmax_2, file = \"bc_tasmax_oliv_2.rds\")\n",
    "saveRDS(bc_tasmax_3, file = \"bc_tasmax_oliv_3.rds\")"
   ]
  },
  {
   "cell_type": "code",
   "execution_count": 6,
   "id": "6adb285a-e7ab-4264-9806-fd2951727cbc",
   "metadata": {
    "execution": {
     "iopub.execute_input": "2025-07-24T10:37:32.850391Z",
     "iopub.status.busy": "2025-07-24T10:37:32.849444Z",
     "iopub.status.idle": "2025-07-24T12:13:27.452139Z",
     "shell.execute_reply": "2025-07-24T12:13:27.450738Z"
    }
   },
   "outputs": [],
   "source": [
    "bc_tasmin_0 = biasCorrection_RM(\n",
    "    y = tmn_obs_cel,\n",
    "    x = tmn_modelo_0,\n",
    "    newdata = tmn_modelo_0,\n",
    "    method = \"eqm\",\n",
    "    extrapolation = \"constant\",\n",
    "    cross.val = 'kfold',\n",
    "    folds = folds_list) %>% suppressMessages %>% suppressWarnings\n",
    "\n",
    "bc_tasmin_1 = biasCorrection_RM(\n",
    "    y = tmn_obs_cel,\n",
    "    x = tmn_modelo_1,\n",
    "    newdata = tmn_modelo_1,\n",
    "    method = \"eqm\",\n",
    "    extrapolation = \"constant\",\n",
    "    cross.val = 'kfold',\n",
    "    folds = folds_list) %>% suppressMessages %>% suppressWarnings\n",
    "\n",
    "bc_tasmin_2 = biasCorrection_RM(\n",
    "    y = tmn_obs_cel,\n",
    "    x = tmn_modelo_2,\n",
    "    newdata = tmn_modelo_2,\n",
    "    method = \"eqm\",\n",
    "    extrapolation = \"constant\",\n",
    "    cross.val = 'kfold',\n",
    "    folds = folds_list) %>% suppressMessages %>% suppressWarnings\n",
    "\n",
    "bc_tasmin_3 = biasCorrection_RM(\n",
    "    y = tmn_obs_cel,\n",
    "    x = tmn_modelo_3,\n",
    "    newdata = tmn_modelo_3,\n",
    "    method = \"eqm\",\n",
    "    extrapolation = \"constant\",\n",
    "    cross.val = 'kfold',\n",
    "    folds = folds_list) %>% suppressMessages %>% suppressWarnings"
   ]
  },
  {
   "cell_type": "code",
   "execution_count": 7,
   "id": "2cdf83c4-4c6a-4ffd-a566-aeccb4a61895",
   "metadata": {
    "execution": {
     "iopub.execute_input": "2025-07-24T12:13:27.724005Z",
     "iopub.status.busy": "2025-07-24T12:13:27.722999Z",
     "iopub.status.idle": "2025-07-24T12:13:38.179170Z",
     "shell.execute_reply": "2025-07-24T12:13:38.177678Z"
    }
   },
   "outputs": [],
   "source": [
    "saveRDS(bc_tasmin_0, file = \"bc_tasmin_oliv_0.rds\")\n",
    "saveRDS(bc_tasmin_1, file = \"bc_tasmin_oliv_1.rds\")\n",
    "saveRDS(bc_tasmin_2, file = \"bc_tasmin_oliv_2.rds\")\n",
    "saveRDS(bc_tasmin_3, file = \"bc_tasmin_oliv_3.rds\")"
   ]
  },
  {
   "cell_type": "code",
   "execution_count": null,
   "id": "e2e7729a-d3c3-4f51-be01-20073bb8c299",
   "metadata": {},
   "outputs": [],
   "source": []
  }
 ],
 "metadata": {
  "kernelspec": {
   "display_name": "R",
   "language": "R",
   "name": "ir"
  },
  "language_info": {
   "codemirror_mode": "r",
   "file_extension": ".r",
   "mimetype": "text/x-r-source",
   "name": "R",
   "pygments_lexer": "r",
   "version": "4.3.3"
  }
 },
 "nbformat": 4,
 "nbformat_minor": 5
}
