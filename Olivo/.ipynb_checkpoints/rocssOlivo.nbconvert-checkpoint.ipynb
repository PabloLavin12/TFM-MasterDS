{
 "cells": [
  {
   "cell_type": "markdown",
   "id": "03e6c7b6-cfa6-43ef-9b80-c7be8ca54480",
   "metadata": {
    "jp-MarkdownHeadingCollapsed": true
   },
   "source": [
    "## Cargo Datos"
   ]
  },
  {
   "cell_type": "code",
   "execution_count": 1,
   "id": "20571baf-ce32-45ca-bb32-e23f8be1e9dd",
   "metadata": {
    "execution": {
     "iopub.execute_input": "2025-07-27T14:26:53.550355Z",
     "iopub.status.busy": "2025-07-27T14:26:53.547905Z",
     "iopub.status.idle": "2025-07-27T14:27:00.810412Z",
     "shell.execute_reply": "2025-07-27T14:27:00.809037Z"
    },
    "scrolled": true
   },
   "outputs": [
    {
     "name": "stderr",
     "output_type": "stream",
     "text": [
      "\n",
      "Attaching package: ‘dplyr’\n",
      "\n",
      "\n"
     ]
    },
    {
     "name": "stderr",
     "output_type": "stream",
     "text": [
      "The following objects are masked from ‘package:stats’:\n",
      "\n",
      "    filter, lag\n",
      "\n",
      "\n"
     ]
    },
    {
     "name": "stderr",
     "output_type": "stream",
     "text": [
      "The following objects are masked from ‘package:base’:\n",
      "\n",
      "    intersect, setdiff, setequal, union\n",
      "\n",
      "\n"
     ]
    },
    {
     "name": "stderr",
     "output_type": "stream",
     "text": [
      "Loading required package: rJava\n",
      "\n"
     ]
    },
    {
     "name": "stderr",
     "output_type": "stream",
     "text": [
      "Loading required package: loadeR.java\n",
      "\n"
     ]
    },
    {
     "name": "stderr",
     "output_type": "stream",
     "text": [
      "Java version 23x amd64 by N/A detected\n",
      "\n"
     ]
    },
    {
     "name": "stderr",
     "output_type": "stream",
     "text": [
      "NetCDF Java Library v4.6.0-SNAPSHOT (23 Apr 2015) loaded and ready\n",
      "\n"
     ]
    },
    {
     "name": "stderr",
     "output_type": "stream",
     "text": [
      "Loading required package: climate4R.UDG\n",
      "\n"
     ]
    },
    {
     "name": "stderr",
     "output_type": "stream",
     "text": [
      "climate4R.UDG version 0.2.6 (2023-06-26) is loaded\n",
      "\n"
     ]
    },
    {
     "name": "stderr",
     "output_type": "stream",
     "text": [
      "Please use 'citation(\"climate4R.UDG\")' to cite this package.\n",
      "\n"
     ]
    },
    {
     "name": "stderr",
     "output_type": "stream",
     "text": [
      "loadeR version 1.8.1 (2023-06-22) is loaded\n",
      "\n"
     ]
    },
    {
     "name": "stderr",
     "output_type": "stream",
     "text": [
      "WARNING: Your current version of loadeR (v1.8.1) is not up-to-date\n",
      "\n"
     ]
    },
    {
     "name": "stderr",
     "output_type": "stream",
     "text": [
      "Get the latest stable version (1.8.2) using <devtools::install_github(c('SantanderMetGroup/climate4R.UDG','SantanderMetGroup/loadeR'))>\n",
      "\n"
     ]
    },
    {
     "name": "stderr",
     "output_type": "stream",
     "text": [
      "Please use 'citation(\"loadeR\")' to cite this package.\n",
      "\n"
     ]
    },
    {
     "name": "stdout",
     "output_type": "stream",
     "text": [
      "\n",
      "    _______   ____  ___________________  __  ________ \n",
      "   / ___/ /  / /  |/  / __  /_  __/ __/ / / / / __  / \n",
      "  / /  / /  / / /|_/ / /_/ / / / / __/ / /_/ / /_/_/  \n",
      " / /__/ /__/ / /  / / __  / / / / /__ /___  / / \\ \\ \n",
      " \\___/____/_/_/  /_/_/ /_/ /_/  \\___/    /_/\\/   \\_\\ \n",
      " \n",
      "      github.com/SantanderMetGroup/climate4R\n",
      "\n"
     ]
    },
    {
     "name": "stderr",
     "output_type": "stream",
     "text": [
      "transformeR version 2.2.2 (2023-10-26) is loaded\n",
      "\n"
     ]
    },
    {
     "name": "stderr",
     "output_type": "stream",
     "text": [
      "WARNING: Your current version of transformeR (v2.2.2) is not up-to-date\n",
      "\n"
     ]
    },
    {
     "name": "stderr",
     "output_type": "stream",
     "text": [
      "Get the latest stable version (2.2.3) using <devtools::install_github('SantanderMetGroup/transformeR')>\n",
      "\n"
     ]
    },
    {
     "name": "stderr",
     "output_type": "stream",
     "text": [
      "Please see 'citation(\"transformeR\")' to cite this package.\n",
      "\n"
     ]
    },
    {
     "name": "stderr",
     "output_type": "stream",
     "text": [
      "visualizeR version 1.6.4 (2023-10-26) is loaded\n",
      "\n"
     ]
    },
    {
     "name": "stderr",
     "output_type": "stream",
     "text": [
      "Please see 'citation(\"visualizeR\")' to cite this package.\n",
      "\n"
     ]
    },
    {
     "name": "stderr",
     "output_type": "stream",
     "text": [
      "downscaleR version 3.3.4 (2023-06-22) is loaded\n",
      "\n"
     ]
    },
    {
     "name": "stderr",
     "output_type": "stream",
     "text": [
      "Please use 'citation(\"downscaleR\")' to cite this package.\n",
      "\n"
     ]
    },
    {
     "name": "stderr",
     "output_type": "stream",
     "text": [
      "Loading required package: climdex.pcic\n",
      "\n"
     ]
    },
    {
     "name": "stderr",
     "output_type": "stream",
     "text": [
      "Loading required package: PCICt\n",
      "\n"
     ]
    },
    {
     "name": "stderr",
     "output_type": "stream",
     "text": [
      "climate4R.climdex version 0.2.3 (2023-06-23) is loaded\n",
      "\n"
     ]
    },
    {
     "name": "stderr",
     "output_type": "stream",
     "text": [
      "Use 'climdexShow()' for an overview of the available ETCCDI indices\n",
      "\n"
     ]
    },
    {
     "name": "stderr",
     "output_type": "stream",
     "text": [
      "climate4R.indices version 0.3.1 (2023-06-22) is loaded\n",
      "\n"
     ]
    },
    {
     "name": "stderr",
     "output_type": "stream",
     "text": [
      "Use 'indexShow()' for an overview of the available climate indices and circIndexShow() for the circulation indices.\n",
      "\n"
     ]
    },
    {
     "name": "stderr",
     "output_type": "stream",
     "text": [
      "NOTE: use package climate4R.climdex to calculate ETCCDI indices.\n",
      "\n"
     ]
    },
    {
     "name": "stderr",
     "output_type": "stream",
     "text": [
      "\n",
      "Attaching package: ‘climate4R.indices’\n",
      "\n",
      "\n"
     ]
    },
    {
     "name": "stderr",
     "output_type": "stream",
     "text": [
      "The following object is masked from ‘package:transformeR’:\n",
      "\n",
      "    lambWT\n",
      "\n",
      "\n"
     ]
    },
    {
     "name": "stderr",
     "output_type": "stream",
     "text": [
      "Loading required package: SpecsVerification\n",
      "\n"
     ]
    },
    {
     "name": "stderr",
     "output_type": "stream",
     "text": [
      "\n",
      "Attaching package: ‘easyVerification’\n",
      "\n",
      "\n"
     ]
    },
    {
     "name": "stderr",
     "output_type": "stream",
     "text": [
      "The following object is masked from ‘package:SpecsVerification’:\n",
      "\n",
      "    EnsCorr\n",
      "\n",
      "\n"
     ]
    },
    {
     "name": "stderr",
     "output_type": "stream",
     "text": [
      "\n",
      "Attaching package: ‘gridExtra’\n",
      "\n",
      "\n"
     ]
    },
    {
     "name": "stderr",
     "output_type": "stream",
     "text": [
      "The following object is masked from ‘package:dplyr’:\n",
      "\n",
      "    combine\n",
      "\n",
      "\n"
     ]
    }
   ],
   "source": [
    "# Cargamos paquetes\n",
    "\n",
    "library(repr)\n",
    "library(dplyr)\n",
    "\n",
    "library(abind)\n",
    "library(loadeR)\n",
    "library(transformeR)\n",
    "library(visualizeR)\n",
    "library(downscaleR)\n",
    "library(climate4R.UDG)\n",
    "library(climate4R.climdex)\n",
    "library(climate4R.indices)\n",
    "library(easyVerification)\n",
    "\n",
    "library(lattice)\n",
    "library(magrittr)\n",
    "library(gridExtra)\n",
    "library(RColorBrewer)\n",
    "\n",
    "# biasCorrection_RM\n",
    "source(\"../load_bc_functions.R\")"
   ]
  },
  {
   "cell_type": "code",
   "execution_count": 2,
   "id": "371f2968-25d1-4535-a31b-5edaf845c7b2",
   "metadata": {
    "execution": {
     "iopub.execute_input": "2025-07-27T14:27:00.834868Z",
     "iopub.status.busy": "2025-07-27T14:27:00.812795Z",
     "iopub.status.idle": "2025-07-27T14:27:00.849689Z",
     "shell.execute_reply": "2025-07-27T14:27:00.848493Z"
    }
   },
   "outputs": [],
   "source": [
    "# Region de estudio\n",
    "\n",
    "lon = c(-10, 20)\n",
    "lat = c(35,46)\n",
    "\n",
    "# Color\n",
    "color = colorRampPalette(rev(brewer.pal(n = 9, \"RdYlBu\")))"
   ]
  },
  {
   "cell_type": "code",
   "execution_count": 3,
   "id": "d04d1950-8dfe-4bda-8eb4-4b8554719e93",
   "metadata": {
    "execution": {
     "iopub.execute_input": "2025-07-27T14:27:00.852841Z",
     "iopub.status.busy": "2025-07-27T14:27:00.851894Z",
     "iopub.status.idle": "2025-07-27T14:27:10.326086Z",
     "shell.execute_reply": "2025-07-27T14:27:10.323955Z"
    }
   },
   "outputs": [],
   "source": [
    "# Cargo datos\n",
    "tmx_modelo_0 = readRDS(\"DatosOlivo/tasmax_model_oliv_0.rds\")\n",
    "tmx_modelo_1 = readRDS(\"DatosOlivo/tasmax_model_oliv_1.rds\")\n",
    "tmx_modelo_2 = readRDS(\"DatosOlivo/tasmax_model_oliv_2.rds\")\n",
    "tmx_modelo_3 = readRDS(\"DatosOlivo/tasmax_model_oliv_3.rds\")\n",
    "\n",
    "tmx_obs_cel = readRDS(\"DatosOlivo/tasmax_obs_oliv.rds\")\n",
    "\n",
    "tmn_modelo_0 = readRDS(\"DatosOlivo/tasmin_model_oliv_0.rds\")\n",
    "tmn_modelo_1 = readRDS(\"DatosOlivo/tasmin_model_oliv_1.rds\")\n",
    "tmn_modelo_2 = readRDS(\"DatosOlivo/tasmin_model_oliv_2.rds\")\n",
    "tmn_modelo_3 = readRDS(\"DatosOlivo/tasmin_model_oliv_3.rds\")\n",
    "\n",
    "tmn_obs_cel = readRDS(\"DatosOlivo/tasmin_obs_oliv.rds\")"
   ]
  },
  {
   "cell_type": "code",
   "execution_count": 4,
   "id": "2ae65ca8-1aa4-4b0d-8a91-9dacfc4f2c32",
   "metadata": {
    "execution": {
     "iopub.execute_input": "2025-07-27T14:27:10.329724Z",
     "iopub.status.busy": "2025-07-27T14:27:10.328743Z",
     "iopub.status.idle": "2025-07-27T14:27:22.387007Z",
     "shell.execute_reply": "2025-07-27T14:27:22.384394Z"
    }
   },
   "outputs": [],
   "source": [
    "# Cardo dato de BC\n",
    "bc_tasmax_0 = readRDS(\"DatosOlivo/bc_tasmax_oliv_0.rds\")\n",
    "bc_tasmax_1 = readRDS(\"DatosOlivo/bc_tasmax_oliv_1.rds\")\n",
    "bc_tasmax_2 = readRDS(\"DatosOlivo/bc_tasmax_oliv_2.rds\")\n",
    "bc_tasmax_3 = readRDS(\"DatosOlivo/bc_tasmax_oliv_3.rds\")\n",
    "\n",
    "bc_tasmin_0 = readRDS(\"DatosOlivo/bc_tasmin_oliv_0.rds\")\n",
    "bc_tasmin_1 = readRDS(\"DatosOlivo/bc_tasmin_oliv_1.rds\")\n",
    "bc_tasmin_2 = readRDS(\"DatosOlivo/bc_tasmin_oliv_2.rds\")\n",
    "bc_tasmin_3 = readRDS(\"DatosOlivo/bc_tasmin_oliv_3.rds\")"
   ]
  },
  {
   "cell_type": "markdown",
   "id": "511cf1c6-e2e2-4228-b728-4a9f2ece9040",
   "metadata": {
    "jp-MarkdownHeadingCollapsed": true
   },
   "source": [
    "## Índices"
   ]
  },
  {
   "cell_type": "code",
   "execution_count": 5,
   "id": "6467d795-a879-40a0-b4a4-0e3fea0fddc0",
   "metadata": {
    "execution": {
     "iopub.execute_input": "2025-07-27T14:27:22.391587Z",
     "iopub.status.busy": "2025-07-27T14:27:22.390287Z",
     "iopub.status.idle": "2025-07-27T14:27:23.709351Z",
     "shell.execute_reply": "2025-07-27T14:27:23.707854Z"
    }
   },
   "outputs": [],
   "source": [
    "## Calculo el número de días que tmax > 25 grados (solo para la estructura del grid)\n",
    "nd_obs = indexGrid(tx = tmx_obs_cel, index.code = \"TXth\", th = 30) %>% suppressMessages %>% suppressWarnings\n",
    "\n",
    "## Máscara de tierra de ERA5 (es una variable más del propio reanális):\n",
    "## Valores continuos entre 0 (no hay nada de tierra en ese gridbox) y 1 (todo el gridbox es tierra)\n",
    "mask = loadGridData(\"/lustre/gmeteo/PTICLIMA/DATA/REANALYSIS/ERA5/lsm/lsm_era5.nc\", var = \"lsm\") %>% suppressMessages %>% suppressWarnings\n",
    "\n",
    "## Binarizo la máscara: Considero que todos los gridboxes con un valor por encima (debajo) de 0.5 son de tierra (mar)\n",
    "mask.bin = binaryGrid(mask, condition = \"GE\", threshold = 0.5, values = c(NA, 1))\n",
    "\n",
    "## Hago el upscaling como hice con los datos de ERA5 a la resolución de 1º del modelo\n",
    "mask_upscaled = interpGrid(mask.bin,\n",
    "                           new.coordinates = getGrid(tmx_obs_cel),\n",
    "                           method = \"bilinear\") %>% suppressMessages %>% suppressWarnings\n",
    "\n",
    "## Apoyándome en la máscara binaria, me quedo únicamente con los datos en tierra y descarto el mar\n",
    "mask.bin.spain = subsetGrid(mask_upscaled, lonLim = c(-10, 5), latLim = c(35, 44))\n",
    "mask.bin.spain$Data = aperm(replicate(getShape(nd_obs)[\"time\"], mask.bin.spain$Data, simplify = \"array\"), c(3, 1, 2))\n",
    "attributes(mask.bin.spain$Data)$dimensions = c(\"time\", \"lat\", \"lon\")\n",
    "\n",
    "## Máscara para el moodelo\n",
    "n.members = getShape(tmx_modelo_0)[\"member\"]\n",
    "mask.data = mask.bin.spain$Data\n",
    "mask.4d = array(NA, dim = c(n.members, dim(mask.data)))  # member x time x lat x lon\n",
    "for (m in 1:n.members) {\n",
    "    mask.4d[m,,,] = mask.data\n",
    "}\n",
    "\n",
    "mask.model = mask.bin.spain  # copia de la estructura\n",
    "mask.model$Data = mask.4d\n",
    "attributes(mask.model$Data)$dimensions = c(\"member\", \"time\", \"lat\", \"lon\")"
   ]
  },
  {
   "cell_type": "code",
   "execution_count": 6,
   "id": "fd4f2c6c-cdac-4b54-ba52-f254d1656503",
   "metadata": {
    "execution": {
     "iopub.execute_input": "2025-07-27T14:27:23.712933Z",
     "iopub.status.busy": "2025-07-27T14:27:23.711899Z",
     "iopub.status.idle": "2025-07-27T14:27:36.180268Z",
     "shell.execute_reply": "2025-07-27T14:27:36.178819Z"
    }
   },
   "outputs": [],
   "source": [
    "# Calculo el número de días que tmax > 25.3 grados\n",
    "nd_tasmax_0 = indexGrid(tx = tmx_modelo_0, index.code = \"TXth\", th = 30) %>% suppressMessages %>% suppressWarnings\n",
    "nd_tasmax_1 = indexGrid(tx = tmx_modelo_1, index.code = \"TXth\", th = 30) %>% suppressMessages %>% suppressWarnings\n",
    "nd_tasmax_2 = indexGrid(tx = tmx_modelo_2, index.code = \"TXth\", th = 30) %>% suppressMessages %>% suppressWarnings\n",
    "nd_tasmax_3 = indexGrid(tx = tmx_modelo_3, index.code = \"TXth\", th = 30) %>% suppressMessages %>% suppressWarnings\n",
    "\n",
    "nd_tasmax_obs = indexGrid(tx = tmx_obs_cel, index.code = \"TXth\", th = 30) %>% suppressMessages %>% suppressWarnings\n",
    "\n",
    "# Aplico la máscara a mis datos de ERA-5 y al modelo\n",
    "ndtasmax_0 = gridArithmetics(nd_tasmax_0, mask.model, operator = \"*\")\n",
    "ndtasmax_1 = gridArithmetics(nd_tasmax_1, mask.model, operator = \"*\")\n",
    "ndtasmax_2 = gridArithmetics(nd_tasmax_2, mask.model, operator = \"*\")\n",
    "ndtasmax_3 = gridArithmetics(nd_tasmax_3, mask.model, operator = \"*\")\n",
    "\n",
    "ndtasmax_obs = gridArithmetics(nd_tasmax_obs, mask.bin.spain, operator = \"*\")\n",
    "\n",
    "# Calculo el número de días que tmax > 25.3 grados\n",
    "nd_tasmax_bc_0 = indexGrid(tx = bc_tasmax_0, index.code = \"TXth\", th = 30) %>% suppressMessages %>% suppressWarnings\n",
    "nd_tasmax_bc_1 = indexGrid(tx = bc_tasmax_1, index.code = \"TXth\", th = 30) %>% suppressMessages %>% suppressWarnings\n",
    "nd_tasmax_bc_2 = indexGrid(tx = bc_tasmax_2, index.code = \"TXth\", th = 30) %>% suppressMessages %>% suppressWarnings\n",
    "nd_tasmax_bc_3 = indexGrid(tx = bc_tasmax_3, index.code = \"TXth\", th = 30) %>% suppressMessages %>% suppressWarnings\n",
    "\n",
    "# Aplico la máscara a mis datos de ERA-5 y al modelo\n",
    "ndtasmax_bc_0 = gridArithmetics(nd_tasmax_bc_0, mask.model, operator = \"*\")\n",
    "ndtasmax_bc_1 = gridArithmetics(nd_tasmax_bc_1, mask.model, operator = \"*\")\n",
    "ndtasmax_bc_2 = gridArithmetics(nd_tasmax_bc_2, mask.model, operator = \"*\")\n",
    "ndtasmax_bc_3 = gridArithmetics(nd_tasmax_bc_3, mask.model, operator = \"*\")"
   ]
  },
  {
   "cell_type": "code",
   "execution_count": 7,
   "id": "ba99325f-a3af-4612-9364-c096c7bd3c88",
   "metadata": {
    "execution": {
     "iopub.execute_input": "2025-07-27T14:27:36.183731Z",
     "iopub.status.busy": "2025-07-27T14:27:36.182748Z",
     "iopub.status.idle": "2025-07-27T14:27:48.026907Z",
     "shell.execute_reply": "2025-07-27T14:27:48.025202Z"
    }
   },
   "outputs": [],
   "source": [
    "# Calculo el número de días que tmin < -2 grados\n",
    "nd_tasmin_0 = indexGrid(tn = tmn_modelo_0, index.code = \"TNth\", th = 0) %>% suppressMessages %>% suppressWarnings\n",
    "nd_tasmin_1 = indexGrid(tn = tmn_modelo_1, index.code = \"TNth\", th = 0) %>% suppressMessages %>% suppressWarnings\n",
    "nd_tasmin_2 = indexGrid(tn = tmn_modelo_2, index.code = \"TNth\", th = 0) %>% suppressMessages %>% suppressWarnings\n",
    "nd_tasmin_3 = indexGrid(tn = tmn_modelo_3, index.code = \"TNth\", th = 0) %>% suppressMessages %>% suppressWarnings\n",
    "\n",
    "nd_tasmin_obs = indexGrid(tn = tmn_obs_cel, index.code = \"TNth\", th = 0) %>% suppressMessages %>% suppressWarnings\n",
    "\n",
    "# Aplico la máscara a mis datos de ERA-5 y al modelo\n",
    "ndtasmin_0 = gridArithmetics(nd_tasmin_0, mask.model, operator = \"*\")\n",
    "ndtasmin_1 = gridArithmetics(nd_tasmin_1, mask.model, operator = \"*\")\n",
    "ndtasmin_2 = gridArithmetics(nd_tasmin_2, mask.model, operator = \"*\")\n",
    "ndtasmin_3 = gridArithmetics(nd_tasmin_3, mask.model, operator = \"*\")\n",
    "\n",
    "ndtasmin_obs = gridArithmetics(nd_tasmin_obs, mask.bin.spain, operator = \"*\")\n",
    "\n",
    "# Calculo el número de días que tmin < -2 grados\n",
    "nd_tasmin_bc_0 = indexGrid(tn = bc_tasmin_0, index.code = \"TNth\", th = 0) %>% suppressMessages %>% suppressWarnings\n",
    "nd_tasmin_bc_1 = indexGrid(tn = bc_tasmin_1, index.code = \"TNth\", th = 0) %>% suppressMessages %>% suppressWarnings\n",
    "nd_tasmin_bc_2 = indexGrid(tn = bc_tasmin_2, index.code = \"TNth\", th = 0) %>% suppressMessages %>% suppressWarnings\n",
    "nd_tasmin_bc_3 = indexGrid(tn = bc_tasmin_3, index.code = \"TNth\", th = 0) %>% suppressMessages %>% suppressWarnings\n",
    "\n",
    "# Aplico la máscara a mis datos de ERA-5 y al modelo\n",
    "ndtasmin_bc_0 = gridArithmetics(nd_tasmin_bc_0, mask.model, operator = \"*\")\n",
    "ndtasmin_bc_1 = gridArithmetics(nd_tasmin_bc_1, mask.model, operator = \"*\")\n",
    "ndtasmin_bc_2 = gridArithmetics(nd_tasmin_bc_2, mask.model, operator = \"*\")\n",
    "ndtasmin_bc_3 = gridArithmetics(nd_tasmin_bc_3, mask.model, operator = \"*\")"
   ]
  },
  {
   "cell_type": "markdown",
   "id": "d596d465-72e0-451b-bd1f-53c55a931374",
   "metadata": {
    "jp-MarkdownHeadingCollapsed": true
   },
   "source": [
    "## Funciones"
   ]
  },
  {
   "cell_type": "code",
   "execution_count": 8,
   "id": "e05e6530-0c82-407e-abe6-936e3283ec37",
   "metadata": {
    "execution": {
     "iopub.execute_input": "2025-07-27T14:27:48.031161Z",
     "iopub.status.busy": "2025-07-27T14:27:48.029976Z",
     "iopub.status.idle": "2025-07-27T14:27:48.042903Z",
     "shell.execute_reply": "2025-07-27T14:27:48.041723Z"
    }
   },
   "outputs": [],
   "source": [
    "## Función para realizar bootstrap y calcular ROCSS\n",
    "##\n",
    "## Esta función calcula el ROC Skill Score (ROCSS) mediante un enfoque bootstrap,\n",
    "## generando múltiples muestras re-muestreadas con reemplazo sobre la dimensión temporal.\n",
    "##\n",
    "## Argumentos:\n",
    "## - nd_modelo: objeto con los pronósticos originales (formato esperado: [member, time, lat, lon])\n",
    "## - nd_obs: objeto con las observaciones correspondientes (formato: [time, lat, lon])\n",
    "## - n_boot: número de muestras bootstrap a generar (por defecto: 1000)\n",
    "##\n",
    "## Valor:\n",
    "## - Lista de 3 arrays (uno por tercil), cada uno con dimensiones [n_boot, lat, lon],\n",
    "##   que contiene los valores bootstrap del ROCSS para cada tercil.\n",
    "\n",
    "rocss_bootstrap = function(nd_modelo, nd_obs, n_boot = 1000) {\n",
    "    \n",
    "    # Obtener dimensiones del array de pronóstico\n",
    "    dims = dim(nd_modelo$Data)\n",
    "    \n",
    "    # Inicializar lista para guardar ROCSS bootstrap para los tres terciles\n",
    "    rocss_bootstrap = vector(\"list\", length = 3)\n",
    "    \n",
    "    # Extraer observaciones\n",
    "    obs = nd_obs$Data\n",
    "    \n",
    "    # Inicializar arrays vacíos para cada tercil: [n_boot, lat, lon]\n",
    "    for (i in 1:3) {\n",
    "        rocss_bootstrap[[i]] = array(NA, dim = c(n_boot, dims[3], dims[4]))\n",
    "    }\n",
    "    \n",
    "    # Bucle principal de bootstrap\n",
    "    for (b in 1:n_boot) {\n",
    "        \n",
    "        # Muestreo con reemplazo sobre la dimensión temporal (índice de tiempo)\n",
    "        time_idx = sample(1:dims[2], size = dims[2], replace = TRUE)\n",
    "    \n",
    "        # Crear pronóstico re-muestreado: [member, time*, sdate, lat, lon]\n",
    "        fcst_boot = nd_modelo$Data[, time_idx, , , drop = FALSE]\n",
    "    \n",
    "        # Calcular ROCSS con veriApply usando la función EnsRocss\n",
    "        boot_result = veriApply(\n",
    "            verifun = \"EnsRocss\",\n",
    "            fcst = fcst_boot,\n",
    "            obs = obs,\n",
    "            prob = c(1/3, 2/3),\n",
    "            ensdim = 1,   # Dimensión de los miembros del ensamble\n",
    "            tdim = 2      # Dimensión temporal\n",
    "        )\n",
    "    \n",
    "        # Guardar el resultado para cada tercil en la lista correspondiente\n",
    "        for (i in 1:3) {\n",
    "            rocss_bootstrap[[i]][b, , ] = boot_result[[i]]\n",
    "        }\n",
    "    }\n",
    "    \n",
    "    # Devolver lista con resultados bootstrap por tercil\n",
    "    return(rocss_bootstrap)\n",
    "}"
   ]
  },
  {
   "cell_type": "code",
   "execution_count": 9,
   "id": "1b60c1b4-5d30-43d2-8892-f81886e74fd8",
   "metadata": {
    "execution": {
     "iopub.execute_input": "2025-07-27T14:27:48.046114Z",
     "iopub.status.busy": "2025-07-27T14:27:48.045146Z",
     "iopub.status.idle": "2025-07-27T14:27:48.056772Z",
     "shell.execute_reply": "2025-07-27T14:27:48.055613Z"
    }
   },
   "outputs": [],
   "source": [
    "## Función para generar capas de \"stippling\" que indican puntos con ROCSS significativamente mayores que un percentil dado\n",
    "##\n",
    "## Parámetros:\n",
    "## mg               : objeto con datos ROCSS con dimensiones [tercil, member, time, lat, lon]\n",
    "## rocss_bootstrap  : lista de arrays bootstrap con dimensiones [n_boot, lat, lon] para cada tercil\n",
    "## ref_grid         : grid de referencia que contiene Dates y xyCoords (coordenadas XY)\n",
    "## threshold        : percentil del bootstrap para determinar significancia (default 0.95)\n",
    "##\n",
    "## Retorna:\n",
    "## lista de objetos \"sp.points\" para cada tercil con puntos significativos (stippling)\n",
    "\n",
    "get_rocss_stippling_layers = function(mg, rocss_bootstrap, ref_grid, threshold = 0.95) {\n",
    "\t\n",
    "\trocss_orig = mg$Data\n",
    "\tn_terciles = dim(rocss_orig)[1]\n",
    "\tn_lat = dim(rocss_orig)[4]\n",
    "\tn_lon = dim(rocss_orig)[5]\n",
    "\t\n",
    "\txyCoords = ref_grid$xyCoords\n",
    "\tDates = ref_grid$Dates\n",
    "\t\n",
    "\tstippling_list = vector(\"list\", n_terciles)\n",
    "\t\n",
    "\tfor (t in 1:n_terciles) {\n",
    "\t\tsignif_mask = matrix(NA, nrow = n_lat, ncol = n_lon)\n",
    "\t\t\n",
    "\t\tfor (i in 1:n_lat) {\n",
    "\t\t\tfor (j in 1:n_lon) {\n",
    "\t\t\t\tboot_vals = rocss_bootstrap[[t]][, i, j]\n",
    "\t\t\t\tval_orig = rocss_orig[t, 1, 1, i, j]\n",
    "\t\t\t\tif (all(is.na(boot_vals)) || is.na(val_orig)) next\n",
    "\t\t\t\tq95 = quantile(boot_vals, threshold, na.rm = TRUE)\n",
    "\t\t\t\tsignif_mask[i, j] = val_orig > q95\n",
    "\t\t\t}\n",
    "\t\t}\n",
    "\t\t\n",
    "\t\t# Construcción manual del objeto grid para la capa de significancia\n",
    "\t\tpval_grid = list()\n",
    "\t\tpval_grid$Data = signif_mask\n",
    "\t\tattr(pval_grid$Data, \"dimensions\") = c(\"lat\", \"lon\")\n",
    "\t\tpval_grid$Dates = Dates\n",
    "\t\tpval_grid$xyCoords = xyCoords\n",
    "\t\tpval_grid$Variable = list(varName = paste0(\"significance_tercil_\", t))\n",
    "\t\tclass(pval_grid) = \"grid\"\n",
    "\t\t\n",
    "\t\t# Genera puntos de significancia con map.stippling (pch=19, color negro, tamaño 0.5)\n",
    "\t\tstippling_list[[t]] = suppressWarnings(\n",
    "\t\t\tsuppressMessages(\n",
    "\t\t\t\tmap.stippling(climatology(pval_grid), threshold = 0.5, condition = \"GT\",\n",
    "\t\t\t\t              pch = 19, col = \"black\", cex = 0.5)\n",
    "\t\t\t)\n",
    "\t\t)\n",
    "\t}\n",
    "\t\n",
    "\t# Elimina entradas NULL (si algún tercil no tiene puntos significativos)\n",
    "\tstippling_list = Filter(Negate(is.null), stippling_list)\n",
    "\t\n",
    "\t# Filtra para quedarse solo con listas que son puntos espaciales (sp.points)\n",
    "\tstippling_list = Filter(function(x) {\n",
    "\t\tis.list(x) && length(x) > 1 && x[[1]] == \"sp.points\"\n",
    "\t}, stippling_list)\n",
    "\t\n",
    "\treturn(stippling_list)\n",
    "}"
   ]
  },
  {
   "cell_type": "markdown",
   "id": "736a724b-6492-471d-9381-026486ebf1c3",
   "metadata": {
    "jp-MarkdownHeadingCollapsed": true
   },
   "source": [
    "## rocss tmax obs/raw"
   ]
  },
  {
   "cell_type": "code",
   "execution_count": 10,
   "id": "5452b86d-df08-4ac6-9fdb-e2df730e29cd",
   "metadata": {
    "execution": {
     "iopub.execute_input": "2025-07-27T14:27:48.060091Z",
     "iopub.status.busy": "2025-07-27T14:27:48.059113Z",
     "iopub.status.idle": "2025-07-27T14:27:49.643858Z",
     "shell.execute_reply": "2025-07-27T14:27:49.642510Z"
    }
   },
   "outputs": [],
   "source": [
    "# Calculo del ROCSS para cada leadtime del modelo\n",
    "rocss_ndays_tasmax_0 = veriApply(verifun = \"EnsRocss\", \n",
    "                                 fcst = ndtasmax_0$Data, \n",
    "                                 obs = ndtasmax_obs$Data,\n",
    "                                 prob = c(1/3, 2/3),\n",
    "                                 ensdim = 1, tdim = 2) %>% suppressMessages %>% suppressWarnings\n",
    "\n",
    "rocss_ndays_tasmax_1 = veriApply(verifun = \"EnsRocss\", \n",
    "                                 fcst = ndtasmax_1$Data, \n",
    "                                 obs = ndtasmax_obs$Data,\n",
    "                                 prob = c(1/3, 2/3),\n",
    "                                 ensdim = 1, tdim = 2) %>% suppressMessages %>% suppressWarnings\n",
    "\n",
    "rocss_ndays_tasmax_2 = veriApply(verifun = \"EnsRocss\", \n",
    "                                 fcst = ndtasmax_2$Data, \n",
    "                                 obs = ndtasmax_obs$Data,\n",
    "                                 prob = c(1/3, 2/3),\n",
    "                                 ensdim = 1, tdim = 2) %>% suppressMessages %>% suppressWarnings\n",
    "\n",
    "rocss_ndays_tasmax_3 = veriApply(verifun = \"EnsRocss\", \n",
    "                                 fcst = ndtasmax_3$Data, \n",
    "                                 obs = ndtasmax_obs$Data,\n",
    "                                 prob = c(1/3, 2/3),\n",
    "                                 ensdim = 1, tdim = 2) %>% suppressMessages %>% suppressWarnings\n",
    "\n",
    "# Multigrid para representar los tres percentiles\n",
    "mg_tasmax_0 = makeMultiGrid(lapply(rocss_ndays_tasmax_0[1:3], \"easyVeri2grid\", ndtasmax_obs))\n",
    "mg_tasmax_1 = makeMultiGrid(lapply(rocss_ndays_tasmax_1[1:3], \"easyVeri2grid\", ndtasmax_obs))\n",
    "mg_tasmax_2 = makeMultiGrid(lapply(rocss_ndays_tasmax_2[1:3], \"easyVeri2grid\", ndtasmax_obs))\n",
    "mg_tasmax_3 = makeMultiGrid(lapply(rocss_ndays_tasmax_3[1:3], \"easyVeri2grid\", ndtasmax_obs))"
   ]
  },
  {
   "cell_type": "code",
   "execution_count": 11,
   "id": "4cdceda9-0e8f-41d5-ac92-be4826839490",
   "metadata": {
    "execution": {
     "iopub.execute_input": "2025-07-27T14:27:49.647235Z",
     "iopub.status.busy": "2025-07-27T14:27:49.646268Z",
     "iopub.status.idle": "2025-07-27T14:53:24.080548Z",
     "shell.execute_reply": "2025-07-27T14:53:24.079128Z"
    }
   },
   "outputs": [],
   "source": [
    "set.seed(123)  # Reproducibilidad\n",
    "\n",
    "# Aplico función de bootstraping\n",
    "rocss_bootstrap_tasmax_0 = rocss_bootstrap(ndtasmax_0, ndtasmax_obs)\n",
    "rocss_bootstrap_tasmax_1 = rocss_bootstrap(ndtasmax_1, ndtasmax_obs)\n",
    "rocss_bootstrap_tasmax_2 = rocss_bootstrap(ndtasmax_2, ndtasmax_obs)\n",
    "rocss_bootstrap_tasmax_3 = rocss_bootstrap(ndtasmax_3, ndtasmax_obs)"
   ]
  },
  {
   "cell_type": "code",
   "execution_count": 12,
   "id": "4329bf51-0987-423f-ac4b-afc27e67188a",
   "metadata": {
    "execution": {
     "iopub.execute_input": "2025-07-27T14:53:24.158675Z",
     "iopub.status.busy": "2025-07-27T14:53:24.157544Z",
     "iopub.status.idle": "2025-07-27T14:53:24.681805Z",
     "shell.execute_reply": "2025-07-27T14:53:24.680346Z"
    }
   },
   "outputs": [],
   "source": [
    "saveRDS(rocss_bootstrap_tasmax_0, file = \"rocss_bootstrap_tasmax_raw_oliv_0.rds\")\n",
    "saveRDS(rocss_bootstrap_tasmax_1, file = \"rocss_bootstrap_tasmax_raw_oliv_1.rds\")\n",
    "saveRDS(rocss_bootstrap_tasmax_2, file = \"rocss_bootstrap_tasmax_raw_oliv_2.rds\")\n",
    "saveRDS(rocss_bootstrap_tasmax_3, file = \"rocss_bootstrap_tasmax_raw_oliv_3.rds\")"
   ]
  },
  {
   "cell_type": "code",
   "execution_count": 13,
   "id": "435fc9a5-6b57-40b7-b48d-f1ee468bab9b",
   "metadata": {
    "execution": {
     "iopub.execute_input": "2025-07-27T14:53:24.687213Z",
     "iopub.status.busy": "2025-07-27T14:53:24.686187Z",
     "iopub.status.idle": "2025-07-27T14:53:24.899432Z",
     "shell.execute_reply": "2025-07-27T14:53:24.898060Z"
    }
   },
   "outputs": [],
   "source": [
    "# Aplico función de máscara significativa\n",
    "pts_layers_tasmax_0 = get_rocss_stippling_layers(mg_tasmax_0, rocss_bootstrap_tasmax_0, ndtasmax_0)\n",
    "pts_layers_tasmax_1 = get_rocss_stippling_layers(mg_tasmax_1, rocss_bootstrap_tasmax_1, ndtasmax_0)\n",
    "pts_layers_tasmax_2 = get_rocss_stippling_layers(mg_tasmax_2, rocss_bootstrap_tasmax_2, ndtasmax_0)\n",
    "pts_layers_tasmax_3 = get_rocss_stippling_layers(mg_tasmax_3, rocss_bootstrap_tasmax_3, ndtasmax_0)"
   ]
  },
  {
   "cell_type": "code",
   "execution_count": 14,
   "id": "9f2afaee-bf38-438a-88b3-743601cd5e10",
   "metadata": {
    "execution": {
     "iopub.execute_input": "2025-07-27T14:53:24.902899Z",
     "iopub.status.busy": "2025-07-27T14:53:24.901938Z",
     "iopub.status.idle": "2025-07-27T14:53:25.156793Z",
     "shell.execute_reply": "2025-07-27T14:53:25.155431Z"
    }
   },
   "outputs": [],
   "source": [
    "rocss_tasmax_0 = spatialPlot(climatology(mg_tasmax_0),\n",
    "                             backdrop.theme = \"countries\",\n",
    "                             names.attr = c(\"Lower tercile\", \"Middle tercile\", \"Upper tercile\"),\n",
    "                             layout = c(3,1),\n",
    "                             col.regions = color,\n",
    "                             at = seq(-1, 1, 0.05),\n",
    "                             sp.layout = list(pts_layers_tasmax_0),\n",
    "                             main = \"Raw (lt 0)\") %>% suppressMessages %>% suppressWarnings\n",
    "\n",
    "rocss_tasmax_1 = spatialPlot(climatology(mg_tasmax_1),\n",
    "                             backdrop.theme = \"countries\",\n",
    "                             names.attr = c(\"Lower tercile\", \"Middle tercile\", \"Upper tercile\"),\n",
    "                             layout = c(3,1),\n",
    "                             col.regions = color,\n",
    "                             at = seq(-1, 1, 0.05),\n",
    "                             sp.layout = list(pts_layers_tasmax_1),\n",
    "                             main = \"Raw (lt 1)\") %>% suppressMessages %>% suppressWarnings\n",
    "\n",
    "rocss_tasmax_2 = spatialPlot(climatology(mg_tasmax_2),\n",
    "                             backdrop.theme = \"countries\",\n",
    "                             names.attr = c(\"Lower tercile\", \"Middle tercile\", \"Upper tercile\"),\n",
    "                             layout = c(3,1),\n",
    "                             col.regions = color,\n",
    "                             at = seq(-1, 1, 0.05),\n",
    "                             sp.layout = list(pts_layers_tasmax_2),\n",
    "                             main = \"Raw (lt 2)\") %>% suppressMessages %>% suppressWarnings\n",
    "\n",
    "rocss_tasmax_3 = spatialPlot(climatology(mg_tasmax_3),\n",
    "                             backdrop.theme = \"countries\",\n",
    "                             names.attr = c(\"Lower tercile\", \"Middle tercile\", \"Upper tercile\"),\n",
    "                             layout = c(3,1),\n",
    "                             col.regions = color,\n",
    "                             at = seq(-1, 1, 0.05),\n",
    "                             sp.layout = list(pts_layers_tasmax_3),\n",
    "                             main = \"Raw (lt 3)\") %>% suppressMessages %>% suppressWarnings"
   ]
  },
  {
   "cell_type": "code",
   "execution_count": 15,
   "id": "1759fb42-6986-45c6-b8d4-cc21a9f36790",
   "metadata": {
    "execution": {
     "iopub.execute_input": "2025-07-27T14:53:25.160225Z",
     "iopub.status.busy": "2025-07-27T14:53:25.159245Z",
     "iopub.status.idle": "2025-07-27T14:53:53.927613Z",
     "shell.execute_reply": "2025-07-27T14:53:53.926290Z"
    }
   },
   "outputs": [
    {
     "data": {
      "text/html": [
       "<strong>pdf:</strong> 2"
      ],
      "text/latex": [
       "\\textbf{pdf:} 2"
      ],
      "text/markdown": [
       "**pdf:** 2"
      ],
      "text/plain": [
       "pdf \n",
       "  2 "
      ]
     },
     "metadata": {},
     "output_type": "display_data"
    }
   ],
   "source": [
    "png(\"rocss_ndays_tmax_raw_oliv.png\", width = 2000, height = 1000, res = 150)\n",
    "grid.arrange(rocss_tasmax_0, rocss_tasmax_1, rocss_tasmax_2, rocss_tasmax_3, ncol = 2)\n",
    "dev.off()"
   ]
  },
  {
   "cell_type": "markdown",
   "id": "534e5a87-ad22-4c46-987d-8ca65a645705",
   "metadata": {
    "jp-MarkdownHeadingCollapsed": true
   },
   "source": [
    "## rocss tmax obs/bC"
   ]
  },
  {
   "cell_type": "code",
   "execution_count": 16,
   "id": "3721b545-6692-47b9-8109-1c59f4fea329",
   "metadata": {
    "execution": {
     "iopub.execute_input": "2025-07-27T14:53:53.931612Z",
     "iopub.status.busy": "2025-07-27T14:53:53.930690Z",
     "iopub.status.idle": "2025-07-27T14:53:55.489234Z",
     "shell.execute_reply": "2025-07-27T14:53:55.487752Z"
    }
   },
   "outputs": [],
   "source": [
    "# Calculo del ROCSS para cada leadtime del modelo\n",
    "rocss_ndays_tasmax_0_bc = veriApply(verifun = \"EnsRocss\", \n",
    "                                    fcst = ndtasmax_bc_0$Data, \n",
    "                                    obs = ndtasmax_obs$Data,\n",
    "                                    prob = c(1/3, 2/3),\n",
    "                                    ensdim = 1, tdim = 2) %>% suppressMessages %>% suppressWarnings\n",
    "\n",
    "rocss_ndays_tasmax_1_bc = veriApply(verifun = \"EnsRocss\", \n",
    "                                    fcst = ndtasmax_bc_1$Data, \n",
    "                                    obs = ndtasmax_obs$Data,\n",
    "                                    prob = c(1/3, 2/3),\n",
    "                                    ensdim = 1, tdim = 2) %>% suppressMessages %>% suppressWarnings\n",
    "\n",
    "rocss_ndays_tasmax_2_bc = veriApply(verifun = \"EnsRocss\", \n",
    "                                    fcst = ndtasmax_bc_2$Data, \n",
    "                                    obs = ndtasmax_obs$Data,\n",
    "                                    prob = c(1/3, 2/3),\n",
    "                                    ensdim = 1, tdim = 2) %>% suppressMessages %>% suppressWarnings\n",
    "\n",
    "rocss_ndays_tasmax_3_bc = veriApply(verifun = \"EnsRocss\", \n",
    "                                    fcst = ndtasmax_bc_3$Data, \n",
    "                                    obs = ndtasmax_obs$Data,\n",
    "                                    prob = c(1/3, 2/3),\n",
    "                                    ensdim = 1, tdim = 2) %>% suppressMessages %>% suppressWarnings\n",
    "\n",
    "# Multigrid para representar los tres percentiles\n",
    "mg_tasmax_0_bc = makeMultiGrid(lapply(rocss_ndays_tasmax_0_bc[1:3], \"easyVeri2grid\", ndtasmax_obs))\n",
    "mg_tasmax_1_bc = makeMultiGrid(lapply(rocss_ndays_tasmax_1_bc[1:3], \"easyVeri2grid\", ndtasmax_obs))\n",
    "mg_tasmax_2_bc = makeMultiGrid(lapply(rocss_ndays_tasmax_2_bc[1:3], \"easyVeri2grid\", ndtasmax_obs))\n",
    "mg_tasmax_3_bc = makeMultiGrid(lapply(rocss_ndays_tasmax_3_bc[1:3], \"easyVeri2grid\", ndtasmax_obs))"
   ]
  },
  {
   "cell_type": "code",
   "execution_count": 17,
   "id": "17a0d864-e578-42ca-9534-2554e2f97820",
   "metadata": {
    "execution": {
     "iopub.execute_input": "2025-07-27T14:53:55.493206Z",
     "iopub.status.busy": "2025-07-27T14:53:55.492072Z",
     "iopub.status.idle": "2025-07-27T15:19:32.516671Z",
     "shell.execute_reply": "2025-07-27T15:19:32.515310Z"
    }
   },
   "outputs": [],
   "source": [
    "# Aplico función de bootstraping\n",
    "rocss_bootstrap_tasmax_0_bc = rocss_bootstrap(ndtasmax_bc_0, ndtasmax_obs)\n",
    "rocss_bootstrap_tasmax_1_bc = rocss_bootstrap(ndtasmax_bc_1, ndtasmax_obs)\n",
    "rocss_bootstrap_tasmax_2_bc = rocss_bootstrap(ndtasmax_bc_2, ndtasmax_obs)\n",
    "rocss_bootstrap_tasmax_3_bc = rocss_bootstrap(ndtasmax_bc_3, ndtasmax_obs)"
   ]
  },
  {
   "cell_type": "code",
   "execution_count": 18,
   "id": "8ead3392-9887-4cf6-b67b-815050c39278",
   "metadata": {
    "execution": {
     "iopub.execute_input": "2025-07-27T15:19:32.587440Z",
     "iopub.status.busy": "2025-07-27T15:19:32.586393Z",
     "iopub.status.idle": "2025-07-27T15:19:33.159747Z",
     "shell.execute_reply": "2025-07-27T15:19:33.158062Z"
    }
   },
   "outputs": [],
   "source": [
    "saveRDS(rocss_bootstrap_tasmax_0_bc, file = \"rocss_bootstrap_tasmax_bc_oliv_0.rds\")\n",
    "saveRDS(rocss_bootstrap_tasmax_1_bc, file = \"rocss_bootstrap_tasmax_bc_oliv_1.rds\")\n",
    "saveRDS(rocss_bootstrap_tasmax_2_bc, file = \"rocss_bootstrap_tasmax_bc_oliv_2.rds\")\n",
    "saveRDS(rocss_bootstrap_tasmax_3_bc, file = \"rocss_bootstrap_tasmax_bc_oliv_3.rds\")"
   ]
  },
  {
   "cell_type": "code",
   "execution_count": 19,
   "id": "82d74203-779f-42ee-9d07-ab3510ec830c",
   "metadata": {
    "execution": {
     "iopub.execute_input": "2025-07-27T15:19:33.165674Z",
     "iopub.status.busy": "2025-07-27T15:19:33.164440Z",
     "iopub.status.idle": "2025-07-27T15:19:33.350792Z",
     "shell.execute_reply": "2025-07-27T15:19:33.349482Z"
    }
   },
   "outputs": [],
   "source": [
    "# Aplico función de máscara significativa\n",
    "pts_layers_tasmax_0_bc = get_rocss_stippling_layers(mg_tasmax_0_bc, rocss_bootstrap_tasmax_0_bc, ndtasmax_bc_0)\n",
    "pts_layers_tasmax_1_bc = get_rocss_stippling_layers(mg_tasmax_1_bc, rocss_bootstrap_tasmax_1_bc, ndtasmax_bc_0)\n",
    "pts_layers_tasmax_2_bc = get_rocss_stippling_layers(mg_tasmax_2_bc, rocss_bootstrap_tasmax_2_bc, ndtasmax_bc_0)\n",
    "pts_layers_tasmax_3_bc = get_rocss_stippling_layers(mg_tasmax_3_bc, rocss_bootstrap_tasmax_3_bc, ndtasmax_bc_0)"
   ]
  },
  {
   "cell_type": "code",
   "execution_count": 20,
   "id": "5c9721ff-0bd4-4057-a19e-6bcd0439a51e",
   "metadata": {
    "execution": {
     "iopub.execute_input": "2025-07-27T15:19:33.354131Z",
     "iopub.status.busy": "2025-07-27T15:19:33.353204Z",
     "iopub.status.idle": "2025-07-27T15:19:33.537183Z",
     "shell.execute_reply": "2025-07-27T15:19:33.535926Z"
    }
   },
   "outputs": [],
   "source": [
    "rocss_tasmax_0_bc = spatialPlot(climatology(mg_tasmax_0_bc),\n",
    "                                backdrop.theme = \"countries\",\n",
    "                                names.attr = c(\"Lower tercile\", \"Middle tercile\", \"Upper tercile\"),\n",
    "                                layout = c(3,1),\n",
    "                                col.regions = color,at = seq(-1, 1, 0.05),\n",
    "                                sp.layout = list(pts_layers_tasmax_0_bc),\n",
    "                                main = \"BC (lt 0)\") %>% suppressMessages %>% suppressWarnings\n",
    "\n",
    "rocss_tasmax_1_bc = spatialPlot(climatology(mg_tasmax_1_bc),\n",
    "                                backdrop.theme = \"countries\",\n",
    "                                names.attr = c(\"Lower tercile\", \"Middle tercile\", \"Upper tercile\"),\n",
    "                                layout = c(3,1),\n",
    "                                col.regions = color,at = seq(-1, 1, 0.05),\n",
    "                                sp.layout = list(pts_layers_tasmax_1_bc),\n",
    "                                main = \"BC (lt 1)\") %>% suppressMessages %>% suppressWarnings\n",
    "\n",
    "rocss_tasmax_2_bc = spatialPlot(climatology(mg_tasmax_2_bc),\n",
    "                                backdrop.theme = \"countries\",\n",
    "                                names.attr = c(\"Lower tercile\", \"Middle tercile\", \"Upper tercile\"),\n",
    "                                layout = c(3,1),\n",
    "                                col.regions = color,at = seq(-1, 1, 0.05),\n",
    "                                sp.layout = list(pts_layers_tasmax_2_bc),\n",
    "                                main = \"BC (lt 2)\") %>% suppressMessages %>% suppressWarnings\n",
    "\n",
    "rocss_tasmax_3_bc = spatialPlot(climatology(mg_tasmax_3_bc),\n",
    "                                backdrop.theme = \"countries\",\n",
    "                                names.attr = c(\"Lower tercile\", \"Middle tercile\", \"Upper tercile\"),\n",
    "                                layout = c(3,1),\n",
    "                                col.regions = color,at = seq(-1, 1, 0.05),\n",
    "                                sp.layout = list(pts_layers_tasmax_3_bc),\n",
    "                                main = \"BC (lt 3)\") %>% suppressMessages %>% suppressWarnings"
   ]
  },
  {
   "cell_type": "code",
   "execution_count": 21,
   "id": "607f4cb5-7f08-4a1b-b47c-1899bafaf6ad",
   "metadata": {
    "execution": {
     "iopub.execute_input": "2025-07-27T15:19:33.540428Z",
     "iopub.status.busy": "2025-07-27T15:19:33.539522Z",
     "iopub.status.idle": "2025-07-27T15:20:02.438883Z",
     "shell.execute_reply": "2025-07-27T15:20:02.437586Z"
    }
   },
   "outputs": [
    {
     "data": {
      "text/html": [
       "<strong>pdf:</strong> 2"
      ],
      "text/latex": [
       "\\textbf{pdf:} 2"
      ],
      "text/markdown": [
       "**pdf:** 2"
      ],
      "text/plain": [
       "pdf \n",
       "  2 "
      ]
     },
     "metadata": {},
     "output_type": "display_data"
    }
   ],
   "source": [
    "png(\"rocss_ndays_tmax_bc_oliv.png\", width = 2000, height = 1000, res = 150)\n",
    "grid.arrange(rocss_tasmax_0_bc, rocss_tasmax_1_bc, rocss_tasmax_2_bc, rocss_tasmax_3_bc, ncol = 2)\n",
    "dev.off()"
   ]
  },
  {
   "cell_type": "markdown",
   "id": "95c3bdc6-0cf9-406a-90c3-0ea882fb7e2e",
   "metadata": {
    "jp-MarkdownHeadingCollapsed": true
   },
   "source": [
    "## rocss tmin obs/raw"
   ]
  },
  {
   "cell_type": "code",
   "execution_count": 22,
   "id": "212fc005-5a26-472d-80c7-deab6ad9a66f",
   "metadata": {
    "execution": {
     "iopub.execute_input": "2025-07-27T15:20:02.443280Z",
     "iopub.status.busy": "2025-07-27T15:20:02.442061Z",
     "iopub.status.idle": "2025-07-27T15:20:04.024756Z",
     "shell.execute_reply": "2025-07-27T15:20:04.023218Z"
    }
   },
   "outputs": [],
   "source": [
    "# Calculo del ROCSS para cada leadtime del modelo\n",
    "rocss_ndays_tasmin_0 = veriApply(verifun = \"EnsRocss\", \n",
    "                                 fcst = ndtasmin_0$Data, \n",
    "                                 obs = ndtasmin_obs$Data,\n",
    "                                 prob = c(1/3, 2/3),\n",
    "                                 ensdim = 1, tdim = 2) %>% suppressMessages %>% suppressWarnings\n",
    "\n",
    "rocss_ndays_tasmin_1 = veriApply(verifun = \"EnsRocss\", \n",
    "                                 fcst = ndtasmin_1$Data, \n",
    "                                 obs = ndtasmin_obs$Data,\n",
    "                                 prob = c(1/3, 2/3),\n",
    "                                 ensdim = 1, tdim = 2) %>% suppressMessages %>% suppressWarnings\n",
    "\n",
    "rocss_ndays_tasmin_2 = veriApply(verifun = \"EnsRocss\", \n",
    "                                 fcst = ndtasmin_2$Data, \n",
    "                                 obs = ndtasmin_obs$Data,\n",
    "                                 prob = c(1/3, 2/3),\n",
    "                                 ensdim = 1, tdim = 2) %>% suppressMessages %>% suppressWarnings\n",
    "\n",
    "rocss_ndays_tasmin_3 = veriApply(verifun = \"EnsRocss\", \n",
    "                                 fcst = ndtasmin_3$Data, \n",
    "                                 obs = ndtasmin_obs$Data,\n",
    "                                 prob = c(1/3, 2/3),\n",
    "                                 ensdim = 1, tdim = 2) %>% suppressMessages %>% suppressWarnings\n",
    "\n",
    "# Multigrid para representar los tres percentiles\n",
    "mg_tasmin_0 = makeMultiGrid(lapply(rocss_ndays_tasmin_0[1:3], \"easyVeri2grid\", ndtasmin_obs))\n",
    "mg_tasmin_1 = makeMultiGrid(lapply(rocss_ndays_tasmin_1[1:3], \"easyVeri2grid\", ndtasmin_obs))\n",
    "mg_tasmin_2 = makeMultiGrid(lapply(rocss_ndays_tasmin_2[1:3], \"easyVeri2grid\", ndtasmin_obs))\n",
    "mg_tasmin_3 = makeMultiGrid(lapply(rocss_ndays_tasmin_3[1:3], \"easyVeri2grid\", ndtasmin_obs))"
   ]
  },
  {
   "cell_type": "code",
   "execution_count": 23,
   "id": "9465a616-a1e4-472c-8083-54270840d599",
   "metadata": {
    "execution": {
     "iopub.execute_input": "2025-07-27T15:20:04.028609Z",
     "iopub.status.busy": "2025-07-27T15:20:04.027496Z",
     "iopub.status.idle": "2025-07-27T15:45:38.015732Z",
     "shell.execute_reply": "2025-07-27T15:45:38.014133Z"
    }
   },
   "outputs": [],
   "source": [
    "# Aplico función de bootstraping\n",
    "rocss_bootstrap_tasmin_0 = rocss_bootstrap(ndtasmin_0, ndtasmin_obs)\n",
    "rocss_bootstrap_tasmin_1 = rocss_bootstrap(ndtasmin_1, ndtasmin_obs)\n",
    "rocss_bootstrap_tasmin_2 = rocss_bootstrap(ndtasmin_2, ndtasmin_obs)\n",
    "rocss_bootstrap_tasmin_3 = rocss_bootstrap(ndtasmin_3, ndtasmin_obs)"
   ]
  },
  {
   "cell_type": "code",
   "execution_count": 24,
   "id": "000b1992-e011-45df-a077-2f8f863893c0",
   "metadata": {
    "execution": {
     "iopub.execute_input": "2025-07-27T15:45:38.089415Z",
     "iopub.status.busy": "2025-07-27T15:45:38.088260Z",
     "iopub.status.idle": "2025-07-27T15:45:38.752301Z",
     "shell.execute_reply": "2025-07-27T15:45:38.750817Z"
    }
   },
   "outputs": [],
   "source": [
    "saveRDS(rocss_bootstrap_tasmin_0, file = \"rocss_bootstrap_tasmin_raw_oliv_0.rds\")\n",
    "saveRDS(rocss_bootstrap_tasmin_1, file = \"rocss_bootstrap_tasmin_raw_oliv_1.rds\")\n",
    "saveRDS(rocss_bootstrap_tasmin_2, file = \"rocss_bootstrap_tasmin_raw_oliv_2.rds\")\n",
    "saveRDS(rocss_bootstrap_tasmin_3, file = \"rocss_bootstrap_tasmin_raw_oliv_3.rds\")"
   ]
  },
  {
   "cell_type": "code",
   "execution_count": 25,
   "id": "1ffc3865-7a95-4c73-9079-38f3e4943e8b",
   "metadata": {
    "execution": {
     "iopub.execute_input": "2025-07-27T15:45:38.758089Z",
     "iopub.status.busy": "2025-07-27T15:45:38.757100Z",
     "iopub.status.idle": "2025-07-27T15:45:38.931301Z",
     "shell.execute_reply": "2025-07-27T15:45:38.929967Z"
    }
   },
   "outputs": [],
   "source": [
    "# Aplico función de máscara significativa\n",
    "pts_layers_tasmin_0 = get_rocss_stippling_layers(mg_tasmin_0, rocss_bootstrap_tasmin_0, ndtasmin_0)\n",
    "pts_layers_tasmin_1 = get_rocss_stippling_layers(mg_tasmin_1, rocss_bootstrap_tasmin_1, ndtasmin_0)\n",
    "pts_layers_tasmin_2 = get_rocss_stippling_layers(mg_tasmin_2, rocss_bootstrap_tasmin_2, ndtasmin_0)\n",
    "pts_layers_tasmin_3 = get_rocss_stippling_layers(mg_tasmin_3, rocss_bootstrap_tasmin_3, ndtasmin_0)"
   ]
  },
  {
   "cell_type": "code",
   "execution_count": 26,
   "id": "c53d13ce-8091-4225-a1b4-161492d109ab",
   "metadata": {
    "execution": {
     "iopub.execute_input": "2025-07-27T15:45:38.934706Z",
     "iopub.status.busy": "2025-07-27T15:45:38.933723Z",
     "iopub.status.idle": "2025-07-27T15:45:39.113020Z",
     "shell.execute_reply": "2025-07-27T15:45:39.111730Z"
    }
   },
   "outputs": [],
   "source": [
    "rocss_tasmin_0 = spatialPlot(climatology(mg_tasmin_0),\n",
    "                             backdrop.theme = \"countries\",\n",
    "                             names.attr = c(\"Lower tercile\", \"Middle tercile\", \"Upper tercile\"),\n",
    "                             layout = c(3,1),\n",
    "                             col.regions = color,\n",
    "                             at = seq(-1, 1, 0.05),\n",
    "                             sp.layout = list(pts_layers_tasmin_0),\n",
    "                             main = \"Raw (lt 0)\") %>% suppressMessages %>% suppressWarnings\n",
    "\n",
    "rocss_tasmin_1 = spatialPlot(climatology(mg_tasmin_1),\n",
    "                             backdrop.theme = \"countries\",\n",
    "                             names.attr = c(\"Lower tercile\", \"Middle tercile\", \"Upper tercile\"),\n",
    "                             layout = c(3,1),\n",
    "                             col.regions = color,\n",
    "                             at = seq(-1, 1, 0.05),\n",
    "                             sp.layout = list(pts_layers_tasmin_1),\n",
    "                             main = \"Raw (lt 1)\") %>% suppressMessages %>% suppressWarnings\n",
    "\n",
    "rocss_tasmin_2 = spatialPlot(climatology(mg_tasmin_2),\n",
    "                             backdrop.theme = \"countries\",\n",
    "                             names.attr = c(\"Lower tercile\", \"Middle tercile\", \"Upper tercile\"),\n",
    "                             layout = c(3,1),\n",
    "                             col.regions = color,\n",
    "                             at = seq(-1, 1, 0.05),\n",
    "                             sp.layout = list(pts_layers_tasmin_2),\n",
    "                             main = \"Raw (lt 2)\") %>% suppressMessages %>% suppressWarnings\n",
    "\n",
    "rocss_tasmin_3 = spatialPlot(climatology(mg_tasmin_3),\n",
    "                             backdrop.theme = \"countries\",\n",
    "                             names.attr = c(\"Lower tercile\", \"Middle tercile\", \"Upper tercile\"),\n",
    "                             layout = c(3,1),\n",
    "                             col.regions = color,\n",
    "                             at = seq(-1, 1, 0.05),\n",
    "                             sp.layout = list(pts_layers_tasmin_3),\n",
    "                             main = \"Raw (lt 3)\") %>% suppressMessages %>% suppressWarnings"
   ]
  },
  {
   "cell_type": "code",
   "execution_count": 27,
   "id": "39021355-38e6-4233-9a7a-85ecbfca1abd",
   "metadata": {
    "execution": {
     "iopub.execute_input": "2025-07-27T15:45:39.116251Z",
     "iopub.status.busy": "2025-07-27T15:45:39.115303Z",
     "iopub.status.idle": "2025-07-27T15:46:07.891023Z",
     "shell.execute_reply": "2025-07-27T15:46:07.889758Z"
    }
   },
   "outputs": [
    {
     "data": {
      "text/html": [
       "<strong>pdf:</strong> 2"
      ],
      "text/latex": [
       "\\textbf{pdf:} 2"
      ],
      "text/markdown": [
       "**pdf:** 2"
      ],
      "text/plain": [
       "pdf \n",
       "  2 "
      ]
     },
     "metadata": {},
     "output_type": "display_data"
    }
   ],
   "source": [
    "png(\"rocss_ndays_tmin_raw_oliv.png\", width = 2000, height = 1000, res = 150)\n",
    "grid.arrange(rocss_tasmin_0, rocss_tasmin_1, rocss_tasmin_2, rocss_tasmin_3, ncol = 2)\n",
    "dev.off()"
   ]
  },
  {
   "cell_type": "markdown",
   "id": "1869dd22-4e56-4392-83fd-2572355051d9",
   "metadata": {
    "jp-MarkdownHeadingCollapsed": true
   },
   "source": [
    "## rocss tmin obs/bC"
   ]
  },
  {
   "cell_type": "code",
   "execution_count": 28,
   "id": "6de09c05-6243-458d-beff-a30aec8c7ae8",
   "metadata": {
    "execution": {
     "iopub.execute_input": "2025-07-27T15:46:07.900961Z",
     "iopub.status.busy": "2025-07-27T15:46:07.899939Z",
     "iopub.status.idle": "2025-07-27T15:46:09.467108Z",
     "shell.execute_reply": "2025-07-27T15:46:09.465731Z"
    }
   },
   "outputs": [],
   "source": [
    "# Calculo del ROCSS para cada leadtime del modelo\n",
    "rocss_ndays_tasmin_0_bc = veriApply(verifun = \"EnsRocss\", \n",
    "                                    fcst = ndtasmin_bc_0$Data, \n",
    "                                    obs = ndtasmin_obs$Data,\n",
    "                                    prob = c(1/3, 2/3),\n",
    "                                    ensdim = 1, tdim = 2) %>% suppressMessages %>% suppressWarnings\n",
    "\n",
    "rocss_ndays_tasmin_1_bc = veriApply(verifun = \"EnsRocss\", \n",
    "                                    fcst = ndtasmin_bc_1$Data, \n",
    "                                    obs = ndtasmin_obs$Data,\n",
    "                                    prob = c(1/3, 2/3),\n",
    "                                    ensdim = 1, tdim = 2) %>% suppressMessages %>% suppressWarnings\n",
    "\n",
    "rocss_ndays_tasmin_2_bc = veriApply(verifun = \"EnsRocss\", \n",
    "                                    fcst = ndtasmin_bc_2$Data, \n",
    "                                    obs = ndtasmin_obs$Data,\n",
    "                                    prob = c(1/3, 2/3),\n",
    "                                    ensdim = 1, tdim = 2) %>% suppressMessages %>% suppressWarnings\n",
    "\n",
    "rocss_ndays_tasmin_3_bc = veriApply(verifun = \"EnsRocss\", \n",
    "                                    fcst = ndtasmin_bc_3$Data, \n",
    "                                    obs = ndtasmin_obs$Data,\n",
    "                                    prob = c(1/3, 2/3),\n",
    "                                    ensdim = 1, tdim = 2) %>% suppressMessages %>% suppressWarnings\n",
    "\n",
    "# Multigrid para representar los tres percentiles\n",
    "mg_tasmin_0_bc = makeMultiGrid(lapply(rocss_ndays_tasmin_0_bc[1:3], \"easyVeri2grid\", ndtasmin_obs))\n",
    "mg_tasmin_1_bc = makeMultiGrid(lapply(rocss_ndays_tasmin_1_bc[1:3], \"easyVeri2grid\", ndtasmin_obs))\n",
    "mg_tasmin_2_bc = makeMultiGrid(lapply(rocss_ndays_tasmin_2_bc[1:3], \"easyVeri2grid\", ndtasmin_obs))\n",
    "mg_tasmin_3_bc = makeMultiGrid(lapply(rocss_ndays_tasmin_3_bc[1:3], \"easyVeri2grid\", ndtasmin_obs))"
   ]
  },
  {
   "cell_type": "code",
   "execution_count": 29,
   "id": "2a42589f-7cec-46ad-914b-790c828050d6",
   "metadata": {
    "execution": {
     "iopub.execute_input": "2025-07-27T15:46:09.470705Z",
     "iopub.status.busy": "2025-07-27T15:46:09.469609Z",
     "iopub.status.idle": "2025-07-27T16:11:35.047541Z",
     "shell.execute_reply": "2025-07-27T16:11:35.046165Z"
    }
   },
   "outputs": [],
   "source": [
    "# Aplico función de bootstraping\n",
    "rocss_bootstrap_tasmin_0_bc = rocss_bootstrap(ndtasmin_bc_0, ndtasmin_obs)\n",
    "rocss_bootstrap_tasmin_1_bc = rocss_bootstrap(ndtasmin_bc_1, ndtasmin_obs)\n",
    "rocss_bootstrap_tasmin_2_bc = rocss_bootstrap(ndtasmin_bc_2, ndtasmin_obs)\n",
    "rocss_bootstrap_tasmin_3_bc = rocss_bootstrap(ndtasmin_bc_3, ndtasmin_obs)"
   ]
  },
  {
   "cell_type": "code",
   "execution_count": 30,
   "id": "b6c913fb-9fc7-4579-9cb0-ab85eab4e78d",
   "metadata": {
    "execution": {
     "iopub.execute_input": "2025-07-27T16:11:35.134405Z",
     "iopub.status.busy": "2025-07-27T16:11:35.133149Z",
     "iopub.status.idle": "2025-07-27T16:11:35.310505Z",
     "shell.execute_reply": "2025-07-27T16:11:35.309186Z"
    }
   },
   "outputs": [],
   "source": [
    "# Aplico función de máscara significativa\n",
    "pts_layers_tasmin_0_bc = get_rocss_stippling_layers(mg_tasmin_0_bc, rocss_bootstrap_tasmin_0_bc, ndtasmin_bc_0)\n",
    "pts_layers_tasmin_1_bc = get_rocss_stippling_layers(mg_tasmin_1_bc, rocss_bootstrap_tasmin_1_bc, ndtasmin_bc_0)\n",
    "pts_layers_tasmin_2_bc = get_rocss_stippling_layers(mg_tasmin_2_bc, rocss_bootstrap_tasmin_2_bc, ndtasmin_bc_0)\n",
    "pts_layers_tasmin_3_bc = get_rocss_stippling_layers(mg_tasmin_3_bc, rocss_bootstrap_tasmin_3_bc, ndtasmin_bc_0)"
   ]
  },
  {
   "cell_type": "code",
   "execution_count": 31,
   "id": "f17b5603-8305-47d2-9495-23b1a0dc4704",
   "metadata": {
    "execution": {
     "iopub.execute_input": "2025-07-27T16:11:35.315826Z",
     "iopub.status.busy": "2025-07-27T16:11:35.314885Z",
     "iopub.status.idle": "2025-07-27T16:11:35.494861Z",
     "shell.execute_reply": "2025-07-27T16:11:35.493604Z"
    }
   },
   "outputs": [],
   "source": [
    "rocss_tasmin_0_bc = spatialPlot(climatology(mg_tasmin_0_bc),\n",
    "                                backdrop.theme = \"countries\",\n",
    "                                names.attr = c(\"Lower tercile\", \"Middle tercile\", \"Upper tercile\"),\n",
    "                                layout = c(3,1),\n",
    "                                col.regions = color, at = seq(-1, 1, 0.05),\n",
    "                                sp.layout = list(pts_layers_tasmin_0_bc),\n",
    "                                main = \"BC (lt 0)\") %>% suppressMessages %>% suppressWarnings\n",
    "\n",
    "rocss_tasmin_1_bc = spatialPlot(climatology(mg_tasmin_1_bc),\n",
    "                                backdrop.theme = \"countries\",\n",
    "                                names.attr = c(\"Lower tercile\", \"Middle tercile\", \"Upper tercile\"),\n",
    "                                layout = c(3,1),\n",
    "                                col.regions = color, at = seq(-1, 1, 0.05),\n",
    "                                sp.layout = list(pts_layers_tasmin_1_bc),\n",
    "                                main = \"BC (lt 1)\") %>% suppressMessages %>% suppressWarnings\n",
    "\n",
    "rocss_tasmin_2_bc = spatialPlot(climatology(mg_tasmin_2_bc),\n",
    "                                backdrop.theme = \"countries\",\n",
    "                                names.attr = c(\"Lower tercile\", \"Middle tercile\", \"Upper tercile\"),\n",
    "                                layout = c(3,1),\n",
    "                                col.regions = color, at = seq(-1, 1, 0.05),\n",
    "                                sp.layout = list(pts_layers_tasmin_2_bc),\n",
    "                                main = \"BC (lt 2)\") %>% suppressMessages %>% suppressWarnings\n",
    "\n",
    "rocss_tasmin_3_bc = spatialPlot(climatology(mg_tasmin_3_bc),\n",
    "                                backdrop.theme = \"countries\",\n",
    "                                names.attr = c(\"Lower tercile\", \"Middle tercile\", \"Upper tercile\"),\n",
    "                                layout = c(3,1),\n",
    "                                col.regions = color, at = seq(-1, 1, 0.05),\n",
    "                                sp.layout = list(pts_layers_tasmin_3_bc),\n",
    "                                main = \"BC (lt 3)\") %>% suppressMessages %>% suppressWarnings"
   ]
  },
  {
   "cell_type": "code",
   "execution_count": 32,
   "id": "16e4d110-1828-4a11-a39c-5984e15e139a",
   "metadata": {
    "execution": {
     "iopub.execute_input": "2025-07-27T16:11:35.498103Z",
     "iopub.status.busy": "2025-07-27T16:11:35.497157Z",
     "iopub.status.idle": "2025-07-27T16:12:04.563994Z",
     "shell.execute_reply": "2025-07-27T16:12:04.562714Z"
    }
   },
   "outputs": [
    {
     "data": {
      "text/html": [
       "<strong>pdf:</strong> 2"
      ],
      "text/latex": [
       "\\textbf{pdf:} 2"
      ],
      "text/markdown": [
       "**pdf:** 2"
      ],
      "text/plain": [
       "pdf \n",
       "  2 "
      ]
     },
     "metadata": {},
     "output_type": "display_data"
    }
   ],
   "source": [
    "png(\"rocss_ndays_tmin_bc_oliv.png\", width = 2000, height = 1000, res = 150)\n",
    "grid.arrange(rocss_tasmin_0_bc, rocss_tasmin_1_bc, rocss_tasmin_2_bc, rocss_tasmin_3_bc, ncol = 2)\n",
    "dev.off()"
   ]
  }
 ],
 "metadata": {
  "kernelspec": {
   "display_name": "R",
   "language": "R",
   "name": "ir"
  },
  "language_info": {
   "codemirror_mode": "r",
   "file_extension": ".r",
   "mimetype": "text/x-r-source",
   "name": "R",
   "pygments_lexer": "r",
   "version": "4.3.3"
  }
 },
 "nbformat": 4,
 "nbformat_minor": 5
}
