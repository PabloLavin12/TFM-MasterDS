{
 "cells": [
  {
   "cell_type": "markdown",
   "id": "066cd712-efd0-442f-9043-8c1f22b37739",
   "metadata": {},
   "source": [
    "## BiasCorrection"
   ]
  },
  {
   "cell_type": "code",
   "execution_count": null,
   "id": "63e476ad-484b-4d8c-965c-70504ab26d6d",
   "metadata": {},
   "outputs": [],
   "source": [
    "anios = 1981:2016\n",
    "meses_ini = c(\"06\", \"05\", \"04\", \"03\")  # meses de inicialización\n",
    "\n",
    "# Función generalizada para cargar los datos por mes y año\n",
    "cargar_dato = function(anio, mes_ini) {\n",
    "    \n",
    "    yyyymm = paste0(anio, mes_ini)\n",
    "\n",
    "    ruta = paste0(\n",
    "        \"/lustre/gmeteo/PTICLIMA/DATA/SEASONAL/\",\n",
    "        \"seasonal-original-single-levels/medcof/hindcast/tasmax/ecmwf/51/\", yyyymm, \"/\",\n",
    "        \"seasonal-original-single-levels_medcof_hindcast_tasmax_ecmwf_51_\", yyyymm, \".ncml\"\n",
    "    )\n",
    "\n",
    "    data_aux = loadGridData(dataset = ruta,\n",
    "                            var = \"tasmax\",\n",
    "                            lonLim = lon,\n",
    "                            latLim = lat,\n",
    "                            season = c(6, 7, 8)) %>% suppressMessages %>% suppressWarnings\n",
    "\n",
    "    data_aux = aggregateGrid(data_aux, aggr.d = list(FUN = \"mean\", na.rm = TRUE)) %>% suppressMessages %>% suppressWarnings\n",
    "\n",
    "    return(data_aux)\n",
    "}\n",
    "\n",
    "# Creo una lista donde cada elemento es la salida para un mes de inicialización diferente\n",
    "resultados_por_mes = lapply(meses_ini, function(mes) {\n",
    "    lapply(anios, function(anio) cargar_dato(anio, mes))\n",
    "})\n",
    "\n",
    "# Nombro los elementos por mes\n",
    "names(resultados_por_mes) = paste0(\"mes_\", meses_ini)"
   ]
  },
  {
   "cell_type": "code",
   "execution_count": null,
   "id": "beb0e74c-a0d9-455c-8687-a44230a3a113",
   "metadata": {},
   "outputs": [],
   "source": [
    "# Asigno nombre a cada grid con los leadtime\n",
    "tmx_ecmwf_jja_0 = resultados_por_mes[[\"mes_06\"]]\n",
    "tmx_ecmwf_jja_1 = resultados_por_mes[[\"mes_05\"]]\n",
    "tmx_ecmwf_jja_2 = resultados_por_mes[[\"mes_04\"]]\n",
    "tmx_ecmwf_jja_3 = resultados_por_mes[[\"mes_03\"]]"
   ]
  },
  {
   "cell_type": "code",
   "execution_count": null,
   "id": "1834eafc-1943-4553-9dbe-e3cc55c09174",
   "metadata": {},
   "outputs": [],
   "source": [
    "# Combinamos los grids en la dimensión temporal\n",
    "tmx_ecmwf_jja_0_grid = bindGrid(tmx_ecmwf_jja_0, dimension = \"time\")\n",
    "tmx_ecmwf_jja_1_grid = bindGrid(tmx_ecmwf_jja_1, dimension = \"time\")\n",
    "tmx_ecmwf_jja_2_grid = bindGrid(tmx_ecmwf_jja_2, dimension = \"time\")\n",
    "tmx_ecmwf_jja_3_grid = bindGrid(tmx_ecmwf_jja_3, dimension = \"time\")"
   ]
  },
  {
   "cell_type": "code",
   "execution_count": null,
   "id": "d11f5e80-3fef-405a-9cab-05987760426b",
   "metadata": {},
   "outputs": [],
   "source": [
    "anios = 2017:2022\n",
    "meses_ini = c(\"06\", \"05\", \"04\", \"03\")  # meses de inicialización\n",
    "\n",
    "# Función generalizada para cargar los datos por mes y año\n",
    "cargar_dato = function(anio, mes_ini) {\n",
    "    \n",
    "    yyyymm = paste0(anio, mes_ini)\n",
    "\n",
    "    ruta = paste0(\n",
    "        \"/lustre/gmeteo/PTICLIMA/DATA/SEASONAL/\",\n",
    "        \"seasonal-original-single-levels/medcof/forecast/tasmax/ecmwf/51/\", yyyymm, \"/\",\n",
    "        \"seasonal-original-single-levels_medcof_forecast_tasmax_ecmwf_51_\", yyyymm, \".ncml\"\n",
    "    )\n",
    "\n",
    "    data_aux = loadGridData(dataset = ruta,\n",
    "                            var = \"tasmax\",\n",
    "                            lonLim = lon,\n",
    "                            latLim = lat,\n",
    "                            season = c(6, 7, 8)) %>% suppressMessages %>% suppressWarnings\n",
    "\n",
    "    data_aux = aggregateGrid(data_aux, aggr.d = list(FUN = \"mean\", na.rm = TRUE)) %>% suppressMessages %>% suppressWarnings\n",
    "\n",
    "    return(data_aux)\n",
    "}\n",
    "\n",
    "# Creo una lista donde cada elemento es la salida para un mes de inicialización diferente\n",
    "forecast = lapply(meses_ini, function(mes) {\n",
    "    lapply(anios, function(anio) cargar_dato(anio, mes))\n",
    "})\n",
    "\n",
    "# Nombro los elementos por mes\n",
    "names(forecast) = paste0(\"mes_\", meses_ini)"
   ]
  },
  {
   "cell_type": "code",
   "execution_count": null,
   "id": "c31ec4da-289f-4bbd-8250-1daa87932fe4",
   "metadata": {},
   "outputs": [],
   "source": [
    "# Asigno nombre a cada grid con los leadtime\n",
    "tmx_forecast_jja_0 = forecast[[\"mes_06\"]]\n",
    "tmx_forecast_jja_1 = forecast[[\"mes_05\"]]\n",
    "tmx_forecast_jja_2 = forecast[[\"mes_04\"]]\n",
    "tmx_forecast_jja_3 = forecast[[\"mes_03\"]]"
   ]
  },
  {
   "cell_type": "code",
   "execution_count": null,
   "id": "448c6d88-b9e8-4147-9270-b6dd627f6731",
   "metadata": {},
   "outputs": [],
   "source": [
    "# Combinamos los grids en la dimensión temporal\n",
    "tmx_forecast_jja_0_grid = bindGrid(tmx_forecast_jja_0, dimension = \"time\")\n",
    "tmx_forecast_jja_1_grid = bindGrid(tmx_forecast_jja_1, dimension = \"time\")\n",
    "tmx_forecast_jja_2_grid = bindGrid(tmx_forecast_jja_2, dimension = \"time\")\n",
    "tmx_forecast_jja_3_grid = bindGrid(tmx_forecast_jja_3, dimension = \"time\")"
   ]
  },
  {
   "cell_type": "code",
   "execution_count": null,
   "id": "882bce91-f1c1-46d9-a29c-39cbf535376a",
   "metadata": {},
   "outputs": [],
   "source": [
    "# Me quedo con los primeros 25 miembros\n",
    "tmx_forecast_jja_0_members = subsetGrid(tmx_forecast_jja_0_grid, members = 1:25)\n",
    "tmx_forecast_jja_1_members = subsetGrid(tmx_forecast_jja_1_grid, members = 1:25)\n",
    "tmx_forecast_jja_2_members = subsetGrid(tmx_forecast_jja_2_grid, members = 1:25)\n",
    "tmx_forecast_jja_3_members = subsetGrid(tmx_forecast_jja_3_grid, members = 1:25)"
   ]
  },
  {
   "cell_type": "code",
   "execution_count": null,
   "id": "0153aac0-c30e-48c1-b439-1019d36e54de",
   "metadata": {},
   "outputs": [],
   "source": [
    "# Combinamos los grids de hindcast y forecast\n",
    "final_0_grid = bindGrid(tmx_ecmwf_jja_0_grid, tmx_forecast_jja_0_members, dimension = \"time\")\n",
    "final_1_grid = bindGrid(tmx_ecmwf_jja_1_grid, tmx_forecast_jja_1_members, dimension = \"time\")\n",
    "final_2_grid = bindGrid(tmx_ecmwf_jja_2_grid, tmx_forecast_jja_2_members, dimension = \"time\")\n",
    "final_3_grid = bindGrid(tmx_ecmwf_jja_3_grid, tmx_forecast_jja_3_members, dimension = \"time\")"
   ]
  },
  {
   "cell_type": "code",
   "execution_count": null,
   "id": "4d740ff1-fb52-4b76-b798-d958f36ae796",
   "metadata": {},
   "outputs": [],
   "source": [
    "# Define años y meses\n",
    "anios = 1981:2022\n",
    "meses = sprintf(\"%02d\", 6:8)\n",
    "\n",
    "# Función para construir la ruta y cargar los datos\n",
    "cargar_dato = function(anio, mes) {\n",
    "    yyyy = paste0(anio)\n",
    "    yyyymm = paste0(anio, mes)\n",
    "    ruta = paste0(\n",
    "        \"/lustre/gmeteo/PTICLIMA/DATA/REANALYSIS/ERA5-Land/data/Iberia/day/t2mx/\", yyyy, \"/\",\n",
    "        \"t2mx_ERA5-Land_\", yyyymm, \".nc\"\n",
    "    )\n",
    "    \n",
    "    # Carga el dataset\n",
    "    data_aux = loadGridData(dataset = ruta,\n",
    "                            var = \"t2mx\",\n",
    "                            lonLim = lon,\n",
    "                            latLim = lat,\n",
    "                            aggr.d = 'mean') %>% suppressMessages %>% suppressWarnings\n",
    "    \n",
    "    # Cargo datos diario para trabajar con biasCorrection, habría que agregar aggr.m = 'mean' para el dato mensual\n",
    "\n",
    "    return(data_aux)\n",
    "}\n",
    "\n",
    "# Crear combinaciones año-mes\n",
    "combinaciones = data.frame(\n",
    "  anio = rep(anios, each = 3),\n",
    "  mes = rep(meses, times = length(anios)),\n",
    "  stringsAsFactors = FALSE\n",
    ")\n",
    "\n",
    "# Aplicar la función a cada combinación\n",
    "tmx_era5_jja = lapply(1:nrow(combinaciones), function(i) {\n",
    "  cargar_dato(combinaciones$anio[i], combinaciones$mes[i])\n",
    "})"
   ]
  },
  {
   "cell_type": "code",
   "execution_count": null,
   "id": "338f939b-b2f2-4d97-afa4-36f35d349160",
   "metadata": {},
   "outputs": [],
   "source": [
    "# Combinamos los grids en la dimensión temporal\n",
    "tmx_era5_jja_time = bindGrid(tmx_era5_jja, dimension = \"time\")\n",
    "\n",
    "# Upscaling de la resolución de las observaciones\n",
    "tmx_era5_jja_ups = interpGrid(tmx_era5_jja_time,\n",
    "                              new.coordinates = getGrid(tmx_ecmwf_jja_0_grid),\n",
    "                              method = \"bilinear\") %>% suppressMessages %>% suppressWarnings"
   ]
  },
  {
   "cell_type": "code",
   "execution_count": null,
   "id": "9ddcadce-ef3c-4c06-ab00-2f7b47aea525",
   "metadata": {},
   "outputs": [],
   "source": [
    "# Recorto los datos a la región de España\n",
    "tmx_modelo_0 = subsetGrid(final_0_grid, lonLim = c(-10, 5), latLim = c(35, 44))\n",
    "tmx_modelo_1 = subsetGrid(final_1_grid, lonLim = c(-10, 5), latLim = c(35, 44))\n",
    "tmx_modelo_2 = subsetGrid(final_2_grid, lonLim = c(-10, 5), latLim = c(35, 44))\n",
    "tmx_modelo_3 = subsetGrid(final_3_grid, lonLim = c(-10, 5), latLim = c(35, 44))\n",
    "\n",
    "tmx_obs = subsetGrid(tmx_era5_jja_ups, lonLim = c(-10, 5), latLim = c(35, 44))\n",
    "\n",
    "# Pasamos las observaciones de Kelvin a Celsius\n",
    "tmx_obs_cel = gridArithmetics(tmx_obs, 273.15, operator = \"-\")"
   ]
  },
  {
   "cell_type": "code",
   "execution_count": null,
   "id": "8ed9414e-7148-4491-af7d-8ed14092f900",
   "metadata": {},
   "outputs": [],
   "source": [
    "# Aplico esto para los 4 leadtime\n",
    "\n",
    "if (file.exists(\"bc_ldm_0.rds\")) {\n",
    "    bc_0 = readRDS(\"bc_ldm_0.rds\")\n",
    "} else {\n",
    "  # Obtener los años únicos\n",
    "    years = unique(getYearsAsINDEX(tmx_obs_cel))\n",
    "    \n",
    "    # Crear lista para guardar resultados\n",
    "    biasCor = list()\n",
    "    \n",
    "    # Validación cruzada Leave-One-Year-Ou\n",
    "    for (yr in years) {\n",
    "        message(\"Validando año \", yr)\n",
    "        \n",
    "        # Separar observaciones y predictores excluyendo el año actual\n",
    "        y_train = subsetGrid(tmx_obs_cel, years = years[years != yr])\n",
    "        x_train = subsetGrid(tmx_modelo_0, years = years[years != yr])\n",
    "        newdata = subsetGrid(tmx_modelo_0, years = yr)\n",
    "        \n",
    "        # Aplicar corrección de sesgo\n",
    "        bc = biasCorrection(\n",
    "            y = y_train,\n",
    "            x = x_train,\n",
    "            newdata = newdata,\n",
    "            method = \"eqm\",\n",
    "            extrapolation = \"constant\") %>% suppressMessages %>% suppressWarnings\n",
    "        \n",
    "        # Guardar resultado en la lista\n",
    "        biasCor[[as.character(yr)]] = bc\n",
    "    }\n",
    "\n",
    "    # Unir todos los grids corregidos\n",
    "    bc_0 = bindGrid(biasCor, dimension = \"time\")\n",
    "\n",
    "    # Guardo los resultados\n",
    "    saveRDS(bc_0, \"bc_ldm_0.rds\")\n",
    "}"
   ]
  },
  {
   "cell_type": "code",
   "execution_count": null,
   "id": "499891b6-ca95-461d-b252-2b4f2c6971da",
   "metadata": {},
   "outputs": [],
   "source": [
    "# Aplico esto para los 4 leadtime\n",
    "\n",
    "if (file.exists(\"bc_ldm_1.rds\")) {\n",
    "    bc_1 = readRDS(\"bc_ldm_1.rds\")\n",
    "} else {\n",
    "  # Obtener los años únicos\n",
    "    years = unique(getYearsAsINDEX(tmx_obs_cel))\n",
    "    \n",
    "    # Crear lista para guardar resultados\n",
    "    biasCor = list()\n",
    "    \n",
    "    # Validación cruzada Leave-One-Year-Ou\n",
    "    for (yr in years) {\n",
    "        message(\"Validando año \", yr)\n",
    "        \n",
    "        # Separar observaciones y predictores excluyendo el año actual\n",
    "        y_train = subsetGrid(tmx_obs_cel, years = years[years != yr])\n",
    "        x_train = subsetGrid(tmx_modelo_1, years = years[years != yr])\n",
    "        newdata = subsetGrid(tmx_modelo_1, years = yr)\n",
    "        \n",
    "        # Aplicar corrección de sesgo\n",
    "        bc = biasCorrection(\n",
    "            y = y_train,\n",
    "            x = x_train,\n",
    "            newdata = newdata,\n",
    "            method = \"eqm\",\n",
    "            extrapolation = \"constant\") %>% suppressMessages %>% suppressWarnings\n",
    "        \n",
    "        # Guardar resultado en la lista\n",
    "        biasCor[[as.character(yr)]] = bc\n",
    "    }\n",
    "\n",
    "    # Unir todos los grids corregidos\n",
    "    bc_1 = bindGrid(biasCor, dimension = \"time\")\n",
    "\n",
    "    # Guardo los resultados\n",
    "    saveRDS(bc_1, \"bc_ldm_1.rds\")\n",
    "}"
   ]
  },
  {
   "cell_type": "code",
   "execution_count": null,
   "id": "41c002c1-403b-4ec5-8d43-e33053ff239b",
   "metadata": {},
   "outputs": [],
   "source": [
    "# Aplico esto para los 4 leadtime\n",
    "\n",
    "if (file.exists(\"bc_ldm_2.rds\")) {\n",
    "    bc_2 = readRDS(\"bc_ldm_2.rds\")\n",
    "} else {\n",
    "  # Obtener los años únicos\n",
    "    years = unique(getYearsAsINDEX(tmx_obs_cel))\n",
    "    \n",
    "    # Crear lista para guardar resultados\n",
    "    biasCor = list()\n",
    "    \n",
    "    # Validación cruzada Leave-One-Year-Ou\n",
    "    for (yr in years) {\n",
    "        message(\"Validando año \", yr)\n",
    "        \n",
    "        # Separar observaciones y predictores excluyendo el año actual\n",
    "        y_train = subsetGrid(tmx_obs_cel, years = years[years != yr])\n",
    "        x_train = subsetGrid(tmx_modelo_2, years = years[years != yr])\n",
    "        newdata = subsetGrid(tmx_modelo_2, years = yr)\n",
    "        \n",
    "        # Aplicar corrección de sesgo\n",
    "        bc = biasCorrection(\n",
    "            y = y_train,\n",
    "            x = x_train,\n",
    "            newdata = newdata,\n",
    "            method = \"eqm\",\n",
    "            extrapolation = \"constant\") %>% suppressMessages %>% suppressWarnings\n",
    "        \n",
    "        # Guardar resultado en la lista\n",
    "        biasCor[[as.character(yr)]] = bc\n",
    "    }\n",
    "\n",
    "    # Unir todos los grids corregidos\n",
    "    bc_2 = bindGrid(biasCor, dimension = \"time\")\n",
    "\n",
    "    # Guardo los resultados\n",
    "    saveRDS(bc_2, \"bc_ldm_2.rds\")\n",
    "}"
   ]
  },
  {
   "cell_type": "markdown",
   "id": "61c6c495-18ec-4589-aacb-4cb9cf6558a0",
   "metadata": {},
   "source": [
    "### Índices ndays tmax > 30ºC (sesgo corregido)"
   ]
  },
  {
   "cell_type": "code",
   "execution_count": null,
   "id": "20411e25-267b-4832-8a46-d0f32151b6d1",
   "metadata": {},
   "outputs": [],
   "source": [
    "# Calculo el número de días que tmax > 30 grados\n",
    "nd30_0 = indexGrid(tx = bc_0, index.code = \"TXth\", th = 30) %>% suppressMessages %>% suppressWarnings\n",
    "nd30_1 = indexGrid(tx = bc_1, index.code = \"TXth\", th = 30) %>% suppressMessages %>% suppressWarnings\n",
    "nd30_2 = indexGrid(tx = bc_2, index.code = \"TXth\", th = 30) %>% suppressMessages %>% suppressWarnings\n",
    "nd30_3 = indexGrid(tx = bc_3, index.code = \"TXth\", th = 30) %>% suppressMessages %>% suppressWarnings\n",
    "\n",
    "nd30_obs = indexGrid(tx = tmx_obs_cel, index.code = \"TXth\", th = 30) %>% suppressMessages %>% suppressWarnings"
   ]
  },
  {
   "cell_type": "code",
   "execution_count": null,
   "id": "0c4119c1-97dd-4a84-ba46-4c88ea0039a6",
   "metadata": {},
   "outputs": [],
   "source": [
    "# Computo la climatología\n",
    "nd_0 = climatology(nd30_0, by.member = FALSE) %>% suppressMessages %>% suppressWarnings\n",
    "nd_1 = climatology(nd30_1, by.member = FALSE) %>% suppressMessages %>% suppressWarnings\n",
    "nd_2 = climatology(nd30_2, by.member = FALSE) %>% suppressMessages %>% suppressWarnings\n",
    "nd_3 = climatology(nd30_3, by.member = FALSE) %>% suppressMessages %>% suppressWarnings\n",
    "\n",
    "nd_obs = climatology(nd30_obs) %>% suppressMessages %>% suppressWarnings"
   ]
  },
  {
   "cell_type": "code",
   "execution_count": null,
   "id": "9a58ae6c-c198-421c-9922-622fa6200fc0",
   "metadata": {},
   "outputs": [],
   "source": [
    "# Representación\n",
    "nd0 = spatialPlot(nd_0, backdrop.theme = \"countries\", main = \"nd tx > 30ºC (lt 0)\", col.regions = color)\n",
    "nd1 = spatialPlot(nd_1, backdrop.theme = \"countries\", main = \"nd tx > 30ºC (lt 1)\", col.regions = color)\n",
    "nd2 = spatialPlot(nd_2, backdrop.theme = \"countries\", main = \"nd tx > 30ºC (lt 2)\", col.regions = color)\n",
    "nd3 = spatialPlot(nd_3, backdrop.theme = \"countries\", main = \"nd tx > 30ºC (lt 3)\", col.regions = color)\n",
    "\n",
    "ndobs = spatialPlot(nd_obs, backdrop.theme = \"countries\", main = \"nd tx > 30ºC (obs)\", col.regions = color)"
   ]
  },
  {
   "cell_type": "code",
   "execution_count": null,
   "id": "e5653b19-2d27-403d-9855-5cf89547a729",
   "metadata": {},
   "outputs": [],
   "source": [
    "grid.arrange(nd0, nd1, nd2, nd3, ncol = 2)"
   ]
  },
  {
   "cell_type": "code",
   "execution_count": null,
   "id": "ee902df5-1dfc-46bf-acc0-c66ab69b3d41",
   "metadata": {},
   "outputs": [],
   "source": [
    "ndobs"
   ]
  },
  {
   "cell_type": "markdown",
   "id": "80b9bf38-867f-4d7c-8897-6caaf48ead42",
   "metadata": {},
   "source": [
    "### Correlación entre obs y bc de ndays tx>30"
   ]
  },
  {
   "cell_type": "code",
   "execution_count": null,
   "id": "b6e61fdc-ab14-4f13-9fe6-7368bbbd880c",
   "metadata": {},
   "outputs": [],
   "source": [
    "# Calculo de correlacion para cada leadtime del modelo\n",
    "cor_days_0 = veriApply(verifun = \"EnsCorr\", \n",
    "                       fcst = nd30_0$Data, \n",
    "                       obs = nd30_obs$Data, \n",
    "                       ensdim = 1, tdim = 2) %>% suppressMessages %>% suppressWarnings\n",
    "\n",
    "cor_days_1 = veriApply(verifun = \"EnsCorr\", \n",
    "                       fcst = nd30_1$Data, \n",
    "                       obs = nd30_obs$Data, \n",
    "                       ensdim = 1, tdim = 2) %>% suppressMessages %>% suppressWarnings\n",
    "\n",
    "cor_days_2 = veriApply(verifun = \"EnsCorr\", \n",
    "                       fcst = nd30_2$Data, \n",
    "                       obs = nd30_obs$Data, \n",
    "                       ensdim = 1, tdim = 2) %>% suppressMessages %>% suppressWarnings\n",
    "\n",
    "cor_days_3 = veriApply(verifun = \"EnsCorr\", \n",
    "                       fcst = nd30_3$Data, \n",
    "                       obs = nd30_obs$Data, \n",
    "                       ensdim = 1, tdim = 2) %>% suppressMessages %>% suppressWarnings"
   ]
  },
  {
   "cell_type": "code",
   "execution_count": null,
   "id": "c71539eb-37e0-40c7-b05b-854e0de06baa",
   "metadata": {},
   "outputs": [],
   "source": [
    "# Reconstrucción del grid\n",
    "cor_nd_grid_0 = easyVeri2grid(easyVeri.mat = cor_days_0, obs.grid = tmx_obs_cel, verifun = \"EnsCorr\")\n",
    "cor_nd_grid_1 = easyVeri2grid(easyVeri.mat = cor_days_1, obs.grid = tmx_obs_cel, verifun = \"EnsCorr\")\n",
    "cor_nd_grid_2 = easyVeri2grid(easyVeri.mat = cor_days_2, obs.grid = tmx_obs_cel, verifun = \"EnsCorr\")\n",
    "cor_nd_grid_3 = easyVeri2grid(easyVeri.mat = cor_days_3, obs.grid = tmx_obs_cel, verifun = \"EnsCorr\")"
   ]
  },
  {
   "cell_type": "code",
   "execution_count": null,
   "id": "51556984-9e0b-4aab-b7a6-c24aadc29fe5",
   "metadata": {},
   "outputs": [],
   "source": [
    "# Representación\n",
    "c0 = spatialPlot(climatology(cor_nd_grid_0),\n",
    "                  backdrop.theme = \"countries\",\n",
    "                  col.regions = color,\n",
    "                  at = seq(-1, 1, 0.1),\n",
    "                  main = \"corr (lt 0)\") %>% suppressMessages %>% suppressWarnings\n",
    "\n",
    "c1 = spatialPlot(climatology(cor_nd_grid_1),\n",
    "                  backdrop.theme = \"countries\",\n",
    "                  col.regions = color,\n",
    "                  at = seq(-1, 1, 0.1),\n",
    "                  main = \"corr (lt 1)\") %>% suppressMessages %>% suppressWarnings\n",
    "\n",
    "c2 = spatialPlot(climatology(cor_nd_grid_2),\n",
    "                  backdrop.theme = \"countries\",\n",
    "                  col.regions = color,\n",
    "                  at = seq(-1, 1, 0.1),\n",
    "                  main = \"corr (lt 2)\") %>% suppressMessages %>% suppressWarnings\n",
    "\n",
    "c3 = spatialPlot(climatology(cor_nd_grid_3),\n",
    "                  backdrop.theme = \"countries\",\n",
    "                  col.regions = color,\n",
    "                  at = seq(-1, 1, 0.1),\n",
    "                  main = \"corr (lt 3)\") %>% suppressMessages %>% suppressWarnings"
   ]
  },
  {
   "cell_type": "code",
   "execution_count": null,
   "id": "eca89251-1505-4792-b789-8ae9914e2298",
   "metadata": {},
   "outputs": [],
   "source": [
    "grid.arrange(c0, c1, c2, c3, ncol = 2)"
   ]
  },
  {
   "cell_type": "markdown",
   "id": "e2a17d4a-03e3-4218-b456-afa6faeb6547",
   "metadata": {},
   "source": [
    "### RMSE entre obs y bc de ndays tx>30"
   ]
  },
  {
   "cell_type": "code",
   "execution_count": null,
   "id": "412d3de8-b5d4-41ff-973f-f8c4c18d52dd",
   "metadata": {},
   "outputs": [],
   "source": [
    "# Calculo de correlacion para cada leadtime del modelo\n",
    "rmse_days_0 = veriApply(verifun = \"EnsRmse\", \n",
    "                       fcst = nd30_0$Data, \n",
    "                       obs = nd30_obs$Data, \n",
    "                       ensdim = 1, tdim = 2) %>% suppressMessages %>% suppressWarnings\n",
    "\n",
    "rmse_days_1 = veriApply(verifun = \"EnsRmse\", \n",
    "                       fcst = nd30_1$Data, \n",
    "                       obs = nd30_obs$Data, \n",
    "                       ensdim = 1, tdim = 2) %>% suppressMessages %>% suppressWarnings\n",
    "\n",
    "rmse_days_2 = veriApply(verifun = \"EnsRmse\", \n",
    "                       fcst = nd30_2$Data, \n",
    "                       obs = nd30_obs$Data, \n",
    "                       ensdim = 1, tdim = 2) %>% suppressMessages %>% suppressWarnings\n",
    "\n",
    "rmse_days_3 = veriApply(verifun = \"EnsRmse\", \n",
    "                       fcst = nd30_3$Data, \n",
    "                       obs = nd30_obs$Data, \n",
    "                       ensdim = 1, tdim = 2) %>% suppressMessages %>% suppressWarnings"
   ]
  },
  {
   "cell_type": "code",
   "execution_count": null,
   "id": "8bddde4d-8275-42dd-8512-3ac88e1ec82e",
   "metadata": {},
   "outputs": [],
   "source": [
    "# Reconstrucción del grid\n",
    "rmse_nd_grid_0 = easyVeri2grid(easyVeri.mat = rmse_days_0, obs.grid = tmx_obs_cel, verifun = \"EnsRmse\")\n",
    "rmse_nd_grid_1 = easyVeri2grid(easyVeri.mat = rmse_days_1, obs.grid = tmx_obs_cel, verifun = \"EnsRmse\")\n",
    "rmse_nd_grid_2 = easyVeri2grid(easyVeri.mat = rmse_days_2, obs.grid = tmx_obs_cel, verifun = \"EnsRmse\")\n",
    "rmse_nd_grid_3 = easyVeri2grid(easyVeri.mat = rmse_days_3, obs.grid = tmx_obs_cel, verifun = \"EnsRmse\")"
   ]
  },
  {
   "cell_type": "code",
   "execution_count": null,
   "id": "3af40996-3916-4591-bcce-63c8a375081d",
   "metadata": {},
   "outputs": [],
   "source": [
    "# Representación\n",
    "rmse_0 = spatialPlot(climatology(rmse_nd_grid_0),\n",
    "                  backdrop.theme = \"countries\",\n",
    "                  col.regions = color,\n",
    "                  main = \"rmse (lt 0)\") %>% suppressMessages %>% suppressWarnings\n",
    "\n",
    "rmse_1 = spatialPlot(climatology(rmse_nd_grid_1),\n",
    "                  backdrop.theme = \"countries\",\n",
    "                  col.regions = color,\n",
    "                  main = \"rmse (lt 1)\") %>% suppressMessages %>% suppressWarnings\n",
    "\n",
    "rmse_2 = spatialPlot(climatology(rmse_nd_grid_2),\n",
    "                  backdrop.theme = \"countries\",\n",
    "                  col.regions = color,\n",
    "                  main = \"rmse (lt 2)\") %>% suppressMessages %>% suppressWarnings\n",
    "\n",
    "rmse_3 = spatialPlot(climatology(rmse_nd_grid_3),\n",
    "                  backdrop.theme = \"countries\",\n",
    "                  col.regions = color,\n",
    "                  main = \"rmse (lt 3)\") %>% suppressMessages %>% suppressWarnings"
   ]
  },
  {
   "cell_type": "code",
   "execution_count": null,
   "id": "e6c1e752-5a2b-47d8-a612-a519abe5d3da",
   "metadata": {},
   "outputs": [],
   "source": [
    "grid.arrange(rmse_0, rmse_1, rmse_2, rmse_3, ncol = 2)"
   ]
  },
  {
   "cell_type": "markdown",
   "id": "a55a7b59-1012-438d-809a-4f40df9396b2",
   "metadata": {},
   "source": [
    "### Bias entre obs y bc de ndays tx>30"
   ]
  },
  {
   "cell_type": "code",
   "execution_count": null,
   "id": "5e7b8db3-fd75-4b22-8036-69e450822204",
   "metadata": {},
   "outputs": [],
   "source": [
    "# Calculo de correlacion para cada leadtime del modelo\n",
    "bias_days_0 = veriApply(verifun = \"EnsMe\", \n",
    "                       fcst = nd30_0$Data, \n",
    "                       obs = nd30_obs$Data, \n",
    "                       ensdim = 1, tdim = 2) %>% suppressMessages %>% suppressWarnings\n",
    "\n",
    "bias_days_1 = veriApply(verifun = \"EnsMe\", \n",
    "                       fcst = nd30_1$Data, \n",
    "                       obs = nd30_obs$Data, \n",
    "                       ensdim = 1, tdim = 2) %>% suppressMessages %>% suppressWarnings\n",
    "\n",
    "bias_days_2 = veriApply(verifun = \"EnsMe\", \n",
    "                       fcst = nd30_2$Data, \n",
    "                       obs = nd30_obs$Data, \n",
    "                       ensdim = 1, tdim = 2) %>% suppressMessages %>% suppressWarnings\n",
    "\n",
    "bias_days_3 = veriApply(verifun = \"EnsMe\", \n",
    "                       fcst = nd30_3$Data, \n",
    "                       obs = nd30_obs$Data, \n",
    "                       ensdim = 1, tdim = 2) %>% suppressMessages %>% suppressWarnings"
   ]
  },
  {
   "cell_type": "code",
   "execution_count": null,
   "id": "dd414a59-b3ef-4782-96e0-d4c333efb934",
   "metadata": {},
   "outputs": [],
   "source": [
    "# Reconstrucción del grid\n",
    "bias_nd_grid_0 = easyVeri2grid(easyVeri.mat = bias_days_0, obs.grid = tmx_obs_cel, verifun = \"EnsMe\")\n",
    "bias_nd_grid_1 = easyVeri2grid(easyVeri.mat = bias_days_1, obs.grid = tmx_obs_cel, verifun = \"EnsMe\")\n",
    "bias_nd_grid_2 = easyVeri2grid(easyVeri.mat = bias_days_2, obs.grid = tmx_obs_cel, verifun = \"EnsMe\")\n",
    "bias_nd_grid_3 = easyVeri2grid(easyVeri.mat = bias_days_3, obs.grid = tmx_obs_cel, verifun = \"EnsMe\")"
   ]
  },
  {
   "cell_type": "code",
   "execution_count": null,
   "id": "d0ba2475-00a9-45af-8d67-2ccd7050ddd7",
   "metadata": {},
   "outputs": [],
   "source": [
    "# Representación\n",
    "bias0 = spatialPlot(climatology(bias_nd_grid_0),\n",
    "                  backdrop.theme = \"countries\",\n",
    "                  col.regions = color,\n",
    "                  main = \"bias (lt 0)\") %>% suppressMessages %>% suppressWarnings\n",
    "\n",
    "bias1 = spatialPlot(climatology(bias_nd_grid_1),\n",
    "                  backdrop.theme = \"countries\",\n",
    "                  col.regions = color,\n",
    "                  main = \"bias (lt 1)\") %>% suppressMessages %>% suppressWarnings\n",
    "\n",
    "bias2 = spatialPlot(climatology(bias_nd_grid_2),\n",
    "                  backdrop.theme = \"countries\",\n",
    "                  col.regions = color,\n",
    "                  main = \"bias (lt 2)\") %>% suppressMessages %>% suppressWarnings\n",
    "\n",
    "bias3 = spatialPlot(climatology(bias_nd_grid_3),\n",
    "                  backdrop.theme = \"countries\",\n",
    "                  col.regions = color,\n",
    "                  main = \"bias (lt 3)\") %>% suppressMessages %>% suppressWarnings"
   ]
  },
  {
   "cell_type": "code",
   "execution_count": null,
   "id": "7a5d40ba-3a2f-488e-80ee-6dae355b4b42",
   "metadata": {},
   "outputs": [],
   "source": [
    "grid.arrange(bias0, bias1, bias2, bias3, ncol = 2)"
   ]
  },
  {
   "cell_type": "code",
   "execution_count": null,
   "id": "a089228f-64d3-486b-af61-262cde040bbe",
   "metadata": {},
   "outputs": [],
   "source": [
    "# Ratio varianzas\n",
    "var(nd30_0$Data) / var(nd30_obs$Data)\n",
    "var(nd30_1$Data) / var(nd30_obs$Data)\n",
    "var(nd30_2$Data) / var(nd30_obs$Data)\n",
    "var(nd30_3$Data) / var(nd30_obs$Data)"
   ]
  }
 ],
 "metadata": {
  "kernelspec": {
   "display_name": "R",
   "language": "R",
   "name": "ir"
  },
  "language_info": {
   "codemirror_mode": "r",
   "file_extension": ".r",
   "mimetype": "text/x-r-source",
   "name": "R",
   "pygments_lexer": "r",
   "version": "4.3.3"
  }
 },
 "nbformat": 4,
 "nbformat_minor": 5
}
