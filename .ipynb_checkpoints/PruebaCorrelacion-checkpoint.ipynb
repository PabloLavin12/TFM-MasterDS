{
 "cells": [
  {
   "cell_type": "markdown",
   "id": "4a967223-315c-436d-8cde-98602b9f1a2b",
   "metadata": {},
   "source": [
    "# Correlación"
   ]
  },
  {
   "cell_type": "code",
   "execution_count": null,
   "id": "b0a7e81c-8d32-4bca-bcea-6979afaf67b1",
   "metadata": {},
   "outputs": [],
   "source": [
    "# Extraer datos y calcular promedio del modelo sobre miembros\n",
    "mod_array_raw = tmx_modelo_spain$Data  # (members, time, lat, lon)\n",
    "mod_array = apply(mod_array_raw, c(2, 3, 4), mean, na.rm = TRUE)  # (time, lat, lon)\n",
    "\n",
    "obs_array = tmx_obs_spain_cel$Data  # (time, lat, lon)\n",
    "\n",
    "# Dimensiones\n",
    "nlat = dim(mod_array)[2]\n",
    "nlon = dim(mod_array)[3]\n",
    "\n",
    "# Inicializar matriz de correlación\n",
    "cor_matrix = matrix(NA, nrow = nlon, ncol = nlat)\n",
    "\n",
    "# Calcular correlación para cada celda\n",
    "for (i in 1:nlon) {\n",
    "  for (j in 1:nlat) {\n",
    "    x = mod_array[, j, i]  # modelo\n",
    "    y = obs_array[, j, i]  # observación\n",
    "    if (all(is.na(x)) || all(is.na(y))) {\n",
    "      cor_matrix[i, j] = NA\n",
    "    } else {\n",
    "      cor_matrix[i, j] = suppressWarnings(cor(x, y, use = \"pairwise.complete.obs\"))\n",
    "    }\n",
    "  }\n",
    "}"
   ]
  },
  {
   "cell_type": "code",
   "execution_count": null,
   "id": "98a10e2d-2009-4f66-a679-53343c73ffde",
   "metadata": {},
   "outputs": [],
   "source": [
    "# Dimensiones correctas\n",
    "ntime = dim(tmx_modelo_spain$Data)[2]\n",
    "nlat = dim(tmx_modelo_spain$Data)[3]\n",
    "nlon = dim(tmx_modelo_spain$Data)[4]\n",
    "\n",
    "# cor_matrix está en lon x lat: 16 x 10, hay que trasponer a lat x lon: 10 x 16\n",
    "cor_matrix_t = t(cor_matrix)  # ahora [lat, lon]\n",
    "\n",
    "# Crear array nuevo con dimensión tiempo = 1\n",
    "cor_array = array(NA, dim = c(1, nlat, nlon))  # time, lat, lon\n",
    "\n",
    "# Asignar la matriz de correlación a la primera (única) capa temporal\n",
    "cor_array[1, , ] = cor_matrix_t\n",
    "\n",
    "# Copiar objeto base y asignar nuevo Data\n",
    "cor_grid = tmx_modelo_spain\n",
    "cor_grid$Data = cor_array\n",
    "\n",
    "# Modificar dimensión temporal a 1 (porque solo hay una capa en el tiempo)\n",
    "cor_grid$Dimension$time = 1"
   ]
  },
  {
   "cell_type": "code",
   "execution_count": null,
   "id": "eff87069-3a27-4a6e-9043-aa92caea8a45",
   "metadata": {},
   "outputs": [],
   "source": [
    "cor.grid = easyVeri2grid(easyVeri.mat = cor_matrix_t, obs.grid = tmx_modelo_spain, verifun = \"Corr\")"
   ]
  },
  {
   "cell_type": "code",
   "execution_count": null,
   "id": "8550d2ea-bc97-4cd5-a157-afb6f8546ac3",
   "metadata": {},
   "outputs": [],
   "source": [
    "spatialPlot(cor.grid,\n",
    "            backdrop.theme = \"countries\",\n",
    "            at = seq(-1, 1, 0.1),\n",
    "            col.regions = colorRampPalette(RColorBrewer::brewer.pal(11, \"RdBu\"))(20),\n",
    "            main = \"Correlación temporal punto a punto\")"
   ]
  }
 ],
 "metadata": {
  "kernelspec": {
   "display_name": "R",
   "language": "R",
   "name": "ir"
  },
  "language_info": {
   "codemirror_mode": "r",
   "file_extension": ".r",
   "mimetype": "text/x-r-source",
   "name": "R",
   "pygments_lexer": "r",
   "version": "4.3.3"
  }
 },
 "nbformat": 4,
 "nbformat_minor": 5
}
